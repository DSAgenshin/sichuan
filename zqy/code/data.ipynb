{
 "cells": [
  {
   "cell_type": "markdown",
   "metadata": {},
   "source": [
    "关于数据处理的一些东西\n",
    "\n",
    "**注意： 路径为linux路径，windows和ios的路径需要自己调整**"
   ]
  },
  {
   "cell_type": "markdown",
   "metadata": {},
   "source": [
    "# data\n",
    "\n",
    "Procedure for Processing `train_data` and `test_data`:\n",
    "\n",
    "1. drop \"idx\" column\n",
    "2. fill none values with train_mean\n",
    "3. drop the columns with none values still (that is, the specific columns of origin data are all none values) (and I find the original none columns of `train_data` and `test_data` are the same columns)\n",
    "4. normalization applying `train_data` mean & std"
   ]
  },
  {
   "cell_type": "markdown",
   "metadata": {},
   "source": [
    "```python\n",
    "# train data preprocessing\n",
    "train_data = pd.read_csv(TRAIN_DATA)\n",
    "train_data.drop(['idx'], axis=1, inplace=True)\n",
    "train_data_fillna = train_data.fillna(train_data.mean())\n",
    "train_data_fillna_drop = train_data_fillna.dropna(axis=1)\n",
    "train_data_fillna_drop_norm = (train_data_fillna_drop - train_data_fillna_drop.mean()) / train_data_fillna_drop.std()\n",
    "\n",
    "# test data preprocessing\n",
    "test_data.drop(['idx'], axis=1, inplace=True)\n",
    "test_data_fillna = test_data.fillna(train_data.mean())\n",
    "test_data_fillna_drop = test_data_fillna.dropna(axis=1)\n",
    "test_data_fillna_drop_norm = (test_data_fillna_drop - train_data_fillna_drop.mean()) / train_data_fillna_drop.std()\n",
    "```"
   ]
  },
  {
   "cell_type": "code",
   "execution_count": null,
   "metadata": {},
   "outputs": [],
   "source": [
    "import pandas as pd\n",
    "import numpy as np\n",
    "import matplotlib.pyplot as plt\n",
    "import os\n",
    "\n",
    "# load data\n",
    "REPO_DIR = \"/home/zqy/learningFile/sichuan/\"\n",
    "train_path = os.path.join(REPO_DIR, 'zqy', 'dataset', \"train_data_fillna_drop_norm.csv\")\n",
    "test_path = os.path.join(REPO_DIR, 'zqy', 'dataset', \"test_data_fillna_drop_norm.csv\")\n",
    "train_data = pd.read_csv(train_path)\n",
    "test_data = pd.read_csv(test_path)"
   ]
  }
 ],
 "metadata": {
  "language_info": {
   "name": "python"
  }
 },
 "nbformat": 4,
 "nbformat_minor": 2
}
