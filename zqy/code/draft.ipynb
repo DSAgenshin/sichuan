{
 "cells": [
  {
   "cell_type": "code",
   "execution_count": 21,
   "metadata": {},
   "outputs": [],
   "source": [
    "import os\n",
    "import numpy as np\n",
    "import pandas as pd\n",
    "import matplotlib.pyplot as plt\n",
    "\n",
    "\n",
    "path = \"/home/zqy/Downloads/prepropossed_versions/version2\"\n",
    "# train_data = pd.read_csv(os.path.join(path, \"train_data.csv\"))\n",
    "train_target = pd.read_csv(os.path.join(path, \"train_target.csv\"))\n",
    "test_data = pd.read_csv(os.path.join(path, \"test_data.csv\"))\n"
   ]
  },
  {
   "cell_type": "code",
   "execution_count": 22,
   "metadata": {},
   "outputs": [
    {
     "data": {
      "text/plain": [
       "((61866, 142), (61866, 3), (18134, 581))"
      ]
     },
     "execution_count": 22,
     "metadata": {},
     "output_type": "execute_result"
    }
   ],
   "source": [
    "train_data.shape, train_target.shape, test_data.shape"
   ]
  },
  {
   "cell_type": "code",
   "execution_count": 24,
   "metadata": {},
   "outputs": [
    {
     "data": {
      "text/plain": [
       "g1_pca_0     -0.000223\n",
       "g1_pca_1      1.868552\n",
       "g1_pca_2      1.582280\n",
       "g1_pca_3      0.731311\n",
       "g1_pca_4      1.044698\n",
       "                ...   \n",
       "g3_pca_473    0.385062\n",
       "g3_pca_474    0.330030\n",
       "g3_pca_475    0.854695\n",
       "g3_pca_476    0.691225\n",
       "g3_pca_477    0.894060\n",
       "Length: 581, dtype: float64"
      ]
     },
     "execution_count": 24,
     "metadata": {},
     "output_type": "execute_result"
    }
   ],
   "source": [
    "test_data.max()"
   ]
  },
  {
   "cell_type": "code",
   "execution_count": 16,
   "metadata": {},
   "outputs": [
    {
     "name": "stdout",
     "output_type": "stream",
     "text": [
      "aa\n"
     ]
    },
    {
     "data": {
      "text/plain": [
       "1"
      ]
     },
     "execution_count": 16,
     "metadata": {},
     "output_type": "execute_result"
    }
   ],
   "source": [
    "def after_method_call(decorate):\n",
    "    def wrapper(self, *args, **kwargs):\n",
    "        res = decorate(self, *args, **kwargs)\n",
    "        print(\"After method call\")\n",
    "        return res\n",
    "    return wrapper\n",
    "\n",
    "class Test():\n",
    "    def __init__(self):\n",
    "        pass\n",
    "    \n",
    "    def aa(self):\n",
    "        print(\"aa\")\n",
    "        return 1\n",
    "    \n",
    "    @after_method_call\n",
    "    def bb(self):\n",
    "        self.aa()\n",
    "        print(\"bb\")\n",
    "        return 2\n",
    "    \n",
    "\n",
    "\n",
    "t1 = Test()\n",
    "t1.aa()\n"
   ]
  },
  {
   "cell_type": "code",
   "execution_count": null,
   "metadata": {},
   "outputs": [],
   "source": []
  }
 ],
 "metadata": {
  "kernelspec": {
   "display_name": "venv",
   "language": "python",
   "name": "python3"
  },
  "language_info": {
   "codemirror_mode": {
    "name": "ipython",
    "version": 3
   },
   "file_extension": ".py",
   "mimetype": "text/x-python",
   "name": "python",
   "nbconvert_exporter": "python",
   "pygments_lexer": "ipython3",
   "version": "3.10.12"
  }
 },
 "nbformat": 4,
 "nbformat_minor": 2
}
