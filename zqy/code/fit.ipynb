{
 "cells": [
  {
   "cell_type": "markdown",
   "metadata": {},
   "source": [
    "# load data"
   ]
  },
  {
   "cell_type": "code",
   "execution_count": 2,
   "metadata": {},
   "outputs": [],
   "source": [
    "import os\n",
    "import numpy as np\n",
    "import pandas as pd\n",
    "\n",
    "# if you use `ios` or `windows`, you need to change the `REPO_PATH` to your own path\n",
    "REPO_PATH = \"/home/zqy/learningFile/sichuan/\"\n",
    "\n",
    "train_data_preprocessed = pd.read_csv(\n",
    "    os.path.join(REPO_PATH, \"zqy\", \"temp\", \"train_data_fillna_drop_norm.csv\")\n",
    ")\n",
    "test_data_preprocessed = pd.read_csv(\n",
    "    os.path.join(REPO_PATH, \"zqy\", \"temp\", \"test_data_fillna_drop_norm.csv\")\n",
    ")\n"
   ]
  },
  {
   "cell_type": "code",
   "execution_count": 3,
   "metadata": {},
   "outputs": [
    {
     "data": {
      "text/plain": [
       "((61866, 3695), (18134, 3695))"
      ]
     },
     "execution_count": 3,
     "metadata": {},
     "output_type": "execute_result"
    }
   ],
   "source": [
    "train_data_preprocessed.shape, test_data_preprocessed.shape"
   ]
  },
  {
   "cell_type": "code",
   "execution_count": 4,
   "metadata": {},
   "outputs": [
    {
     "data": {
      "text/html": [
       "<div>\n",
       "<style scoped>\n",
       "    .dataframe tbody tr th:only-of-type {\n",
       "        vertical-align: middle;\n",
       "    }\n",
       "\n",
       "    .dataframe tbody tr th {\n",
       "        vertical-align: top;\n",
       "    }\n",
       "\n",
       "    .dataframe thead th {\n",
       "        text-align: right;\n",
       "    }\n",
       "</style>\n",
       "<table border=\"1\" class=\"dataframe\">\n",
       "  <thead>\n",
       "    <tr style=\"text-align: right;\">\n",
       "      <th></th>\n",
       "      <th>X0</th>\n",
       "      <th>X1</th>\n",
       "      <th>X2</th>\n",
       "      <th>X3</th>\n",
       "      <th>X4</th>\n",
       "      <th>X5</th>\n",
       "      <th>X6</th>\n",
       "      <th>X7</th>\n",
       "      <th>X8</th>\n",
       "      <th>X9</th>\n",
       "      <th>...</th>\n",
       "      <th>X3796</th>\n",
       "      <th>X3797</th>\n",
       "      <th>X3798</th>\n",
       "      <th>X3799</th>\n",
       "      <th>X3800</th>\n",
       "      <th>X3801</th>\n",
       "      <th>X3802</th>\n",
       "      <th>X3803</th>\n",
       "      <th>X3804</th>\n",
       "      <th>X3805</th>\n",
       "    </tr>\n",
       "  </thead>\n",
       "  <tbody>\n",
       "    <tr>\n",
       "      <th>0</th>\n",
       "      <td>1.709604</td>\n",
       "      <td>-0.364987</td>\n",
       "      <td>-1.562489</td>\n",
       "      <td>0.0</td>\n",
       "      <td>9.770206e-16</td>\n",
       "      <td>1.243610e-15</td>\n",
       "      <td>-2.221561e+00</td>\n",
       "      <td>-1.618875</td>\n",
       "      <td>-1.514485</td>\n",
       "      <td>-1.218867</td>\n",
       "      <td>...</td>\n",
       "      <td>1.956724e-15</td>\n",
       "      <td>0.000000</td>\n",
       "      <td>5.428685e-16</td>\n",
       "      <td>0.000000</td>\n",
       "      <td>-1.630523e-15</td>\n",
       "      <td>-1.087010e-15</td>\n",
       "      <td>-1.621701e-15</td>\n",
       "      <td>1.620792e-15</td>\n",
       "      <td>-1.089747e-15</td>\n",
       "      <td>-1.104692e-15</td>\n",
       "    </tr>\n",
       "    <tr>\n",
       "      <th>1</th>\n",
       "      <td>1.709604</td>\n",
       "      <td>-0.364987</td>\n",
       "      <td>-0.859708</td>\n",
       "      <td>0.0</td>\n",
       "      <td>9.770206e-16</td>\n",
       "      <td>1.243610e-15</td>\n",
       "      <td>8.961731e-16</td>\n",
       "      <td>-1.406030</td>\n",
       "      <td>-1.266209</td>\n",
       "      <td>-1.218867</td>\n",
       "      <td>...</td>\n",
       "      <td>-2.723617e+00</td>\n",
       "      <td>-2.784325</td>\n",
       "      <td>4.535885e+00</td>\n",
       "      <td>2.914316</td>\n",
       "      <td>3.404360e+00</td>\n",
       "      <td>4.161721e+00</td>\n",
       "      <td>3.311772e+00</td>\n",
       "      <td>2.713803e+00</td>\n",
       "      <td>2.382499e+00</td>\n",
       "      <td>2.702521e+00</td>\n",
       "    </tr>\n",
       "    <tr>\n",
       "      <th>2</th>\n",
       "      <td>1.333118</td>\n",
       "      <td>-1.432679</td>\n",
       "      <td>-1.588871</td>\n",
       "      <td>0.0</td>\n",
       "      <td>9.770206e-16</td>\n",
       "      <td>1.243610e-15</td>\n",
       "      <td>8.961731e-16</td>\n",
       "      <td>-1.772480</td>\n",
       "      <td>-1.633739</td>\n",
       "      <td>-1.762651</td>\n",
       "      <td>...</td>\n",
       "      <td>1.956724e-15</td>\n",
       "      <td>0.000000</td>\n",
       "      <td>5.428685e-16</td>\n",
       "      <td>0.000000</td>\n",
       "      <td>-1.630523e-15</td>\n",
       "      <td>-1.087010e-15</td>\n",
       "      <td>-1.621701e-15</td>\n",
       "      <td>1.620792e-15</td>\n",
       "      <td>-1.089747e-15</td>\n",
       "      <td>-1.104692e-15</td>\n",
       "    </tr>\n",
       "  </tbody>\n",
       "</table>\n",
       "<p>3 rows × 3695 columns</p>\n",
       "</div>"
      ],
      "text/plain": [
       "         X0        X1        X2   X3            X4            X5  \\\n",
       "0  1.709604 -0.364987 -1.562489  0.0  9.770206e-16  1.243610e-15   \n",
       "1  1.709604 -0.364987 -0.859708  0.0  9.770206e-16  1.243610e-15   \n",
       "2  1.333118 -1.432679 -1.588871  0.0  9.770206e-16  1.243610e-15   \n",
       "\n",
       "             X6        X7        X8        X9  ...         X3796     X3797  \\\n",
       "0 -2.221561e+00 -1.618875 -1.514485 -1.218867  ...  1.956724e-15  0.000000   \n",
       "1  8.961731e-16 -1.406030 -1.266209 -1.218867  ... -2.723617e+00 -2.784325   \n",
       "2  8.961731e-16 -1.772480 -1.633739 -1.762651  ...  1.956724e-15  0.000000   \n",
       "\n",
       "          X3798     X3799         X3800         X3801         X3802  \\\n",
       "0  5.428685e-16  0.000000 -1.630523e-15 -1.087010e-15 -1.621701e-15   \n",
       "1  4.535885e+00  2.914316  3.404360e+00  4.161721e+00  3.311772e+00   \n",
       "2  5.428685e-16  0.000000 -1.630523e-15 -1.087010e-15 -1.621701e-15   \n",
       "\n",
       "          X3803         X3804         X3805  \n",
       "0  1.620792e-15 -1.089747e-15 -1.104692e-15  \n",
       "1  2.713803e+00  2.382499e+00  2.702521e+00  \n",
       "2  1.620792e-15 -1.089747e-15 -1.104692e-15  \n",
       "\n",
       "[3 rows x 3695 columns]"
      ]
     },
     "execution_count": 4,
     "metadata": {},
     "output_type": "execute_result"
    }
   ],
   "source": [
    "train_data_preprocessed.head(3)"
   ]
  },
  {
   "cell_type": "code",
   "execution_count": 5,
   "metadata": {},
   "outputs": [
    {
     "data": {
      "text/html": [
       "<div>\n",
       "<style scoped>\n",
       "    .dataframe tbody tr th:only-of-type {\n",
       "        vertical-align: middle;\n",
       "    }\n",
       "\n",
       "    .dataframe tbody tr th {\n",
       "        vertical-align: top;\n",
       "    }\n",
       "\n",
       "    .dataframe thead th {\n",
       "        text-align: right;\n",
       "    }\n",
       "</style>\n",
       "<table border=\"1\" class=\"dataframe\">\n",
       "  <thead>\n",
       "    <tr style=\"text-align: right;\">\n",
       "      <th></th>\n",
       "      <th>X0</th>\n",
       "      <th>X1</th>\n",
       "      <th>X2</th>\n",
       "      <th>X3</th>\n",
       "      <th>X4</th>\n",
       "      <th>X5</th>\n",
       "      <th>X6</th>\n",
       "      <th>X7</th>\n",
       "      <th>X8</th>\n",
       "      <th>X9</th>\n",
       "      <th>...</th>\n",
       "      <th>X3796</th>\n",
       "      <th>X3797</th>\n",
       "      <th>X3798</th>\n",
       "      <th>X3799</th>\n",
       "      <th>X3800</th>\n",
       "      <th>X3801</th>\n",
       "      <th>X3802</th>\n",
       "      <th>X3803</th>\n",
       "      <th>X3804</th>\n",
       "      <th>X3805</th>\n",
       "    </tr>\n",
       "  </thead>\n",
       "  <tbody>\n",
       "    <tr>\n",
       "      <th>0</th>\n",
       "      <td>-1.450864</td>\n",
       "      <td>-1.432679</td>\n",
       "      <td>-0.020007</td>\n",
       "      <td>0.0</td>\n",
       "      <td>9.770206e-16</td>\n",
       "      <td>1.243610e-15</td>\n",
       "      <td>8.961731e-16</td>\n",
       "      <td>-0.711873</td>\n",
       "      <td>0.503163</td>\n",
       "      <td>1.463917</td>\n",
       "      <td>...</td>\n",
       "      <td>1.956724e-15</td>\n",
       "      <td>0.0</td>\n",
       "      <td>5.428685e-16</td>\n",
       "      <td>0.0</td>\n",
       "      <td>-1.630523e-15</td>\n",
       "      <td>-1.087010e-15</td>\n",
       "      <td>-1.621701e-15</td>\n",
       "      <td>1.620792e-15</td>\n",
       "      <td>-1.089747e-15</td>\n",
       "      <td>-1.104692e-15</td>\n",
       "    </tr>\n",
       "    <tr>\n",
       "      <th>1</th>\n",
       "      <td>0.047310</td>\n",
       "      <td>1.381808</td>\n",
       "      <td>0.155341</td>\n",
       "      <td>0.0</td>\n",
       "      <td>9.770206e-16</td>\n",
       "      <td>1.243610e-15</td>\n",
       "      <td>8.961731e-16</td>\n",
       "      <td>1.521253</td>\n",
       "      <td>1.613779</td>\n",
       "      <td>1.189941</td>\n",
       "      <td>...</td>\n",
       "      <td>1.956724e-15</td>\n",
       "      <td>0.0</td>\n",
       "      <td>5.428685e-16</td>\n",
       "      <td>0.0</td>\n",
       "      <td>-1.630523e-15</td>\n",
       "      <td>-1.087010e-15</td>\n",
       "      <td>-1.621701e-15</td>\n",
       "      <td>1.620792e-15</td>\n",
       "      <td>-1.089747e-15</td>\n",
       "      <td>-1.104692e-15</td>\n",
       "    </tr>\n",
       "    <tr>\n",
       "      <th>2</th>\n",
       "      <td>-1.450864</td>\n",
       "      <td>0.797930</td>\n",
       "      <td>0.158208</td>\n",
       "      <td>0.0</td>\n",
       "      <td>9.770206e-16</td>\n",
       "      <td>1.243610e-15</td>\n",
       "      <td>8.961731e-16</td>\n",
       "      <td>-0.111994</td>\n",
       "      <td>-0.207470</td>\n",
       "      <td>-0.235015</td>\n",
       "      <td>...</td>\n",
       "      <td>1.956724e-15</td>\n",
       "      <td>0.0</td>\n",
       "      <td>5.428685e-16</td>\n",
       "      <td>0.0</td>\n",
       "      <td>-1.630523e-15</td>\n",
       "      <td>-1.087010e-15</td>\n",
       "      <td>-1.621701e-15</td>\n",
       "      <td>1.620792e-15</td>\n",
       "      <td>-1.089747e-15</td>\n",
       "      <td>-1.104692e-15</td>\n",
       "    </tr>\n",
       "  </tbody>\n",
       "</table>\n",
       "<p>3 rows × 3695 columns</p>\n",
       "</div>"
      ],
      "text/plain": [
       "         X0        X1        X2   X3            X4            X5  \\\n",
       "0 -1.450864 -1.432679 -0.020007  0.0  9.770206e-16  1.243610e-15   \n",
       "1  0.047310  1.381808  0.155341  0.0  9.770206e-16  1.243610e-15   \n",
       "2 -1.450864  0.797930  0.158208  0.0  9.770206e-16  1.243610e-15   \n",
       "\n",
       "             X6        X7        X8        X9  ...         X3796  X3797  \\\n",
       "0  8.961731e-16 -0.711873  0.503163  1.463917  ...  1.956724e-15    0.0   \n",
       "1  8.961731e-16  1.521253  1.613779  1.189941  ...  1.956724e-15    0.0   \n",
       "2  8.961731e-16 -0.111994 -0.207470 -0.235015  ...  1.956724e-15    0.0   \n",
       "\n",
       "          X3798  X3799         X3800         X3801         X3802  \\\n",
       "0  5.428685e-16    0.0 -1.630523e-15 -1.087010e-15 -1.621701e-15   \n",
       "1  5.428685e-16    0.0 -1.630523e-15 -1.087010e-15 -1.621701e-15   \n",
       "2  5.428685e-16    0.0 -1.630523e-15 -1.087010e-15 -1.621701e-15   \n",
       "\n",
       "          X3803         X3804         X3805  \n",
       "0  1.620792e-15 -1.089747e-15 -1.104692e-15  \n",
       "1  1.620792e-15 -1.089747e-15 -1.104692e-15  \n",
       "2  1.620792e-15 -1.089747e-15 -1.104692e-15  \n",
       "\n",
       "[3 rows x 3695 columns]"
      ]
     },
     "execution_count": 5,
     "metadata": {},
     "output_type": "execute_result"
    }
   ],
   "source": [
    "test_data_preprocessed.head(3)"
   ]
  },
  {
   "cell_type": "code",
   "execution_count": 6,
   "metadata": {},
   "outputs": [
    {
     "data": {
      "text/html": [
       "<div>\n",
       "<style scoped>\n",
       "    .dataframe tbody tr th:only-of-type {\n",
       "        vertical-align: middle;\n",
       "    }\n",
       "\n",
       "    .dataframe tbody tr th {\n",
       "        vertical-align: top;\n",
       "    }\n",
       "\n",
       "    .dataframe thead th {\n",
       "        text-align: right;\n",
       "    }\n",
       "</style>\n",
       "<table border=\"1\" class=\"dataframe\">\n",
       "  <thead>\n",
       "    <tr style=\"text-align: right;\">\n",
       "      <th></th>\n",
       "      <th>idx</th>\n",
       "      <th>date</th>\n",
       "      <th>y</th>\n",
       "    </tr>\n",
       "  </thead>\n",
       "  <tbody>\n",
       "    <tr>\n",
       "      <th>0</th>\n",
       "      <td>0</td>\n",
       "      <td>7</td>\n",
       "      <td>0.0</td>\n",
       "    </tr>\n",
       "    <tr>\n",
       "      <th>1</th>\n",
       "      <td>1</td>\n",
       "      <td>7</td>\n",
       "      <td>0.0</td>\n",
       "    </tr>\n",
       "    <tr>\n",
       "      <th>2</th>\n",
       "      <td>2</td>\n",
       "      <td>8</td>\n",
       "      <td>0.0</td>\n",
       "    </tr>\n",
       "    <tr>\n",
       "      <th>3</th>\n",
       "      <td>3</td>\n",
       "      <td>7</td>\n",
       "      <td>0.0</td>\n",
       "    </tr>\n",
       "    <tr>\n",
       "      <th>4</th>\n",
       "      <td>4</td>\n",
       "      <td>7</td>\n",
       "      <td>0.0</td>\n",
       "    </tr>\n",
       "    <tr>\n",
       "      <th>...</th>\n",
       "      <td>...</td>\n",
       "      <td>...</td>\n",
       "      <td>...</td>\n",
       "    </tr>\n",
       "    <tr>\n",
       "      <th>61861</th>\n",
       "      <td>79995</td>\n",
       "      <td>21</td>\n",
       "      <td>0.0</td>\n",
       "    </tr>\n",
       "    <tr>\n",
       "      <th>61862</th>\n",
       "      <td>79996</td>\n",
       "      <td>21</td>\n",
       "      <td>0.0</td>\n",
       "    </tr>\n",
       "    <tr>\n",
       "      <th>61863</th>\n",
       "      <td>79997</td>\n",
       "      <td>21</td>\n",
       "      <td>0.0</td>\n",
       "    </tr>\n",
       "    <tr>\n",
       "      <th>61864</th>\n",
       "      <td>79998</td>\n",
       "      <td>21</td>\n",
       "      <td>0.0</td>\n",
       "    </tr>\n",
       "    <tr>\n",
       "      <th>61865</th>\n",
       "      <td>79999</td>\n",
       "      <td>21</td>\n",
       "      <td>0.0</td>\n",
       "    </tr>\n",
       "  </tbody>\n",
       "</table>\n",
       "<p>61866 rows × 3 columns</p>\n",
       "</div>"
      ],
      "text/plain": [
       "         idx  date    y\n",
       "0          0     7  0.0\n",
       "1          1     7  0.0\n",
       "2          2     8  0.0\n",
       "3          3     7  0.0\n",
       "4          4     7  0.0\n",
       "...      ...   ...  ...\n",
       "61861  79995    21  0.0\n",
       "61862  79996    21  0.0\n",
       "61863  79997    21  0.0\n",
       "61864  79998    21  0.0\n",
       "61865  79999    21  0.0\n",
       "\n",
       "[61866 rows x 3 columns]"
      ]
     },
     "execution_count": 6,
     "metadata": {},
     "output_type": "execute_result"
    }
   ],
   "source": [
    "path = \"zqy/temp/2024年四川省大学生数据科学与统计建模竞赛/训练集/train_target.csv\"\n",
    "train_target = pd.read_csv(os.path.join(REPO_PATH, path))\n",
    "train_target"
   ]
  },
  {
   "cell_type": "code",
   "execution_count": 7,
   "metadata": {},
   "outputs": [
    {
     "data": {
      "text/html": [
       "<div>\n",
       "<style scoped>\n",
       "    .dataframe tbody tr th:only-of-type {\n",
       "        vertical-align: middle;\n",
       "    }\n",
       "\n",
       "    .dataframe tbody tr th {\n",
       "        vertical-align: top;\n",
       "    }\n",
       "\n",
       "    .dataframe thead th {\n",
       "        text-align: right;\n",
       "    }\n",
       "</style>\n",
       "<table border=\"1\" class=\"dataframe\">\n",
       "  <thead>\n",
       "    <tr style=\"text-align: right;\">\n",
       "      <th></th>\n",
       "      <th>y</th>\n",
       "    </tr>\n",
       "  </thead>\n",
       "  <tbody>\n",
       "    <tr>\n",
       "      <th>0</th>\n",
       "      <td>0</td>\n",
       "    </tr>\n",
       "    <tr>\n",
       "      <th>1</th>\n",
       "      <td>0</td>\n",
       "    </tr>\n",
       "    <tr>\n",
       "      <th>2</th>\n",
       "      <td>0</td>\n",
       "    </tr>\n",
       "    <tr>\n",
       "      <th>3</th>\n",
       "      <td>0</td>\n",
       "    </tr>\n",
       "    <tr>\n",
       "      <th>4</th>\n",
       "      <td>0</td>\n",
       "    </tr>\n",
       "    <tr>\n",
       "      <th>...</th>\n",
       "      <td>...</td>\n",
       "    </tr>\n",
       "    <tr>\n",
       "      <th>61861</th>\n",
       "      <td>0</td>\n",
       "    </tr>\n",
       "    <tr>\n",
       "      <th>61862</th>\n",
       "      <td>0</td>\n",
       "    </tr>\n",
       "    <tr>\n",
       "      <th>61863</th>\n",
       "      <td>0</td>\n",
       "    </tr>\n",
       "    <tr>\n",
       "      <th>61864</th>\n",
       "      <td>0</td>\n",
       "    </tr>\n",
       "    <tr>\n",
       "      <th>61865</th>\n",
       "      <td>0</td>\n",
       "    </tr>\n",
       "  </tbody>\n",
       "</table>\n",
       "<p>61866 rows × 1 columns</p>\n",
       "</div>"
      ],
      "text/plain": [
       "       y\n",
       "0      0\n",
       "1      0\n",
       "2      0\n",
       "3      0\n",
       "4      0\n",
       "...   ..\n",
       "61861  0\n",
       "61862  0\n",
       "61863  0\n",
       "61864  0\n",
       "61865  0\n",
       "\n",
       "[61866 rows x 1 columns]"
      ]
     },
     "execution_count": 7,
     "metadata": {},
     "output_type": "execute_result"
    }
   ],
   "source": [
    "train_target_drop = train_target.drop(columns=[\"idx\", \"date\"]).astype(int)\n",
    "train_target_drop   "
   ]
  },
  {
   "cell_type": "code",
   "execution_count": 8,
   "metadata": {},
   "outputs": [
    {
     "data": {
      "text/plain": [
       "(array([0, 1]), array([50526, 11340]))"
      ]
     },
     "execution_count": 8,
     "metadata": {},
     "output_type": "execute_result"
    }
   ],
   "source": [
    "np.unique(train_target_drop.values, return_counts=True)"
   ]
  },
  {
   "cell_type": "markdown",
   "metadata": {},
   "source": [
    "# MLP"
   ]
  },
  {
   "cell_type": "code",
   "execution_count": 20,
   "metadata": {},
   "outputs": [
    {
     "name": "stderr",
     "output_type": "stream",
     "text": [
      "/home/zqy/venv/lib/python3.10/site-packages/keras/src/layers/core/dense.py:87: UserWarning: Do not pass an `input_shape`/`input_dim` argument to a layer. When using Sequential models, prefer using an `Input(shape)` object as the first layer in the model instead.\n",
      "  super().__init__(activity_regularizer=activity_regularizer, **kwargs)\n"
     ]
    },
    {
     "data": {
      "text/html": [
       "<pre style=\"white-space:pre;overflow-x:auto;line-height:normal;font-family:Menlo,'DejaVu Sans Mono',consolas,'Courier New',monospace\"><span style=\"font-weight: bold\">Model: \"sequential_2\"</span>\n",
       "</pre>\n"
      ],
      "text/plain": [
       "\u001b[1mModel: \"sequential_2\"\u001b[0m\n"
      ]
     },
     "metadata": {},
     "output_type": "display_data"
    },
    {
     "data": {
      "text/html": [
       "<pre style=\"white-space:pre;overflow-x:auto;line-height:normal;font-family:Menlo,'DejaVu Sans Mono',consolas,'Courier New',monospace\">┏━━━━━━━━━━━━━━━━━━━━━━━━━━━━━━━━━┳━━━━━━━━━━━━━━━━━━━━━━━━┳━━━━━━━━━━━━━━━┓\n",
       "┃<span style=\"font-weight: bold\"> Layer (type)                    </span>┃<span style=\"font-weight: bold\"> Output Shape           </span>┃<span style=\"font-weight: bold\">       Param # </span>┃\n",
       "┡━━━━━━━━━━━━━━━━━━━━━━━━━━━━━━━━━╇━━━━━━━━━━━━━━━━━━━━━━━━╇━━━━━━━━━━━━━━━┩\n",
       "│ dense_15 (<span style=\"color: #0087ff; text-decoration-color: #0087ff\">Dense</span>)                │ (<span style=\"color: #00d7ff; text-decoration-color: #00d7ff\">None</span>, <span style=\"color: #00af00; text-decoration-color: #00af00\">1800</span>)           │     <span style=\"color: #00af00; text-decoration-color: #00af00\">6,652,800</span> │\n",
       "├─────────────────────────────────┼────────────────────────┼───────────────┤\n",
       "│ dense_16 (<span style=\"color: #0087ff; text-decoration-color: #0087ff\">Dense</span>)                │ (<span style=\"color: #00d7ff; text-decoration-color: #00d7ff\">None</span>, <span style=\"color: #00af00; text-decoration-color: #00af00\">2560</span>)           │     <span style=\"color: #00af00; text-decoration-color: #00af00\">4,610,560</span> │\n",
       "├─────────────────────────────────┼────────────────────────┼───────────────┤\n",
       "│ dropout_5 (<span style=\"color: #0087ff; text-decoration-color: #0087ff\">Dropout</span>)             │ (<span style=\"color: #00d7ff; text-decoration-color: #00d7ff\">None</span>, <span style=\"color: #00af00; text-decoration-color: #00af00\">2560</span>)           │             <span style=\"color: #00af00; text-decoration-color: #00af00\">0</span> │\n",
       "├─────────────────────────────────┼────────────────────────┼───────────────┤\n",
       "│ dense_17 (<span style=\"color: #0087ff; text-decoration-color: #0087ff\">Dense</span>)                │ (<span style=\"color: #00d7ff; text-decoration-color: #00d7ff\">None</span>, <span style=\"color: #00af00; text-decoration-color: #00af00\">1024</span>)           │     <span style=\"color: #00af00; text-decoration-color: #00af00\">2,622,464</span> │\n",
       "├─────────────────────────────────┼────────────────────────┼───────────────┤\n",
       "│ dropout_6 (<span style=\"color: #0087ff; text-decoration-color: #0087ff\">Dropout</span>)             │ (<span style=\"color: #00d7ff; text-decoration-color: #00d7ff\">None</span>, <span style=\"color: #00af00; text-decoration-color: #00af00\">1024</span>)           │             <span style=\"color: #00af00; text-decoration-color: #00af00\">0</span> │\n",
       "├─────────────────────────────────┼────────────────────────┼───────────────┤\n",
       "│ dense_18 (<span style=\"color: #0087ff; text-decoration-color: #0087ff\">Dense</span>)                │ (<span style=\"color: #00d7ff; text-decoration-color: #00d7ff\">None</span>, <span style=\"color: #00af00; text-decoration-color: #00af00\">256</span>)            │       <span style=\"color: #00af00; text-decoration-color: #00af00\">262,400</span> │\n",
       "├─────────────────────────────────┼────────────────────────┼───────────────┤\n",
       "│ dropout_7 (<span style=\"color: #0087ff; text-decoration-color: #0087ff\">Dropout</span>)             │ (<span style=\"color: #00d7ff; text-decoration-color: #00d7ff\">None</span>, <span style=\"color: #00af00; text-decoration-color: #00af00\">256</span>)            │             <span style=\"color: #00af00; text-decoration-color: #00af00\">0</span> │\n",
       "├─────────────────────────────────┼────────────────────────┼───────────────┤\n",
       "│ dense_19 (<span style=\"color: #0087ff; text-decoration-color: #0087ff\">Dense</span>)                │ (<span style=\"color: #00d7ff; text-decoration-color: #00d7ff\">None</span>, <span style=\"color: #00af00; text-decoration-color: #00af00\">64</span>)             │        <span style=\"color: #00af00; text-decoration-color: #00af00\">16,448</span> │\n",
       "├─────────────────────────────────┼────────────────────────┼───────────────┤\n",
       "│ dropout_8 (<span style=\"color: #0087ff; text-decoration-color: #0087ff\">Dropout</span>)             │ (<span style=\"color: #00d7ff; text-decoration-color: #00d7ff\">None</span>, <span style=\"color: #00af00; text-decoration-color: #00af00\">64</span>)             │             <span style=\"color: #00af00; text-decoration-color: #00af00\">0</span> │\n",
       "├─────────────────────────────────┼────────────────────────┼───────────────┤\n",
       "│ dense_20 (<span style=\"color: #0087ff; text-decoration-color: #0087ff\">Dense</span>)                │ (<span style=\"color: #00d7ff; text-decoration-color: #00d7ff\">None</span>, <span style=\"color: #00af00; text-decoration-color: #00af00\">16</span>)             │         <span style=\"color: #00af00; text-decoration-color: #00af00\">1,040</span> │\n",
       "├─────────────────────────────────┼────────────────────────┼───────────────┤\n",
       "│ dropout_9 (<span style=\"color: #0087ff; text-decoration-color: #0087ff\">Dropout</span>)             │ (<span style=\"color: #00d7ff; text-decoration-color: #00d7ff\">None</span>, <span style=\"color: #00af00; text-decoration-color: #00af00\">16</span>)             │             <span style=\"color: #00af00; text-decoration-color: #00af00\">0</span> │\n",
       "├─────────────────────────────────┼────────────────────────┼───────────────┤\n",
       "│ dense_21 (<span style=\"color: #0087ff; text-decoration-color: #0087ff\">Dense</span>)                │ (<span style=\"color: #00d7ff; text-decoration-color: #00d7ff\">None</span>, <span style=\"color: #00af00; text-decoration-color: #00af00\">1</span>)              │            <span style=\"color: #00af00; text-decoration-color: #00af00\">17</span> │\n",
       "└─────────────────────────────────┴────────────────────────┴───────────────┘\n",
       "</pre>\n"
      ],
      "text/plain": [
       "┏━━━━━━━━━━━━━━━━━━━━━━━━━━━━━━━━━┳━━━━━━━━━━━━━━━━━━━━━━━━┳━━━━━━━━━━━━━━━┓\n",
       "┃\u001b[1m \u001b[0m\u001b[1mLayer (type)                   \u001b[0m\u001b[1m \u001b[0m┃\u001b[1m \u001b[0m\u001b[1mOutput Shape          \u001b[0m\u001b[1m \u001b[0m┃\u001b[1m \u001b[0m\u001b[1m      Param #\u001b[0m\u001b[1m \u001b[0m┃\n",
       "┡━━━━━━━━━━━━━━━━━━━━━━━━━━━━━━━━━╇━━━━━━━━━━━━━━━━━━━━━━━━╇━━━━━━━━━━━━━━━┩\n",
       "│ dense_15 (\u001b[38;5;33mDense\u001b[0m)                │ (\u001b[38;5;45mNone\u001b[0m, \u001b[38;5;34m1800\u001b[0m)           │     \u001b[38;5;34m6,652,800\u001b[0m │\n",
       "├─────────────────────────────────┼────────────────────────┼───────────────┤\n",
       "│ dense_16 (\u001b[38;5;33mDense\u001b[0m)                │ (\u001b[38;5;45mNone\u001b[0m, \u001b[38;5;34m2560\u001b[0m)           │     \u001b[38;5;34m4,610,560\u001b[0m │\n",
       "├─────────────────────────────────┼────────────────────────┼───────────────┤\n",
       "│ dropout_5 (\u001b[38;5;33mDropout\u001b[0m)             │ (\u001b[38;5;45mNone\u001b[0m, \u001b[38;5;34m2560\u001b[0m)           │             \u001b[38;5;34m0\u001b[0m │\n",
       "├─────────────────────────────────┼────────────────────────┼───────────────┤\n",
       "│ dense_17 (\u001b[38;5;33mDense\u001b[0m)                │ (\u001b[38;5;45mNone\u001b[0m, \u001b[38;5;34m1024\u001b[0m)           │     \u001b[38;5;34m2,622,464\u001b[0m │\n",
       "├─────────────────────────────────┼────────────────────────┼───────────────┤\n",
       "│ dropout_6 (\u001b[38;5;33mDropout\u001b[0m)             │ (\u001b[38;5;45mNone\u001b[0m, \u001b[38;5;34m1024\u001b[0m)           │             \u001b[38;5;34m0\u001b[0m │\n",
       "├─────────────────────────────────┼────────────────────────┼───────────────┤\n",
       "│ dense_18 (\u001b[38;5;33mDense\u001b[0m)                │ (\u001b[38;5;45mNone\u001b[0m, \u001b[38;5;34m256\u001b[0m)            │       \u001b[38;5;34m262,400\u001b[0m │\n",
       "├─────────────────────────────────┼────────────────────────┼───────────────┤\n",
       "│ dropout_7 (\u001b[38;5;33mDropout\u001b[0m)             │ (\u001b[38;5;45mNone\u001b[0m, \u001b[38;5;34m256\u001b[0m)            │             \u001b[38;5;34m0\u001b[0m │\n",
       "├─────────────────────────────────┼────────────────────────┼───────────────┤\n",
       "│ dense_19 (\u001b[38;5;33mDense\u001b[0m)                │ (\u001b[38;5;45mNone\u001b[0m, \u001b[38;5;34m64\u001b[0m)             │        \u001b[38;5;34m16,448\u001b[0m │\n",
       "├─────────────────────────────────┼────────────────────────┼───────────────┤\n",
       "│ dropout_8 (\u001b[38;5;33mDropout\u001b[0m)             │ (\u001b[38;5;45mNone\u001b[0m, \u001b[38;5;34m64\u001b[0m)             │             \u001b[38;5;34m0\u001b[0m │\n",
       "├─────────────────────────────────┼────────────────────────┼───────────────┤\n",
       "│ dense_20 (\u001b[38;5;33mDense\u001b[0m)                │ (\u001b[38;5;45mNone\u001b[0m, \u001b[38;5;34m16\u001b[0m)             │         \u001b[38;5;34m1,040\u001b[0m │\n",
       "├─────────────────────────────────┼────────────────────────┼───────────────┤\n",
       "│ dropout_9 (\u001b[38;5;33mDropout\u001b[0m)             │ (\u001b[38;5;45mNone\u001b[0m, \u001b[38;5;34m16\u001b[0m)             │             \u001b[38;5;34m0\u001b[0m │\n",
       "├─────────────────────────────────┼────────────────────────┼───────────────┤\n",
       "│ dense_21 (\u001b[38;5;33mDense\u001b[0m)                │ (\u001b[38;5;45mNone\u001b[0m, \u001b[38;5;34m1\u001b[0m)              │            \u001b[38;5;34m17\u001b[0m │\n",
       "└─────────────────────────────────┴────────────────────────┴───────────────┘\n"
      ]
     },
     "metadata": {},
     "output_type": "display_data"
    },
    {
     "data": {
      "text/html": [
       "<pre style=\"white-space:pre;overflow-x:auto;line-height:normal;font-family:Menlo,'DejaVu Sans Mono',consolas,'Courier New',monospace\"><span style=\"font-weight: bold\"> Total params: </span><span style=\"color: #00af00; text-decoration-color: #00af00\">14,165,729</span> (54.04 MB)\n",
       "</pre>\n"
      ],
      "text/plain": [
       "\u001b[1m Total params: \u001b[0m\u001b[38;5;34m14,165,729\u001b[0m (54.04 MB)\n"
      ]
     },
     "metadata": {},
     "output_type": "display_data"
    },
    {
     "data": {
      "text/html": [
       "<pre style=\"white-space:pre;overflow-x:auto;line-height:normal;font-family:Menlo,'DejaVu Sans Mono',consolas,'Courier New',monospace\"><span style=\"font-weight: bold\"> Trainable params: </span><span style=\"color: #00af00; text-decoration-color: #00af00\">14,165,729</span> (54.04 MB)\n",
       "</pre>\n"
      ],
      "text/plain": [
       "\u001b[1m Trainable params: \u001b[0m\u001b[38;5;34m14,165,729\u001b[0m (54.04 MB)\n"
      ]
     },
     "metadata": {},
     "output_type": "display_data"
    },
    {
     "data": {
      "text/html": [
       "<pre style=\"white-space:pre;overflow-x:auto;line-height:normal;font-family:Menlo,'DejaVu Sans Mono',consolas,'Courier New',monospace\"><span style=\"font-weight: bold\"> Non-trainable params: </span><span style=\"color: #00af00; text-decoration-color: #00af00\">0</span> (0.00 B)\n",
       "</pre>\n"
      ],
      "text/plain": [
       "\u001b[1m Non-trainable params: \u001b[0m\u001b[38;5;34m0\u001b[0m (0.00 B)\n"
      ]
     },
     "metadata": {},
     "output_type": "display_data"
    }
   ],
   "source": [
    "import tensorflow as tf\n",
    "import tensorflow.keras as keras\n",
    "\n",
    "model = keras.Sequential([\n",
    "    keras.layers.Dense(1800, activation='relu', input_shape=(train_data_preprocessed.shape[1],)),\n",
    "    # keras.layers.Dense(5000, activation='relu'),\n",
    "    keras.layers.Dense(2560, activation='relu'),\n",
    "    keras.layers.Dropout(0.2),\n",
    "    keras.layers.Dense(1024, activation='relu'),\n",
    "    keras.layers.Dropout(0.2),\n",
    "    keras.layers.Dense(256, activation='relu'),\n",
    "    keras.layers.Dropout(0.2),\n",
    "    keras.layers.Dense(64, activation='relu'),\n",
    "    keras.layers.Dropout(0.2),\n",
    "    keras.layers.Dense(16, activation='relu'),\n",
    "    keras.layers.Dropout(0.2),\n",
    "    # keras.layers.Dense(2, activation='softmax')\n",
    "    keras.layers.Dense(1, activation='sigmoid')\n",
    "])\n",
    "\n",
    "model.summary()"
   ]
  },
  {
   "cell_type": "code",
   "execution_count": 9,
   "metadata": {},
   "outputs": [
    {
     "data": {
      "text/plain": [
       "({0: 1.2244389027431422, 1: 5.455555555555556},\n",
       " (array([0, 1]), array([50526, 11340])))"
      ]
     },
     "execution_count": 9,
     "metadata": {},
     "output_type": "execute_result"
    }
   ],
   "source": [
    "class_weight = {}\n",
    "class_cnt = np.unique(train_target_drop, return_counts=True)\n",
    "for i in range(len(class_cnt[0])):\n",
    "    class_weight[i] = class_cnt[1].sum() / class_cnt[1][i]\n",
    "class_weight, class_cnt"
   ]
  },
  {
   "cell_type": "code",
   "execution_count": 10,
   "metadata": {},
   "outputs": [
    {
     "data": {
      "text/plain": [
       "(array([[1, 0],\n",
       "        [1, 0],\n",
       "        [1, 0],\n",
       "        ...,\n",
       "        [1, 0],\n",
       "        [1, 0],\n",
       "        [1, 0]]),\n",
       " (61866, 2),\n",
       " (61866, 3695))"
      ]
     },
     "execution_count": 10,
     "metadata": {},
     "output_type": "execute_result"
    }
   ],
   "source": [
    "train_target_one_hot = pd.get_dummies(train_target_drop, columns=['y'])\n",
    "train_target_one_hot = train_target_one_hot.values\n",
    "train_target_one_hot = train_target_one_hot.astype(int)\n",
    "train_target_one_hot, train_target_one_hot.shape, train_data_preprocessed.shape"
   ]
  },
  {
   "cell_type": "code",
   "execution_count": 26,
   "metadata": {},
   "outputs": [
    {
     "name": "stdout",
     "output_type": "stream",
     "text": [
      "Epoch 1/60\n",
      "\u001b[1m1547/1547\u001b[0m \u001b[32m━━━━━━━━━━━━━━━━━━━━\u001b[0m\u001b[37m\u001b[0m \u001b[1m90s\u001b[0m 58ms/step - accuracy: 0.3289 - auc: 0.5010 - f1_score: 0.3046 - f1_score_1: 0.3046 - loss: 1686341248.0000 - val_accuracy: 0.8474 - val_auc: 0.5000 - val_f1_score: 0.0000e+00 - val_f1_score_1: 0.0000e+00 - val_loss: 7740903.0000\n",
      "Epoch 2/60\n",
      "\u001b[1m1547/1547\u001b[0m \u001b[32m━━━━━━━━━━━━━━━━━━━━\u001b[0m\u001b[37m\u001b[0m \u001b[1m89s\u001b[0m 57ms/step - accuracy: 0.6638 - auc: 0.4998 - f1_score: 0.2113 - f1_score_1: 0.2113 - loss: 15511708.0000 - val_accuracy: 0.8474 - val_auc: 0.5000 - val_f1_score: 0.0000e+00 - val_f1_score_1: 0.0000e+00 - val_loss: 2179317.7500\n",
      "Epoch 3/60\n",
      "\u001b[1m1547/1547\u001b[0m \u001b[32m━━━━━━━━━━━━━━━━━━━━\u001b[0m\u001b[37m\u001b[0m \u001b[1m89s\u001b[0m 57ms/step - accuracy: 0.6726 - auc: 0.5024 - f1_score: 0.2090 - f1_score_1: 0.2090 - loss: 4338165.0000 - val_accuracy: 0.8474 - val_auc: 0.5000 - val_f1_score: 0.0000e+00 - val_f1_score_1: 0.0000e+00 - val_loss: 600758.0000\n",
      "Epoch 4/60\n",
      "\u001b[1m1547/1547\u001b[0m \u001b[32m━━━━━━━━━━━━━━━━━━━━\u001b[0m\u001b[37m\u001b[0m \u001b[1m89s\u001b[0m 57ms/step - accuracy: 0.6694 - auc: 0.4979 - f1_score: 0.2030 - f1_score_1: 0.2030 - loss: 1128221.1250 - val_accuracy: 0.8474 - val_auc: 0.5000 - val_f1_score: 0.0000e+00 - val_f1_score_1: 0.0000e+00 - val_loss: 150670.1562\n",
      "Epoch 5/60\n",
      "\u001b[1m1547/1547\u001b[0m \u001b[32m━━━━━━━━━━━━━━━━━━━━\u001b[0m\u001b[37m\u001b[0m \u001b[1m89s\u001b[0m 57ms/step - accuracy: 0.6723 - auc: 0.4987 - f1_score: 0.2028 - f1_score_1: 0.2028 - loss: 247178.7812 - val_accuracy: 0.8474 - val_auc: 0.5000 - val_f1_score: 0.0000e+00 - val_f1_score_1: 0.0000e+00 - val_loss: 19180.8828\n",
      "Epoch 6/60\n",
      "\u001b[1m1547/1547\u001b[0m \u001b[32m━━━━━━━━━━━━━━━━━━━━\u001b[0m\u001b[37m\u001b[0m \u001b[1m89s\u001b[0m 58ms/step - accuracy: 0.6964 - auc: 0.5005 - f1_score: 0.1873 - f1_score_1: 0.1873 - loss: 22669.5645 - val_accuracy: 0.8474 - val_auc: 0.5000 - val_f1_score: 0.0000e+00 - val_f1_score_1: 0.0000e+00 - val_loss: 1353.3903\n",
      "Epoch 7/60\n",
      "\u001b[1m1547/1547\u001b[0m \u001b[32m━━━━━━━━━━━━━━━━━━━━\u001b[0m\u001b[37m\u001b[0m \u001b[1m90s\u001b[0m 58ms/step - accuracy: 0.7099 - auc: 0.4982 - f1_score: 0.1699 - f1_score_1: 0.1699 - loss: 1486.1346 - val_accuracy: 0.8474 - val_auc: 0.5000 - val_f1_score: 0.0000e+00 - val_f1_score_1: 0.0000e+00 - val_loss: 128.0881\n",
      "Epoch 8/60\n",
      "\u001b[1m1547/1547\u001b[0m \u001b[32m━━━━━━━━━━━━━━━━━━━━\u001b[0m\u001b[37m\u001b[0m \u001b[1m89s\u001b[0m 58ms/step - accuracy: 0.6895 - auc: 0.4978 - f1_score: 0.1914 - f1_score_1: 0.1914 - loss: 184.7994 - val_accuracy: 0.8474 - val_auc: 0.5000 - val_f1_score: 0.0000e+00 - val_f1_score_1: 0.0000e+00 - val_loss: 12.6909\n",
      "Epoch 9/60\n",
      "\u001b[1m1547/1547\u001b[0m \u001b[32m━━━━━━━━━━━━━━━━━━━━\u001b[0m\u001b[37m\u001b[0m \u001b[1m90s\u001b[0m 58ms/step - accuracy: 0.6739 - auc: 0.4972 - f1_score: 0.2372 - f1_score_1: 0.2372 - loss: 32.5650 - val_accuracy: 0.8474 - val_auc: 0.5000 - val_f1_score: 0.2648 - val_f1_score_1: 0.2648 - val_loss: 0.4277\n",
      "Epoch 10/60\n",
      "\u001b[1m1547/1547\u001b[0m \u001b[32m━━━━━━━━━━━━━━━━━━━━\u001b[0m\u001b[37m\u001b[0m \u001b[1m90s\u001b[0m 58ms/step - accuracy: 0.7458 - auc: 0.4960 - f1_score: 0.3049 - f1_score_1: 0.3049 - loss: 4.9281 - val_accuracy: 0.8474 - val_auc: 0.5000 - val_f1_score: 0.2648 - val_f1_score_1: 0.2648 - val_loss: 0.4408\n",
      "Epoch 11/60\n",
      "\u001b[1m1547/1547\u001b[0m \u001b[32m━━━━━━━━━━━━━━━━━━━━\u001b[0m\u001b[37m\u001b[0m \u001b[1m90s\u001b[0m 58ms/step - accuracy: 0.7941 - auc: 0.5027 - f1_score: 0.3188 - f1_score_1: 0.3188 - loss: 1.0450 - val_accuracy: 0.8474 - val_auc: 0.5000 - val_f1_score: 0.2648 - val_f1_score_1: 0.2648 - val_loss: 0.4362\n",
      "Epoch 12/60\n",
      "\u001b[1m1547/1547\u001b[0m \u001b[32m━━━━━━━━━━━━━━━━━━━━\u001b[0m\u001b[37m\u001b[0m \u001b[1m90s\u001b[0m 58ms/step - accuracy: 0.8025 - auc: 0.4996 - f1_score: 0.3251 - f1_score_1: 0.3251 - loss: 0.5672 - val_accuracy: 0.8474 - val_auc: 0.5000 - val_f1_score: 0.2648 - val_f1_score_1: 0.2648 - val_loss: 0.4334\n",
      "Epoch 13/60\n",
      "\u001b[1m1547/1547\u001b[0m \u001b[32m━━━━━━━━━━━━━━━━━━━━\u001b[0m\u001b[37m\u001b[0m \u001b[1m90s\u001b[0m 58ms/step - accuracy: 0.8084 - auc: 0.4962 - f1_score: 0.3199 - f1_score_1: 0.3199 - loss: 0.5144 - val_accuracy: 0.8474 - val_auc: 0.5000 - val_f1_score: 0.2648 - val_f1_score_1: 0.2648 - val_loss: 0.4327\n",
      "Epoch 14/60\n",
      "\u001b[1m1547/1547\u001b[0m \u001b[32m━━━━━━━━━━━━━━━━━━━━\u001b[0m\u001b[37m\u001b[0m \u001b[1m91s\u001b[0m 59ms/step - accuracy: 0.8119 - auc: 0.4935 - f1_score: 0.3164 - f1_score_1: 0.3164 - loss: 0.4998 - val_accuracy: 0.8474 - val_auc: 0.5000 - val_f1_score: 0.2648 - val_f1_score_1: 0.2648 - val_loss: 0.4324\n",
      "Epoch 15/60\n",
      "\u001b[1m1547/1547\u001b[0m \u001b[32m━━━━━━━━━━━━━━━━━━━━\u001b[0m\u001b[37m\u001b[0m \u001b[1m91s\u001b[0m 59ms/step - accuracy: 0.8120 - auc: 0.5001 - f1_score: 0.3163 - f1_score_1: 0.3163 - loss: 0.4854 - val_accuracy: 0.8474 - val_auc: 0.5000 - val_f1_score: 0.2648 - val_f1_score_1: 0.2648 - val_loss: 0.4325\n",
      "Epoch 16/60\n",
      "\u001b[1m1547/1547\u001b[0m \u001b[32m━━━━━━━━━━━━━━━━━━━━\u001b[0m\u001b[37m\u001b[0m \u001b[1m91s\u001b[0m 59ms/step - accuracy: 0.8084 - auc: 0.4952 - f1_score: 0.3216 - f1_score_1: 0.3216 - loss: 0.4904 - val_accuracy: 0.8474 - val_auc: 0.5000 - val_f1_score: 0.2648 - val_f1_score_1: 0.2648 - val_loss: 0.4324\n",
      "Epoch 17/60\n",
      "\u001b[1m1547/1547\u001b[0m \u001b[32m━━━━━━━━━━━━━━━━━━━━\u001b[0m\u001b[37m\u001b[0m \u001b[1m92s\u001b[0m 59ms/step - accuracy: 0.8086 - auc: 0.5001 - f1_score: 0.3213 - f1_score_1: 0.3213 - loss: 0.4902 - val_accuracy: 0.8474 - val_auc: 0.5000 - val_f1_score: 0.2648 - val_f1_score_1: 0.2648 - val_loss: 0.4324\n",
      "Epoch 18/60\n",
      "\u001b[1m1547/1547\u001b[0m \u001b[32m━━━━━━━━━━━━━━━━━━━━\u001b[0m\u001b[37m\u001b[0m \u001b[1m91s\u001b[0m 59ms/step - accuracy: 0.8090 - auc: 0.4967 - f1_score: 0.3204 - f1_score_1: 0.3204 - loss: 0.4921 - val_accuracy: 0.8474 - val_auc: 0.5000 - val_f1_score: 0.2648 - val_f1_score_1: 0.2648 - val_loss: 0.4322\n",
      "Epoch 19/60\n",
      "\u001b[1m1547/1547\u001b[0m \u001b[32m━━━━━━━━━━━━━━━━━━━━\u001b[0m\u001b[37m\u001b[0m \u001b[1m91s\u001b[0m 59ms/step - accuracy: 0.8094 - auc: 0.4976 - f1_score: 0.3201 - f1_score_1: 0.3201 - loss: 0.4897 - val_accuracy: 0.8474 - val_auc: 0.5000 - val_f1_score: 0.2648 - val_f1_score_1: 0.2648 - val_loss: 0.4327\n",
      "Epoch 20/60\n",
      "\u001b[1m1547/1547\u001b[0m \u001b[32m━━━━━━━━━━━━━━━━━━━━\u001b[0m\u001b[37m\u001b[0m \u001b[1m91s\u001b[0m 59ms/step - accuracy: 0.8077 - auc: 0.5020 - f1_score: 0.3223 - f1_score_1: 0.3223 - loss: 0.4970 - val_accuracy: 0.8474 - val_auc: 0.5000 - val_f1_score: 0.2648 - val_f1_score_1: 0.2648 - val_loss: 0.4322\n",
      "Epoch 21/60\n",
      "\u001b[1m1547/1547\u001b[0m \u001b[32m━━━━━━━━━━━━━━━━━━━━\u001b[0m\u001b[37m\u001b[0m \u001b[1m91s\u001b[0m 59ms/step - accuracy: 0.8068 - auc: 0.4961 - f1_score: 0.3234 - f1_score_1: 0.3234 - loss: 0.4986 - val_accuracy: 0.8474 - val_auc: 0.5000 - val_f1_score: 0.2648 - val_f1_score_1: 0.2648 - val_loss: 0.4323\n",
      "Epoch 22/60\n",
      "\u001b[1m1547/1547\u001b[0m \u001b[32m━━━━━━━━━━━━━━━━━━━━\u001b[0m\u001b[37m\u001b[0m \u001b[1m92s\u001b[0m 59ms/step - accuracy: 0.8085 - auc: 0.5000 - f1_score: 0.3210 - f1_score_1: 0.3210 - loss: 0.4918 - val_accuracy: 0.8474 - val_auc: 0.5000 - val_f1_score: 0.2648 - val_f1_score_1: 0.2648 - val_loss: 0.4320\n",
      "Epoch 23/60\n",
      "\u001b[1m1547/1547\u001b[0m \u001b[32m━━━━━━━━━━━━━━━━━━━━\u001b[0m\u001b[37m\u001b[0m \u001b[1m92s\u001b[0m 59ms/step - accuracy: 0.8072 - auc: 0.4946 - f1_score: 0.3226 - f1_score_1: 0.3226 - loss: 0.4949 - val_accuracy: 0.8474 - val_auc: 0.5000 - val_f1_score: 0.2648 - val_f1_score_1: 0.2648 - val_loss: 0.4317\n",
      "Epoch 24/60\n",
      "\u001b[1m 157/1547\u001b[0m \u001b[32m━━\u001b[0m\u001b[37m━━━━━━━━━━━━━━━━━━\u001b[0m \u001b[1m1:19\u001b[0m 58ms/step - accuracy: 0.8129 - auc: 0.5000 - f1_score: 0.3151 - f1_score_1: 0.3151 - loss: 0.4820"
     ]
    },
    {
     "ename": "KeyboardInterrupt",
     "evalue": "",
     "output_type": "error",
     "traceback": [
      "\u001b[0;31m---------------------------------------------------------------------------\u001b[0m",
      "\u001b[0;31mKeyboardInterrupt\u001b[0m                         Traceback (most recent call last)",
      "Cell \u001b[0;32mIn[26], line 13\u001b[0m\n\u001b[1;32m      5\u001b[0m model\u001b[38;5;241m.\u001b[39mset_weights(initial_weights)\n\u001b[1;32m      7\u001b[0m model\u001b[38;5;241m.\u001b[39mcompile(\n\u001b[1;32m      8\u001b[0m     optimizer\u001b[38;5;241m=\u001b[39m\u001b[38;5;124m\"\u001b[39m\u001b[38;5;124madam\u001b[39m\u001b[38;5;124m\"\u001b[39m,\n\u001b[1;32m      9\u001b[0m     \u001b[38;5;66;03m# loss=keras.losses.CategoricalCrossentropy(from_logits=False),\u001b[39;00m\n\u001b[1;32m     10\u001b[0m     loss\u001b[38;5;241m=\u001b[39mkeras\u001b[38;5;241m.\u001b[39mlosses\u001b[38;5;241m.\u001b[39mBinaryCrossentropy(from_logits\u001b[38;5;241m=\u001b[39m\u001b[38;5;28;01mFalse\u001b[39;00m),\n\u001b[1;32m     11\u001b[0m     metrics\u001b[38;5;241m=\u001b[39m[\u001b[38;5;124m\"\u001b[39m\u001b[38;5;124maccuracy\u001b[39m\u001b[38;5;124m\"\u001b[39m, \u001b[38;5;124m\"\u001b[39m\u001b[38;5;124mauc\u001b[39m\u001b[38;5;124m\"\u001b[39m, F1Score(average\u001b[38;5;241m=\u001b[39m\u001b[38;5;124m\"\u001b[39m\u001b[38;5;124mmicro\u001b[39m\u001b[38;5;124m\"\u001b[39m), F1Score(average\u001b[38;5;241m=\u001b[39m\u001b[38;5;124m\"\u001b[39m\u001b[38;5;124mmacro\u001b[39m\u001b[38;5;124m\"\u001b[39m)],\n\u001b[1;32m     12\u001b[0m )\n\u001b[0;32m---> 13\u001b[0m \u001b[43mmodel\u001b[49m\u001b[38;5;241;43m.\u001b[39;49m\u001b[43mfit\u001b[49m\u001b[43m(\u001b[49m\n\u001b[1;32m     14\u001b[0m \u001b[43m    \u001b[49m\u001b[43mtrain_data_preprocessed\u001b[49m\u001b[43m,\u001b[49m\n\u001b[1;32m     15\u001b[0m \u001b[43m    \u001b[49m\u001b[38;5;66;43;03m# train_target_one_hot,\u001b[39;49;00m\n\u001b[1;32m     16\u001b[0m \u001b[43m    \u001b[49m\u001b[43mtrain_target_drop\u001b[49m\u001b[43m,\u001b[49m\n\u001b[1;32m     17\u001b[0m \u001b[43m    \u001b[49m\u001b[43mepochs\u001b[49m\u001b[38;5;241;43m=\u001b[39;49m\u001b[38;5;241;43m60\u001b[39;49m\u001b[43m,\u001b[49m\n\u001b[1;32m     18\u001b[0m \u001b[43m    \u001b[49m\u001b[43mshuffle\u001b[49m\u001b[38;5;241;43m=\u001b[39;49m\u001b[38;5;28;43;01mTrue\u001b[39;49;00m\u001b[43m,\u001b[49m\n\u001b[1;32m     19\u001b[0m \u001b[43m    \u001b[49m\u001b[38;5;66;43;03m# class_weight=class_weight,\u001b[39;49;00m\n\u001b[1;32m     20\u001b[0m \u001b[43m    \u001b[49m\u001b[43mbatch_size\u001b[49m\u001b[38;5;241;43m=\u001b[39;49m\u001b[38;5;241;43m32\u001b[39;49m\u001b[43m,\u001b[49m\n\u001b[1;32m     21\u001b[0m \u001b[43m    \u001b[49m\u001b[43mvalidation_split\u001b[49m\u001b[38;5;241;43m=\u001b[39;49m\u001b[38;5;241;43m0.2\u001b[39;49m\u001b[43m,\u001b[49m\n\u001b[1;32m     22\u001b[0m \u001b[43m)\u001b[49m\n",
      "File \u001b[0;32m~/venv/lib/python3.10/site-packages/keras/src/utils/traceback_utils.py:117\u001b[0m, in \u001b[0;36mfilter_traceback.<locals>.error_handler\u001b[0;34m(*args, **kwargs)\u001b[0m\n\u001b[1;32m    115\u001b[0m filtered_tb \u001b[38;5;241m=\u001b[39m \u001b[38;5;28;01mNone\u001b[39;00m\n\u001b[1;32m    116\u001b[0m \u001b[38;5;28;01mtry\u001b[39;00m:\n\u001b[0;32m--> 117\u001b[0m     \u001b[38;5;28;01mreturn\u001b[39;00m \u001b[43mfn\u001b[49m\u001b[43m(\u001b[49m\u001b[38;5;241;43m*\u001b[39;49m\u001b[43margs\u001b[49m\u001b[43m,\u001b[49m\u001b[43m \u001b[49m\u001b[38;5;241;43m*\u001b[39;49m\u001b[38;5;241;43m*\u001b[39;49m\u001b[43mkwargs\u001b[49m\u001b[43m)\u001b[49m\n\u001b[1;32m    118\u001b[0m \u001b[38;5;28;01mexcept\u001b[39;00m \u001b[38;5;167;01mException\u001b[39;00m \u001b[38;5;28;01mas\u001b[39;00m e:\n\u001b[1;32m    119\u001b[0m     filtered_tb \u001b[38;5;241m=\u001b[39m _process_traceback_frames(e\u001b[38;5;241m.\u001b[39m__traceback__)\n",
      "File \u001b[0;32m~/venv/lib/python3.10/site-packages/keras/src/backend/tensorflow/trainer.py:320\u001b[0m, in \u001b[0;36mTensorFlowTrainer.fit\u001b[0;34m(self, x, y, batch_size, epochs, verbose, callbacks, validation_split, validation_data, shuffle, class_weight, sample_weight, initial_epoch, steps_per_epoch, validation_steps, validation_batch_size, validation_freq)\u001b[0m\n\u001b[1;32m    318\u001b[0m \u001b[38;5;28;01mfor\u001b[39;00m step, iterator \u001b[38;5;129;01min\u001b[39;00m epoch_iterator\u001b[38;5;241m.\u001b[39menumerate_epoch():\n\u001b[1;32m    319\u001b[0m     callbacks\u001b[38;5;241m.\u001b[39mon_train_batch_begin(step)\n\u001b[0;32m--> 320\u001b[0m     logs \u001b[38;5;241m=\u001b[39m \u001b[38;5;28;43mself\u001b[39;49m\u001b[38;5;241;43m.\u001b[39;49m\u001b[43mtrain_function\u001b[49m\u001b[43m(\u001b[49m\u001b[43miterator\u001b[49m\u001b[43m)\u001b[49m\n\u001b[1;32m    321\u001b[0m     logs \u001b[38;5;241m=\u001b[39m \u001b[38;5;28mself\u001b[39m\u001b[38;5;241m.\u001b[39m_pythonify_logs(logs)\n\u001b[1;32m    322\u001b[0m     callbacks\u001b[38;5;241m.\u001b[39mon_train_batch_end(step, logs)\n",
      "File \u001b[0;32m~/venv/lib/python3.10/site-packages/tensorflow/python/util/traceback_utils.py:150\u001b[0m, in \u001b[0;36mfilter_traceback.<locals>.error_handler\u001b[0;34m(*args, **kwargs)\u001b[0m\n\u001b[1;32m    148\u001b[0m filtered_tb \u001b[38;5;241m=\u001b[39m \u001b[38;5;28;01mNone\u001b[39;00m\n\u001b[1;32m    149\u001b[0m \u001b[38;5;28;01mtry\u001b[39;00m:\n\u001b[0;32m--> 150\u001b[0m   \u001b[38;5;28;01mreturn\u001b[39;00m \u001b[43mfn\u001b[49m\u001b[43m(\u001b[49m\u001b[38;5;241;43m*\u001b[39;49m\u001b[43margs\u001b[49m\u001b[43m,\u001b[49m\u001b[43m \u001b[49m\u001b[38;5;241;43m*\u001b[39;49m\u001b[38;5;241;43m*\u001b[39;49m\u001b[43mkwargs\u001b[49m\u001b[43m)\u001b[49m\n\u001b[1;32m    151\u001b[0m \u001b[38;5;28;01mexcept\u001b[39;00m \u001b[38;5;167;01mException\u001b[39;00m \u001b[38;5;28;01mas\u001b[39;00m e:\n\u001b[1;32m    152\u001b[0m   filtered_tb \u001b[38;5;241m=\u001b[39m _process_traceback_frames(e\u001b[38;5;241m.\u001b[39m__traceback__)\n",
      "File \u001b[0;32m~/venv/lib/python3.10/site-packages/tensorflow/python/eager/polymorphic_function/polymorphic_function.py:833\u001b[0m, in \u001b[0;36mFunction.__call__\u001b[0;34m(self, *args, **kwds)\u001b[0m\n\u001b[1;32m    830\u001b[0m compiler \u001b[38;5;241m=\u001b[39m \u001b[38;5;124m\"\u001b[39m\u001b[38;5;124mxla\u001b[39m\u001b[38;5;124m\"\u001b[39m \u001b[38;5;28;01mif\u001b[39;00m \u001b[38;5;28mself\u001b[39m\u001b[38;5;241m.\u001b[39m_jit_compile \u001b[38;5;28;01melse\u001b[39;00m \u001b[38;5;124m\"\u001b[39m\u001b[38;5;124mnonXla\u001b[39m\u001b[38;5;124m\"\u001b[39m\n\u001b[1;32m    832\u001b[0m \u001b[38;5;28;01mwith\u001b[39;00m OptionalXlaContext(\u001b[38;5;28mself\u001b[39m\u001b[38;5;241m.\u001b[39m_jit_compile):\n\u001b[0;32m--> 833\u001b[0m   result \u001b[38;5;241m=\u001b[39m \u001b[38;5;28;43mself\u001b[39;49m\u001b[38;5;241;43m.\u001b[39;49m\u001b[43m_call\u001b[49m\u001b[43m(\u001b[49m\u001b[38;5;241;43m*\u001b[39;49m\u001b[43margs\u001b[49m\u001b[43m,\u001b[49m\u001b[43m \u001b[49m\u001b[38;5;241;43m*\u001b[39;49m\u001b[38;5;241;43m*\u001b[39;49m\u001b[43mkwds\u001b[49m\u001b[43m)\u001b[49m\n\u001b[1;32m    835\u001b[0m new_tracing_count \u001b[38;5;241m=\u001b[39m \u001b[38;5;28mself\u001b[39m\u001b[38;5;241m.\u001b[39mexperimental_get_tracing_count()\n\u001b[1;32m    836\u001b[0m without_tracing \u001b[38;5;241m=\u001b[39m (tracing_count \u001b[38;5;241m==\u001b[39m new_tracing_count)\n",
      "File \u001b[0;32m~/venv/lib/python3.10/site-packages/tensorflow/python/eager/polymorphic_function/polymorphic_function.py:878\u001b[0m, in \u001b[0;36mFunction._call\u001b[0;34m(self, *args, **kwds)\u001b[0m\n\u001b[1;32m    875\u001b[0m \u001b[38;5;28mself\u001b[39m\u001b[38;5;241m.\u001b[39m_lock\u001b[38;5;241m.\u001b[39mrelease()\n\u001b[1;32m    876\u001b[0m \u001b[38;5;66;03m# In this case we have not created variables on the first call. So we can\u001b[39;00m\n\u001b[1;32m    877\u001b[0m \u001b[38;5;66;03m# run the first trace but we should fail if variables are created.\u001b[39;00m\n\u001b[0;32m--> 878\u001b[0m results \u001b[38;5;241m=\u001b[39m \u001b[43mtracing_compilation\u001b[49m\u001b[38;5;241;43m.\u001b[39;49m\u001b[43mcall_function\u001b[49m\u001b[43m(\u001b[49m\n\u001b[1;32m    879\u001b[0m \u001b[43m    \u001b[49m\u001b[43margs\u001b[49m\u001b[43m,\u001b[49m\u001b[43m \u001b[49m\u001b[43mkwds\u001b[49m\u001b[43m,\u001b[49m\u001b[43m \u001b[49m\u001b[38;5;28;43mself\u001b[39;49m\u001b[38;5;241;43m.\u001b[39;49m\u001b[43m_variable_creation_config\u001b[49m\n\u001b[1;32m    880\u001b[0m \u001b[43m\u001b[49m\u001b[43m)\u001b[49m\n\u001b[1;32m    881\u001b[0m \u001b[38;5;28;01mif\u001b[39;00m \u001b[38;5;28mself\u001b[39m\u001b[38;5;241m.\u001b[39m_created_variables:\n\u001b[1;32m    882\u001b[0m   \u001b[38;5;28;01mraise\u001b[39;00m \u001b[38;5;167;01mValueError\u001b[39;00m(\u001b[38;5;124m\"\u001b[39m\u001b[38;5;124mCreating variables on a non-first call to a function\u001b[39m\u001b[38;5;124m\"\u001b[39m\n\u001b[1;32m    883\u001b[0m                    \u001b[38;5;124m\"\u001b[39m\u001b[38;5;124m decorated with tf.function.\u001b[39m\u001b[38;5;124m\"\u001b[39m)\n",
      "File \u001b[0;32m~/venv/lib/python3.10/site-packages/tensorflow/python/eager/polymorphic_function/tracing_compilation.py:139\u001b[0m, in \u001b[0;36mcall_function\u001b[0;34m(args, kwargs, tracing_options)\u001b[0m\n\u001b[1;32m    137\u001b[0m bound_args \u001b[38;5;241m=\u001b[39m function\u001b[38;5;241m.\u001b[39mfunction_type\u001b[38;5;241m.\u001b[39mbind(\u001b[38;5;241m*\u001b[39margs, \u001b[38;5;241m*\u001b[39m\u001b[38;5;241m*\u001b[39mkwargs)\n\u001b[1;32m    138\u001b[0m flat_inputs \u001b[38;5;241m=\u001b[39m function\u001b[38;5;241m.\u001b[39mfunction_type\u001b[38;5;241m.\u001b[39munpack_inputs(bound_args)\n\u001b[0;32m--> 139\u001b[0m \u001b[38;5;28;01mreturn\u001b[39;00m \u001b[43mfunction\u001b[49m\u001b[38;5;241;43m.\u001b[39;49m\u001b[43m_call_flat\u001b[49m\u001b[43m(\u001b[49m\u001b[43m  \u001b[49m\u001b[38;5;66;43;03m# pylint: disable=protected-access\u001b[39;49;00m\n\u001b[1;32m    140\u001b[0m \u001b[43m    \u001b[49m\u001b[43mflat_inputs\u001b[49m\u001b[43m,\u001b[49m\u001b[43m \u001b[49m\u001b[43mcaptured_inputs\u001b[49m\u001b[38;5;241;43m=\u001b[39;49m\u001b[43mfunction\u001b[49m\u001b[38;5;241;43m.\u001b[39;49m\u001b[43mcaptured_inputs\u001b[49m\n\u001b[1;32m    141\u001b[0m \u001b[43m\u001b[49m\u001b[43m)\u001b[49m\n",
      "File \u001b[0;32m~/venv/lib/python3.10/site-packages/tensorflow/python/eager/polymorphic_function/concrete_function.py:1322\u001b[0m, in \u001b[0;36mConcreteFunction._call_flat\u001b[0;34m(self, tensor_inputs, captured_inputs)\u001b[0m\n\u001b[1;32m   1318\u001b[0m possible_gradient_type \u001b[38;5;241m=\u001b[39m gradients_util\u001b[38;5;241m.\u001b[39mPossibleTapeGradientTypes(args)\n\u001b[1;32m   1319\u001b[0m \u001b[38;5;28;01mif\u001b[39;00m (possible_gradient_type \u001b[38;5;241m==\u001b[39m gradients_util\u001b[38;5;241m.\u001b[39mPOSSIBLE_GRADIENT_TYPES_NONE\n\u001b[1;32m   1320\u001b[0m     \u001b[38;5;129;01mand\u001b[39;00m executing_eagerly):\n\u001b[1;32m   1321\u001b[0m   \u001b[38;5;66;03m# No tape is watching; skip to running the function.\u001b[39;00m\n\u001b[0;32m-> 1322\u001b[0m   \u001b[38;5;28;01mreturn\u001b[39;00m \u001b[38;5;28;43mself\u001b[39;49m\u001b[38;5;241;43m.\u001b[39;49m\u001b[43m_inference_function\u001b[49m\u001b[38;5;241;43m.\u001b[39;49m\u001b[43mcall_preflattened\u001b[49m\u001b[43m(\u001b[49m\u001b[43margs\u001b[49m\u001b[43m)\u001b[49m\n\u001b[1;32m   1323\u001b[0m forward_backward \u001b[38;5;241m=\u001b[39m \u001b[38;5;28mself\u001b[39m\u001b[38;5;241m.\u001b[39m_select_forward_and_backward_functions(\n\u001b[1;32m   1324\u001b[0m     args,\n\u001b[1;32m   1325\u001b[0m     possible_gradient_type,\n\u001b[1;32m   1326\u001b[0m     executing_eagerly)\n\u001b[1;32m   1327\u001b[0m forward_function, args_with_tangents \u001b[38;5;241m=\u001b[39m forward_backward\u001b[38;5;241m.\u001b[39mforward()\n",
      "File \u001b[0;32m~/venv/lib/python3.10/site-packages/tensorflow/python/eager/polymorphic_function/atomic_function.py:216\u001b[0m, in \u001b[0;36mAtomicFunction.call_preflattened\u001b[0;34m(self, args)\u001b[0m\n\u001b[1;32m    214\u001b[0m \u001b[38;5;28;01mdef\u001b[39;00m \u001b[38;5;21mcall_preflattened\u001b[39m(\u001b[38;5;28mself\u001b[39m, args: Sequence[core\u001b[38;5;241m.\u001b[39mTensor]) \u001b[38;5;241m-\u001b[39m\u001b[38;5;241m>\u001b[39m Any:\n\u001b[1;32m    215\u001b[0m \u001b[38;5;250m  \u001b[39m\u001b[38;5;124;03m\"\"\"Calls with flattened tensor inputs and returns the structured output.\"\"\"\u001b[39;00m\n\u001b[0;32m--> 216\u001b[0m   flat_outputs \u001b[38;5;241m=\u001b[39m \u001b[38;5;28;43mself\u001b[39;49m\u001b[38;5;241;43m.\u001b[39;49m\u001b[43mcall_flat\u001b[49m\u001b[43m(\u001b[49m\u001b[38;5;241;43m*\u001b[39;49m\u001b[43margs\u001b[49m\u001b[43m)\u001b[49m\n\u001b[1;32m    217\u001b[0m   \u001b[38;5;28;01mreturn\u001b[39;00m \u001b[38;5;28mself\u001b[39m\u001b[38;5;241m.\u001b[39mfunction_type\u001b[38;5;241m.\u001b[39mpack_output(flat_outputs)\n",
      "File \u001b[0;32m~/venv/lib/python3.10/site-packages/tensorflow/python/eager/polymorphic_function/atomic_function.py:251\u001b[0m, in \u001b[0;36mAtomicFunction.call_flat\u001b[0;34m(self, *args)\u001b[0m\n\u001b[1;32m    249\u001b[0m \u001b[38;5;28;01mwith\u001b[39;00m record\u001b[38;5;241m.\u001b[39mstop_recording():\n\u001b[1;32m    250\u001b[0m   \u001b[38;5;28;01mif\u001b[39;00m \u001b[38;5;28mself\u001b[39m\u001b[38;5;241m.\u001b[39m_bound_context\u001b[38;5;241m.\u001b[39mexecuting_eagerly():\n\u001b[0;32m--> 251\u001b[0m     outputs \u001b[38;5;241m=\u001b[39m \u001b[38;5;28;43mself\u001b[39;49m\u001b[38;5;241;43m.\u001b[39;49m\u001b[43m_bound_context\u001b[49m\u001b[38;5;241;43m.\u001b[39;49m\u001b[43mcall_function\u001b[49m\u001b[43m(\u001b[49m\n\u001b[1;32m    252\u001b[0m \u001b[43m        \u001b[49m\u001b[38;5;28;43mself\u001b[39;49m\u001b[38;5;241;43m.\u001b[39;49m\u001b[43mname\u001b[49m\u001b[43m,\u001b[49m\n\u001b[1;32m    253\u001b[0m \u001b[43m        \u001b[49m\u001b[38;5;28;43mlist\u001b[39;49m\u001b[43m(\u001b[49m\u001b[43margs\u001b[49m\u001b[43m)\u001b[49m\u001b[43m,\u001b[49m\n\u001b[1;32m    254\u001b[0m \u001b[43m        \u001b[49m\u001b[38;5;28;43mlen\u001b[39;49m\u001b[43m(\u001b[49m\u001b[38;5;28;43mself\u001b[39;49m\u001b[38;5;241;43m.\u001b[39;49m\u001b[43mfunction_type\u001b[49m\u001b[38;5;241;43m.\u001b[39;49m\u001b[43mflat_outputs\u001b[49m\u001b[43m)\u001b[49m\u001b[43m,\u001b[49m\n\u001b[1;32m    255\u001b[0m \u001b[43m    \u001b[49m\u001b[43m)\u001b[49m\n\u001b[1;32m    256\u001b[0m   \u001b[38;5;28;01melse\u001b[39;00m:\n\u001b[1;32m    257\u001b[0m     outputs \u001b[38;5;241m=\u001b[39m make_call_op_in_graph(\n\u001b[1;32m    258\u001b[0m         \u001b[38;5;28mself\u001b[39m,\n\u001b[1;32m    259\u001b[0m         \u001b[38;5;28mlist\u001b[39m(args),\n\u001b[1;32m    260\u001b[0m         \u001b[38;5;28mself\u001b[39m\u001b[38;5;241m.\u001b[39m_bound_context\u001b[38;5;241m.\u001b[39mfunction_call_options\u001b[38;5;241m.\u001b[39mas_attrs(),\n\u001b[1;32m    261\u001b[0m     )\n",
      "File \u001b[0;32m~/venv/lib/python3.10/site-packages/tensorflow/python/eager/context.py:1552\u001b[0m, in \u001b[0;36mContext.call_function\u001b[0;34m(self, name, tensor_inputs, num_outputs)\u001b[0m\n\u001b[1;32m   1550\u001b[0m cancellation_context \u001b[38;5;241m=\u001b[39m cancellation\u001b[38;5;241m.\u001b[39mcontext()\n\u001b[1;32m   1551\u001b[0m \u001b[38;5;28;01mif\u001b[39;00m cancellation_context \u001b[38;5;129;01mis\u001b[39;00m \u001b[38;5;28;01mNone\u001b[39;00m:\n\u001b[0;32m-> 1552\u001b[0m   outputs \u001b[38;5;241m=\u001b[39m \u001b[43mexecute\u001b[49m\u001b[38;5;241;43m.\u001b[39;49m\u001b[43mexecute\u001b[49m\u001b[43m(\u001b[49m\n\u001b[1;32m   1553\u001b[0m \u001b[43m      \u001b[49m\u001b[43mname\u001b[49m\u001b[38;5;241;43m.\u001b[39;49m\u001b[43mdecode\u001b[49m\u001b[43m(\u001b[49m\u001b[38;5;124;43m\"\u001b[39;49m\u001b[38;5;124;43mutf-8\u001b[39;49m\u001b[38;5;124;43m\"\u001b[39;49m\u001b[43m)\u001b[49m\u001b[43m,\u001b[49m\n\u001b[1;32m   1554\u001b[0m \u001b[43m      \u001b[49m\u001b[43mnum_outputs\u001b[49m\u001b[38;5;241;43m=\u001b[39;49m\u001b[43mnum_outputs\u001b[49m\u001b[43m,\u001b[49m\n\u001b[1;32m   1555\u001b[0m \u001b[43m      \u001b[49m\u001b[43minputs\u001b[49m\u001b[38;5;241;43m=\u001b[39;49m\u001b[43mtensor_inputs\u001b[49m\u001b[43m,\u001b[49m\n\u001b[1;32m   1556\u001b[0m \u001b[43m      \u001b[49m\u001b[43mattrs\u001b[49m\u001b[38;5;241;43m=\u001b[39;49m\u001b[43mattrs\u001b[49m\u001b[43m,\u001b[49m\n\u001b[1;32m   1557\u001b[0m \u001b[43m      \u001b[49m\u001b[43mctx\u001b[49m\u001b[38;5;241;43m=\u001b[39;49m\u001b[38;5;28;43mself\u001b[39;49m\u001b[43m,\u001b[49m\n\u001b[1;32m   1558\u001b[0m \u001b[43m  \u001b[49m\u001b[43m)\u001b[49m\n\u001b[1;32m   1559\u001b[0m \u001b[38;5;28;01melse\u001b[39;00m:\n\u001b[1;32m   1560\u001b[0m   outputs \u001b[38;5;241m=\u001b[39m execute\u001b[38;5;241m.\u001b[39mexecute_with_cancellation(\n\u001b[1;32m   1561\u001b[0m       name\u001b[38;5;241m.\u001b[39mdecode(\u001b[38;5;124m\"\u001b[39m\u001b[38;5;124mutf-8\u001b[39m\u001b[38;5;124m\"\u001b[39m),\n\u001b[1;32m   1562\u001b[0m       num_outputs\u001b[38;5;241m=\u001b[39mnum_outputs,\n\u001b[0;32m   (...)\u001b[0m\n\u001b[1;32m   1566\u001b[0m       cancellation_manager\u001b[38;5;241m=\u001b[39mcancellation_context,\n\u001b[1;32m   1567\u001b[0m   )\n",
      "File \u001b[0;32m~/venv/lib/python3.10/site-packages/tensorflow/python/eager/execute.py:53\u001b[0m, in \u001b[0;36mquick_execute\u001b[0;34m(op_name, num_outputs, inputs, attrs, ctx, name)\u001b[0m\n\u001b[1;32m     51\u001b[0m \u001b[38;5;28;01mtry\u001b[39;00m:\n\u001b[1;32m     52\u001b[0m   ctx\u001b[38;5;241m.\u001b[39mensure_initialized()\n\u001b[0;32m---> 53\u001b[0m   tensors \u001b[38;5;241m=\u001b[39m \u001b[43mpywrap_tfe\u001b[49m\u001b[38;5;241;43m.\u001b[39;49m\u001b[43mTFE_Py_Execute\u001b[49m\u001b[43m(\u001b[49m\u001b[43mctx\u001b[49m\u001b[38;5;241;43m.\u001b[39;49m\u001b[43m_handle\u001b[49m\u001b[43m,\u001b[49m\u001b[43m \u001b[49m\u001b[43mdevice_name\u001b[49m\u001b[43m,\u001b[49m\u001b[43m \u001b[49m\u001b[43mop_name\u001b[49m\u001b[43m,\u001b[49m\n\u001b[1;32m     54\u001b[0m \u001b[43m                                      \u001b[49m\u001b[43minputs\u001b[49m\u001b[43m,\u001b[49m\u001b[43m \u001b[49m\u001b[43mattrs\u001b[49m\u001b[43m,\u001b[49m\u001b[43m \u001b[49m\u001b[43mnum_outputs\u001b[49m\u001b[43m)\u001b[49m\n\u001b[1;32m     55\u001b[0m \u001b[38;5;28;01mexcept\u001b[39;00m core\u001b[38;5;241m.\u001b[39m_NotOkStatusException \u001b[38;5;28;01mas\u001b[39;00m e:\n\u001b[1;32m     56\u001b[0m   \u001b[38;5;28;01mif\u001b[39;00m name \u001b[38;5;129;01mis\u001b[39;00m \u001b[38;5;129;01mnot\u001b[39;00m \u001b[38;5;28;01mNone\u001b[39;00m:\n",
      "\u001b[0;31mKeyboardInterrupt\u001b[0m: "
     ]
    }
   ],
   "source": [
    "from tensorflow.keras.metrics import AUC, F1Score\n",
    "\n",
    "# Initialize the weights you want to set\n",
    "initial_weights = [np.random.rand(*w.shape) for w in model.get_weights()]\n",
    "model.set_weights(initial_weights)\n",
    "\n",
    "model.compile(\n",
    "    optimizer=\"adam\",\n",
    "    # loss=keras.losses.CategoricalCrossentropy(from_logits=False),\n",
    "    loss=keras.losses.BinaryCrossentropy(from_logits=False),\n",
    "    metrics=[\"accuracy\", \"auc\", F1Score(average=\"micro\"), F1Score(average=\"macro\")],\n",
    ")\n",
    "model.fit(\n",
    "    train_data_preprocessed,\n",
    "    # train_target_one_hot,\n",
    "    train_target_drop,\n",
    "    epochs=60,\n",
    "    shuffle=True,\n",
    "    # class_weight=class_weight,\n",
    "    batch_size=32,\n",
    "    validation_split=0.2,\n",
    ")"
   ]
  },
  {
   "cell_type": "markdown",
   "metadata": {},
   "source": [
    "## prediction"
   ]
  },
  {
   "cell_type": "code",
   "execution_count": 24,
   "metadata": {},
   "outputs": [],
   "source": [
    "test_data = pd.read_csv(\"/home/zqy/learningFile/sichuan/zqy/temp/2024年四川省大学生数据科学与统计建模竞赛/测试集/test_data.csv\")"
   ]
  },
  {
   "cell_type": "code",
   "execution_count": 26,
   "metadata": {},
   "outputs": [
    {
     "name": "stdout",
     "output_type": "stream",
     "text": [
      "\u001b[1m567/567\u001b[0m \u001b[32m━━━━━━━━━━━━━━━━━━━━\u001b[0m\u001b[37m\u001b[0m \u001b[1m2s\u001b[0m 4ms/step\n"
     ]
    }
   ],
   "source": [
    "# Predict the probabilities\n",
    "predictions = model.predict(test_data_preprocessed)\n",
    "\n",
    "# Convert probabilities to binary values (0 or 1) using a threshold of 0.5\n",
    "binary_predictions = (predictions > 0.5).astype(int)\n",
    "\n",
    "# Create a DataFrame with the results\n",
    "output_binary = pd.DataFrame(binary_predictions, columns=[\"y_pred\"])\n",
    "output_binary[\"idx\"] = test_data[\"idx\"]\n",
    "output_binary = output_binary[[\"idx\", \"y_pred\"]]"
   ]
  },
  {
   "cell_type": "code",
   "execution_count": 29,
   "metadata": {},
   "outputs": [
    {
     "data": {
      "text/plain": [
       "array([0])"
      ]
     },
     "execution_count": 29,
     "metadata": {},
     "output_type": "execute_result"
    }
   ],
   "source": [
    "np.unique(output_binary.y_pred.values)"
   ]
  },
  {
   "cell_type": "code",
   "execution_count": 21,
   "metadata": {},
   "outputs": [],
   "source": [
    "output_pd.to_csv(\n",
    "    os.path.join(REPO_PATH, \"zqy\", \"output\", \"output.csv\"),\n",
    "    index=False,\n",
    "    sep=\",\",\n",
    ")"
   ]
  },
  {
   "cell_type": "code",
   "execution_count": null,
   "metadata": {},
   "outputs": [],
   "source": []
  },
  {
   "cell_type": "markdown",
   "metadata": {},
   "source": [
    "# XGBoost"
   ]
  },
  {
   "cell_type": "code",
   "execution_count": 17,
   "metadata": {},
   "outputs": [],
   "source": [
    "from sklearn.model_selection import train_test_split\n",
    "\n",
    "X_train, X_test, y_train, y_test = train_test_split(\n",
    "    train_data_preprocessed, train_target_drop, test_size=0.2, random_state=11\n",
    ")"
   ]
  },
  {
   "cell_type": "code",
   "execution_count": 18,
   "metadata": {},
   "outputs": [
    {
     "name": "stderr",
     "output_type": "stream",
     "text": [
      "/home/zqy/venv/lib/python3.10/site-packages/xgboost/core.py:158: UserWarning: [00:51:41] WARNING: /workspace/src/learner.cc:740: \n",
      "Parameters: { \"use_label_encoder\" } are not used.\n",
      "\n",
      "  warnings.warn(smsg, UserWarning)\n"
     ]
    },
    {
     "name": "stdout",
     "output_type": "stream",
     "text": [
      "[0]\tvalidation_0-logloss:0.47796\tvalidation_0-auc:0.61751\tvalidation_0-error:0.18442\n",
      "[1]\tvalidation_0-logloss:0.47488\tvalidation_0-auc:0.62382\tvalidation_0-error:0.18442\n",
      "[2]\tvalidation_0-logloss:0.47199\tvalidation_0-auc:0.63206\tvalidation_0-error:0.18442\n",
      "[3]\tvalidation_0-logloss:0.46951\tvalidation_0-auc:0.63667\tvalidation_0-error:0.18442\n",
      "[4]\tvalidation_0-logloss:0.46736\tvalidation_0-auc:0.63891\tvalidation_0-error:0.18442\n",
      "[5]\tvalidation_0-logloss:0.46543\tvalidation_0-auc:0.64130\tvalidation_0-error:0.18434\n",
      "[6]\tvalidation_0-logloss:0.46396\tvalidation_0-auc:0.64178\tvalidation_0-error:0.18426\n",
      "[7]\tvalidation_0-logloss:0.46271\tvalidation_0-auc:0.64248\tvalidation_0-error:0.18418\n",
      "[8]\tvalidation_0-logloss:0.46129\tvalidation_0-auc:0.64529\tvalidation_0-error:0.18418\n",
      "[9]\tvalidation_0-logloss:0.46036\tvalidation_0-auc:0.64571\tvalidation_0-error:0.18410\n",
      "[10]\tvalidation_0-logloss:0.45942\tvalidation_0-auc:0.64706\tvalidation_0-error:0.18385\n",
      "[11]\tvalidation_0-logloss:0.45849\tvalidation_0-auc:0.64874\tvalidation_0-error:0.18361\n",
      "[12]\tvalidation_0-logloss:0.45766\tvalidation_0-auc:0.64974\tvalidation_0-error:0.18337\n",
      "[13]\tvalidation_0-logloss:0.45710\tvalidation_0-auc:0.65055\tvalidation_0-error:0.18361\n",
      "[14]\tvalidation_0-logloss:0.45647\tvalidation_0-auc:0.65173\tvalidation_0-error:0.18329\n",
      "[15]\tvalidation_0-logloss:0.45597\tvalidation_0-auc:0.65191\tvalidation_0-error:0.18329\n",
      "[16]\tvalidation_0-logloss:0.45544\tvalidation_0-auc:0.65310\tvalidation_0-error:0.18353\n",
      "[17]\tvalidation_0-logloss:0.45498\tvalidation_0-auc:0.65400\tvalidation_0-error:0.18321\n",
      "[18]\tvalidation_0-logloss:0.45444\tvalidation_0-auc:0.65468\tvalidation_0-error:0.18329\n",
      "[19]\tvalidation_0-logloss:0.45430\tvalidation_0-auc:0.65418\tvalidation_0-error:0.18313\n",
      "[20]\tvalidation_0-logloss:0.45383\tvalidation_0-auc:0.65512\tvalidation_0-error:0.18305\n",
      "[21]\tvalidation_0-logloss:0.45375\tvalidation_0-auc:0.65485\tvalidation_0-error:0.18329\n",
      "[22]\tvalidation_0-logloss:0.45359\tvalidation_0-auc:0.65507\tvalidation_0-error:0.18321\n",
      "[23]\tvalidation_0-logloss:0.45329\tvalidation_0-auc:0.65607\tvalidation_0-error:0.18296\n",
      "[24]\tvalidation_0-logloss:0.45316\tvalidation_0-auc:0.65610\tvalidation_0-error:0.18329\n",
      "[25]\tvalidation_0-logloss:0.45283\tvalidation_0-auc:0.65697\tvalidation_0-error:0.18288\n",
      "[26]\tvalidation_0-logloss:0.45245\tvalidation_0-auc:0.65814\tvalidation_0-error:0.18313\n",
      "[27]\tvalidation_0-logloss:0.45215\tvalidation_0-auc:0.65902\tvalidation_0-error:0.18296\n",
      "[28]\tvalidation_0-logloss:0.45207\tvalidation_0-auc:0.65938\tvalidation_0-error:0.18305\n",
      "[29]\tvalidation_0-logloss:0.45183\tvalidation_0-auc:0.65983\tvalidation_0-error:0.18296\n",
      "[30]\tvalidation_0-logloss:0.45166\tvalidation_0-auc:0.66055\tvalidation_0-error:0.18280\n",
      "[31]\tvalidation_0-logloss:0.45161\tvalidation_0-auc:0.66066\tvalidation_0-error:0.18288\n",
      "[32]\tvalidation_0-logloss:0.45156\tvalidation_0-auc:0.66052\tvalidation_0-error:0.18280\n",
      "[33]\tvalidation_0-logloss:0.45130\tvalidation_0-auc:0.66123\tvalidation_0-error:0.18264\n",
      "[34]\tvalidation_0-logloss:0.45097\tvalidation_0-auc:0.66223\tvalidation_0-error:0.18280\n",
      "[35]\tvalidation_0-logloss:0.45096\tvalidation_0-auc:0.66234\tvalidation_0-error:0.18296\n",
      "[36]\tvalidation_0-logloss:0.45085\tvalidation_0-auc:0.66280\tvalidation_0-error:0.18272\n",
      "[37]\tvalidation_0-logloss:0.45079\tvalidation_0-auc:0.66271\tvalidation_0-error:0.18288\n",
      "[38]\tvalidation_0-logloss:0.45086\tvalidation_0-auc:0.66239\tvalidation_0-error:0.18272\n",
      "[39]\tvalidation_0-logloss:0.45083\tvalidation_0-auc:0.66244\tvalidation_0-error:0.18288\n",
      "[40]\tvalidation_0-logloss:0.45079\tvalidation_0-auc:0.66257\tvalidation_0-error:0.18264\n",
      "[41]\tvalidation_0-logloss:0.45072\tvalidation_0-auc:0.66272\tvalidation_0-error:0.18256\n",
      "[42]\tvalidation_0-logloss:0.45061\tvalidation_0-auc:0.66319\tvalidation_0-error:0.18240\n",
      "[43]\tvalidation_0-logloss:0.45041\tvalidation_0-auc:0.66383\tvalidation_0-error:0.18232\n",
      "[44]\tvalidation_0-logloss:0.45034\tvalidation_0-auc:0.66407\tvalidation_0-error:0.18256\n",
      "[45]\tvalidation_0-logloss:0.45029\tvalidation_0-auc:0.66416\tvalidation_0-error:0.18248\n",
      "[46]\tvalidation_0-logloss:0.45022\tvalidation_0-auc:0.66448\tvalidation_0-error:0.18248\n",
      "[47]\tvalidation_0-logloss:0.45009\tvalidation_0-auc:0.66497\tvalidation_0-error:0.18288\n",
      "[48]\tvalidation_0-logloss:0.45014\tvalidation_0-auc:0.66495\tvalidation_0-error:0.18288\n",
      "[49]\tvalidation_0-logloss:0.45024\tvalidation_0-auc:0.66470\tvalidation_0-error:0.18280\n",
      "[50]\tvalidation_0-logloss:0.45016\tvalidation_0-auc:0.66509\tvalidation_0-error:0.18272\n",
      "[51]\tvalidation_0-logloss:0.45036\tvalidation_0-auc:0.66458\tvalidation_0-error:0.18280\n",
      "[52]\tvalidation_0-logloss:0.45032\tvalidation_0-auc:0.66497\tvalidation_0-error:0.18280\n",
      "[53]\tvalidation_0-logloss:0.45047\tvalidation_0-auc:0.66441\tvalidation_0-error:0.18280\n",
      "[54]\tvalidation_0-logloss:0.45041\tvalidation_0-auc:0.66472\tvalidation_0-error:0.18248\n",
      "[55]\tvalidation_0-logloss:0.45032\tvalidation_0-auc:0.66517\tvalidation_0-error:0.18240\n",
      "[56]\tvalidation_0-logloss:0.45011\tvalidation_0-auc:0.66588\tvalidation_0-error:0.18224\n",
      "[57]\tvalidation_0-logloss:0.45023\tvalidation_0-auc:0.66565\tvalidation_0-error:0.18232\n",
      "[58]\tvalidation_0-logloss:0.45016\tvalidation_0-auc:0.66579\tvalidation_0-error:0.18199\n",
      "[59]\tvalidation_0-logloss:0.45003\tvalidation_0-auc:0.66625\tvalidation_0-error:0.18191\n",
      "[60]\tvalidation_0-logloss:0.45000\tvalidation_0-auc:0.66639\tvalidation_0-error:0.18199\n",
      "[61]\tvalidation_0-logloss:0.45004\tvalidation_0-auc:0.66632\tvalidation_0-error:0.18208\n",
      "[62]\tvalidation_0-logloss:0.45014\tvalidation_0-auc:0.66611\tvalidation_0-error:0.18216\n",
      "[63]\tvalidation_0-logloss:0.45016\tvalidation_0-auc:0.66585\tvalidation_0-error:0.18248\n",
      "[64]\tvalidation_0-logloss:0.45031\tvalidation_0-auc:0.66529\tvalidation_0-error:0.18256\n",
      "[65]\tvalidation_0-logloss:0.45039\tvalidation_0-auc:0.66505\tvalidation_0-error:0.18248\n",
      "[66]\tvalidation_0-logloss:0.45041\tvalidation_0-auc:0.66507\tvalidation_0-error:0.18232\n",
      "[67]\tvalidation_0-logloss:0.45065\tvalidation_0-auc:0.66451\tvalidation_0-error:0.18280\n",
      "[68]\tvalidation_0-logloss:0.45054\tvalidation_0-auc:0.66489\tvalidation_0-error:0.18280\n",
      "[69]\tvalidation_0-logloss:0.45064\tvalidation_0-auc:0.66470\tvalidation_0-error:0.18280\n",
      "[70]\tvalidation_0-logloss:0.45060\tvalidation_0-auc:0.66495\tvalidation_0-error:0.18280\n",
      "[71]\tvalidation_0-logloss:0.45064\tvalidation_0-auc:0.66478\tvalidation_0-error:0.18288\n",
      "[72]\tvalidation_0-logloss:0.45062\tvalidation_0-auc:0.66502\tvalidation_0-error:0.18288\n",
      "[73]\tvalidation_0-logloss:0.45069\tvalidation_0-auc:0.66477\tvalidation_0-error:0.18240\n",
      "[74]\tvalidation_0-logloss:0.45053\tvalidation_0-auc:0.66525\tvalidation_0-error:0.18264\n",
      "[75]\tvalidation_0-logloss:0.45052\tvalidation_0-auc:0.66530\tvalidation_0-error:0.18240\n",
      "[76]\tvalidation_0-logloss:0.45067\tvalidation_0-auc:0.66493\tvalidation_0-error:0.18232\n",
      "[77]\tvalidation_0-logloss:0.45065\tvalidation_0-auc:0.66521\tvalidation_0-error:0.18224\n",
      "[78]\tvalidation_0-logloss:0.45076\tvalidation_0-auc:0.66488\tvalidation_0-error:0.18256\n",
      "[79]\tvalidation_0-logloss:0.45088\tvalidation_0-auc:0.66480\tvalidation_0-error:0.18256\n",
      "[80]\tvalidation_0-logloss:0.45096\tvalidation_0-auc:0.66452\tvalidation_0-error:0.18248\n",
      "[81]\tvalidation_0-logloss:0.45112\tvalidation_0-auc:0.66414\tvalidation_0-error:0.18232\n",
      "[82]\tvalidation_0-logloss:0.45108\tvalidation_0-auc:0.66419\tvalidation_0-error:0.18232\n",
      "[83]\tvalidation_0-logloss:0.45112\tvalidation_0-auc:0.66410\tvalidation_0-error:0.18224\n",
      "[84]\tvalidation_0-logloss:0.45114\tvalidation_0-auc:0.66406\tvalidation_0-error:0.18208\n",
      "[85]\tvalidation_0-logloss:0.45118\tvalidation_0-auc:0.66398\tvalidation_0-error:0.18224\n",
      "[86]\tvalidation_0-logloss:0.45148\tvalidation_0-auc:0.66323\tvalidation_0-error:0.18199\n",
      "[87]\tvalidation_0-logloss:0.45123\tvalidation_0-auc:0.66382\tvalidation_0-error:0.18175\n",
      "[88]\tvalidation_0-logloss:0.45113\tvalidation_0-auc:0.66429\tvalidation_0-error:0.18199\n",
      "[89]\tvalidation_0-logloss:0.45120\tvalidation_0-auc:0.66413\tvalidation_0-error:0.18183\n",
      "[90]\tvalidation_0-logloss:0.45125\tvalidation_0-auc:0.66399\tvalidation_0-error:0.18224\n",
      "[91]\tvalidation_0-logloss:0.45135\tvalidation_0-auc:0.66387\tvalidation_0-error:0.18256\n",
      "[92]\tvalidation_0-logloss:0.45133\tvalidation_0-auc:0.66397\tvalidation_0-error:0.18256\n",
      "[93]\tvalidation_0-logloss:0.45145\tvalidation_0-auc:0.66369\tvalidation_0-error:0.18256\n",
      "[94]\tvalidation_0-logloss:0.45136\tvalidation_0-auc:0.66414\tvalidation_0-error:0.18272\n",
      "[95]\tvalidation_0-logloss:0.45150\tvalidation_0-auc:0.66401\tvalidation_0-error:0.18264\n",
      "[96]\tvalidation_0-logloss:0.45147\tvalidation_0-auc:0.66415\tvalidation_0-error:0.18264\n",
      "[97]\tvalidation_0-logloss:0.45149\tvalidation_0-auc:0.66418\tvalidation_0-error:0.18288\n",
      "[98]\tvalidation_0-logloss:0.45149\tvalidation_0-auc:0.66424\tvalidation_0-error:0.18305\n",
      "[99]\tvalidation_0-logloss:0.45147\tvalidation_0-auc:0.66434\tvalidation_0-error:0.18305\n"
     ]
    },
    {
     "data": {
      "text/plain": [
       "0.8169549054469049"
      ]
     },
     "execution_count": 18,
     "metadata": {},
     "output_type": "execute_result"
    }
   ],
   "source": [
    "import xgboost as xgb\n",
    "\n",
    "model_xgb = xgb.XGBClassifier(\n",
    "    n_estimators=100,\n",
    "    max_depth=7,\n",
    "    learning_rate=0.1,\n",
    "    objective=\"binary:logistic\",\n",
    "    use_label_encoder=False,\n",
    "    eval_metric=['logloss', 'auc', 'error'],\n",
    "    # tree_method='gpu_hist',\n",
    ")\n",
    "model_xgb.fit(X_train, y_train, eval_set=[(X_test, y_test)])\n",
    "model_xgb.score(X_test, y_test)"
   ]
  },
  {
   "cell_type": "markdown",
   "metadata": {},
   "source": [
    "## prediction"
   ]
  },
  {
   "cell_type": "code",
   "execution_count": null,
   "metadata": {},
   "outputs": [],
   "source": [
    "test_data = pd.read_csv(\"/home/zqy/learningFile/sichuan/zqy/temp/2024年四川省大学生数据科学与统计建模竞赛/测试集/test_data.csv\")"
   ]
  },
  {
   "cell_type": "code",
   "execution_count": 28,
   "metadata": {},
   "outputs": [
    {
     "data": {
      "text/plain": [
       "array([0.12246712, 0.19180582, 0.31230357, ..., 0.08075622, 0.2176598 ,\n",
       "       0.22166562], dtype=float32)"
      ]
     },
     "execution_count": 28,
     "metadata": {},
     "output_type": "execute_result"
    }
   ],
   "source": [
    "output_xgb = model_xgb.predict_proba(test_data_preprocessed)[:, 1]\n",
    "output_xgb"
   ]
  },
  {
   "cell_type": "code",
   "execution_count": 29,
   "metadata": {},
   "outputs": [
    {
     "data": {
      "text/html": [
       "<div>\n",
       "<style scoped>\n",
       "    .dataframe tbody tr th:only-of-type {\n",
       "        vertical-align: middle;\n",
       "    }\n",
       "\n",
       "    .dataframe tbody tr th {\n",
       "        vertical-align: top;\n",
       "    }\n",
       "\n",
       "    .dataframe thead th {\n",
       "        text-align: right;\n",
       "    }\n",
       "</style>\n",
       "<table border=\"1\" class=\"dataframe\">\n",
       "  <thead>\n",
       "    <tr style=\"text-align: right;\">\n",
       "      <th></th>\n",
       "      <th>idx</th>\n",
       "      <th>y_pred</th>\n",
       "    </tr>\n",
       "  </thead>\n",
       "  <tbody>\n",
       "    <tr>\n",
       "      <th>0</th>\n",
       "      <td>39</td>\n",
       "      <td>0.122467</td>\n",
       "    </tr>\n",
       "    <tr>\n",
       "      <th>1</th>\n",
       "      <td>41</td>\n",
       "      <td>0.191806</td>\n",
       "    </tr>\n",
       "    <tr>\n",
       "      <th>2</th>\n",
       "      <td>43</td>\n",
       "      <td>0.312304</td>\n",
       "    </tr>\n",
       "    <tr>\n",
       "      <th>3</th>\n",
       "      <td>45</td>\n",
       "      <td>0.121563</td>\n",
       "    </tr>\n",
       "    <tr>\n",
       "      <th>4</th>\n",
       "      <td>55</td>\n",
       "      <td>0.312528</td>\n",
       "    </tr>\n",
       "    <tr>\n",
       "      <th>...</th>\n",
       "      <td>...</td>\n",
       "      <td>...</td>\n",
       "    </tr>\n",
       "    <tr>\n",
       "      <th>18129</th>\n",
       "      <td>79636</td>\n",
       "      <td>0.433639</td>\n",
       "    </tr>\n",
       "    <tr>\n",
       "      <th>18130</th>\n",
       "      <td>79637</td>\n",
       "      <td>0.045784</td>\n",
       "    </tr>\n",
       "    <tr>\n",
       "      <th>18131</th>\n",
       "      <td>79638</td>\n",
       "      <td>0.080756</td>\n",
       "    </tr>\n",
       "    <tr>\n",
       "      <th>18132</th>\n",
       "      <td>79640</td>\n",
       "      <td>0.217660</td>\n",
       "    </tr>\n",
       "    <tr>\n",
       "      <th>18133</th>\n",
       "      <td>79641</td>\n",
       "      <td>0.221666</td>\n",
       "    </tr>\n",
       "  </tbody>\n",
       "</table>\n",
       "<p>18134 rows × 2 columns</p>\n",
       "</div>"
      ],
      "text/plain": [
       "         idx    y_pred\n",
       "0         39  0.122467\n",
       "1         41  0.191806\n",
       "2         43  0.312304\n",
       "3         45  0.121563\n",
       "4         55  0.312528\n",
       "...      ...       ...\n",
       "18129  79636  0.433639\n",
       "18130  79637  0.045784\n",
       "18131  79638  0.080756\n",
       "18132  79640  0.217660\n",
       "18133  79641  0.221666\n",
       "\n",
       "[18134 rows x 2 columns]"
      ]
     },
     "execution_count": 29,
     "metadata": {},
     "output_type": "execute_result"
    }
   ],
   "source": [
    "output_xgb_pd = pd.DataFrame(output_xgb, columns=[\"y_pred\"])\n",
    "output_xgb_pd[\"idx\"] = test_data[\"idx\"]\n",
    "output_xgb_pd = output_xgb_pd[[\"idx\", \"y_pred\"]]\n",
    "output_xgb_pd"
   ]
  },
  {
   "cell_type": "code",
   "execution_count": 30,
   "metadata": {},
   "outputs": [],
   "source": [
    "output_xgb_pd.to_csv(\n",
    "    os.path.join(REPO_PATH, \"zqy\", \"output\", \"output_xgb.csv\"),\n",
    "    index=False,\n",
    "    sep=\",\",\n",
    ")"
   ]
  },
  {
   "cell_type": "code",
   "execution_count": null,
   "metadata": {},
   "outputs": [],
   "source": []
  }
 ],
 "metadata": {
  "kernelspec": {
   "display_name": "venv",
   "language": "python",
   "name": "python3"
  },
  "language_info": {
   "codemirror_mode": {
    "name": "ipython",
    "version": 3
   },
   "file_extension": ".py",
   "mimetype": "text/x-python",
   "name": "python",
   "nbconvert_exporter": "python",
   "pygments_lexer": "ipython3",
   "version": "3.10.12"
  }
 },
 "nbformat": 4,
 "nbformat_minor": 2
}
