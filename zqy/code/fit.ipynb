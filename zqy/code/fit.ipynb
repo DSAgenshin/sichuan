{
 "cells": [
  {
   "cell_type": "markdown",
   "metadata": {},
   "source": [
    "# load data"
   ]
  },
  {
   "cell_type": "code",
   "execution_count": 1,
   "metadata": {},
   "outputs": [],
   "source": [
    "import os\n",
    "import numpy as np\n",
    "import pandas as pd\n",
    "\n",
    "# if you use `ios` or `windows`, you need to change the `REPO_PATH` to your own path\n",
    "REPO_PATH = os.path.dirname(os.path.dirname(os.getcwd()))\n",
    "\n",
    "train_data_preprocessed = pd.read_csv(\n",
    "    os.path.join(REPO_PATH, \"zqy\", \"temp\", \"train_data_fillna_drop_norm.csv\")\n",
    ")\n",
    "test_data_preprocessed = pd.read_csv(\n",
    "    os.path.join(REPO_PATH, \"zqy\", \"temp\", \"test_data_fillna_drop_norm.csv\")\n",
    ")\n"
   ]
  },
  {
   "cell_type": "code",
   "execution_count": 2,
   "metadata": {},
   "outputs": [
    {
     "data": {
      "text/plain": [
       "((61866, 3695), (18134, 3695))"
      ]
     },
     "execution_count": 2,
     "metadata": {},
     "output_type": "execute_result"
    }
   ],
   "source": [
    "train_data_preprocessed.shape, test_data_preprocessed.shape"
   ]
  },
  {
   "cell_type": "code",
   "execution_count": 3,
   "metadata": {},
   "outputs": [
    {
     "data": {
      "text/html": [
       "<div>\n",
       "<style scoped>\n",
       "    .dataframe tbody tr th:only-of-type {\n",
       "        vertical-align: middle;\n",
       "    }\n",
       "\n",
       "    .dataframe tbody tr th {\n",
       "        vertical-align: top;\n",
       "    }\n",
       "\n",
       "    .dataframe thead th {\n",
       "        text-align: right;\n",
       "    }\n",
       "</style>\n",
       "<table border=\"1\" class=\"dataframe\">\n",
       "  <thead>\n",
       "    <tr style=\"text-align: right;\">\n",
       "      <th></th>\n",
       "      <th>X0</th>\n",
       "      <th>X1</th>\n",
       "      <th>X2</th>\n",
       "      <th>X3</th>\n",
       "      <th>X4</th>\n",
       "      <th>X5</th>\n",
       "      <th>X6</th>\n",
       "      <th>X7</th>\n",
       "      <th>X8</th>\n",
       "      <th>X9</th>\n",
       "      <th>...</th>\n",
       "      <th>X3796</th>\n",
       "      <th>X3797</th>\n",
       "      <th>X3798</th>\n",
       "      <th>X3799</th>\n",
       "      <th>X3800</th>\n",
       "      <th>X3801</th>\n",
       "      <th>X3802</th>\n",
       "      <th>X3803</th>\n",
       "      <th>X3804</th>\n",
       "      <th>X3805</th>\n",
       "    </tr>\n",
       "  </thead>\n",
       "  <tbody>\n",
       "    <tr>\n",
       "      <th>0</th>\n",
       "      <td>1.709604</td>\n",
       "      <td>-0.364987</td>\n",
       "      <td>-1.562489</td>\n",
       "      <td>0.0</td>\n",
       "      <td>9.770206e-16</td>\n",
       "      <td>1.243610e-15</td>\n",
       "      <td>-2.221561e+00</td>\n",
       "      <td>-1.618875</td>\n",
       "      <td>-1.514485</td>\n",
       "      <td>-1.218867</td>\n",
       "      <td>...</td>\n",
       "      <td>1.956724e-15</td>\n",
       "      <td>0.000000</td>\n",
       "      <td>5.428685e-16</td>\n",
       "      <td>0.000000</td>\n",
       "      <td>-1.630523e-15</td>\n",
       "      <td>-1.087010e-15</td>\n",
       "      <td>-1.621701e-15</td>\n",
       "      <td>1.620792e-15</td>\n",
       "      <td>-1.089747e-15</td>\n",
       "      <td>-1.104692e-15</td>\n",
       "    </tr>\n",
       "    <tr>\n",
       "      <th>1</th>\n",
       "      <td>1.709604</td>\n",
       "      <td>-0.364987</td>\n",
       "      <td>-0.859708</td>\n",
       "      <td>0.0</td>\n",
       "      <td>9.770206e-16</td>\n",
       "      <td>1.243610e-15</td>\n",
       "      <td>8.961731e-16</td>\n",
       "      <td>-1.406030</td>\n",
       "      <td>-1.266209</td>\n",
       "      <td>-1.218867</td>\n",
       "      <td>...</td>\n",
       "      <td>-2.723617e+00</td>\n",
       "      <td>-2.784325</td>\n",
       "      <td>4.535885e+00</td>\n",
       "      <td>2.914316</td>\n",
       "      <td>3.404360e+00</td>\n",
       "      <td>4.161721e+00</td>\n",
       "      <td>3.311772e+00</td>\n",
       "      <td>2.713803e+00</td>\n",
       "      <td>2.382499e+00</td>\n",
       "      <td>2.702521e+00</td>\n",
       "    </tr>\n",
       "    <tr>\n",
       "      <th>2</th>\n",
       "      <td>1.333118</td>\n",
       "      <td>-1.432679</td>\n",
       "      <td>-1.588871</td>\n",
       "      <td>0.0</td>\n",
       "      <td>9.770206e-16</td>\n",
       "      <td>1.243610e-15</td>\n",
       "      <td>8.961731e-16</td>\n",
       "      <td>-1.772480</td>\n",
       "      <td>-1.633739</td>\n",
       "      <td>-1.762651</td>\n",
       "      <td>...</td>\n",
       "      <td>1.956724e-15</td>\n",
       "      <td>0.000000</td>\n",
       "      <td>5.428685e-16</td>\n",
       "      <td>0.000000</td>\n",
       "      <td>-1.630523e-15</td>\n",
       "      <td>-1.087010e-15</td>\n",
       "      <td>-1.621701e-15</td>\n",
       "      <td>1.620792e-15</td>\n",
       "      <td>-1.089747e-15</td>\n",
       "      <td>-1.104692e-15</td>\n",
       "    </tr>\n",
       "  </tbody>\n",
       "</table>\n",
       "<p>3 rows × 3695 columns</p>\n",
       "</div>"
      ],
      "text/plain": [
       "         X0        X1        X2   X3            X4            X5  \\\n",
       "0  1.709604 -0.364987 -1.562489  0.0  9.770206e-16  1.243610e-15   \n",
       "1  1.709604 -0.364987 -0.859708  0.0  9.770206e-16  1.243610e-15   \n",
       "2  1.333118 -1.432679 -1.588871  0.0  9.770206e-16  1.243610e-15   \n",
       "\n",
       "             X6        X7        X8        X9  ...         X3796     X3797  \\\n",
       "0 -2.221561e+00 -1.618875 -1.514485 -1.218867  ...  1.956724e-15  0.000000   \n",
       "1  8.961731e-16 -1.406030 -1.266209 -1.218867  ... -2.723617e+00 -2.784325   \n",
       "2  8.961731e-16 -1.772480 -1.633739 -1.762651  ...  1.956724e-15  0.000000   \n",
       "\n",
       "          X3798     X3799         X3800         X3801         X3802  \\\n",
       "0  5.428685e-16  0.000000 -1.630523e-15 -1.087010e-15 -1.621701e-15   \n",
       "1  4.535885e+00  2.914316  3.404360e+00  4.161721e+00  3.311772e+00   \n",
       "2  5.428685e-16  0.000000 -1.630523e-15 -1.087010e-15 -1.621701e-15   \n",
       "\n",
       "          X3803         X3804         X3805  \n",
       "0  1.620792e-15 -1.089747e-15 -1.104692e-15  \n",
       "1  2.713803e+00  2.382499e+00  2.702521e+00  \n",
       "2  1.620792e-15 -1.089747e-15 -1.104692e-15  \n",
       "\n",
       "[3 rows x 3695 columns]"
      ]
     },
     "execution_count": 3,
     "metadata": {},
     "output_type": "execute_result"
    }
   ],
   "source": [
    "train_data_preprocessed.head(3)"
   ]
  },
  {
   "cell_type": "code",
   "execution_count": 4,
   "metadata": {},
   "outputs": [
    {
     "data": {
      "text/html": [
       "<div>\n",
       "<style scoped>\n",
       "    .dataframe tbody tr th:only-of-type {\n",
       "        vertical-align: middle;\n",
       "    }\n",
       "\n",
       "    .dataframe tbody tr th {\n",
       "        vertical-align: top;\n",
       "    }\n",
       "\n",
       "    .dataframe thead th {\n",
       "        text-align: right;\n",
       "    }\n",
       "</style>\n",
       "<table border=\"1\" class=\"dataframe\">\n",
       "  <thead>\n",
       "    <tr style=\"text-align: right;\">\n",
       "      <th></th>\n",
       "      <th>X0</th>\n",
       "      <th>X1</th>\n",
       "      <th>X2</th>\n",
       "      <th>X3</th>\n",
       "      <th>X4</th>\n",
       "      <th>X5</th>\n",
       "      <th>X6</th>\n",
       "      <th>X7</th>\n",
       "      <th>X8</th>\n",
       "      <th>X9</th>\n",
       "      <th>...</th>\n",
       "      <th>X3796</th>\n",
       "      <th>X3797</th>\n",
       "      <th>X3798</th>\n",
       "      <th>X3799</th>\n",
       "      <th>X3800</th>\n",
       "      <th>X3801</th>\n",
       "      <th>X3802</th>\n",
       "      <th>X3803</th>\n",
       "      <th>X3804</th>\n",
       "      <th>X3805</th>\n",
       "    </tr>\n",
       "  </thead>\n",
       "  <tbody>\n",
       "    <tr>\n",
       "      <th>0</th>\n",
       "      <td>-1.450864</td>\n",
       "      <td>-1.432679</td>\n",
       "      <td>-0.020007</td>\n",
       "      <td>0.0</td>\n",
       "      <td>9.770206e-16</td>\n",
       "      <td>1.243610e-15</td>\n",
       "      <td>8.961731e-16</td>\n",
       "      <td>-0.711873</td>\n",
       "      <td>0.503163</td>\n",
       "      <td>1.463917</td>\n",
       "      <td>...</td>\n",
       "      <td>1.956724e-15</td>\n",
       "      <td>0.0</td>\n",
       "      <td>5.428685e-16</td>\n",
       "      <td>0.0</td>\n",
       "      <td>-1.630523e-15</td>\n",
       "      <td>-1.087010e-15</td>\n",
       "      <td>-1.621701e-15</td>\n",
       "      <td>1.620792e-15</td>\n",
       "      <td>-1.089747e-15</td>\n",
       "      <td>-1.104692e-15</td>\n",
       "    </tr>\n",
       "    <tr>\n",
       "      <th>1</th>\n",
       "      <td>0.047310</td>\n",
       "      <td>1.381808</td>\n",
       "      <td>0.155341</td>\n",
       "      <td>0.0</td>\n",
       "      <td>9.770206e-16</td>\n",
       "      <td>1.243610e-15</td>\n",
       "      <td>8.961731e-16</td>\n",
       "      <td>1.521253</td>\n",
       "      <td>1.613779</td>\n",
       "      <td>1.189941</td>\n",
       "      <td>...</td>\n",
       "      <td>1.956724e-15</td>\n",
       "      <td>0.0</td>\n",
       "      <td>5.428685e-16</td>\n",
       "      <td>0.0</td>\n",
       "      <td>-1.630523e-15</td>\n",
       "      <td>-1.087010e-15</td>\n",
       "      <td>-1.621701e-15</td>\n",
       "      <td>1.620792e-15</td>\n",
       "      <td>-1.089747e-15</td>\n",
       "      <td>-1.104692e-15</td>\n",
       "    </tr>\n",
       "    <tr>\n",
       "      <th>2</th>\n",
       "      <td>-1.450864</td>\n",
       "      <td>0.797930</td>\n",
       "      <td>0.158208</td>\n",
       "      <td>0.0</td>\n",
       "      <td>9.770206e-16</td>\n",
       "      <td>1.243610e-15</td>\n",
       "      <td>8.961731e-16</td>\n",
       "      <td>-0.111994</td>\n",
       "      <td>-0.207470</td>\n",
       "      <td>-0.235015</td>\n",
       "      <td>...</td>\n",
       "      <td>1.956724e-15</td>\n",
       "      <td>0.0</td>\n",
       "      <td>5.428685e-16</td>\n",
       "      <td>0.0</td>\n",
       "      <td>-1.630523e-15</td>\n",
       "      <td>-1.087010e-15</td>\n",
       "      <td>-1.621701e-15</td>\n",
       "      <td>1.620792e-15</td>\n",
       "      <td>-1.089747e-15</td>\n",
       "      <td>-1.104692e-15</td>\n",
       "    </tr>\n",
       "  </tbody>\n",
       "</table>\n",
       "<p>3 rows × 3695 columns</p>\n",
       "</div>"
      ],
      "text/plain": [
       "         X0        X1        X2   X3            X4            X5  \\\n",
       "0 -1.450864 -1.432679 -0.020007  0.0  9.770206e-16  1.243610e-15   \n",
       "1  0.047310  1.381808  0.155341  0.0  9.770206e-16  1.243610e-15   \n",
       "2 -1.450864  0.797930  0.158208  0.0  9.770206e-16  1.243610e-15   \n",
       "\n",
       "             X6        X7        X8        X9  ...         X3796  X3797  \\\n",
       "0  8.961731e-16 -0.711873  0.503163  1.463917  ...  1.956724e-15    0.0   \n",
       "1  8.961731e-16  1.521253  1.613779  1.189941  ...  1.956724e-15    0.0   \n",
       "2  8.961731e-16 -0.111994 -0.207470 -0.235015  ...  1.956724e-15    0.0   \n",
       "\n",
       "          X3798  X3799         X3800         X3801         X3802  \\\n",
       "0  5.428685e-16    0.0 -1.630523e-15 -1.087010e-15 -1.621701e-15   \n",
       "1  5.428685e-16    0.0 -1.630523e-15 -1.087010e-15 -1.621701e-15   \n",
       "2  5.428685e-16    0.0 -1.630523e-15 -1.087010e-15 -1.621701e-15   \n",
       "\n",
       "          X3803         X3804         X3805  \n",
       "0  1.620792e-15 -1.089747e-15 -1.104692e-15  \n",
       "1  1.620792e-15 -1.089747e-15 -1.104692e-15  \n",
       "2  1.620792e-15 -1.089747e-15 -1.104692e-15  \n",
       "\n",
       "[3 rows x 3695 columns]"
      ]
     },
     "execution_count": 4,
     "metadata": {},
     "output_type": "execute_result"
    }
   ],
   "source": [
    "test_data_preprocessed.head(3)"
   ]
  },
  {
   "cell_type": "code",
   "execution_count": 5,
   "metadata": {},
   "outputs": [
    {
     "data": {
      "text/html": [
       "<div>\n",
       "<style scoped>\n",
       "    .dataframe tbody tr th:only-of-type {\n",
       "        vertical-align: middle;\n",
       "    }\n",
       "\n",
       "    .dataframe tbody tr th {\n",
       "        vertical-align: top;\n",
       "    }\n",
       "\n",
       "    .dataframe thead th {\n",
       "        text-align: right;\n",
       "    }\n",
       "</style>\n",
       "<table border=\"1\" class=\"dataframe\">\n",
       "  <thead>\n",
       "    <tr style=\"text-align: right;\">\n",
       "      <th></th>\n",
       "      <th>idx</th>\n",
       "      <th>date</th>\n",
       "      <th>y</th>\n",
       "    </tr>\n",
       "  </thead>\n",
       "  <tbody>\n",
       "    <tr>\n",
       "      <th>0</th>\n",
       "      <td>0</td>\n",
       "      <td>7</td>\n",
       "      <td>0.0</td>\n",
       "    </tr>\n",
       "    <tr>\n",
       "      <th>1</th>\n",
       "      <td>1</td>\n",
       "      <td>7</td>\n",
       "      <td>0.0</td>\n",
       "    </tr>\n",
       "    <tr>\n",
       "      <th>2</th>\n",
       "      <td>2</td>\n",
       "      <td>8</td>\n",
       "      <td>0.0</td>\n",
       "    </tr>\n",
       "    <tr>\n",
       "      <th>3</th>\n",
       "      <td>3</td>\n",
       "      <td>7</td>\n",
       "      <td>0.0</td>\n",
       "    </tr>\n",
       "    <tr>\n",
       "      <th>4</th>\n",
       "      <td>4</td>\n",
       "      <td>7</td>\n",
       "      <td>0.0</td>\n",
       "    </tr>\n",
       "    <tr>\n",
       "      <th>...</th>\n",
       "      <td>...</td>\n",
       "      <td>...</td>\n",
       "      <td>...</td>\n",
       "    </tr>\n",
       "    <tr>\n",
       "      <th>61861</th>\n",
       "      <td>79995</td>\n",
       "      <td>21</td>\n",
       "      <td>0.0</td>\n",
       "    </tr>\n",
       "    <tr>\n",
       "      <th>61862</th>\n",
       "      <td>79996</td>\n",
       "      <td>21</td>\n",
       "      <td>0.0</td>\n",
       "    </tr>\n",
       "    <tr>\n",
       "      <th>61863</th>\n",
       "      <td>79997</td>\n",
       "      <td>21</td>\n",
       "      <td>0.0</td>\n",
       "    </tr>\n",
       "    <tr>\n",
       "      <th>61864</th>\n",
       "      <td>79998</td>\n",
       "      <td>21</td>\n",
       "      <td>0.0</td>\n",
       "    </tr>\n",
       "    <tr>\n",
       "      <th>61865</th>\n",
       "      <td>79999</td>\n",
       "      <td>21</td>\n",
       "      <td>0.0</td>\n",
       "    </tr>\n",
       "  </tbody>\n",
       "</table>\n",
       "<p>61866 rows × 3 columns</p>\n",
       "</div>"
      ],
      "text/plain": [
       "         idx  date    y\n",
       "0          0     7  0.0\n",
       "1          1     7  0.0\n",
       "2          2     8  0.0\n",
       "3          3     7  0.0\n",
       "4          4     7  0.0\n",
       "...      ...   ...  ...\n",
       "61861  79995    21  0.0\n",
       "61862  79996    21  0.0\n",
       "61863  79997    21  0.0\n",
       "61864  79998    21  0.0\n",
       "61865  79999    21  0.0\n",
       "\n",
       "[61866 rows x 3 columns]"
      ]
     },
     "execution_count": 5,
     "metadata": {},
     "output_type": "execute_result"
    }
   ],
   "source": [
    "# path = \"zqy/temp/2024年四川省大学生数据科学与统计建模竞赛/训练集/train_target.csv\"\n",
    "path = os.path.join('zqy', 'temp', 'train_target.csv')\n",
    "train_target = pd.read_csv(os.path.join(REPO_PATH, path))\n",
    "train_target"
   ]
  },
  {
   "cell_type": "code",
   "execution_count": 6,
   "metadata": {},
   "outputs": [
    {
     "data": {
      "text/html": [
       "<div>\n",
       "<style scoped>\n",
       "    .dataframe tbody tr th:only-of-type {\n",
       "        vertical-align: middle;\n",
       "    }\n",
       "\n",
       "    .dataframe tbody tr th {\n",
       "        vertical-align: top;\n",
       "    }\n",
       "\n",
       "    .dataframe thead th {\n",
       "        text-align: right;\n",
       "    }\n",
       "</style>\n",
       "<table border=\"1\" class=\"dataframe\">\n",
       "  <thead>\n",
       "    <tr style=\"text-align: right;\">\n",
       "      <th></th>\n",
       "      <th>y</th>\n",
       "    </tr>\n",
       "  </thead>\n",
       "  <tbody>\n",
       "    <tr>\n",
       "      <th>0</th>\n",
       "      <td>0</td>\n",
       "    </tr>\n",
       "    <tr>\n",
       "      <th>1</th>\n",
       "      <td>0</td>\n",
       "    </tr>\n",
       "    <tr>\n",
       "      <th>2</th>\n",
       "      <td>0</td>\n",
       "    </tr>\n",
       "    <tr>\n",
       "      <th>3</th>\n",
       "      <td>0</td>\n",
       "    </tr>\n",
       "    <tr>\n",
       "      <th>4</th>\n",
       "      <td>0</td>\n",
       "    </tr>\n",
       "    <tr>\n",
       "      <th>...</th>\n",
       "      <td>...</td>\n",
       "    </tr>\n",
       "    <tr>\n",
       "      <th>61861</th>\n",
       "      <td>0</td>\n",
       "    </tr>\n",
       "    <tr>\n",
       "      <th>61862</th>\n",
       "      <td>0</td>\n",
       "    </tr>\n",
       "    <tr>\n",
       "      <th>61863</th>\n",
       "      <td>0</td>\n",
       "    </tr>\n",
       "    <tr>\n",
       "      <th>61864</th>\n",
       "      <td>0</td>\n",
       "    </tr>\n",
       "    <tr>\n",
       "      <th>61865</th>\n",
       "      <td>0</td>\n",
       "    </tr>\n",
       "  </tbody>\n",
       "</table>\n",
       "<p>61866 rows × 1 columns</p>\n",
       "</div>"
      ],
      "text/plain": [
       "       y\n",
       "0      0\n",
       "1      0\n",
       "2      0\n",
       "3      0\n",
       "4      0\n",
       "...   ..\n",
       "61861  0\n",
       "61862  0\n",
       "61863  0\n",
       "61864  0\n",
       "61865  0\n",
       "\n",
       "[61866 rows x 1 columns]"
      ]
     },
     "execution_count": 6,
     "metadata": {},
     "output_type": "execute_result"
    }
   ],
   "source": [
    "train_target_drop = train_target.drop(columns=[\"idx\", \"date\"]).astype(int)\n",
    "train_target_drop   "
   ]
  },
  {
   "cell_type": "code",
   "execution_count": 7,
   "metadata": {},
   "outputs": [
    {
     "data": {
      "text/plain": [
       "(array([0, 1]), array([50526, 11340]))"
      ]
     },
     "execution_count": 7,
     "metadata": {},
     "output_type": "execute_result"
    }
   ],
   "source": [
    "np.unique(train_target_drop.values, return_counts=True)"
   ]
  },
  {
   "cell_type": "markdown",
   "metadata": {},
   "source": [
    "# MLP"
   ]
  },
  {
   "cell_type": "code",
   "execution_count": 20,
   "metadata": {},
   "outputs": [
    {
     "name": "stderr",
     "output_type": "stream",
     "text": [
      "/home/zqy/venv/lib/python3.10/site-packages/keras/src/layers/core/dense.py:87: UserWarning: Do not pass an `input_shape`/`input_dim` argument to a layer. When using Sequential models, prefer using an `Input(shape)` object as the first layer in the model instead.\n",
      "  super().__init__(activity_regularizer=activity_regularizer, **kwargs)\n"
     ]
    },
    {
     "data": {
      "text/html": [
       "<pre style=\"white-space:pre;overflow-x:auto;line-height:normal;font-family:Menlo,'DejaVu Sans Mono',consolas,'Courier New',monospace\"><span style=\"font-weight: bold\">Model: \"sequential_2\"</span>\n",
       "</pre>\n"
      ],
      "text/plain": [
       "\u001b[1mModel: \"sequential_2\"\u001b[0m\n"
      ]
     },
     "metadata": {},
     "output_type": "display_data"
    },
    {
     "data": {
      "text/html": [
       "<pre style=\"white-space:pre;overflow-x:auto;line-height:normal;font-family:Menlo,'DejaVu Sans Mono',consolas,'Courier New',monospace\">┏━━━━━━━━━━━━━━━━━━━━━━━━━━━━━━━━━┳━━━━━━━━━━━━━━━━━━━━━━━━┳━━━━━━━━━━━━━━━┓\n",
       "┃<span style=\"font-weight: bold\"> Layer (type)                    </span>┃<span style=\"font-weight: bold\"> Output Shape           </span>┃<span style=\"font-weight: bold\">       Param # </span>┃\n",
       "┡━━━━━━━━━━━━━━━━━━━━━━━━━━━━━━━━━╇━━━━━━━━━━━━━━━━━━━━━━━━╇━━━━━━━━━━━━━━━┩\n",
       "│ dense_15 (<span style=\"color: #0087ff; text-decoration-color: #0087ff\">Dense</span>)                │ (<span style=\"color: #00d7ff; text-decoration-color: #00d7ff\">None</span>, <span style=\"color: #00af00; text-decoration-color: #00af00\">1800</span>)           │     <span style=\"color: #00af00; text-decoration-color: #00af00\">6,652,800</span> │\n",
       "├─────────────────────────────────┼────────────────────────┼───────────────┤\n",
       "│ dense_16 (<span style=\"color: #0087ff; text-decoration-color: #0087ff\">Dense</span>)                │ (<span style=\"color: #00d7ff; text-decoration-color: #00d7ff\">None</span>, <span style=\"color: #00af00; text-decoration-color: #00af00\">2560</span>)           │     <span style=\"color: #00af00; text-decoration-color: #00af00\">4,610,560</span> │\n",
       "├─────────────────────────────────┼────────────────────────┼───────────────┤\n",
       "│ dropout_5 (<span style=\"color: #0087ff; text-decoration-color: #0087ff\">Dropout</span>)             │ (<span style=\"color: #00d7ff; text-decoration-color: #00d7ff\">None</span>, <span style=\"color: #00af00; text-decoration-color: #00af00\">2560</span>)           │             <span style=\"color: #00af00; text-decoration-color: #00af00\">0</span> │\n",
       "├─────────────────────────────────┼────────────────────────┼───────────────┤\n",
       "│ dense_17 (<span style=\"color: #0087ff; text-decoration-color: #0087ff\">Dense</span>)                │ (<span style=\"color: #00d7ff; text-decoration-color: #00d7ff\">None</span>, <span style=\"color: #00af00; text-decoration-color: #00af00\">1024</span>)           │     <span style=\"color: #00af00; text-decoration-color: #00af00\">2,622,464</span> │\n",
       "├─────────────────────────────────┼────────────────────────┼───────────────┤\n",
       "│ dropout_6 (<span style=\"color: #0087ff; text-decoration-color: #0087ff\">Dropout</span>)             │ (<span style=\"color: #00d7ff; text-decoration-color: #00d7ff\">None</span>, <span style=\"color: #00af00; text-decoration-color: #00af00\">1024</span>)           │             <span style=\"color: #00af00; text-decoration-color: #00af00\">0</span> │\n",
       "├─────────────────────────────────┼────────────────────────┼───────────────┤\n",
       "│ dense_18 (<span style=\"color: #0087ff; text-decoration-color: #0087ff\">Dense</span>)                │ (<span style=\"color: #00d7ff; text-decoration-color: #00d7ff\">None</span>, <span style=\"color: #00af00; text-decoration-color: #00af00\">256</span>)            │       <span style=\"color: #00af00; text-decoration-color: #00af00\">262,400</span> │\n",
       "├─────────────────────────────────┼────────────────────────┼───────────────┤\n",
       "│ dropout_7 (<span style=\"color: #0087ff; text-decoration-color: #0087ff\">Dropout</span>)             │ (<span style=\"color: #00d7ff; text-decoration-color: #00d7ff\">None</span>, <span style=\"color: #00af00; text-decoration-color: #00af00\">256</span>)            │             <span style=\"color: #00af00; text-decoration-color: #00af00\">0</span> │\n",
       "├─────────────────────────────────┼────────────────────────┼───────────────┤\n",
       "│ dense_19 (<span style=\"color: #0087ff; text-decoration-color: #0087ff\">Dense</span>)                │ (<span style=\"color: #00d7ff; text-decoration-color: #00d7ff\">None</span>, <span style=\"color: #00af00; text-decoration-color: #00af00\">64</span>)             │        <span style=\"color: #00af00; text-decoration-color: #00af00\">16,448</span> │\n",
       "├─────────────────────────────────┼────────────────────────┼───────────────┤\n",
       "│ dropout_8 (<span style=\"color: #0087ff; text-decoration-color: #0087ff\">Dropout</span>)             │ (<span style=\"color: #00d7ff; text-decoration-color: #00d7ff\">None</span>, <span style=\"color: #00af00; text-decoration-color: #00af00\">64</span>)             │             <span style=\"color: #00af00; text-decoration-color: #00af00\">0</span> │\n",
       "├─────────────────────────────────┼────────────────────────┼───────────────┤\n",
       "│ dense_20 (<span style=\"color: #0087ff; text-decoration-color: #0087ff\">Dense</span>)                │ (<span style=\"color: #00d7ff; text-decoration-color: #00d7ff\">None</span>, <span style=\"color: #00af00; text-decoration-color: #00af00\">16</span>)             │         <span style=\"color: #00af00; text-decoration-color: #00af00\">1,040</span> │\n",
       "├─────────────────────────────────┼────────────────────────┼───────────────┤\n",
       "│ dropout_9 (<span style=\"color: #0087ff; text-decoration-color: #0087ff\">Dropout</span>)             │ (<span style=\"color: #00d7ff; text-decoration-color: #00d7ff\">None</span>, <span style=\"color: #00af00; text-decoration-color: #00af00\">16</span>)             │             <span style=\"color: #00af00; text-decoration-color: #00af00\">0</span> │\n",
       "├─────────────────────────────────┼────────────────────────┼───────────────┤\n",
       "│ dense_21 (<span style=\"color: #0087ff; text-decoration-color: #0087ff\">Dense</span>)                │ (<span style=\"color: #00d7ff; text-decoration-color: #00d7ff\">None</span>, <span style=\"color: #00af00; text-decoration-color: #00af00\">1</span>)              │            <span style=\"color: #00af00; text-decoration-color: #00af00\">17</span> │\n",
       "└─────────────────────────────────┴────────────────────────┴───────────────┘\n",
       "</pre>\n"
      ],
      "text/plain": [
       "┏━━━━━━━━━━━━━━━━━━━━━━━━━━━━━━━━━┳━━━━━━━━━━━━━━━━━━━━━━━━┳━━━━━━━━━━━━━━━┓\n",
       "┃\u001b[1m \u001b[0m\u001b[1mLayer (type)                   \u001b[0m\u001b[1m \u001b[0m┃\u001b[1m \u001b[0m\u001b[1mOutput Shape          \u001b[0m\u001b[1m \u001b[0m┃\u001b[1m \u001b[0m\u001b[1m      Param #\u001b[0m\u001b[1m \u001b[0m┃\n",
       "┡━━━━━━━━━━━━━━━━━━━━━━━━━━━━━━━━━╇━━━━━━━━━━━━━━━━━━━━━━━━╇━━━━━━━━━━━━━━━┩\n",
       "│ dense_15 (\u001b[38;5;33mDense\u001b[0m)                │ (\u001b[38;5;45mNone\u001b[0m, \u001b[38;5;34m1800\u001b[0m)           │     \u001b[38;5;34m6,652,800\u001b[0m │\n",
       "├─────────────────────────────────┼────────────────────────┼───────────────┤\n",
       "│ dense_16 (\u001b[38;5;33mDense\u001b[0m)                │ (\u001b[38;5;45mNone\u001b[0m, \u001b[38;5;34m2560\u001b[0m)           │     \u001b[38;5;34m4,610,560\u001b[0m │\n",
       "├─────────────────────────────────┼────────────────────────┼───────────────┤\n",
       "│ dropout_5 (\u001b[38;5;33mDropout\u001b[0m)             │ (\u001b[38;5;45mNone\u001b[0m, \u001b[38;5;34m2560\u001b[0m)           │             \u001b[38;5;34m0\u001b[0m │\n",
       "├─────────────────────────────────┼────────────────────────┼───────────────┤\n",
       "│ dense_17 (\u001b[38;5;33mDense\u001b[0m)                │ (\u001b[38;5;45mNone\u001b[0m, \u001b[38;5;34m1024\u001b[0m)           │     \u001b[38;5;34m2,622,464\u001b[0m │\n",
       "├─────────────────────────────────┼────────────────────────┼───────────────┤\n",
       "│ dropout_6 (\u001b[38;5;33mDropout\u001b[0m)             │ (\u001b[38;5;45mNone\u001b[0m, \u001b[38;5;34m1024\u001b[0m)           │             \u001b[38;5;34m0\u001b[0m │\n",
       "├─────────────────────────────────┼────────────────────────┼───────────────┤\n",
       "│ dense_18 (\u001b[38;5;33mDense\u001b[0m)                │ (\u001b[38;5;45mNone\u001b[0m, \u001b[38;5;34m256\u001b[0m)            │       \u001b[38;5;34m262,400\u001b[0m │\n",
       "├─────────────────────────────────┼────────────────────────┼───────────────┤\n",
       "│ dropout_7 (\u001b[38;5;33mDropout\u001b[0m)             │ (\u001b[38;5;45mNone\u001b[0m, \u001b[38;5;34m256\u001b[0m)            │             \u001b[38;5;34m0\u001b[0m │\n",
       "├─────────────────────────────────┼────────────────────────┼───────────────┤\n",
       "│ dense_19 (\u001b[38;5;33mDense\u001b[0m)                │ (\u001b[38;5;45mNone\u001b[0m, \u001b[38;5;34m64\u001b[0m)             │        \u001b[38;5;34m16,448\u001b[0m │\n",
       "├─────────────────────────────────┼────────────────────────┼───────────────┤\n",
       "│ dropout_8 (\u001b[38;5;33mDropout\u001b[0m)             │ (\u001b[38;5;45mNone\u001b[0m, \u001b[38;5;34m64\u001b[0m)             │             \u001b[38;5;34m0\u001b[0m │\n",
       "├─────────────────────────────────┼────────────────────────┼───────────────┤\n",
       "│ dense_20 (\u001b[38;5;33mDense\u001b[0m)                │ (\u001b[38;5;45mNone\u001b[0m, \u001b[38;5;34m16\u001b[0m)             │         \u001b[38;5;34m1,040\u001b[0m │\n",
       "├─────────────────────────────────┼────────────────────────┼───────────────┤\n",
       "│ dropout_9 (\u001b[38;5;33mDropout\u001b[0m)             │ (\u001b[38;5;45mNone\u001b[0m, \u001b[38;5;34m16\u001b[0m)             │             \u001b[38;5;34m0\u001b[0m │\n",
       "├─────────────────────────────────┼────────────────────────┼───────────────┤\n",
       "│ dense_21 (\u001b[38;5;33mDense\u001b[0m)                │ (\u001b[38;5;45mNone\u001b[0m, \u001b[38;5;34m1\u001b[0m)              │            \u001b[38;5;34m17\u001b[0m │\n",
       "└─────────────────────────────────┴────────────────────────┴───────────────┘\n"
      ]
     },
     "metadata": {},
     "output_type": "display_data"
    },
    {
     "data": {
      "text/html": [
       "<pre style=\"white-space:pre;overflow-x:auto;line-height:normal;font-family:Menlo,'DejaVu Sans Mono',consolas,'Courier New',monospace\"><span style=\"font-weight: bold\"> Total params: </span><span style=\"color: #00af00; text-decoration-color: #00af00\">14,165,729</span> (54.04 MB)\n",
       "</pre>\n"
      ],
      "text/plain": [
       "\u001b[1m Total params: \u001b[0m\u001b[38;5;34m14,165,729\u001b[0m (54.04 MB)\n"
      ]
     },
     "metadata": {},
     "output_type": "display_data"
    },
    {
     "data": {
      "text/html": [
       "<pre style=\"white-space:pre;overflow-x:auto;line-height:normal;font-family:Menlo,'DejaVu Sans Mono',consolas,'Courier New',monospace\"><span style=\"font-weight: bold\"> Trainable params: </span><span style=\"color: #00af00; text-decoration-color: #00af00\">14,165,729</span> (54.04 MB)\n",
       "</pre>\n"
      ],
      "text/plain": [
       "\u001b[1m Trainable params: \u001b[0m\u001b[38;5;34m14,165,729\u001b[0m (54.04 MB)\n"
      ]
     },
     "metadata": {},
     "output_type": "display_data"
    },
    {
     "data": {
      "text/html": [
       "<pre style=\"white-space:pre;overflow-x:auto;line-height:normal;font-family:Menlo,'DejaVu Sans Mono',consolas,'Courier New',monospace\"><span style=\"font-weight: bold\"> Non-trainable params: </span><span style=\"color: #00af00; text-decoration-color: #00af00\">0</span> (0.00 B)\n",
       "</pre>\n"
      ],
      "text/plain": [
       "\u001b[1m Non-trainable params: \u001b[0m\u001b[38;5;34m0\u001b[0m (0.00 B)\n"
      ]
     },
     "metadata": {},
     "output_type": "display_data"
    }
   ],
   "source": [
    "import tensorflow as tf\n",
    "import tensorflow.keras as keras\n",
    "\n",
    "model = keras.Sequential([\n",
    "    keras.layers.Dense(1800, activation='relu', input_shape=(train_data_preprocessed.shape[1],)),\n",
    "    # keras.layers.Dense(5000, activation='relu'),\n",
    "    keras.layers.Dense(2560, activation='relu'),\n",
    "    keras.layers.Dropout(0.2),\n",
    "    keras.layers.Dense(1024, activation='relu'),\n",
    "    keras.layers.Dropout(0.2),\n",
    "    keras.layers.Dense(256, activation='relu'),\n",
    "    keras.layers.Dropout(0.2),\n",
    "    keras.layers.Dense(64, activation='relu'),\n",
    "    keras.layers.Dropout(0.2),\n",
    "    keras.layers.Dense(16, activation='relu'),\n",
    "    keras.layers.Dropout(0.2),\n",
    "    # keras.layers.Dense(2, activation='softmax')\n",
    "    keras.layers.Dense(1, activation='sigmoid')\n",
    "])\n",
    "\n",
    "model.summary()"
   ]
  },
  {
   "cell_type": "code",
   "execution_count": 8,
   "metadata": {},
   "outputs": [
    {
     "data": {
      "text/plain": [
       "({0: np.float64(1.2244389027431422), 1: np.float64(5.455555555555556)},\n",
       " (array([0, 1]), array([50526, 11340])))"
      ]
     },
     "execution_count": 8,
     "metadata": {},
     "output_type": "execute_result"
    }
   ],
   "source": [
    "class_weight = {}\n",
    "class_cnt = np.unique(train_target_drop, return_counts=True)\n",
    "for i in range(len(class_cnt[0])):\n",
    "    class_weight[i] = class_cnt[1].sum() / class_cnt[1][i]\n",
    "class_weight, class_cnt"
   ]
  },
  {
   "cell_type": "code",
   "execution_count": 9,
   "metadata": {},
   "outputs": [
    {
     "data": {
      "text/plain": [
       "(array([[1, 0],\n",
       "        [1, 0],\n",
       "        [1, 0],\n",
       "        ...,\n",
       "        [1, 0],\n",
       "        [1, 0],\n",
       "        [1, 0]]),\n",
       " (61866, 2),\n",
       " (61866, 3695))"
      ]
     },
     "execution_count": 9,
     "metadata": {},
     "output_type": "execute_result"
    }
   ],
   "source": [
    "train_target_one_hot = pd.get_dummies(train_target_drop, columns=['y'])\n",
    "train_target_one_hot = train_target_one_hot.values\n",
    "train_target_one_hot = train_target_one_hot.astype(int)\n",
    "train_target_one_hot, train_target_one_hot.shape, train_data_preprocessed.shape"
   ]
  },
  {
   "cell_type": "code",
   "execution_count": 26,
   "metadata": {},
   "outputs": [
    {
     "name": "stdout",
     "output_type": "stream",
     "text": [
      "Epoch 1/60\n",
      "\u001b[1m1547/1547\u001b[0m \u001b[32m━━━━━━━━━━━━━━━━━━━━\u001b[0m\u001b[37m\u001b[0m \u001b[1m90s\u001b[0m 58ms/step - accuracy: 0.3289 - auc: 0.5010 - f1_score: 0.3046 - f1_score_1: 0.3046 - loss: 1686341248.0000 - val_accuracy: 0.8474 - val_auc: 0.5000 - val_f1_score: 0.0000e+00 - val_f1_score_1: 0.0000e+00 - val_loss: 7740903.0000\n",
      "Epoch 2/60\n",
      "\u001b[1m1547/1547\u001b[0m \u001b[32m━━━━━━━━━━━━━━━━━━━━\u001b[0m\u001b[37m\u001b[0m \u001b[1m89s\u001b[0m 57ms/step - accuracy: 0.6638 - auc: 0.4998 - f1_score: 0.2113 - f1_score_1: 0.2113 - loss: 15511708.0000 - val_accuracy: 0.8474 - val_auc: 0.5000 - val_f1_score: 0.0000e+00 - val_f1_score_1: 0.0000e+00 - val_loss: 2179317.7500\n",
      "Epoch 3/60\n",
      "\u001b[1m1547/1547\u001b[0m \u001b[32m━━━━━━━━━━━━━━━━━━━━\u001b[0m\u001b[37m\u001b[0m \u001b[1m89s\u001b[0m 57ms/step - accuracy: 0.6726 - auc: 0.5024 - f1_score: 0.2090 - f1_score_1: 0.2090 - loss: 4338165.0000 - val_accuracy: 0.8474 - val_auc: 0.5000 - val_f1_score: 0.0000e+00 - val_f1_score_1: 0.0000e+00 - val_loss: 600758.0000\n",
      "Epoch 4/60\n",
      "\u001b[1m1547/1547\u001b[0m \u001b[32m━━━━━━━━━━━━━━━━━━━━\u001b[0m\u001b[37m\u001b[0m \u001b[1m89s\u001b[0m 57ms/step - accuracy: 0.6694 - auc: 0.4979 - f1_score: 0.2030 - f1_score_1: 0.2030 - loss: 1128221.1250 - val_accuracy: 0.8474 - val_auc: 0.5000 - val_f1_score: 0.0000e+00 - val_f1_score_1: 0.0000e+00 - val_loss: 150670.1562\n",
      "Epoch 5/60\n",
      "\u001b[1m1547/1547\u001b[0m \u001b[32m━━━━━━━━━━━━━━━━━━━━\u001b[0m\u001b[37m\u001b[0m \u001b[1m89s\u001b[0m 57ms/step - accuracy: 0.6723 - auc: 0.4987 - f1_score: 0.2028 - f1_score_1: 0.2028 - loss: 247178.7812 - val_accuracy: 0.8474 - val_auc: 0.5000 - val_f1_score: 0.0000e+00 - val_f1_score_1: 0.0000e+00 - val_loss: 19180.8828\n",
      "Epoch 6/60\n",
      "\u001b[1m1547/1547\u001b[0m \u001b[32m━━━━━━━━━━━━━━━━━━━━\u001b[0m\u001b[37m\u001b[0m \u001b[1m89s\u001b[0m 58ms/step - accuracy: 0.6964 - auc: 0.5005 - f1_score: 0.1873 - f1_score_1: 0.1873 - loss: 22669.5645 - val_accuracy: 0.8474 - val_auc: 0.5000 - val_f1_score: 0.0000e+00 - val_f1_score_1: 0.0000e+00 - val_loss: 1353.3903\n",
      "Epoch 7/60\n",
      "\u001b[1m1547/1547\u001b[0m \u001b[32m━━━━━━━━━━━━━━━━━━━━\u001b[0m\u001b[37m\u001b[0m \u001b[1m90s\u001b[0m 58ms/step - accuracy: 0.7099 - auc: 0.4982 - f1_score: 0.1699 - f1_score_1: 0.1699 - loss: 1486.1346 - val_accuracy: 0.8474 - val_auc: 0.5000 - val_f1_score: 0.0000e+00 - val_f1_score_1: 0.0000e+00 - val_loss: 128.0881\n",
      "Epoch 8/60\n",
      "\u001b[1m1547/1547\u001b[0m \u001b[32m━━━━━━━━━━━━━━━━━━━━\u001b[0m\u001b[37m\u001b[0m \u001b[1m89s\u001b[0m 58ms/step - accuracy: 0.6895 - auc: 0.4978 - f1_score: 0.1914 - f1_score_1: 0.1914 - loss: 184.7994 - val_accuracy: 0.8474 - val_auc: 0.5000 - val_f1_score: 0.0000e+00 - val_f1_score_1: 0.0000e+00 - val_loss: 12.6909\n",
      "Epoch 9/60\n",
      "\u001b[1m1547/1547\u001b[0m \u001b[32m━━━━━━━━━━━━━━━━━━━━\u001b[0m\u001b[37m\u001b[0m \u001b[1m90s\u001b[0m 58ms/step - accuracy: 0.6739 - auc: 0.4972 - f1_score: 0.2372 - f1_score_1: 0.2372 - loss: 32.5650 - val_accuracy: 0.8474 - val_auc: 0.5000 - val_f1_score: 0.2648 - val_f1_score_1: 0.2648 - val_loss: 0.4277\n",
      "Epoch 10/60\n",
      "\u001b[1m1547/1547\u001b[0m \u001b[32m━━━━━━━━━━━━━━━━━━━━\u001b[0m\u001b[37m\u001b[0m \u001b[1m90s\u001b[0m 58ms/step - accuracy: 0.7458 - auc: 0.4960 - f1_score: 0.3049 - f1_score_1: 0.3049 - loss: 4.9281 - val_accuracy: 0.8474 - val_auc: 0.5000 - val_f1_score: 0.2648 - val_f1_score_1: 0.2648 - val_loss: 0.4408\n",
      "Epoch 11/60\n",
      "\u001b[1m1547/1547\u001b[0m \u001b[32m━━━━━━━━━━━━━━━━━━━━\u001b[0m\u001b[37m\u001b[0m \u001b[1m90s\u001b[0m 58ms/step - accuracy: 0.7941 - auc: 0.5027 - f1_score: 0.3188 - f1_score_1: 0.3188 - loss: 1.0450 - val_accuracy: 0.8474 - val_auc: 0.5000 - val_f1_score: 0.2648 - val_f1_score_1: 0.2648 - val_loss: 0.4362\n",
      "Epoch 12/60\n",
      "\u001b[1m1547/1547\u001b[0m \u001b[32m━━━━━━━━━━━━━━━━━━━━\u001b[0m\u001b[37m\u001b[0m \u001b[1m90s\u001b[0m 58ms/step - accuracy: 0.8025 - auc: 0.4996 - f1_score: 0.3251 - f1_score_1: 0.3251 - loss: 0.5672 - val_accuracy: 0.8474 - val_auc: 0.5000 - val_f1_score: 0.2648 - val_f1_score_1: 0.2648 - val_loss: 0.4334\n",
      "Epoch 13/60\n",
      "\u001b[1m1547/1547\u001b[0m \u001b[32m━━━━━━━━━━━━━━━━━━━━\u001b[0m\u001b[37m\u001b[0m \u001b[1m90s\u001b[0m 58ms/step - accuracy: 0.8084 - auc: 0.4962 - f1_score: 0.3199 - f1_score_1: 0.3199 - loss: 0.5144 - val_accuracy: 0.8474 - val_auc: 0.5000 - val_f1_score: 0.2648 - val_f1_score_1: 0.2648 - val_loss: 0.4327\n",
      "Epoch 14/60\n",
      "\u001b[1m1547/1547\u001b[0m \u001b[32m━━━━━━━━━━━━━━━━━━━━\u001b[0m\u001b[37m\u001b[0m \u001b[1m91s\u001b[0m 59ms/step - accuracy: 0.8119 - auc: 0.4935 - f1_score: 0.3164 - f1_score_1: 0.3164 - loss: 0.4998 - val_accuracy: 0.8474 - val_auc: 0.5000 - val_f1_score: 0.2648 - val_f1_score_1: 0.2648 - val_loss: 0.4324\n",
      "Epoch 15/60\n",
      "\u001b[1m1547/1547\u001b[0m \u001b[32m━━━━━━━━━━━━━━━━━━━━\u001b[0m\u001b[37m\u001b[0m \u001b[1m91s\u001b[0m 59ms/step - accuracy: 0.8120 - auc: 0.5001 - f1_score: 0.3163 - f1_score_1: 0.3163 - loss: 0.4854 - val_accuracy: 0.8474 - val_auc: 0.5000 - val_f1_score: 0.2648 - val_f1_score_1: 0.2648 - val_loss: 0.4325\n",
      "Epoch 16/60\n",
      "\u001b[1m1547/1547\u001b[0m \u001b[32m━━━━━━━━━━━━━━━━━━━━\u001b[0m\u001b[37m\u001b[0m \u001b[1m91s\u001b[0m 59ms/step - accuracy: 0.8084 - auc: 0.4952 - f1_score: 0.3216 - f1_score_1: 0.3216 - loss: 0.4904 - val_accuracy: 0.8474 - val_auc: 0.5000 - val_f1_score: 0.2648 - val_f1_score_1: 0.2648 - val_loss: 0.4324\n",
      "Epoch 17/60\n",
      "\u001b[1m1547/1547\u001b[0m \u001b[32m━━━━━━━━━━━━━━━━━━━━\u001b[0m\u001b[37m\u001b[0m \u001b[1m92s\u001b[0m 59ms/step - accuracy: 0.8086 - auc: 0.5001 - f1_score: 0.3213 - f1_score_1: 0.3213 - loss: 0.4902 - val_accuracy: 0.8474 - val_auc: 0.5000 - val_f1_score: 0.2648 - val_f1_score_1: 0.2648 - val_loss: 0.4324\n",
      "Epoch 18/60\n",
      "\u001b[1m1547/1547\u001b[0m \u001b[32m━━━━━━━━━━━━━━━━━━━━\u001b[0m\u001b[37m\u001b[0m \u001b[1m91s\u001b[0m 59ms/step - accuracy: 0.8090 - auc: 0.4967 - f1_score: 0.3204 - f1_score_1: 0.3204 - loss: 0.4921 - val_accuracy: 0.8474 - val_auc: 0.5000 - val_f1_score: 0.2648 - val_f1_score_1: 0.2648 - val_loss: 0.4322\n",
      "Epoch 19/60\n",
      "\u001b[1m1547/1547\u001b[0m \u001b[32m━━━━━━━━━━━━━━━━━━━━\u001b[0m\u001b[37m\u001b[0m \u001b[1m91s\u001b[0m 59ms/step - accuracy: 0.8094 - auc: 0.4976 - f1_score: 0.3201 - f1_score_1: 0.3201 - loss: 0.4897 - val_accuracy: 0.8474 - val_auc: 0.5000 - val_f1_score: 0.2648 - val_f1_score_1: 0.2648 - val_loss: 0.4327\n",
      "Epoch 20/60\n",
      "\u001b[1m1547/1547\u001b[0m \u001b[32m━━━━━━━━━━━━━━━━━━━━\u001b[0m\u001b[37m\u001b[0m \u001b[1m91s\u001b[0m 59ms/step - accuracy: 0.8077 - auc: 0.5020 - f1_score: 0.3223 - f1_score_1: 0.3223 - loss: 0.4970 - val_accuracy: 0.8474 - val_auc: 0.5000 - val_f1_score: 0.2648 - val_f1_score_1: 0.2648 - val_loss: 0.4322\n",
      "Epoch 21/60\n",
      "\u001b[1m1547/1547\u001b[0m \u001b[32m━━━━━━━━━━━━━━━━━━━━\u001b[0m\u001b[37m\u001b[0m \u001b[1m91s\u001b[0m 59ms/step - accuracy: 0.8068 - auc: 0.4961 - f1_score: 0.3234 - f1_score_1: 0.3234 - loss: 0.4986 - val_accuracy: 0.8474 - val_auc: 0.5000 - val_f1_score: 0.2648 - val_f1_score_1: 0.2648 - val_loss: 0.4323\n",
      "Epoch 22/60\n",
      "\u001b[1m1547/1547\u001b[0m \u001b[32m━━━━━━━━━━━━━━━━━━━━\u001b[0m\u001b[37m\u001b[0m \u001b[1m92s\u001b[0m 59ms/step - accuracy: 0.8085 - auc: 0.5000 - f1_score: 0.3210 - f1_score_1: 0.3210 - loss: 0.4918 - val_accuracy: 0.8474 - val_auc: 0.5000 - val_f1_score: 0.2648 - val_f1_score_1: 0.2648 - val_loss: 0.4320\n",
      "Epoch 23/60\n",
      "\u001b[1m1547/1547\u001b[0m \u001b[32m━━━━━━━━━━━━━━━━━━━━\u001b[0m\u001b[37m\u001b[0m \u001b[1m92s\u001b[0m 59ms/step - accuracy: 0.8072 - auc: 0.4946 - f1_score: 0.3226 - f1_score_1: 0.3226 - loss: 0.4949 - val_accuracy: 0.8474 - val_auc: 0.5000 - val_f1_score: 0.2648 - val_f1_score_1: 0.2648 - val_loss: 0.4317\n",
      "Epoch 24/60\n",
      "\u001b[1m 157/1547\u001b[0m \u001b[32m━━\u001b[0m\u001b[37m━━━━━━━━━━━━━━━━━━\u001b[0m \u001b[1m1:19\u001b[0m 58ms/step - accuracy: 0.8129 - auc: 0.5000 - f1_score: 0.3151 - f1_score_1: 0.3151 - loss: 0.4820"
     ]
    },
    {
     "ename": "KeyboardInterrupt",
     "evalue": "",
     "output_type": "error",
     "traceback": [
      "\u001b[0;31m---------------------------------------------------------------------------\u001b[0m",
      "\u001b[0;31mKeyboardInterrupt\u001b[0m                         Traceback (most recent call last)",
      "Cell \u001b[0;32mIn[26], line 13\u001b[0m\n\u001b[1;32m      5\u001b[0m model\u001b[38;5;241m.\u001b[39mset_weights(initial_weights)\n\u001b[1;32m      7\u001b[0m model\u001b[38;5;241m.\u001b[39mcompile(\n\u001b[1;32m      8\u001b[0m     optimizer\u001b[38;5;241m=\u001b[39m\u001b[38;5;124m\"\u001b[39m\u001b[38;5;124madam\u001b[39m\u001b[38;5;124m\"\u001b[39m,\n\u001b[1;32m      9\u001b[0m     \u001b[38;5;66;03m# loss=keras.losses.CategoricalCrossentropy(from_logits=False),\u001b[39;00m\n\u001b[1;32m     10\u001b[0m     loss\u001b[38;5;241m=\u001b[39mkeras\u001b[38;5;241m.\u001b[39mlosses\u001b[38;5;241m.\u001b[39mBinaryCrossentropy(from_logits\u001b[38;5;241m=\u001b[39m\u001b[38;5;28;01mFalse\u001b[39;00m),\n\u001b[1;32m     11\u001b[0m     metrics\u001b[38;5;241m=\u001b[39m[\u001b[38;5;124m\"\u001b[39m\u001b[38;5;124maccuracy\u001b[39m\u001b[38;5;124m\"\u001b[39m, \u001b[38;5;124m\"\u001b[39m\u001b[38;5;124mauc\u001b[39m\u001b[38;5;124m\"\u001b[39m, F1Score(average\u001b[38;5;241m=\u001b[39m\u001b[38;5;124m\"\u001b[39m\u001b[38;5;124mmicro\u001b[39m\u001b[38;5;124m\"\u001b[39m), F1Score(average\u001b[38;5;241m=\u001b[39m\u001b[38;5;124m\"\u001b[39m\u001b[38;5;124mmacro\u001b[39m\u001b[38;5;124m\"\u001b[39m)],\n\u001b[1;32m     12\u001b[0m )\n\u001b[0;32m---> 13\u001b[0m \u001b[43mmodel\u001b[49m\u001b[38;5;241;43m.\u001b[39;49m\u001b[43mfit\u001b[49m\u001b[43m(\u001b[49m\n\u001b[1;32m     14\u001b[0m \u001b[43m    \u001b[49m\u001b[43mtrain_data_preprocessed\u001b[49m\u001b[43m,\u001b[49m\n\u001b[1;32m     15\u001b[0m \u001b[43m    \u001b[49m\u001b[38;5;66;43;03m# train_target_one_hot,\u001b[39;49;00m\n\u001b[1;32m     16\u001b[0m \u001b[43m    \u001b[49m\u001b[43mtrain_target_drop\u001b[49m\u001b[43m,\u001b[49m\n\u001b[1;32m     17\u001b[0m \u001b[43m    \u001b[49m\u001b[43mepochs\u001b[49m\u001b[38;5;241;43m=\u001b[39;49m\u001b[38;5;241;43m60\u001b[39;49m\u001b[43m,\u001b[49m\n\u001b[1;32m     18\u001b[0m \u001b[43m    \u001b[49m\u001b[43mshuffle\u001b[49m\u001b[38;5;241;43m=\u001b[39;49m\u001b[38;5;28;43;01mTrue\u001b[39;49;00m\u001b[43m,\u001b[49m\n\u001b[1;32m     19\u001b[0m \u001b[43m    \u001b[49m\u001b[38;5;66;43;03m# class_weight=class_weight,\u001b[39;49;00m\n\u001b[1;32m     20\u001b[0m \u001b[43m    \u001b[49m\u001b[43mbatch_size\u001b[49m\u001b[38;5;241;43m=\u001b[39;49m\u001b[38;5;241;43m32\u001b[39;49m\u001b[43m,\u001b[49m\n\u001b[1;32m     21\u001b[0m \u001b[43m    \u001b[49m\u001b[43mvalidation_split\u001b[49m\u001b[38;5;241;43m=\u001b[39;49m\u001b[38;5;241;43m0.2\u001b[39;49m\u001b[43m,\u001b[49m\n\u001b[1;32m     22\u001b[0m \u001b[43m)\u001b[49m\n",
      "File \u001b[0;32m~/venv/lib/python3.10/site-packages/keras/src/utils/traceback_utils.py:117\u001b[0m, in \u001b[0;36mfilter_traceback.<locals>.error_handler\u001b[0;34m(*args, **kwargs)\u001b[0m\n\u001b[1;32m    115\u001b[0m filtered_tb \u001b[38;5;241m=\u001b[39m \u001b[38;5;28;01mNone\u001b[39;00m\n\u001b[1;32m    116\u001b[0m \u001b[38;5;28;01mtry\u001b[39;00m:\n\u001b[0;32m--> 117\u001b[0m     \u001b[38;5;28;01mreturn\u001b[39;00m \u001b[43mfn\u001b[49m\u001b[43m(\u001b[49m\u001b[38;5;241;43m*\u001b[39;49m\u001b[43margs\u001b[49m\u001b[43m,\u001b[49m\u001b[43m \u001b[49m\u001b[38;5;241;43m*\u001b[39;49m\u001b[38;5;241;43m*\u001b[39;49m\u001b[43mkwargs\u001b[49m\u001b[43m)\u001b[49m\n\u001b[1;32m    118\u001b[0m \u001b[38;5;28;01mexcept\u001b[39;00m \u001b[38;5;167;01mException\u001b[39;00m \u001b[38;5;28;01mas\u001b[39;00m e:\n\u001b[1;32m    119\u001b[0m     filtered_tb \u001b[38;5;241m=\u001b[39m _process_traceback_frames(e\u001b[38;5;241m.\u001b[39m__traceback__)\n",
      "File \u001b[0;32m~/venv/lib/python3.10/site-packages/keras/src/backend/tensorflow/trainer.py:320\u001b[0m, in \u001b[0;36mTensorFlowTrainer.fit\u001b[0;34m(self, x, y, batch_size, epochs, verbose, callbacks, validation_split, validation_data, shuffle, class_weight, sample_weight, initial_epoch, steps_per_epoch, validation_steps, validation_batch_size, validation_freq)\u001b[0m\n\u001b[1;32m    318\u001b[0m \u001b[38;5;28;01mfor\u001b[39;00m step, iterator \u001b[38;5;129;01min\u001b[39;00m epoch_iterator\u001b[38;5;241m.\u001b[39menumerate_epoch():\n\u001b[1;32m    319\u001b[0m     callbacks\u001b[38;5;241m.\u001b[39mon_train_batch_begin(step)\n\u001b[0;32m--> 320\u001b[0m     logs \u001b[38;5;241m=\u001b[39m \u001b[38;5;28;43mself\u001b[39;49m\u001b[38;5;241;43m.\u001b[39;49m\u001b[43mtrain_function\u001b[49m\u001b[43m(\u001b[49m\u001b[43miterator\u001b[49m\u001b[43m)\u001b[49m\n\u001b[1;32m    321\u001b[0m     logs \u001b[38;5;241m=\u001b[39m \u001b[38;5;28mself\u001b[39m\u001b[38;5;241m.\u001b[39m_pythonify_logs(logs)\n\u001b[1;32m    322\u001b[0m     callbacks\u001b[38;5;241m.\u001b[39mon_train_batch_end(step, logs)\n",
      "File \u001b[0;32m~/venv/lib/python3.10/site-packages/tensorflow/python/util/traceback_utils.py:150\u001b[0m, in \u001b[0;36mfilter_traceback.<locals>.error_handler\u001b[0;34m(*args, **kwargs)\u001b[0m\n\u001b[1;32m    148\u001b[0m filtered_tb \u001b[38;5;241m=\u001b[39m \u001b[38;5;28;01mNone\u001b[39;00m\n\u001b[1;32m    149\u001b[0m \u001b[38;5;28;01mtry\u001b[39;00m:\n\u001b[0;32m--> 150\u001b[0m   \u001b[38;5;28;01mreturn\u001b[39;00m \u001b[43mfn\u001b[49m\u001b[43m(\u001b[49m\u001b[38;5;241;43m*\u001b[39;49m\u001b[43margs\u001b[49m\u001b[43m,\u001b[49m\u001b[43m \u001b[49m\u001b[38;5;241;43m*\u001b[39;49m\u001b[38;5;241;43m*\u001b[39;49m\u001b[43mkwargs\u001b[49m\u001b[43m)\u001b[49m\n\u001b[1;32m    151\u001b[0m \u001b[38;5;28;01mexcept\u001b[39;00m \u001b[38;5;167;01mException\u001b[39;00m \u001b[38;5;28;01mas\u001b[39;00m e:\n\u001b[1;32m    152\u001b[0m   filtered_tb \u001b[38;5;241m=\u001b[39m _process_traceback_frames(e\u001b[38;5;241m.\u001b[39m__traceback__)\n",
      "File \u001b[0;32m~/venv/lib/python3.10/site-packages/tensorflow/python/eager/polymorphic_function/polymorphic_function.py:833\u001b[0m, in \u001b[0;36mFunction.__call__\u001b[0;34m(self, *args, **kwds)\u001b[0m\n\u001b[1;32m    830\u001b[0m compiler \u001b[38;5;241m=\u001b[39m \u001b[38;5;124m\"\u001b[39m\u001b[38;5;124mxla\u001b[39m\u001b[38;5;124m\"\u001b[39m \u001b[38;5;28;01mif\u001b[39;00m \u001b[38;5;28mself\u001b[39m\u001b[38;5;241m.\u001b[39m_jit_compile \u001b[38;5;28;01melse\u001b[39;00m \u001b[38;5;124m\"\u001b[39m\u001b[38;5;124mnonXla\u001b[39m\u001b[38;5;124m\"\u001b[39m\n\u001b[1;32m    832\u001b[0m \u001b[38;5;28;01mwith\u001b[39;00m OptionalXlaContext(\u001b[38;5;28mself\u001b[39m\u001b[38;5;241m.\u001b[39m_jit_compile):\n\u001b[0;32m--> 833\u001b[0m   result \u001b[38;5;241m=\u001b[39m \u001b[38;5;28;43mself\u001b[39;49m\u001b[38;5;241;43m.\u001b[39;49m\u001b[43m_call\u001b[49m\u001b[43m(\u001b[49m\u001b[38;5;241;43m*\u001b[39;49m\u001b[43margs\u001b[49m\u001b[43m,\u001b[49m\u001b[43m \u001b[49m\u001b[38;5;241;43m*\u001b[39;49m\u001b[38;5;241;43m*\u001b[39;49m\u001b[43mkwds\u001b[49m\u001b[43m)\u001b[49m\n\u001b[1;32m    835\u001b[0m new_tracing_count \u001b[38;5;241m=\u001b[39m \u001b[38;5;28mself\u001b[39m\u001b[38;5;241m.\u001b[39mexperimental_get_tracing_count()\n\u001b[1;32m    836\u001b[0m without_tracing \u001b[38;5;241m=\u001b[39m (tracing_count \u001b[38;5;241m==\u001b[39m new_tracing_count)\n",
      "File \u001b[0;32m~/venv/lib/python3.10/site-packages/tensorflow/python/eager/polymorphic_function/polymorphic_function.py:878\u001b[0m, in \u001b[0;36mFunction._call\u001b[0;34m(self, *args, **kwds)\u001b[0m\n\u001b[1;32m    875\u001b[0m \u001b[38;5;28mself\u001b[39m\u001b[38;5;241m.\u001b[39m_lock\u001b[38;5;241m.\u001b[39mrelease()\n\u001b[1;32m    876\u001b[0m \u001b[38;5;66;03m# In this case we have not created variables on the first call. So we can\u001b[39;00m\n\u001b[1;32m    877\u001b[0m \u001b[38;5;66;03m# run the first trace but we should fail if variables are created.\u001b[39;00m\n\u001b[0;32m--> 878\u001b[0m results \u001b[38;5;241m=\u001b[39m \u001b[43mtracing_compilation\u001b[49m\u001b[38;5;241;43m.\u001b[39;49m\u001b[43mcall_function\u001b[49m\u001b[43m(\u001b[49m\n\u001b[1;32m    879\u001b[0m \u001b[43m    \u001b[49m\u001b[43margs\u001b[49m\u001b[43m,\u001b[49m\u001b[43m \u001b[49m\u001b[43mkwds\u001b[49m\u001b[43m,\u001b[49m\u001b[43m \u001b[49m\u001b[38;5;28;43mself\u001b[39;49m\u001b[38;5;241;43m.\u001b[39;49m\u001b[43m_variable_creation_config\u001b[49m\n\u001b[1;32m    880\u001b[0m \u001b[43m\u001b[49m\u001b[43m)\u001b[49m\n\u001b[1;32m    881\u001b[0m \u001b[38;5;28;01mif\u001b[39;00m \u001b[38;5;28mself\u001b[39m\u001b[38;5;241m.\u001b[39m_created_variables:\n\u001b[1;32m    882\u001b[0m   \u001b[38;5;28;01mraise\u001b[39;00m \u001b[38;5;167;01mValueError\u001b[39;00m(\u001b[38;5;124m\"\u001b[39m\u001b[38;5;124mCreating variables on a non-first call to a function\u001b[39m\u001b[38;5;124m\"\u001b[39m\n\u001b[1;32m    883\u001b[0m                    \u001b[38;5;124m\"\u001b[39m\u001b[38;5;124m decorated with tf.function.\u001b[39m\u001b[38;5;124m\"\u001b[39m)\n",
      "File \u001b[0;32m~/venv/lib/python3.10/site-packages/tensorflow/python/eager/polymorphic_function/tracing_compilation.py:139\u001b[0m, in \u001b[0;36mcall_function\u001b[0;34m(args, kwargs, tracing_options)\u001b[0m\n\u001b[1;32m    137\u001b[0m bound_args \u001b[38;5;241m=\u001b[39m function\u001b[38;5;241m.\u001b[39mfunction_type\u001b[38;5;241m.\u001b[39mbind(\u001b[38;5;241m*\u001b[39margs, \u001b[38;5;241m*\u001b[39m\u001b[38;5;241m*\u001b[39mkwargs)\n\u001b[1;32m    138\u001b[0m flat_inputs \u001b[38;5;241m=\u001b[39m function\u001b[38;5;241m.\u001b[39mfunction_type\u001b[38;5;241m.\u001b[39munpack_inputs(bound_args)\n\u001b[0;32m--> 139\u001b[0m \u001b[38;5;28;01mreturn\u001b[39;00m \u001b[43mfunction\u001b[49m\u001b[38;5;241;43m.\u001b[39;49m\u001b[43m_call_flat\u001b[49m\u001b[43m(\u001b[49m\u001b[43m  \u001b[49m\u001b[38;5;66;43;03m# pylint: disable=protected-access\u001b[39;49;00m\n\u001b[1;32m    140\u001b[0m \u001b[43m    \u001b[49m\u001b[43mflat_inputs\u001b[49m\u001b[43m,\u001b[49m\u001b[43m \u001b[49m\u001b[43mcaptured_inputs\u001b[49m\u001b[38;5;241;43m=\u001b[39;49m\u001b[43mfunction\u001b[49m\u001b[38;5;241;43m.\u001b[39;49m\u001b[43mcaptured_inputs\u001b[49m\n\u001b[1;32m    141\u001b[0m \u001b[43m\u001b[49m\u001b[43m)\u001b[49m\n",
      "File \u001b[0;32m~/venv/lib/python3.10/site-packages/tensorflow/python/eager/polymorphic_function/concrete_function.py:1322\u001b[0m, in \u001b[0;36mConcreteFunction._call_flat\u001b[0;34m(self, tensor_inputs, captured_inputs)\u001b[0m\n\u001b[1;32m   1318\u001b[0m possible_gradient_type \u001b[38;5;241m=\u001b[39m gradients_util\u001b[38;5;241m.\u001b[39mPossibleTapeGradientTypes(args)\n\u001b[1;32m   1319\u001b[0m \u001b[38;5;28;01mif\u001b[39;00m (possible_gradient_type \u001b[38;5;241m==\u001b[39m gradients_util\u001b[38;5;241m.\u001b[39mPOSSIBLE_GRADIENT_TYPES_NONE\n\u001b[1;32m   1320\u001b[0m     \u001b[38;5;129;01mand\u001b[39;00m executing_eagerly):\n\u001b[1;32m   1321\u001b[0m   \u001b[38;5;66;03m# No tape is watching; skip to running the function.\u001b[39;00m\n\u001b[0;32m-> 1322\u001b[0m   \u001b[38;5;28;01mreturn\u001b[39;00m \u001b[38;5;28;43mself\u001b[39;49m\u001b[38;5;241;43m.\u001b[39;49m\u001b[43m_inference_function\u001b[49m\u001b[38;5;241;43m.\u001b[39;49m\u001b[43mcall_preflattened\u001b[49m\u001b[43m(\u001b[49m\u001b[43margs\u001b[49m\u001b[43m)\u001b[49m\n\u001b[1;32m   1323\u001b[0m forward_backward \u001b[38;5;241m=\u001b[39m \u001b[38;5;28mself\u001b[39m\u001b[38;5;241m.\u001b[39m_select_forward_and_backward_functions(\n\u001b[1;32m   1324\u001b[0m     args,\n\u001b[1;32m   1325\u001b[0m     possible_gradient_type,\n\u001b[1;32m   1326\u001b[0m     executing_eagerly)\n\u001b[1;32m   1327\u001b[0m forward_function, args_with_tangents \u001b[38;5;241m=\u001b[39m forward_backward\u001b[38;5;241m.\u001b[39mforward()\n",
      "File \u001b[0;32m~/venv/lib/python3.10/site-packages/tensorflow/python/eager/polymorphic_function/atomic_function.py:216\u001b[0m, in \u001b[0;36mAtomicFunction.call_preflattened\u001b[0;34m(self, args)\u001b[0m\n\u001b[1;32m    214\u001b[0m \u001b[38;5;28;01mdef\u001b[39;00m \u001b[38;5;21mcall_preflattened\u001b[39m(\u001b[38;5;28mself\u001b[39m, args: Sequence[core\u001b[38;5;241m.\u001b[39mTensor]) \u001b[38;5;241m-\u001b[39m\u001b[38;5;241m>\u001b[39m Any:\n\u001b[1;32m    215\u001b[0m \u001b[38;5;250m  \u001b[39m\u001b[38;5;124;03m\"\"\"Calls with flattened tensor inputs and returns the structured output.\"\"\"\u001b[39;00m\n\u001b[0;32m--> 216\u001b[0m   flat_outputs \u001b[38;5;241m=\u001b[39m \u001b[38;5;28;43mself\u001b[39;49m\u001b[38;5;241;43m.\u001b[39;49m\u001b[43mcall_flat\u001b[49m\u001b[43m(\u001b[49m\u001b[38;5;241;43m*\u001b[39;49m\u001b[43margs\u001b[49m\u001b[43m)\u001b[49m\n\u001b[1;32m    217\u001b[0m   \u001b[38;5;28;01mreturn\u001b[39;00m \u001b[38;5;28mself\u001b[39m\u001b[38;5;241m.\u001b[39mfunction_type\u001b[38;5;241m.\u001b[39mpack_output(flat_outputs)\n",
      "File \u001b[0;32m~/venv/lib/python3.10/site-packages/tensorflow/python/eager/polymorphic_function/atomic_function.py:251\u001b[0m, in \u001b[0;36mAtomicFunction.call_flat\u001b[0;34m(self, *args)\u001b[0m\n\u001b[1;32m    249\u001b[0m \u001b[38;5;28;01mwith\u001b[39;00m record\u001b[38;5;241m.\u001b[39mstop_recording():\n\u001b[1;32m    250\u001b[0m   \u001b[38;5;28;01mif\u001b[39;00m \u001b[38;5;28mself\u001b[39m\u001b[38;5;241m.\u001b[39m_bound_context\u001b[38;5;241m.\u001b[39mexecuting_eagerly():\n\u001b[0;32m--> 251\u001b[0m     outputs \u001b[38;5;241m=\u001b[39m \u001b[38;5;28;43mself\u001b[39;49m\u001b[38;5;241;43m.\u001b[39;49m\u001b[43m_bound_context\u001b[49m\u001b[38;5;241;43m.\u001b[39;49m\u001b[43mcall_function\u001b[49m\u001b[43m(\u001b[49m\n\u001b[1;32m    252\u001b[0m \u001b[43m        \u001b[49m\u001b[38;5;28;43mself\u001b[39;49m\u001b[38;5;241;43m.\u001b[39;49m\u001b[43mname\u001b[49m\u001b[43m,\u001b[49m\n\u001b[1;32m    253\u001b[0m \u001b[43m        \u001b[49m\u001b[38;5;28;43mlist\u001b[39;49m\u001b[43m(\u001b[49m\u001b[43margs\u001b[49m\u001b[43m)\u001b[49m\u001b[43m,\u001b[49m\n\u001b[1;32m    254\u001b[0m \u001b[43m        \u001b[49m\u001b[38;5;28;43mlen\u001b[39;49m\u001b[43m(\u001b[49m\u001b[38;5;28;43mself\u001b[39;49m\u001b[38;5;241;43m.\u001b[39;49m\u001b[43mfunction_type\u001b[49m\u001b[38;5;241;43m.\u001b[39;49m\u001b[43mflat_outputs\u001b[49m\u001b[43m)\u001b[49m\u001b[43m,\u001b[49m\n\u001b[1;32m    255\u001b[0m \u001b[43m    \u001b[49m\u001b[43m)\u001b[49m\n\u001b[1;32m    256\u001b[0m   \u001b[38;5;28;01melse\u001b[39;00m:\n\u001b[1;32m    257\u001b[0m     outputs \u001b[38;5;241m=\u001b[39m make_call_op_in_graph(\n\u001b[1;32m    258\u001b[0m         \u001b[38;5;28mself\u001b[39m,\n\u001b[1;32m    259\u001b[0m         \u001b[38;5;28mlist\u001b[39m(args),\n\u001b[1;32m    260\u001b[0m         \u001b[38;5;28mself\u001b[39m\u001b[38;5;241m.\u001b[39m_bound_context\u001b[38;5;241m.\u001b[39mfunction_call_options\u001b[38;5;241m.\u001b[39mas_attrs(),\n\u001b[1;32m    261\u001b[0m     )\n",
      "File \u001b[0;32m~/venv/lib/python3.10/site-packages/tensorflow/python/eager/context.py:1552\u001b[0m, in \u001b[0;36mContext.call_function\u001b[0;34m(self, name, tensor_inputs, num_outputs)\u001b[0m\n\u001b[1;32m   1550\u001b[0m cancellation_context \u001b[38;5;241m=\u001b[39m cancellation\u001b[38;5;241m.\u001b[39mcontext()\n\u001b[1;32m   1551\u001b[0m \u001b[38;5;28;01mif\u001b[39;00m cancellation_context \u001b[38;5;129;01mis\u001b[39;00m \u001b[38;5;28;01mNone\u001b[39;00m:\n\u001b[0;32m-> 1552\u001b[0m   outputs \u001b[38;5;241m=\u001b[39m \u001b[43mexecute\u001b[49m\u001b[38;5;241;43m.\u001b[39;49m\u001b[43mexecute\u001b[49m\u001b[43m(\u001b[49m\n\u001b[1;32m   1553\u001b[0m \u001b[43m      \u001b[49m\u001b[43mname\u001b[49m\u001b[38;5;241;43m.\u001b[39;49m\u001b[43mdecode\u001b[49m\u001b[43m(\u001b[49m\u001b[38;5;124;43m\"\u001b[39;49m\u001b[38;5;124;43mutf-8\u001b[39;49m\u001b[38;5;124;43m\"\u001b[39;49m\u001b[43m)\u001b[49m\u001b[43m,\u001b[49m\n\u001b[1;32m   1554\u001b[0m \u001b[43m      \u001b[49m\u001b[43mnum_outputs\u001b[49m\u001b[38;5;241;43m=\u001b[39;49m\u001b[43mnum_outputs\u001b[49m\u001b[43m,\u001b[49m\n\u001b[1;32m   1555\u001b[0m \u001b[43m      \u001b[49m\u001b[43minputs\u001b[49m\u001b[38;5;241;43m=\u001b[39;49m\u001b[43mtensor_inputs\u001b[49m\u001b[43m,\u001b[49m\n\u001b[1;32m   1556\u001b[0m \u001b[43m      \u001b[49m\u001b[43mattrs\u001b[49m\u001b[38;5;241;43m=\u001b[39;49m\u001b[43mattrs\u001b[49m\u001b[43m,\u001b[49m\n\u001b[1;32m   1557\u001b[0m \u001b[43m      \u001b[49m\u001b[43mctx\u001b[49m\u001b[38;5;241;43m=\u001b[39;49m\u001b[38;5;28;43mself\u001b[39;49m\u001b[43m,\u001b[49m\n\u001b[1;32m   1558\u001b[0m \u001b[43m  \u001b[49m\u001b[43m)\u001b[49m\n\u001b[1;32m   1559\u001b[0m \u001b[38;5;28;01melse\u001b[39;00m:\n\u001b[1;32m   1560\u001b[0m   outputs \u001b[38;5;241m=\u001b[39m execute\u001b[38;5;241m.\u001b[39mexecute_with_cancellation(\n\u001b[1;32m   1561\u001b[0m       name\u001b[38;5;241m.\u001b[39mdecode(\u001b[38;5;124m\"\u001b[39m\u001b[38;5;124mutf-8\u001b[39m\u001b[38;5;124m\"\u001b[39m),\n\u001b[1;32m   1562\u001b[0m       num_outputs\u001b[38;5;241m=\u001b[39mnum_outputs,\n\u001b[0;32m   (...)\u001b[0m\n\u001b[1;32m   1566\u001b[0m       cancellation_manager\u001b[38;5;241m=\u001b[39mcancellation_context,\n\u001b[1;32m   1567\u001b[0m   )\n",
      "File \u001b[0;32m~/venv/lib/python3.10/site-packages/tensorflow/python/eager/execute.py:53\u001b[0m, in \u001b[0;36mquick_execute\u001b[0;34m(op_name, num_outputs, inputs, attrs, ctx, name)\u001b[0m\n\u001b[1;32m     51\u001b[0m \u001b[38;5;28;01mtry\u001b[39;00m:\n\u001b[1;32m     52\u001b[0m   ctx\u001b[38;5;241m.\u001b[39mensure_initialized()\n\u001b[0;32m---> 53\u001b[0m   tensors \u001b[38;5;241m=\u001b[39m \u001b[43mpywrap_tfe\u001b[49m\u001b[38;5;241;43m.\u001b[39;49m\u001b[43mTFE_Py_Execute\u001b[49m\u001b[43m(\u001b[49m\u001b[43mctx\u001b[49m\u001b[38;5;241;43m.\u001b[39;49m\u001b[43m_handle\u001b[49m\u001b[43m,\u001b[49m\u001b[43m \u001b[49m\u001b[43mdevice_name\u001b[49m\u001b[43m,\u001b[49m\u001b[43m \u001b[49m\u001b[43mop_name\u001b[49m\u001b[43m,\u001b[49m\n\u001b[1;32m     54\u001b[0m \u001b[43m                                      \u001b[49m\u001b[43minputs\u001b[49m\u001b[43m,\u001b[49m\u001b[43m \u001b[49m\u001b[43mattrs\u001b[49m\u001b[43m,\u001b[49m\u001b[43m \u001b[49m\u001b[43mnum_outputs\u001b[49m\u001b[43m)\u001b[49m\n\u001b[1;32m     55\u001b[0m \u001b[38;5;28;01mexcept\u001b[39;00m core\u001b[38;5;241m.\u001b[39m_NotOkStatusException \u001b[38;5;28;01mas\u001b[39;00m e:\n\u001b[1;32m     56\u001b[0m   \u001b[38;5;28;01mif\u001b[39;00m name \u001b[38;5;129;01mis\u001b[39;00m \u001b[38;5;129;01mnot\u001b[39;00m \u001b[38;5;28;01mNone\u001b[39;00m:\n",
      "\u001b[0;31mKeyboardInterrupt\u001b[0m: "
     ]
    }
   ],
   "source": [
    "from tensorflow.keras.metrics import AUC, F1Score\n",
    "\n",
    "# Initialize the weights you want to set\n",
    "initial_weights = [np.random.rand(*w.shape) for w in model.get_weights()]\n",
    "model.set_weights(initial_weights)\n",
    "\n",
    "model.compile(\n",
    "    optimizer=\"adam\",\n",
    "    # loss=keras.losses.CategoricalCrossentropy(from_logits=False),\n",
    "    loss=keras.losses.BinaryCrossentropy(from_logits=False),\n",
    "    metrics=[\"accuracy\", \"auc\", F1Score(average=\"micro\"), F1Score(average=\"macro\")],\n",
    ")\n",
    "model.fit(\n",
    "    train_data_preprocessed,\n",
    "    # train_target_one_hot,\n",
    "    train_target_drop,\n",
    "    epochs=60,\n",
    "    shuffle=True,\n",
    "    # class_weight=class_weight,\n",
    "    batch_size=32,\n",
    "    validation_split=0.2,\n",
    ")"
   ]
  },
  {
   "cell_type": "markdown",
   "metadata": {},
   "source": [
    "## prediction"
   ]
  },
  {
   "cell_type": "code",
   "execution_count": 24,
   "metadata": {},
   "outputs": [],
   "source": [
    "test_data = pd.read_csv(\"/home/zqy/learningFile/sichuan/zqy/temp/2024年四川省大学生数据科学与统计建模竞赛/测试集/test_data.csv\")"
   ]
  },
  {
   "cell_type": "code",
   "execution_count": 26,
   "metadata": {},
   "outputs": [
    {
     "name": "stdout",
     "output_type": "stream",
     "text": [
      "\u001b[1m567/567\u001b[0m \u001b[32m━━━━━━━━━━━━━━━━━━━━\u001b[0m\u001b[37m\u001b[0m \u001b[1m2s\u001b[0m 4ms/step\n"
     ]
    }
   ],
   "source": [
    "# Predict the probabilities\n",
    "predictions = model.predict(test_data_preprocessed)\n",
    "\n",
    "# Convert probabilities to binary values (0 or 1) using a threshold of 0.5\n",
    "binary_predictions = (predictions > 0.5).astype(int)\n",
    "\n",
    "# Create a DataFrame with the results\n",
    "output_binary = pd.DataFrame(binary_predictions, columns=[\"y_pred\"])\n",
    "output_binary[\"idx\"] = test_data[\"idx\"]\n",
    "output_binary = output_binary[[\"idx\", \"y_pred\"]]"
   ]
  },
  {
   "cell_type": "code",
   "execution_count": 29,
   "metadata": {},
   "outputs": [
    {
     "data": {
      "text/plain": [
       "array([0])"
      ]
     },
     "execution_count": 29,
     "metadata": {},
     "output_type": "execute_result"
    }
   ],
   "source": [
    "np.unique(output_binary.y_pred.values)"
   ]
  },
  {
   "cell_type": "code",
   "execution_count": 21,
   "metadata": {},
   "outputs": [],
   "source": [
    "output_pd.to_csv(\n",
    "    os.path.join(REPO_PATH, \"zqy\", \"output\", \"output.csv\"),\n",
    "    index=False,\n",
    "    sep=\",\",\n",
    ")"
   ]
  },
  {
   "cell_type": "code",
   "execution_count": null,
   "metadata": {},
   "outputs": [],
   "source": []
  },
  {
   "cell_type": "markdown",
   "metadata": {},
   "source": [
    "# XGBoost"
   ]
  },
  {
   "cell_type": "code",
   "execution_count": 10,
   "metadata": {},
   "outputs": [],
   "source": [
    "from sklearn.model_selection import train_test_split\n",
    "\n",
    "X_train, X_test, y_train, y_test = train_test_split(\n",
    "    train_data_preprocessed, train_target_drop, test_size=0.2, random_state=11\n",
    ")"
   ]
  },
  {
   "cell_type": "markdown",
   "metadata": {},
   "source": [
    "## single test"
   ]
  },
  {
   "cell_type": "code",
   "execution_count": 13,
   "metadata": {},
   "outputs": [
    {
     "name": "stderr",
     "output_type": "stream",
     "text": [
      "/puhome/24112456g/.conda/envs/SHPC-env/lib/python3.10/site-packages/xgboost/core.py:158: UserWarning: [17:57:32] WARNING: /workspace/src/learner.cc:740: \n",
      "Parameters: { \"use_label_encoder\" } are not used.\n",
      "\n",
      "  warnings.warn(smsg, UserWarning)\n"
     ]
    },
    {
     "name": "stdout",
     "output_type": "stream",
     "text": [
      "[0]\tvalidation_0-logloss:0.47819\tvalidation_0-auc:0.61745\tvalidation_0-error:0.18442\n",
      "[1]\tvalidation_0-logloss:0.47520\tvalidation_0-auc:0.62406\tvalidation_0-error:0.18442\n",
      "[2]\tvalidation_0-logloss:0.47237\tvalidation_0-auc:0.63120\tvalidation_0-error:0.18442\n",
      "[3]\tvalidation_0-logloss:0.46998\tvalidation_0-auc:0.63487\tvalidation_0-error:0.18442\n",
      "[4]\tvalidation_0-logloss:0.46790\tvalidation_0-auc:0.63811\tvalidation_0-error:0.18442\n",
      "[5]\tvalidation_0-logloss:0.46626\tvalidation_0-auc:0.63856\tvalidation_0-error:0.18434\n",
      "[6]\tvalidation_0-logloss:0.46459\tvalidation_0-auc:0.64075\tvalidation_0-error:0.18426\n",
      "[7]\tvalidation_0-logloss:0.46320\tvalidation_0-auc:0.64310\tvalidation_0-error:0.18410\n",
      "[8]\tvalidation_0-logloss:0.46193\tvalidation_0-auc:0.64447\tvalidation_0-error:0.18401\n",
      "[9]\tvalidation_0-logloss:0.46075\tvalidation_0-auc:0.64631\tvalidation_0-error:0.18385\n",
      "[10]\tvalidation_0-logloss:0.45984\tvalidation_0-auc:0.64678\tvalidation_0-error:0.18369\n",
      "[11]\tvalidation_0-logloss:0.45909\tvalidation_0-auc:0.64782\tvalidation_0-error:0.18369\n",
      "[12]\tvalidation_0-logloss:0.45824\tvalidation_0-auc:0.64956\tvalidation_0-error:0.18353\n",
      "[13]\tvalidation_0-logloss:0.45773\tvalidation_0-auc:0.64996\tvalidation_0-error:0.18321\n",
      "[14]\tvalidation_0-logloss:0.45705\tvalidation_0-auc:0.65129\tvalidation_0-error:0.18337\n",
      "[15]\tvalidation_0-logloss:0.45646\tvalidation_0-auc:0.65181\tvalidation_0-error:0.18296\n",
      "[16]\tvalidation_0-logloss:0.45579\tvalidation_0-auc:0.65287\tvalidation_0-error:0.18296\n",
      "[17]\tvalidation_0-logloss:0.45521\tvalidation_0-auc:0.65376\tvalidation_0-error:0.18288\n",
      "[18]\tvalidation_0-logloss:0.45484\tvalidation_0-auc:0.65404\tvalidation_0-error:0.18305\n",
      "[19]\tvalidation_0-logloss:0.45439\tvalidation_0-auc:0.65466\tvalidation_0-error:0.18272\n",
      "[20]\tvalidation_0-logloss:0.45402\tvalidation_0-auc:0.65541\tvalidation_0-error:0.18272\n",
      "[21]\tvalidation_0-logloss:0.45367\tvalidation_0-auc:0.65545\tvalidation_0-error:0.18280\n",
      "[22]\tvalidation_0-logloss:0.45329\tvalidation_0-auc:0.65669\tvalidation_0-error:0.18296\n",
      "[23]\tvalidation_0-logloss:0.45284\tvalidation_0-auc:0.65767\tvalidation_0-error:0.18288\n",
      "[24]\tvalidation_0-logloss:0.45271\tvalidation_0-auc:0.65737\tvalidation_0-error:0.18272\n",
      "[25]\tvalidation_0-logloss:0.45244\tvalidation_0-auc:0.65808\tvalidation_0-error:0.18305\n",
      "[26]\tvalidation_0-logloss:0.45228\tvalidation_0-auc:0.65841\tvalidation_0-error:0.18305\n",
      "[27]\tvalidation_0-logloss:0.45207\tvalidation_0-auc:0.65885\tvalidation_0-error:0.18321\n",
      "[28]\tvalidation_0-logloss:0.45197\tvalidation_0-auc:0.65890\tvalidation_0-error:0.18345\n",
      "[29]\tvalidation_0-logloss:0.45181\tvalidation_0-auc:0.65882\tvalidation_0-error:0.18305\n",
      "[30]\tvalidation_0-logloss:0.45163\tvalidation_0-auc:0.65942\tvalidation_0-error:0.18321\n",
      "[31]\tvalidation_0-logloss:0.45139\tvalidation_0-auc:0.66009\tvalidation_0-error:0.18305\n",
      "[32]\tvalidation_0-logloss:0.45124\tvalidation_0-auc:0.66020\tvalidation_0-error:0.18288\n",
      "[33]\tvalidation_0-logloss:0.45107\tvalidation_0-auc:0.66072\tvalidation_0-error:0.18272\n",
      "[34]\tvalidation_0-logloss:0.45101\tvalidation_0-auc:0.66083\tvalidation_0-error:0.18272\n",
      "[35]\tvalidation_0-logloss:0.45094\tvalidation_0-auc:0.66080\tvalidation_0-error:0.18280\n",
      "[36]\tvalidation_0-logloss:0.45095\tvalidation_0-auc:0.66062\tvalidation_0-error:0.18240\n",
      "[37]\tvalidation_0-logloss:0.45082\tvalidation_0-auc:0.66082\tvalidation_0-error:0.18224\n",
      "[38]\tvalidation_0-logloss:0.45061\tvalidation_0-auc:0.66140\tvalidation_0-error:0.18256\n",
      "[39]\tvalidation_0-logloss:0.45038\tvalidation_0-auc:0.66203\tvalidation_0-error:0.18224\n",
      "[40]\tvalidation_0-logloss:0.45015\tvalidation_0-auc:0.66269\tvalidation_0-error:0.18232\n",
      "[41]\tvalidation_0-logloss:0.45010\tvalidation_0-auc:0.66265\tvalidation_0-error:0.18224\n",
      "[42]\tvalidation_0-logloss:0.45007\tvalidation_0-auc:0.66253\tvalidation_0-error:0.18240\n",
      "[43]\tvalidation_0-logloss:0.45022\tvalidation_0-auc:0.66207\tvalidation_0-error:0.18256\n",
      "[44]\tvalidation_0-logloss:0.45006\tvalidation_0-auc:0.66284\tvalidation_0-error:0.18240\n",
      "[45]\tvalidation_0-logloss:0.45001\tvalidation_0-auc:0.66274\tvalidation_0-error:0.18248\n",
      "[46]\tvalidation_0-logloss:0.44982\tvalidation_0-auc:0.66332\tvalidation_0-error:0.18199\n",
      "[47]\tvalidation_0-logloss:0.44970\tvalidation_0-auc:0.66379\tvalidation_0-error:0.18159\n",
      "[48]\tvalidation_0-logloss:0.44962\tvalidation_0-auc:0.66385\tvalidation_0-error:0.18159\n",
      "[49]\tvalidation_0-logloss:0.44963\tvalidation_0-auc:0.66387\tvalidation_0-error:0.18135\n",
      "[50]\tvalidation_0-logloss:0.44948\tvalidation_0-auc:0.66456\tvalidation_0-error:0.18143\n",
      "[51]\tvalidation_0-logloss:0.44953\tvalidation_0-auc:0.66452\tvalidation_0-error:0.18143\n",
      "[52]\tvalidation_0-logloss:0.44953\tvalidation_0-auc:0.66441\tvalidation_0-error:0.18159\n",
      "[53]\tvalidation_0-logloss:0.44951\tvalidation_0-auc:0.66434\tvalidation_0-error:0.18143\n",
      "[54]\tvalidation_0-logloss:0.44963\tvalidation_0-auc:0.66421\tvalidation_0-error:0.18175\n",
      "[55]\tvalidation_0-logloss:0.44961\tvalidation_0-auc:0.66422\tvalidation_0-error:0.18175\n",
      "[56]\tvalidation_0-logloss:0.44962\tvalidation_0-auc:0.66405\tvalidation_0-error:0.18175\n",
      "[57]\tvalidation_0-logloss:0.44947\tvalidation_0-auc:0.66472\tvalidation_0-error:0.18208\n",
      "[58]\tvalidation_0-logloss:0.44943\tvalidation_0-auc:0.66499\tvalidation_0-error:0.18208\n",
      "[59]\tvalidation_0-logloss:0.44939\tvalidation_0-auc:0.66513\tvalidation_0-error:0.18208\n",
      "[60]\tvalidation_0-logloss:0.44947\tvalidation_0-auc:0.66489\tvalidation_0-error:0.18208\n",
      "[61]\tvalidation_0-logloss:0.44935\tvalidation_0-auc:0.66505\tvalidation_0-error:0.18191\n",
      "[62]\tvalidation_0-logloss:0.44933\tvalidation_0-auc:0.66505\tvalidation_0-error:0.18183\n",
      "[63]\tvalidation_0-logloss:0.44910\tvalidation_0-auc:0.66562\tvalidation_0-error:0.18199\n",
      "[64]\tvalidation_0-logloss:0.44901\tvalidation_0-auc:0.66586\tvalidation_0-error:0.18183\n",
      "[65]\tvalidation_0-logloss:0.44892\tvalidation_0-auc:0.66600\tvalidation_0-error:0.18199\n",
      "[66]\tvalidation_0-logloss:0.44885\tvalidation_0-auc:0.66610\tvalidation_0-error:0.18167\n",
      "[67]\tvalidation_0-logloss:0.44882\tvalidation_0-auc:0.66632\tvalidation_0-error:0.18159\n",
      "[68]\tvalidation_0-logloss:0.44897\tvalidation_0-auc:0.66578\tvalidation_0-error:0.18175\n",
      "[69]\tvalidation_0-logloss:0.44891\tvalidation_0-auc:0.66596\tvalidation_0-error:0.18159\n",
      "[70]\tvalidation_0-logloss:0.44889\tvalidation_0-auc:0.66623\tvalidation_0-error:0.18175\n",
      "[71]\tvalidation_0-logloss:0.44888\tvalidation_0-auc:0.66645\tvalidation_0-error:0.18175\n",
      "[72]\tvalidation_0-logloss:0.44885\tvalidation_0-auc:0.66656\tvalidation_0-error:0.18183\n",
      "[73]\tvalidation_0-logloss:0.44884\tvalidation_0-auc:0.66646\tvalidation_0-error:0.18191\n",
      "[74]\tvalidation_0-logloss:0.44881\tvalidation_0-auc:0.66651\tvalidation_0-error:0.18208\n",
      "[75]\tvalidation_0-logloss:0.44877\tvalidation_0-auc:0.66661\tvalidation_0-error:0.18183\n",
      "[76]\tvalidation_0-logloss:0.44871\tvalidation_0-auc:0.66673\tvalidation_0-error:0.18191\n",
      "[77]\tvalidation_0-logloss:0.44866\tvalidation_0-auc:0.66701\tvalidation_0-error:0.18199\n",
      "[78]\tvalidation_0-logloss:0.44859\tvalidation_0-auc:0.66725\tvalidation_0-error:0.18191\n",
      "[79]\tvalidation_0-logloss:0.44863\tvalidation_0-auc:0.66721\tvalidation_0-error:0.18199\n",
      "[80]\tvalidation_0-logloss:0.44871\tvalidation_0-auc:0.66693\tvalidation_0-error:0.18183\n",
      "[81]\tvalidation_0-logloss:0.44871\tvalidation_0-auc:0.66724\tvalidation_0-error:0.18159\n",
      "[82]\tvalidation_0-logloss:0.44875\tvalidation_0-auc:0.66711\tvalidation_0-error:0.18175\n",
      "[83]\tvalidation_0-logloss:0.44872\tvalidation_0-auc:0.66736\tvalidation_0-error:0.18183\n",
      "[84]\tvalidation_0-logloss:0.44876\tvalidation_0-auc:0.66723\tvalidation_0-error:0.18191\n",
      "[85]\tvalidation_0-logloss:0.44876\tvalidation_0-auc:0.66732\tvalidation_0-error:0.18199\n",
      "[86]\tvalidation_0-logloss:0.44875\tvalidation_0-auc:0.66734\tvalidation_0-error:0.18216\n",
      "[87]\tvalidation_0-logloss:0.44881\tvalidation_0-auc:0.66728\tvalidation_0-error:0.18240\n",
      "[88]\tvalidation_0-logloss:0.44878\tvalidation_0-auc:0.66765\tvalidation_0-error:0.18264\n",
      "[89]\tvalidation_0-logloss:0.44877\tvalidation_0-auc:0.66774\tvalidation_0-error:0.18272\n",
      "[90]\tvalidation_0-logloss:0.44873\tvalidation_0-auc:0.66790\tvalidation_0-error:0.18272\n",
      "[91]\tvalidation_0-logloss:0.44865\tvalidation_0-auc:0.66815\tvalidation_0-error:0.18280\n",
      "[92]\tvalidation_0-logloss:0.44872\tvalidation_0-auc:0.66805\tvalidation_0-error:0.18264\n",
      "[93]\tvalidation_0-logloss:0.44857\tvalidation_0-auc:0.66853\tvalidation_0-error:0.18264\n",
      "[94]\tvalidation_0-logloss:0.44860\tvalidation_0-auc:0.66830\tvalidation_0-error:0.18280\n",
      "[95]\tvalidation_0-logloss:0.44853\tvalidation_0-auc:0.66858\tvalidation_0-error:0.18288\n",
      "[96]\tvalidation_0-logloss:0.44857\tvalidation_0-auc:0.66863\tvalidation_0-error:0.18272\n",
      "[97]\tvalidation_0-logloss:0.44852\tvalidation_0-auc:0.66866\tvalidation_0-error:0.18288\n",
      "[98]\tvalidation_0-logloss:0.44859\tvalidation_0-auc:0.66850\tvalidation_0-error:0.18321\n",
      "[99]\tvalidation_0-logloss:0.44857\tvalidation_0-auc:0.66867\tvalidation_0-error:0.18280\n",
      "0.5150645177426398\n"
     ]
    }
   ],
   "source": [
    "import xgboost as xgb\n",
    "from sklearn.metrics import auc, roc_auc_score\n",
    "\n",
    "model_xgb = xgb.XGBClassifier(\n",
    "    n_estimators=100,\n",
    "    max_depth=6,\n",
    "    learning_rate=0.1,\n",
    "    objective=\"binary:logistic\",\n",
    "    use_label_encoder=False,\n",
    "    eval_metric=['logloss', 'auc', 'error'],\n",
    "    tree_method = \"hist\", \n",
    "    device = \"cuda\",\n",
    ")\n",
    "model_xgb.fit(X_train, y_train, eval_set=[(X_test, y_test)])\n",
    "print(roc_auc_score(y_test, model_xgb.predict(X_test)))"
   ]
  },
  {
   "cell_type": "markdown",
   "metadata": {},
   "source": [
    "## grid test"
   ]
  },
  {
   "cell_type": "code",
   "execution_count": 16,
   "metadata": {},
   "outputs": [],
   "source": [
    "best_params = {'gamma': 0, 'learning_rate': 0.1, 'max_depth': 2, 'n_estimators': 300, 'random_state': 42, 'reg_alpha': 0.3}\n"
   ]
  },
  {
   "cell_type": "code",
   "execution_count": 12,
   "metadata": {},
   "outputs": [
    {
     "data": {
      "text/plain": [
       "([{'gamma': 0,\n",
       "   'learning_rate': 0.05,\n",
       "   'max_depth': 2,\n",
       "   'n_estimators': 800,\n",
       "   'random_state': 42,\n",
       "   'reg_alpha': 0.4,\n",
       "   'reg_lambda': 10},\n",
       "  {'gamma': 0.1,\n",
       "   'learning_rate': 0.05,\n",
       "   'max_depth': 2,\n",
       "   'n_estimators': 800,\n",
       "   'random_state': 42,\n",
       "   'reg_alpha': 0.4,\n",
       "   'reg_lambda': 10},\n",
       "  {'gamma': 0.1,\n",
       "   'learning_rate': 0.1,\n",
       "   'max_depth': 2,\n",
       "   'n_estimators': 400,\n",
       "   'random_state': 42,\n",
       "   'reg_alpha': 0.2,\n",
       "   'reg_lambda': 10},\n",
       "  {'gamma': 0,\n",
       "   'learning_rate': 0.1,\n",
       "   'max_depth': 2,\n",
       "   'n_estimators': 400,\n",
       "   'random_state': 42,\n",
       "   'reg_alpha': 0.2,\n",
       "   'reg_lambda': 10},\n",
       "  {'gamma': 0.1,\n",
       "   'learning_rate': 0.05,\n",
       "   'max_depth': 2,\n",
       "   'n_estimators': 800,\n",
       "   'random_state': 42,\n",
       "   'reg_alpha': 0.4,\n",
       "   'reg_lambda': 1}],\n",
       " array([0.66952076, 0.66952076, 0.66922311, 0.66922311, 0.6691037 ]))"
      ]
     },
     "execution_count": 12,
     "metadata": {},
     "output_type": "execute_result"
    }
   ],
   "source": [
    "best_n_params, best_n_score"
   ]
  },
  {
   "cell_type": "code",
   "execution_count": 20,
   "metadata": {},
   "outputs": [
    {
     "name": "stdout",
     "output_type": "stream",
     "text": [
      "[0]\tvalidation_0-auc:0.57896\n",
      "[1]\tvalidation_0-auc:0.60028\n",
      "[2]\tvalidation_0-auc:0.60318\n",
      "[3]\tvalidation_0-auc:0.60962\n",
      "[4]\tvalidation_0-auc:0.61579\n",
      "[5]\tvalidation_0-auc:0.62000\n",
      "[6]\tvalidation_0-auc:0.62724\n",
      "[7]\tvalidation_0-auc:0.62747\n",
      "[8]\tvalidation_0-auc:0.63046\n",
      "[9]\tvalidation_0-auc:0.63348\n",
      "[10]\tvalidation_0-auc:0.63337\n",
      "[11]\tvalidation_0-auc:0.63389\n",
      "[12]\tvalidation_0-auc:0.63391\n",
      "[13]\tvalidation_0-auc:0.63532\n",
      "[14]\tvalidation_0-auc:0.63551\n",
      "[15]\tvalidation_0-auc:0.63657\n",
      "[16]\tvalidation_0-auc:0.63840\n",
      "[17]\tvalidation_0-auc:0.63926\n",
      "[18]\tvalidation_0-auc:0.64094\n",
      "[19]\tvalidation_0-auc:0.64229\n",
      "[20]\tvalidation_0-auc:0.64242\n",
      "[21]\tvalidation_0-auc:0.64335\n",
      "[22]\tvalidation_0-auc:0.64335\n",
      "[23]\tvalidation_0-auc:0.64414\n",
      "[24]\tvalidation_0-auc:0.64473\n",
      "[25]\tvalidation_0-auc:0.64425\n",
      "[26]\tvalidation_0-auc:0.64560\n",
      "[27]\tvalidation_0-auc:0.64600\n",
      "[28]\tvalidation_0-auc:0.64706\n",
      "[29]\tvalidation_0-auc:0.64736\n",
      "[30]\tvalidation_0-auc:0.64794\n",
      "[31]\tvalidation_0-auc:0.64875\n",
      "[32]\tvalidation_0-auc:0.64907\n",
      "[33]\tvalidation_0-auc:0.64963\n",
      "[34]\tvalidation_0-auc:0.64993\n",
      "[35]\tvalidation_0-auc:0.65067\n",
      "[36]\tvalidation_0-auc:0.65039\n",
      "[37]\tvalidation_0-auc:0.65097\n",
      "[38]\tvalidation_0-auc:0.65134\n",
      "[39]\tvalidation_0-auc:0.65131\n",
      "[40]\tvalidation_0-auc:0.65218\n",
      "[41]\tvalidation_0-auc:0.65223\n",
      "[42]\tvalidation_0-auc:0.65268\n",
      "[43]\tvalidation_0-auc:0.65262\n",
      "[44]\tvalidation_0-auc:0.65271\n",
      "[45]\tvalidation_0-auc:0.65307\n",
      "[46]\tvalidation_0-auc:0.65347\n",
      "[47]\tvalidation_0-auc:0.65399\n",
      "[48]\tvalidation_0-auc:0.65424\n",
      "[49]\tvalidation_0-auc:0.65450\n",
      "[50]\tvalidation_0-auc:0.65426\n",
      "[51]\tvalidation_0-auc:0.65433\n",
      "[52]\tvalidation_0-auc:0.65471\n",
      "[53]\tvalidation_0-auc:0.65515\n",
      "[54]\tvalidation_0-auc:0.65538\n",
      "[55]\tvalidation_0-auc:0.65572\n",
      "[56]\tvalidation_0-auc:0.65600\n",
      "[57]\tvalidation_0-auc:0.65649\n",
      "[58]\tvalidation_0-auc:0.65669\n",
      "[59]\tvalidation_0-auc:0.65720\n",
      "[60]\tvalidation_0-auc:0.65714\n",
      "[61]\tvalidation_0-auc:0.65772\n",
      "[62]\tvalidation_0-auc:0.65811\n",
      "[63]\tvalidation_0-auc:0.65797\n",
      "[64]\tvalidation_0-auc:0.65829\n",
      "[65]\tvalidation_0-auc:0.65864\n",
      "[66]\tvalidation_0-auc:0.65896\n",
      "[67]\tvalidation_0-auc:0.65923\n",
      "[68]\tvalidation_0-auc:0.65921\n",
      "[69]\tvalidation_0-auc:0.65919\n",
      "[70]\tvalidation_0-auc:0.65955\n",
      "[71]\tvalidation_0-auc:0.65977\n",
      "[72]\tvalidation_0-auc:0.66024\n",
      "[73]\tvalidation_0-auc:0.66046\n",
      "[74]\tvalidation_0-auc:0.66069\n",
      "[75]\tvalidation_0-auc:0.66081\n",
      "[76]\tvalidation_0-auc:0.66064\n",
      "[77]\tvalidation_0-auc:0.66069\n",
      "[78]\tvalidation_0-auc:0.66122\n",
      "[79]\tvalidation_0-auc:0.66175\n",
      "[80]\tvalidation_0-auc:0.66192\n",
      "[81]\tvalidation_0-auc:0.66191\n",
      "[82]\tvalidation_0-auc:0.66206\n",
      "[83]\tvalidation_0-auc:0.66239\n",
      "[84]\tvalidation_0-auc:0.66266\n",
      "[85]\tvalidation_0-auc:0.66254\n",
      "[86]\tvalidation_0-auc:0.66316\n",
      "[87]\tvalidation_0-auc:0.66345\n",
      "[88]\tvalidation_0-auc:0.66373\n",
      "[89]\tvalidation_0-auc:0.66376\n",
      "[90]\tvalidation_0-auc:0.66364\n",
      "[91]\tvalidation_0-auc:0.66383\n",
      "[92]\tvalidation_0-auc:0.66372\n",
      "[93]\tvalidation_0-auc:0.66374\n",
      "[94]\tvalidation_0-auc:0.66367\n",
      "[95]\tvalidation_0-auc:0.66408\n",
      "[96]\tvalidation_0-auc:0.66446\n",
      "[97]\tvalidation_0-auc:0.66460\n",
      "[98]\tvalidation_0-auc:0.66448\n",
      "[99]\tvalidation_0-auc:0.66471\n",
      "[100]\tvalidation_0-auc:0.66494\n",
      "[101]\tvalidation_0-auc:0.66522\n",
      "[102]\tvalidation_0-auc:0.66524\n",
      "[103]\tvalidation_0-auc:0.66524\n",
      "[104]\tvalidation_0-auc:0.66524\n",
      "[105]\tvalidation_0-auc:0.66536\n",
      "[106]\tvalidation_0-auc:0.66552\n",
      "[107]\tvalidation_0-auc:0.66591\n",
      "[108]\tvalidation_0-auc:0.66609\n",
      "[109]\tvalidation_0-auc:0.66595\n",
      "[110]\tvalidation_0-auc:0.66631\n",
      "[111]\tvalidation_0-auc:0.66619\n",
      "[112]\tvalidation_0-auc:0.66644\n",
      "[113]\tvalidation_0-auc:0.66679\n",
      "[114]\tvalidation_0-auc:0.66659\n",
      "[115]\tvalidation_0-auc:0.66665\n",
      "[116]\tvalidation_0-auc:0.66652\n",
      "[117]\tvalidation_0-auc:0.66656\n",
      "[118]\tvalidation_0-auc:0.66677\n",
      "[119]\tvalidation_0-auc:0.66658\n",
      "[120]\tvalidation_0-auc:0.66690\n",
      "[121]\tvalidation_0-auc:0.66693\n",
      "[122]\tvalidation_0-auc:0.66689\n",
      "[123]\tvalidation_0-auc:0.66706\n",
      "[124]\tvalidation_0-auc:0.66707\n",
      "[125]\tvalidation_0-auc:0.66732\n",
      "[126]\tvalidation_0-auc:0.66740\n",
      "[127]\tvalidation_0-auc:0.66728\n",
      "[128]\tvalidation_0-auc:0.66730\n",
      "[129]\tvalidation_0-auc:0.66742\n",
      "[130]\tvalidation_0-auc:0.66750\n",
      "[131]\tvalidation_0-auc:0.66744\n",
      "[132]\tvalidation_0-auc:0.66759\n",
      "[133]\tvalidation_0-auc:0.66775\n",
      "[134]\tvalidation_0-auc:0.66779\n",
      "[135]\tvalidation_0-auc:0.66779\n",
      "[136]\tvalidation_0-auc:0.66787\n",
      "[137]\tvalidation_0-auc:0.66803\n",
      "[138]\tvalidation_0-auc:0.66824\n",
      "[139]\tvalidation_0-auc:0.66826\n",
      "[140]\tvalidation_0-auc:0.66838\n",
      "[141]\tvalidation_0-auc:0.66855\n",
      "[142]\tvalidation_0-auc:0.66873\n",
      "[143]\tvalidation_0-auc:0.66884\n",
      "[144]\tvalidation_0-auc:0.66906\n",
      "[145]\tvalidation_0-auc:0.66915\n",
      "[146]\tvalidation_0-auc:0.66913\n",
      "[147]\tvalidation_0-auc:0.66917\n",
      "[148]\tvalidation_0-auc:0.66926\n",
      "[149]\tvalidation_0-auc:0.66919\n",
      "[150]\tvalidation_0-auc:0.66918\n",
      "[151]\tvalidation_0-auc:0.66936\n",
      "[152]\tvalidation_0-auc:0.66934\n",
      "[153]\tvalidation_0-auc:0.66940\n",
      "[154]\tvalidation_0-auc:0.66959\n",
      "[155]\tvalidation_0-auc:0.66960\n",
      "[156]\tvalidation_0-auc:0.66955\n",
      "[157]\tvalidation_0-auc:0.66951\n",
      "[158]\tvalidation_0-auc:0.66956\n",
      "[159]\tvalidation_0-auc:0.66973\n",
      "[160]\tvalidation_0-auc:0.66986\n",
      "[161]\tvalidation_0-auc:0.66988\n",
      "[162]\tvalidation_0-auc:0.67007\n",
      "[163]\tvalidation_0-auc:0.67002\n",
      "[164]\tvalidation_0-auc:0.67017\n",
      "[165]\tvalidation_0-auc:0.67018\n",
      "[166]\tvalidation_0-auc:0.67020\n",
      "[167]\tvalidation_0-auc:0.67031\n",
      "[168]\tvalidation_0-auc:0.67044\n",
      "[169]\tvalidation_0-auc:0.67085\n",
      "[170]\tvalidation_0-auc:0.67108\n",
      "[171]\tvalidation_0-auc:0.67115\n",
      "[172]\tvalidation_0-auc:0.67116\n",
      "[173]\tvalidation_0-auc:0.67120\n",
      "[174]\tvalidation_0-auc:0.67122\n",
      "[175]\tvalidation_0-auc:0.67148\n",
      "[176]\tvalidation_0-auc:0.67141\n",
      "[177]\tvalidation_0-auc:0.67139\n",
      "[178]\tvalidation_0-auc:0.67136\n",
      "[179]\tvalidation_0-auc:0.67118\n",
      "[180]\tvalidation_0-auc:0.67122\n",
      "[181]\tvalidation_0-auc:0.67147\n",
      "[182]\tvalidation_0-auc:0.67147\n",
      "[183]\tvalidation_0-auc:0.67153\n",
      "[184]\tvalidation_0-auc:0.67175\n",
      "[185]\tvalidation_0-auc:0.67205\n",
      "[186]\tvalidation_0-auc:0.67218\n",
      "[187]\tvalidation_0-auc:0.67233\n",
      "[188]\tvalidation_0-auc:0.67250\n",
      "[189]\tvalidation_0-auc:0.67257\n",
      "[190]\tvalidation_0-auc:0.67255\n",
      "[191]\tvalidation_0-auc:0.67280\n",
      "[192]\tvalidation_0-auc:0.67277\n",
      "[193]\tvalidation_0-auc:0.67309\n",
      "[194]\tvalidation_0-auc:0.67321\n",
      "[195]\tvalidation_0-auc:0.67322\n",
      "[196]\tvalidation_0-auc:0.67345\n",
      "[197]\tvalidation_0-auc:0.67367\n",
      "[198]\tvalidation_0-auc:0.67370\n",
      "[199]\tvalidation_0-auc:0.67379\n",
      "[200]\tvalidation_0-auc:0.67388\n",
      "[201]\tvalidation_0-auc:0.67394\n",
      "[202]\tvalidation_0-auc:0.67408\n",
      "[203]\tvalidation_0-auc:0.67424\n",
      "[204]\tvalidation_0-auc:0.67424\n",
      "[205]\tvalidation_0-auc:0.67425\n",
      "[206]\tvalidation_0-auc:0.67422\n",
      "[207]\tvalidation_0-auc:0.67441\n",
      "[208]\tvalidation_0-auc:0.67442\n",
      "[209]\tvalidation_0-auc:0.67441\n",
      "[210]\tvalidation_0-auc:0.67470\n",
      "[211]\tvalidation_0-auc:0.67467\n",
      "[212]\tvalidation_0-auc:0.67470\n",
      "[213]\tvalidation_0-auc:0.67494\n",
      "[214]\tvalidation_0-auc:0.67483\n",
      "[215]\tvalidation_0-auc:0.67480\n",
      "[216]\tvalidation_0-auc:0.67488\n",
      "[217]\tvalidation_0-auc:0.67493\n",
      "[218]\tvalidation_0-auc:0.67513\n",
      "[219]\tvalidation_0-auc:0.67514\n",
      "[220]\tvalidation_0-auc:0.67507\n",
      "[221]\tvalidation_0-auc:0.67509\n",
      "[222]\tvalidation_0-auc:0.67514\n",
      "[223]\tvalidation_0-auc:0.67511\n",
      "[224]\tvalidation_0-auc:0.67511\n",
      "[225]\tvalidation_0-auc:0.67513\n",
      "[226]\tvalidation_0-auc:0.67528\n",
      "[227]\tvalidation_0-auc:0.67529\n",
      "[228]\tvalidation_0-auc:0.67525\n",
      "[229]\tvalidation_0-auc:0.67533\n",
      "[230]\tvalidation_0-auc:0.67544\n",
      "[231]\tvalidation_0-auc:0.67541\n",
      "[232]\tvalidation_0-auc:0.67545\n",
      "[233]\tvalidation_0-auc:0.67550\n",
      "[234]\tvalidation_0-auc:0.67571\n",
      "[235]\tvalidation_0-auc:0.67578\n",
      "[236]\tvalidation_0-auc:0.67601\n",
      "[237]\tvalidation_0-auc:0.67610\n",
      "[238]\tvalidation_0-auc:0.67609\n",
      "[239]\tvalidation_0-auc:0.67601\n",
      "[240]\tvalidation_0-auc:0.67609\n",
      "[241]\tvalidation_0-auc:0.67617\n",
      "[242]\tvalidation_0-auc:0.67614\n",
      "[243]\tvalidation_0-auc:0.67631\n",
      "[244]\tvalidation_0-auc:0.67634\n",
      "[245]\tvalidation_0-auc:0.67643\n",
      "[246]\tvalidation_0-auc:0.67648\n",
      "[247]\tvalidation_0-auc:0.67656\n",
      "[248]\tvalidation_0-auc:0.67659\n",
      "[249]\tvalidation_0-auc:0.67664\n",
      "[250]\tvalidation_0-auc:0.67673\n",
      "[251]\tvalidation_0-auc:0.67688\n",
      "[252]\tvalidation_0-auc:0.67688\n",
      "[253]\tvalidation_0-auc:0.67695\n",
      "[254]\tvalidation_0-auc:0.67699\n",
      "[255]\tvalidation_0-auc:0.67703\n",
      "[256]\tvalidation_0-auc:0.67693\n",
      "[257]\tvalidation_0-auc:0.67711\n",
      "[258]\tvalidation_0-auc:0.67717\n",
      "[259]\tvalidation_0-auc:0.67724\n",
      "[260]\tvalidation_0-auc:0.67733\n",
      "[261]\tvalidation_0-auc:0.67734\n",
      "[262]\tvalidation_0-auc:0.67742\n",
      "[263]\tvalidation_0-auc:0.67742\n",
      "[264]\tvalidation_0-auc:0.67736\n",
      "[265]\tvalidation_0-auc:0.67742\n",
      "[266]\tvalidation_0-auc:0.67751\n",
      "[267]\tvalidation_0-auc:0.67759\n",
      "[268]\tvalidation_0-auc:0.67784\n",
      "[269]\tvalidation_0-auc:0.67781\n",
      "[270]\tvalidation_0-auc:0.67781\n",
      "[271]\tvalidation_0-auc:0.67782\n",
      "[272]\tvalidation_0-auc:0.67789\n",
      "[273]\tvalidation_0-auc:0.67789\n",
      "[274]\tvalidation_0-auc:0.67796\n",
      "[275]\tvalidation_0-auc:0.67801\n",
      "[276]\tvalidation_0-auc:0.67816\n",
      "[277]\tvalidation_0-auc:0.67830\n",
      "[278]\tvalidation_0-auc:0.67829\n",
      "[279]\tvalidation_0-auc:0.67828\n",
      "[280]\tvalidation_0-auc:0.67841\n",
      "[281]\tvalidation_0-auc:0.67841\n",
      "[282]\tvalidation_0-auc:0.67848\n",
      "[283]\tvalidation_0-auc:0.67854\n",
      "[284]\tvalidation_0-auc:0.67846\n",
      "[285]\tvalidation_0-auc:0.67845\n",
      "[286]\tvalidation_0-auc:0.67839\n",
      "[287]\tvalidation_0-auc:0.67839\n",
      "[288]\tvalidation_0-auc:0.67832\n",
      "[289]\tvalidation_0-auc:0.67834\n",
      "[290]\tvalidation_0-auc:0.67826\n",
      "[291]\tvalidation_0-auc:0.67824\n",
      "[292]\tvalidation_0-auc:0.67832\n",
      "[293]\tvalidation_0-auc:0.67835\n",
      "[294]\tvalidation_0-auc:0.67838\n",
      "[295]\tvalidation_0-auc:0.67831\n",
      "[296]\tvalidation_0-auc:0.67846\n",
      "[297]\tvalidation_0-auc:0.67847\n",
      "[298]\tvalidation_0-auc:0.67852\n",
      "[299]\tvalidation_0-auc:0.67875\n",
      "0.6787534524617168\n"
     ]
    }
   ],
   "source": [
    "# use the best params to predict\n",
    "import xgboost as xgb\n",
    "from sklearn.metrics import auc, roc_auc_score\n",
    "\n",
    "model_xgb = xgb.XGBClassifier(\n",
    "    **best_params,\n",
    "    objective=\"binary:logistic\",\n",
    "    use_label_encoder=False,\n",
    "    eval_metric='auc',\n",
    "    tree_method = \"hist\", \n",
    "    device = \"cuda\",\n",
    "    early_stopping_rounds = 10,\n",
    ")\n",
    "model_xgb.fit(X_train, y_train, eval_set=[(X_test, y_test)])\n",
    "print(roc_auc_score(y_test, model_xgb.predict_proba(X_test)[:, 1]))"
   ]
  },
  {
   "cell_type": "code",
   "execution_count": 11,
   "metadata": {},
   "outputs": [
    {
     "name": "stdout",
     "output_type": "stream",
     "text": [
      "Fitting 5 folds for each of 192 candidates, totalling 960 fits\n"
     ]
    },
    {
     "name": "stderr",
     "output_type": "stream",
     "text": [
      "/puhome/24112456g/.conda/envs/SHPC-env/lib/python3.10/site-packages/xgboost/core.py:158: UserWarning: [02:08:38] WARNING: /workspace/src/common/error_msg.cc:58: Falling back to prediction using DMatrix due to mismatched devices. This might lead to higher memory usage and slower performance. XGBoost is running on: cuda:0, while the input data is on: cpu.\n",
      "Potential solutions:\n",
      "- Use a data structure that matches the device ordinal in the booster.\n",
      "- Set the device for booster before call to inplace_predict.\n",
      "\n",
      "This warning will only be shown once.\n",
      "\n",
      "  warnings.warn(smsg, UserWarning)\n",
      "/puhome/24112456g/.conda/envs/SHPC-env/lib/python3.10/site-packages/xgboost/core.py:158: UserWarning: [02:08:39] WARNING: /workspace/src/common/error_msg.cc:58: Falling back to prediction using DMatrix due to mismatched devices. This might lead to higher memory usage and slower performance. XGBoost is running on: cuda:0, while the input data is on: cpu.\n",
      "Potential solutions:\n",
      "- Use a data structure that matches the device ordinal in the booster.\n",
      "- Set the device for booster before call to inplace_predict.\n",
      "\n",
      "This warning will only be shown once.\n",
      "\n",
      "  warnings.warn(smsg, UserWarning)\n"
     ]
    },
    {
     "name": "stdout",
     "output_type": "stream",
     "text": [
      "[CV] END gamma=0, learning_rate=0.1, max_depth=2, n_estimators=400, random_state=42, reg_alpha=0, reg_lambda=1; total time=  51.0s\n",
      "[CV] END gamma=0, learning_rate=0.1, max_depth=2, n_estimators=400, random_state=42, reg_alpha=0, reg_lambda=0.1; total time=  51.5s\n"
     ]
    },
    {
     "name": "stderr",
     "output_type": "stream",
     "text": [
      "/puhome/24112456g/.conda/envs/SHPC-env/lib/python3.10/site-packages/xgboost/core.py:158: UserWarning: [02:08:46] WARNING: /workspace/src/common/error_msg.cc:58: Falling back to prediction using DMatrix due to mismatched devices. This might lead to higher memory usage and slower performance. XGBoost is running on: cuda:0, while the input data is on: cpu.\n",
      "Potential solutions:\n",
      "- Use a data structure that matches the device ordinal in the booster.\n",
      "- Set the device for booster before call to inplace_predict.\n",
      "\n",
      "This warning will only be shown once.\n",
      "\n",
      "  warnings.warn(smsg, UserWarning)\n",
      "/puhome/24112456g/.conda/envs/SHPC-env/lib/python3.10/site-packages/xgboost/core.py:158: UserWarning: [02:08:47] WARNING: /workspace/src/common/error_msg.cc:58: Falling back to prediction using DMatrix due to mismatched devices. This might lead to higher memory usage and slower performance. XGBoost is running on: cuda:0, while the input data is on: cpu.\n",
      "Potential solutions:\n",
      "- Use a data structure that matches the device ordinal in the booster.\n",
      "- Set the device for booster before call to inplace_predict.\n",
      "\n",
      "This warning will only be shown once.\n",
      "\n",
      "  warnings.warn(smsg, UserWarning)\n",
      "/puhome/24112456g/.conda/envs/SHPC-env/lib/python3.10/site-packages/xgboost/core.py:158: UserWarning: [02:08:47] WARNING: /workspace/src/common/error_msg.cc:58: Falling back to prediction using DMatrix due to mismatched devices. This might lead to higher memory usage and slower performance. XGBoost is running on: cuda:0, while the input data is on: cpu.\n",
      "Potential solutions:\n",
      "- Use a data structure that matches the device ordinal in the booster.\n",
      "- Set the device for booster before call to inplace_predict.\n",
      "\n",
      "This warning will only be shown once.\n",
      "\n",
      "  warnings.warn(smsg, UserWarning)\n",
      "/puhome/24112456g/.conda/envs/SHPC-env/lib/python3.10/site-packages/xgboost/core.py:158: UserWarning: [02:08:47] WARNING: /workspace/src/common/error_msg.cc:58: Falling back to prediction using DMatrix due to mismatched devices. This might lead to higher memory usage and slower performance. XGBoost is running on: cuda:0, while the input data is on: cpu.\n",
      "Potential solutions:\n",
      "- Use a data structure that matches the device ordinal in the booster.\n",
      "- Set the device for booster before call to inplace_predict.\n",
      "\n",
      "This warning will only be shown once.\n",
      "\n",
      "  warnings.warn(smsg, UserWarning)\n"
     ]
    },
    {
     "name": "stdout",
     "output_type": "stream",
     "text": [
      "[CV] END gamma=0, learning_rate=0.1, max_depth=2, n_estimators=400, random_state=42, reg_alpha=0, reg_lambda=0.1; total time=  59.6s\n",
      "[CV] END gamma=0, learning_rate=0.1, max_depth=2, n_estimators=400, random_state=42, reg_alpha=0, reg_lambda=0.1; total time=  59.9s\n",
      "[CV] END gamma=0, learning_rate=0.1, max_depth=2, n_estimators=400, random_state=42, reg_alpha=0, reg_lambda=0.1; total time=  60.0s\n",
      "[CV] END gamma=0, learning_rate=0.1, max_depth=2, n_estimators=400, random_state=42, reg_alpha=0, reg_lambda=0.1; total time= 1.0min\n",
      "[CV] END gamma=0, learning_rate=0.1, max_depth=2, n_estimators=400, random_state=42, reg_alpha=0, reg_lambda=1; total time=  57.9s\n",
      "[CV] END gamma=0, learning_rate=0.1, max_depth=2, n_estimators=400, random_state=42, reg_alpha=0, reg_lambda=1; total time=  58.9s\n",
      "[CV] END gamma=0, learning_rate=0.1, max_depth=2, n_estimators=400, random_state=42, reg_alpha=0, reg_lambda=10; total time=  57.6s\n",
      "[CV] END gamma=0, learning_rate=0.1, max_depth=2, n_estimators=400, random_state=42, reg_alpha=0, reg_lambda=1; total time= 1.0min\n",
      "[CV] END gamma=0, learning_rate=0.1, max_depth=2, n_estimators=400, random_state=42, reg_alpha=0, reg_lambda=1; total time= 1.0min\n",
      "[CV] END gamma=0, learning_rate=0.1, max_depth=2, n_estimators=400, random_state=42, reg_alpha=0, reg_lambda=10; total time= 1.0min\n"
     ]
    },
    {
     "name": "stderr",
     "output_type": "stream",
     "text": [
      "/puhome/24112456g/.conda/envs/SHPC-env/lib/python3.10/site-packages/xgboost/core.py:158: UserWarning: [02:10:30] WARNING: /workspace/src/common/error_msg.cc:58: Falling back to prediction using DMatrix due to mismatched devices. This might lead to higher memory usage and slower performance. XGBoost is running on: cuda:0, while the input data is on: cpu.\n",
      "Potential solutions:\n",
      "- Use a data structure that matches the device ordinal in the booster.\n",
      "- Set the device for booster before call to inplace_predict.\n",
      "\n",
      "This warning will only be shown once.\n",
      "\n",
      "  warnings.warn(smsg, UserWarning)\n",
      "/puhome/24112456g/.conda/envs/SHPC-env/lib/python3.10/site-packages/xgboost/core.py:158: UserWarning: [02:10:32] WARNING: /workspace/src/common/error_msg.cc:58: Falling back to prediction using DMatrix due to mismatched devices. This might lead to higher memory usage and slower performance. XGBoost is running on: cuda:0, while the input data is on: cpu.\n",
      "Potential solutions:\n",
      "- Use a data structure that matches the device ordinal in the booster.\n",
      "- Set the device for booster before call to inplace_predict.\n",
      "\n",
      "This warning will only be shown once.\n",
      "\n",
      "  warnings.warn(smsg, UserWarning)\n"
     ]
    },
    {
     "name": "stdout",
     "output_type": "stream",
     "text": [
      "[CV] END gamma=0, learning_rate=0.1, max_depth=2, n_estimators=400, random_state=42, reg_alpha=0, reg_lambda=10; total time=  48.6s\n",
      "[CV] END gamma=0, learning_rate=0.1, max_depth=2, n_estimators=400, random_state=42, reg_alpha=0, reg_lambda=10; total time=  48.8s\n"
     ]
    },
    {
     "name": "stderr",
     "output_type": "stream",
     "text": [
      "/puhome/24112456g/.conda/envs/SHPC-env/lib/python3.10/site-packages/xgboost/core.py:158: UserWarning: [02:10:43] WARNING: /workspace/src/common/error_msg.cc:58: Falling back to prediction using DMatrix due to mismatched devices. This might lead to higher memory usage and slower performance. XGBoost is running on: cuda:0, while the input data is on: cpu.\n",
      "Potential solutions:\n",
      "- Use a data structure that matches the device ordinal in the booster.\n",
      "- Set the device for booster before call to inplace_predict.\n",
      "\n",
      "This warning will only be shown once.\n",
      "\n",
      "  warnings.warn(smsg, UserWarning)\n",
      "/puhome/24112456g/.conda/envs/SHPC-env/lib/python3.10/site-packages/xgboost/core.py:158: UserWarning: [02:10:44] WARNING: /workspace/src/common/error_msg.cc:58: Falling back to prediction using DMatrix due to mismatched devices. This might lead to higher memory usage and slower performance. XGBoost is running on: cuda:0, while the input data is on: cpu.\n",
      "Potential solutions:\n",
      "- Use a data structure that matches the device ordinal in the booster.\n",
      "- Set the device for booster before call to inplace_predict.\n",
      "\n",
      "This warning will only be shown once.\n",
      "\n",
      "  warnings.warn(smsg, UserWarning)\n"
     ]
    },
    {
     "name": "stdout",
     "output_type": "stream",
     "text": [
      "[CV] END gamma=0, learning_rate=0.1, max_depth=2, n_estimators=400, random_state=42, reg_alpha=0.2, reg_lambda=0.1; total time=  48.4s\n",
      "[CV] END gamma=0, learning_rate=0.1, max_depth=2, n_estimators=400, random_state=42, reg_alpha=0, reg_lambda=10; total time=  53.8s\n"
     ]
    },
    {
     "name": "stderr",
     "output_type": "stream",
     "text": [
      "/puhome/24112456g/.conda/envs/SHPC-env/lib/python3.10/site-packages/xgboost/core.py:158: UserWarning: [02:10:47] WARNING: /workspace/src/common/error_msg.cc:58: Falling back to prediction using DMatrix due to mismatched devices. This might lead to higher memory usage and slower performance. XGBoost is running on: cuda:0, while the input data is on: cpu.\n",
      "Potential solutions:\n",
      "- Use a data structure that matches the device ordinal in the booster.\n",
      "- Set the device for booster before call to inplace_predict.\n",
      "\n",
      "This warning will only be shown once.\n",
      "\n",
      "  warnings.warn(smsg, UserWarning)\n",
      "/puhome/24112456g/.conda/envs/SHPC-env/lib/python3.10/site-packages/xgboost/core.py:158: UserWarning: [02:10:47] WARNING: /workspace/src/common/error_msg.cc:58: Falling back to prediction using DMatrix due to mismatched devices. This might lead to higher memory usage and slower performance. XGBoost is running on: cuda:0, while the input data is on: cpu.\n",
      "Potential solutions:\n",
      "- Use a data structure that matches the device ordinal in the booster.\n",
      "- Set the device for booster before call to inplace_predict.\n",
      "\n",
      "This warning will only be shown once.\n",
      "\n",
      "  warnings.warn(smsg, UserWarning)\n"
     ]
    },
    {
     "name": "stdout",
     "output_type": "stream",
     "text": [
      "[CV] END gamma=0, learning_rate=0.1, max_depth=2, n_estimators=400, random_state=42, reg_alpha=0.2, reg_lambda=0.1; total time=  52.0s\n",
      "[CV] END gamma=0, learning_rate=0.1, max_depth=2, n_estimators=400, random_state=42, reg_alpha=0.2, reg_lambda=0.1; total time=  51.8s\n",
      "[CV] END gamma=0, learning_rate=0.1, max_depth=2, n_estimators=400, random_state=42, reg_alpha=0.2, reg_lambda=0.1; total time=  53.5s\n",
      "[CV] END gamma=0, learning_rate=0.1, max_depth=2, n_estimators=400, random_state=42, reg_alpha=0.2, reg_lambda=0.1; total time=  54.3s\n",
      "[CV] END gamma=0, learning_rate=0.1, max_depth=2, n_estimators=400, random_state=42, reg_alpha=0.2, reg_lambda=1; total time=  48.8s\n",
      "[CV] END gamma=0, learning_rate=0.1, max_depth=2, n_estimators=400, random_state=42, reg_alpha=0.2, reg_lambda=1; total time=  56.5s\n",
      "[CV] END gamma=0, learning_rate=0.1, max_depth=2, n_estimators=400, random_state=42, reg_alpha=0.2, reg_lambda=1; total time=  56.5s\n",
      "[CV] END gamma=0, learning_rate=0.1, max_depth=2, n_estimators=400, random_state=42, reg_alpha=0.2, reg_lambda=1; total time=  56.4s\n"
     ]
    },
    {
     "name": "stderr",
     "output_type": "stream",
     "text": [
      "/puhome/24112456g/.conda/envs/SHPC-env/lib/python3.10/site-packages/xgboost/core.py:158: UserWarning: [02:12:12] WARNING: /workspace/src/common/error_msg.cc:58: Falling back to prediction using DMatrix due to mismatched devices. This might lead to higher memory usage and slower performance. XGBoost is running on: cuda:0, while the input data is on: cpu.\n",
      "Potential solutions:\n",
      "- Use a data structure that matches the device ordinal in the booster.\n",
      "- Set the device for booster before call to inplace_predict.\n",
      "\n",
      "This warning will only be shown once.\n",
      "\n",
      "  warnings.warn(smsg, UserWarning)\n"
     ]
    },
    {
     "name": "stdout",
     "output_type": "stream",
     "text": [
      "[CV] END gamma=0, learning_rate=0.1, max_depth=2, n_estimators=400, random_state=42, reg_alpha=0.2, reg_lambda=10; total time=  40.4s\n"
     ]
    },
    {
     "name": "stderr",
     "output_type": "stream",
     "text": [
      "/puhome/24112456g/.conda/envs/SHPC-env/lib/python3.10/site-packages/xgboost/core.py:158: UserWarning: [02:12:15] WARNING: /workspace/src/common/error_msg.cc:58: Falling back to prediction using DMatrix due to mismatched devices. This might lead to higher memory usage and slower performance. XGBoost is running on: cuda:0, while the input data is on: cpu.\n",
      "Potential solutions:\n",
      "- Use a data structure that matches the device ordinal in the booster.\n",
      "- Set the device for booster before call to inplace_predict.\n",
      "\n",
      "This warning will only be shown once.\n",
      "\n",
      "  warnings.warn(smsg, UserWarning)\n"
     ]
    },
    {
     "name": "stdout",
     "output_type": "stream",
     "text": [
      "[CV] END gamma=0, learning_rate=0.1, max_depth=2, n_estimators=400, random_state=42, reg_alpha=0.2, reg_lambda=1; total time=  45.3s\n"
     ]
    },
    {
     "name": "stderr",
     "output_type": "stream",
     "text": [
      "/puhome/24112456g/.conda/envs/SHPC-env/lib/python3.10/site-packages/xgboost/core.py:158: UserWarning: [02:12:21] WARNING: /workspace/src/common/error_msg.cc:58: Falling back to prediction using DMatrix due to mismatched devices. This might lead to higher memory usage and slower performance. XGBoost is running on: cuda:0, while the input data is on: cpu.\n",
      "Potential solutions:\n",
      "- Use a data structure that matches the device ordinal in the booster.\n",
      "- Set the device for booster before call to inplace_predict.\n",
      "\n",
      "This warning will only be shown once.\n",
      "\n",
      "  warnings.warn(smsg, UserWarning)\n"
     ]
    },
    {
     "name": "stdout",
     "output_type": "stream",
     "text": [
      "[CV] END gamma=0, learning_rate=0.1, max_depth=2, n_estimators=400, random_state=42, reg_alpha=0.2, reg_lambda=10; total time=  43.4s\n"
     ]
    },
    {
     "name": "stderr",
     "output_type": "stream",
     "text": [
      "/puhome/24112456g/.conda/envs/SHPC-env/lib/python3.10/site-packages/xgboost/core.py:158: UserWarning: [02:12:35] WARNING: /workspace/src/common/error_msg.cc:58: Falling back to prediction using DMatrix due to mismatched devices. This might lead to higher memory usage and slower performance. XGBoost is running on: cuda:0, while the input data is on: cpu.\n",
      "Potential solutions:\n",
      "- Use a data structure that matches the device ordinal in the booster.\n",
      "- Set the device for booster before call to inplace_predict.\n",
      "\n",
      "This warning will only be shown once.\n",
      "\n",
      "  warnings.warn(smsg, UserWarning)\n"
     ]
    },
    {
     "name": "stdout",
     "output_type": "stream",
     "text": [
      "[CV] END gamma=0, learning_rate=0.1, max_depth=2, n_estimators=400, random_state=42, reg_alpha=0.2, reg_lambda=10; total time=  47.8s\n"
     ]
    },
    {
     "name": "stderr",
     "output_type": "stream",
     "text": [
      "/puhome/24112456g/.conda/envs/SHPC-env/lib/python3.10/site-packages/xgboost/core.py:158: UserWarning: [02:12:39] WARNING: /workspace/src/common/error_msg.cc:58: Falling back to prediction using DMatrix due to mismatched devices. This might lead to higher memory usage and slower performance. XGBoost is running on: cuda:0, while the input data is on: cpu.\n",
      "Potential solutions:\n",
      "- Use a data structure that matches the device ordinal in the booster.\n",
      "- Set the device for booster before call to inplace_predict.\n",
      "\n",
      "This warning will only be shown once.\n",
      "\n",
      "  warnings.warn(smsg, UserWarning)\n",
      "/puhome/24112456g/.conda/envs/SHPC-env/lib/python3.10/site-packages/xgboost/core.py:158: UserWarning: [02:12:39] WARNING: /workspace/src/common/error_msg.cc:58: Falling back to prediction using DMatrix due to mismatched devices. This might lead to higher memory usage and slower performance. XGBoost is running on: cuda:0, while the input data is on: cpu.\n",
      "Potential solutions:\n",
      "- Use a data structure that matches the device ordinal in the booster.\n",
      "- Set the device for booster before call to inplace_predict.\n",
      "\n",
      "This warning will only be shown once.\n",
      "\n",
      "  warnings.warn(smsg, UserWarning)\n"
     ]
    },
    {
     "name": "stdout",
     "output_type": "stream",
     "text": [
      "[CV] END gamma=0, learning_rate=0.1, max_depth=2, n_estimators=400, random_state=42, reg_alpha=0.2, reg_lambda=10; total time=  49.2s\n",
      "[CV] END gamma=0, learning_rate=0.1, max_depth=2, n_estimators=400, random_state=42, reg_alpha=0.2, reg_lambda=10; total time=  49.5s\n",
      "[CV] END gamma=0, learning_rate=0.1, max_depth=2, n_estimators=400, random_state=42, reg_alpha=0.3, reg_lambda=0.1; total time=  45.6s\n",
      "[CV] END gamma=0, learning_rate=0.1, max_depth=2, n_estimators=400, random_state=42, reg_alpha=0.3, reg_lambda=0.1; total time=  51.1s\n",
      "[CV] END gamma=0, learning_rate=0.1, max_depth=2, n_estimators=400, random_state=42, reg_alpha=0.3, reg_lambda=0.1; total time=  50.7s\n",
      "[CV] END gamma=0, learning_rate=0.1, max_depth=2, n_estimators=400, random_state=42, reg_alpha=0.3, reg_lambda=0.1; total time=  56.0s\n",
      "[CV] END gamma=0, learning_rate=0.1, max_depth=2, n_estimators=400, random_state=42, reg_alpha=0.3, reg_lambda=1; total time=  52.3s\n",
      "[CV] END gamma=0, learning_rate=0.1, max_depth=2, n_estimators=400, random_state=42, reg_alpha=0.3, reg_lambda=0.1; total time=  54.8s\n"
     ]
    },
    {
     "name": "stderr",
     "output_type": "stream",
     "text": [
      "/puhome/24112456g/.conda/envs/SHPC-env/lib/python3.10/site-packages/xgboost/core.py:158: UserWarning: [02:13:48] WARNING: /workspace/src/common/error_msg.cc:58: Falling back to prediction using DMatrix due to mismatched devices. This might lead to higher memory usage and slower performance. XGBoost is running on: cuda:0, while the input data is on: cpu.\n",
      "Potential solutions:\n",
      "- Use a data structure that matches the device ordinal in the booster.\n",
      "- Set the device for booster before call to inplace_predict.\n",
      "\n",
      "This warning will only be shown once.\n",
      "\n",
      "  warnings.warn(smsg, UserWarning)\n"
     ]
    },
    {
     "name": "stdout",
     "output_type": "stream",
     "text": [
      "[CV] END gamma=0, learning_rate=0.1, max_depth=2, n_estimators=400, random_state=42, reg_alpha=0.3, reg_lambda=1; total time=  43.9s\n"
     ]
    },
    {
     "name": "stderr",
     "output_type": "stream",
     "text": [
      "/puhome/24112456g/.conda/envs/SHPC-env/lib/python3.10/site-packages/xgboost/core.py:158: UserWarning: [02:13:57] WARNING: /workspace/src/common/error_msg.cc:58: Falling back to prediction using DMatrix due to mismatched devices. This might lead to higher memory usage and slower performance. XGBoost is running on: cuda:0, while the input data is on: cpu.\n",
      "Potential solutions:\n",
      "- Use a data structure that matches the device ordinal in the booster.\n",
      "- Set the device for booster before call to inplace_predict.\n",
      "\n",
      "This warning will only be shown once.\n",
      "\n",
      "  warnings.warn(smsg, UserWarning)\n"
     ]
    },
    {
     "name": "stdout",
     "output_type": "stream",
     "text": [
      "[CV] END gamma=0, learning_rate=0.1, max_depth=2, n_estimators=400, random_state=42, reg_alpha=0.3, reg_lambda=1; total time=  44.7s\n"
     ]
    },
    {
     "name": "stderr",
     "output_type": "stream",
     "text": [
      "/puhome/24112456g/.conda/envs/SHPC-env/lib/python3.10/site-packages/xgboost/core.py:158: UserWarning: [02:14:02] WARNING: /workspace/src/common/error_msg.cc:58: Falling back to prediction using DMatrix due to mismatched devices. This might lead to higher memory usage and slower performance. XGBoost is running on: cuda:0, while the input data is on: cpu.\n",
      "Potential solutions:\n",
      "- Use a data structure that matches the device ordinal in the booster.\n",
      "- Set the device for booster before call to inplace_predict.\n",
      "\n",
      "This warning will only be shown once.\n",
      "\n",
      "  warnings.warn(smsg, UserWarning)\n"
     ]
    },
    {
     "name": "stdout",
     "output_type": "stream",
     "text": [
      "[CV] END gamma=0, learning_rate=0.1, max_depth=2, n_estimators=400, random_state=42, reg_alpha=0.3, reg_lambda=1; total time=  44.2s\n"
     ]
    },
    {
     "name": "stderr",
     "output_type": "stream",
     "text": [
      "/puhome/24112456g/.conda/envs/SHPC-env/lib/python3.10/site-packages/xgboost/core.py:158: UserWarning: [02:14:17] WARNING: /workspace/src/common/error_msg.cc:58: Falling back to prediction using DMatrix due to mismatched devices. This might lead to higher memory usage and slower performance. XGBoost is running on: cuda:0, while the input data is on: cpu.\n",
      "Potential solutions:\n",
      "- Use a data structure that matches the device ordinal in the booster.\n",
      "- Set the device for booster before call to inplace_predict.\n",
      "\n",
      "This warning will only be shown once.\n",
      "\n",
      "  warnings.warn(smsg, UserWarning)\n"
     ]
    },
    {
     "name": "stdout",
     "output_type": "stream",
     "text": [
      "[CV] END gamma=0, learning_rate=0.1, max_depth=2, n_estimators=400, random_state=42, reg_alpha=0.3, reg_lambda=10; total time=  40.1s\n"
     ]
    },
    {
     "name": "stderr",
     "output_type": "stream",
     "text": [
      "/puhome/24112456g/.conda/envs/SHPC-env/lib/python3.10/site-packages/xgboost/core.py:158: UserWarning: [02:14:24] WARNING: /workspace/src/common/error_msg.cc:58: Falling back to prediction using DMatrix due to mismatched devices. This might lead to higher memory usage and slower performance. XGBoost is running on: cuda:0, while the input data is on: cpu.\n",
      "Potential solutions:\n",
      "- Use a data structure that matches the device ordinal in the booster.\n",
      "- Set the device for booster before call to inplace_predict.\n",
      "\n",
      "This warning will only be shown once.\n",
      "\n",
      "  warnings.warn(smsg, UserWarning)\n",
      "/puhome/24112456g/.conda/envs/SHPC-env/lib/python3.10/site-packages/xgboost/core.py:158: UserWarning: [02:14:26] WARNING: /workspace/src/common/error_msg.cc:58: Falling back to prediction using DMatrix due to mismatched devices. This might lead to higher memory usage and slower performance. XGBoost is running on: cuda:0, while the input data is on: cpu.\n",
      "Potential solutions:\n",
      "- Use a data structure that matches the device ordinal in the booster.\n",
      "- Set the device for booster before call to inplace_predict.\n",
      "\n",
      "This warning will only be shown once.\n",
      "\n",
      "  warnings.warn(smsg, UserWarning)\n"
     ]
    },
    {
     "name": "stdout",
     "output_type": "stream",
     "text": [
      "[CV] END gamma=0, learning_rate=0.1, max_depth=2, n_estimators=400, random_state=42, reg_alpha=0.3, reg_lambda=1; total time=  47.8s\n",
      "[CV] END gamma=0, learning_rate=0.1, max_depth=2, n_estimators=400, random_state=42, reg_alpha=0.3, reg_lambda=10; total time=  46.3s\n",
      "[CV] END gamma=0, learning_rate=0.1, max_depth=2, n_estimators=400, random_state=42, reg_alpha=0.3, reg_lambda=10; total time=  50.6s\n",
      "[CV] END gamma=0, learning_rate=0.1, max_depth=2, n_estimators=400, random_state=42, reg_alpha=0.3, reg_lambda=10; total time=  51.0s\n",
      "[CV] END gamma=0, learning_rate=0.1, max_depth=2, n_estimators=400, random_state=42, reg_alpha=0.3, reg_lambda=10; total time=  51.4s\n",
      "[CV] END gamma=0, learning_rate=0.1, max_depth=2, n_estimators=400, random_state=42, reg_alpha=0.4, reg_lambda=0.1; total time=  45.5s\n",
      "[CV] END gamma=0, learning_rate=0.1, max_depth=2, n_estimators=400, random_state=42, reg_alpha=0.4, reg_lambda=0.1; total time=  53.0s\n",
      "[CV] END gamma=0, learning_rate=0.1, max_depth=2, n_estimators=400, random_state=42, reg_alpha=0.4, reg_lambda=0.1; total time=  52.9s\n"
     ]
    },
    {
     "name": "stderr",
     "output_type": "stream",
     "text": [
      "/puhome/24112456g/.conda/envs/SHPC-env/lib/python3.10/site-packages/xgboost/core.py:158: UserWarning: [02:15:28] WARNING: /workspace/src/common/error_msg.cc:58: Falling back to prediction using DMatrix due to mismatched devices. This might lead to higher memory usage and slower performance. XGBoost is running on: cuda:0, while the input data is on: cpu.\n",
      "Potential solutions:\n",
      "- Use a data structure that matches the device ordinal in the booster.\n",
      "- Set the device for booster before call to inplace_predict.\n",
      "\n",
      "This warning will only be shown once.\n",
      "\n",
      "  warnings.warn(smsg, UserWarning)\n"
     ]
    },
    {
     "name": "stdout",
     "output_type": "stream",
     "text": [
      "[CV] END gamma=0, learning_rate=0.1, max_depth=2, n_estimators=400, random_state=42, reg_alpha=0.4, reg_lambda=0.1; total time=  42.8s\n"
     ]
    },
    {
     "name": "stderr",
     "output_type": "stream",
     "text": [
      "/puhome/24112456g/.conda/envs/SHPC-env/lib/python3.10/site-packages/xgboost/core.py:158: UserWarning: [02:15:41] WARNING: /workspace/src/common/error_msg.cc:58: Falling back to prediction using DMatrix due to mismatched devices. This might lead to higher memory usage and slower performance. XGBoost is running on: cuda:0, while the input data is on: cpu.\n",
      "Potential solutions:\n",
      "- Use a data structure that matches the device ordinal in the booster.\n",
      "- Set the device for booster before call to inplace_predict.\n",
      "\n",
      "This warning will only be shown once.\n",
      "\n",
      "  warnings.warn(smsg, UserWarning)\n",
      "/puhome/24112456g/.conda/envs/SHPC-env/lib/python3.10/site-packages/xgboost/core.py:158: UserWarning: [02:15:42] WARNING: /workspace/src/common/error_msg.cc:58: Falling back to prediction using DMatrix due to mismatched devices. This might lead to higher memory usage and slower performance. XGBoost is running on: cuda:0, while the input data is on: cpu.\n",
      "Potential solutions:\n",
      "- Use a data structure that matches the device ordinal in the booster.\n",
      "- Set the device for booster before call to inplace_predict.\n",
      "\n",
      "This warning will only be shown once.\n",
      "\n",
      "  warnings.warn(smsg, UserWarning)\n"
     ]
    },
    {
     "name": "stdout",
     "output_type": "stream",
     "text": [
      "[CV] END gamma=0, learning_rate=0.1, max_depth=2, n_estimators=400, random_state=42, reg_alpha=0.4, reg_lambda=0.1; total time=  46.8s\n",
      "[CV] END gamma=0, learning_rate=0.1, max_depth=2, n_estimators=400, random_state=42, reg_alpha=0.4, reg_lambda=1; total time=  42.2s\n"
     ]
    },
    {
     "name": "stderr",
     "output_type": "stream",
     "text": [
      "/puhome/24112456g/.conda/envs/SHPC-env/lib/python3.10/site-packages/xgboost/core.py:158: UserWarning: [02:15:51] WARNING: /workspace/src/common/error_msg.cc:58: Falling back to prediction using DMatrix due to mismatched devices. This might lead to higher memory usage and slower performance. XGBoost is running on: cuda:0, while the input data is on: cpu.\n",
      "Potential solutions:\n",
      "- Use a data structure that matches the device ordinal in the booster.\n",
      "- Set the device for booster before call to inplace_predict.\n",
      "\n",
      "This warning will only be shown once.\n",
      "\n",
      "  warnings.warn(smsg, UserWarning)\n"
     ]
    },
    {
     "name": "stdout",
     "output_type": "stream",
     "text": [
      "[CV] END gamma=0, learning_rate=0.1, max_depth=2, n_estimators=400, random_state=42, reg_alpha=0.4, reg_lambda=1; total time=  42.7s\n"
     ]
    },
    {
     "name": "stderr",
     "output_type": "stream",
     "text": [
      "/puhome/24112456g/.conda/envs/SHPC-env/lib/python3.10/site-packages/xgboost/core.py:158: UserWarning: [02:16:11] WARNING: /workspace/src/common/error_msg.cc:58: Falling back to prediction using DMatrix due to mismatched devices. This might lead to higher memory usage and slower performance. XGBoost is running on: cuda:0, while the input data is on: cpu.\n",
      "Potential solutions:\n",
      "- Use a data structure that matches the device ordinal in the booster.\n",
      "- Set the device for booster before call to inplace_predict.\n",
      "\n",
      "This warning will only be shown once.\n",
      "\n",
      "  warnings.warn(smsg, UserWarning)\n",
      "/puhome/24112456g/.conda/envs/SHPC-env/lib/python3.10/site-packages/xgboost/core.py:158: UserWarning: [02:16:12] WARNING: /workspace/src/common/error_msg.cc:58: Falling back to prediction using DMatrix due to mismatched devices. This might lead to higher memory usage and slower performance. XGBoost is running on: cuda:0, while the input data is on: cpu.\n",
      "Potential solutions:\n",
      "- Use a data structure that matches the device ordinal in the booster.\n",
      "- Set the device for booster before call to inplace_predict.\n",
      "\n",
      "This warning will only be shown once.\n",
      "\n",
      "  warnings.warn(smsg, UserWarning)\n"
     ]
    },
    {
     "name": "stdout",
     "output_type": "stream",
     "text": [
      "[CV] END gamma=0, learning_rate=0.1, max_depth=2, n_estimators=400, random_state=42, reg_alpha=0.4, reg_lambda=1; total time=  47.5s\n",
      "[CV] END gamma=0, learning_rate=0.1, max_depth=2, n_estimators=400, random_state=42, reg_alpha=0.4, reg_lambda=1; total time=  47.3s\n",
      "[CV] END gamma=0, learning_rate=0.1, max_depth=2, n_estimators=400, random_state=42, reg_alpha=0.4, reg_lambda=1; total time=  50.7s\n",
      "[CV] END gamma=0, learning_rate=0.1, max_depth=2, n_estimators=400, random_state=42, reg_alpha=0.4, reg_lambda=10; total time=  47.7s\n",
      "[CV] END gamma=0, learning_rate=0.1, max_depth=2, n_estimators=400, random_state=42, reg_alpha=0.4, reg_lambda=10; total time=  51.7s\n",
      "[CV] END gamma=0, learning_rate=0.1, max_depth=2, n_estimators=400, random_state=42, reg_alpha=0.4, reg_lambda=10; total time=  51.5s\n",
      "[CV] END gamma=0, learning_rate=0.1, max_depth=2, n_estimators=400, random_state=42, reg_alpha=0.4, reg_lambda=10; total time=  57.4s\n",
      "[CV] END gamma=0, learning_rate=0.1, max_depth=2, n_estimators=400, random_state=42, reg_alpha=0.4, reg_lambda=10; total time=  57.6s\n"
     ]
    },
    {
     "name": "stderr",
     "output_type": "stream",
     "text": [
      "/puhome/24112456g/.conda/envs/SHPC-env/lib/python3.10/site-packages/xgboost/core.py:158: UserWarning: [02:17:20] WARNING: /workspace/src/common/error_msg.cc:58: Falling back to prediction using DMatrix due to mismatched devices. This might lead to higher memory usage and slower performance. XGBoost is running on: cuda:0, while the input data is on: cpu.\n",
      "Potential solutions:\n",
      "- Use a data structure that matches the device ordinal in the booster.\n",
      "- Set the device for booster before call to inplace_predict.\n",
      "\n",
      "This warning will only be shown once.\n",
      "\n",
      "  warnings.warn(smsg, UserWarning)\n"
     ]
    },
    {
     "name": "stdout",
     "output_type": "stream",
     "text": [
      "[CV] END gamma=0, learning_rate=0.1, max_depth=2, n_estimators=800, random_state=42, reg_alpha=0, reg_lambda=0.1; total time=  54.7s\n"
     ]
    },
    {
     "name": "stderr",
     "output_type": "stream",
     "text": [
      "/puhome/24112456g/.conda/envs/SHPC-env/lib/python3.10/site-packages/xgboost/core.py:158: UserWarning: [02:17:35] WARNING: /workspace/src/common/error_msg.cc:58: Falling back to prediction using DMatrix due to mismatched devices. This might lead to higher memory usage and slower performance. XGBoost is running on: cuda:0, while the input data is on: cpu.\n",
      "Potential solutions:\n",
      "- Use a data structure that matches the device ordinal in the booster.\n",
      "- Set the device for booster before call to inplace_predict.\n",
      "\n",
      "This warning will only be shown once.\n",
      "\n",
      "  warnings.warn(smsg, UserWarning)\n"
     ]
    },
    {
     "name": "stdout",
     "output_type": "stream",
     "text": [
      "[CV] END gamma=0, learning_rate=0.1, max_depth=2, n_estimators=800, random_state=42, reg_alpha=0, reg_lambda=0.1; total time=  59.8s\n"
     ]
    },
    {
     "name": "stderr",
     "output_type": "stream",
     "text": [
      "/puhome/24112456g/.conda/envs/SHPC-env/lib/python3.10/site-packages/xgboost/core.py:158: UserWarning: [02:17:40] WARNING: /workspace/src/common/error_msg.cc:58: Falling back to prediction using DMatrix due to mismatched devices. This might lead to higher memory usage and slower performance. XGBoost is running on: cuda:0, while the input data is on: cpu.\n",
      "Potential solutions:\n",
      "- Use a data structure that matches the device ordinal in the booster.\n",
      "- Set the device for booster before call to inplace_predict.\n",
      "\n",
      "This warning will only be shown once.\n",
      "\n",
      "  warnings.warn(smsg, UserWarning)\n"
     ]
    },
    {
     "name": "stdout",
     "output_type": "stream",
     "text": [
      "[CV] END gamma=0, learning_rate=0.1, max_depth=2, n_estimators=800, random_state=42, reg_alpha=0, reg_lambda=0.1; total time=  60.0s\n"
     ]
    },
    {
     "name": "stderr",
     "output_type": "stream",
     "text": [
      "/puhome/24112456g/.conda/envs/SHPC-env/lib/python3.10/site-packages/xgboost/core.py:158: UserWarning: [02:17:45] WARNING: /workspace/src/common/error_msg.cc:58: Falling back to prediction using DMatrix due to mismatched devices. This might lead to higher memory usage and slower performance. XGBoost is running on: cuda:0, while the input data is on: cpu.\n",
      "Potential solutions:\n",
      "- Use a data structure that matches the device ordinal in the booster.\n",
      "- Set the device for booster before call to inplace_predict.\n",
      "\n",
      "This warning will only be shown once.\n",
      "\n",
      "  warnings.warn(smsg, UserWarning)\n"
     ]
    },
    {
     "name": "stdout",
     "output_type": "stream",
     "text": [
      "[CV] END gamma=0, learning_rate=0.1, max_depth=2, n_estimators=800, random_state=42, reg_alpha=0, reg_lambda=0.1; total time=  55.8s\n"
     ]
    },
    {
     "name": "stderr",
     "output_type": "stream",
     "text": [
      "/puhome/24112456g/.conda/envs/SHPC-env/lib/python3.10/site-packages/xgboost/core.py:158: UserWarning: [02:18:06] WARNING: /workspace/src/common/error_msg.cc:58: Falling back to prediction using DMatrix due to mismatched devices. This might lead to higher memory usage and slower performance. XGBoost is running on: cuda:0, while the input data is on: cpu.\n",
      "Potential solutions:\n",
      "- Use a data structure that matches the device ordinal in the booster.\n",
      "- Set the device for booster before call to inplace_predict.\n",
      "\n",
      "This warning will only be shown once.\n",
      "\n",
      "  warnings.warn(smsg, UserWarning)\n"
     ]
    },
    {
     "name": "stdout",
     "output_type": "stream",
     "text": [
      "[CV] END gamma=0, learning_rate=0.1, max_depth=2, n_estimators=800, random_state=42, reg_alpha=0, reg_lambda=1; total time=  50.4s\n"
     ]
    },
    {
     "name": "stderr",
     "output_type": "stream",
     "text": [
      "/puhome/24112456g/.conda/envs/SHPC-env/lib/python3.10/site-packages/xgboost/core.py:158: UserWarning: [02:18:12] WARNING: /workspace/src/common/error_msg.cc:58: Falling back to prediction using DMatrix due to mismatched devices. This might lead to higher memory usage and slower performance. XGBoost is running on: cuda:0, while the input data is on: cpu.\n",
      "Potential solutions:\n",
      "- Use a data structure that matches the device ordinal in the booster.\n",
      "- Set the device for booster before call to inplace_predict.\n",
      "\n",
      "This warning will only be shown once.\n",
      "\n",
      "  warnings.warn(smsg, UserWarning)\n"
     ]
    },
    {
     "name": "stdout",
     "output_type": "stream",
     "text": [
      "[CV] END gamma=0, learning_rate=0.1, max_depth=2, n_estimators=800, random_state=42, reg_alpha=0, reg_lambda=0.1; total time=  57.6s\n",
      "[CV] END gamma=0, learning_rate=0.1, max_depth=2, n_estimators=800, random_state=42, reg_alpha=0, reg_lambda=1; total time= 1.0min\n",
      "[CV] END gamma=0, learning_rate=0.1, max_depth=2, n_estimators=800, random_state=42, reg_alpha=0, reg_lambda=1; total time= 1.1min\n",
      "[CV] END gamma=0, learning_rate=0.1, max_depth=2, n_estimators=800, random_state=42, reg_alpha=0, reg_lambda=1; total time= 1.1min\n",
      "[CV] END gamma=0, learning_rate=0.1, max_depth=2, n_estimators=800, random_state=42, reg_alpha=0, reg_lambda=1; total time= 1.1min\n",
      "[CV] END gamma=0, learning_rate=0.1, max_depth=2, n_estimators=800, random_state=42, reg_alpha=0, reg_lambda=10; total time=  58.0s\n",
      "[CV] END gamma=0, learning_rate=0.1, max_depth=2, n_estimators=800, random_state=42, reg_alpha=0, reg_lambda=10; total time= 1.1min\n"
     ]
    },
    {
     "name": "stderr",
     "output_type": "stream",
     "text": [
      "/puhome/24112456g/.conda/envs/SHPC-env/lib/python3.10/site-packages/xgboost/core.py:158: UserWarning: [02:19:22] WARNING: /workspace/src/common/error_msg.cc:58: Falling back to prediction using DMatrix due to mismatched devices. This might lead to higher memory usage and slower performance. XGBoost is running on: cuda:0, while the input data is on: cpu.\n",
      "Potential solutions:\n",
      "- Use a data structure that matches the device ordinal in the booster.\n",
      "- Set the device for booster before call to inplace_predict.\n",
      "\n",
      "This warning will only be shown once.\n",
      "\n",
      "  warnings.warn(smsg, UserWarning)\n"
     ]
    },
    {
     "name": "stdout",
     "output_type": "stream",
     "text": [
      "[CV] END gamma=0, learning_rate=0.1, max_depth=2, n_estimators=800, random_state=42, reg_alpha=0, reg_lambda=10; total time=  55.3s\n"
     ]
    },
    {
     "name": "stderr",
     "output_type": "stream",
     "text": [
      "/puhome/24112456g/.conda/envs/SHPC-env/lib/python3.10/site-packages/xgboost/core.py:158: UserWarning: [02:19:40] WARNING: /workspace/src/common/error_msg.cc:58: Falling back to prediction using DMatrix due to mismatched devices. This might lead to higher memory usage and slower performance. XGBoost is running on: cuda:0, while the input data is on: cpu.\n",
      "Potential solutions:\n",
      "- Use a data structure that matches the device ordinal in the booster.\n",
      "- Set the device for booster before call to inplace_predict.\n",
      "\n",
      "This warning will only be shown once.\n",
      "\n",
      "  warnings.warn(smsg, UserWarning)\n"
     ]
    },
    {
     "name": "stdout",
     "output_type": "stream",
     "text": [
      "[CV] END gamma=0, learning_rate=0.1, max_depth=2, n_estimators=800, random_state=42, reg_alpha=0, reg_lambda=10; total time=  54.9s\n"
     ]
    },
    {
     "name": "stderr",
     "output_type": "stream",
     "text": [
      "/puhome/24112456g/.conda/envs/SHPC-env/lib/python3.10/site-packages/xgboost/core.py:158: UserWarning: [02:19:55] WARNING: /workspace/src/common/error_msg.cc:58: Falling back to prediction using DMatrix due to mismatched devices. This might lead to higher memory usage and slower performance. XGBoost is running on: cuda:0, while the input data is on: cpu.\n",
      "Potential solutions:\n",
      "- Use a data structure that matches the device ordinal in the booster.\n",
      "- Set the device for booster before call to inplace_predict.\n",
      "\n",
      "This warning will only be shown once.\n",
      "\n",
      "  warnings.warn(smsg, UserWarning)\n",
      "/puhome/24112456g/.conda/envs/SHPC-env/lib/python3.10/site-packages/xgboost/core.py:158: UserWarning: [02:19:56] WARNING: /workspace/src/common/error_msg.cc:58: Falling back to prediction using DMatrix due to mismatched devices. This might lead to higher memory usage and slower performance. XGBoost is running on: cuda:0, while the input data is on: cpu.\n",
      "Potential solutions:\n",
      "- Use a data structure that matches the device ordinal in the booster.\n",
      "- Set the device for booster before call to inplace_predict.\n",
      "\n",
      "This warning will only be shown once.\n",
      "\n",
      "  warnings.warn(smsg, UserWarning)\n"
     ]
    },
    {
     "name": "stdout",
     "output_type": "stream",
     "text": [
      "[CV] END gamma=0, learning_rate=0.1, max_depth=2, n_estimators=800, random_state=42, reg_alpha=0, reg_lambda=10; total time= 1.0min\n",
      "[CV] END gamma=0, learning_rate=0.1, max_depth=2, n_estimators=800, random_state=42, reg_alpha=0.2, reg_lambda=0.1; total time=  56.7s\n"
     ]
    },
    {
     "name": "stderr",
     "output_type": "stream",
     "text": [
      "/puhome/24112456g/.conda/envs/SHPC-env/lib/python3.10/site-packages/xgboost/core.py:158: UserWarning: [02:20:07] WARNING: /workspace/src/common/error_msg.cc:58: Falling back to prediction using DMatrix due to mismatched devices. This might lead to higher memory usage and slower performance. XGBoost is running on: cuda:0, while the input data is on: cpu.\n",
      "Potential solutions:\n",
      "- Use a data structure that matches the device ordinal in the booster.\n",
      "- Set the device for booster before call to inplace_predict.\n",
      "\n",
      "This warning will only be shown once.\n",
      "\n",
      "  warnings.warn(smsg, UserWarning)\n"
     ]
    },
    {
     "name": "stdout",
     "output_type": "stream",
     "text": [
      "[CV] END gamma=0, learning_rate=0.1, max_depth=2, n_estimators=800, random_state=42, reg_alpha=0.2, reg_lambda=0.1; total time=  56.6s\n"
     ]
    },
    {
     "name": "stderr",
     "output_type": "stream",
     "text": [
      "/puhome/24112456g/.conda/envs/SHPC-env/lib/python3.10/site-packages/xgboost/core.py:158: UserWarning: [02:20:21] WARNING: /workspace/src/common/error_msg.cc:58: Falling back to prediction using DMatrix due to mismatched devices. This might lead to higher memory usage and slower performance. XGBoost is running on: cuda:0, while the input data is on: cpu.\n",
      "Potential solutions:\n",
      "- Use a data structure that matches the device ordinal in the booster.\n",
      "- Set the device for booster before call to inplace_predict.\n",
      "\n",
      "This warning will only be shown once.\n",
      "\n",
      "  warnings.warn(smsg, UserWarning)\n"
     ]
    },
    {
     "name": "stdout",
     "output_type": "stream",
     "text": [
      "[CV] END gamma=0, learning_rate=0.1, max_depth=2, n_estimators=800, random_state=42, reg_alpha=0.2, reg_lambda=0.1; total time=  57.2s\n",
      "[CV] END gamma=0, learning_rate=0.1, max_depth=2, n_estimators=800, random_state=42, reg_alpha=0.2, reg_lambda=0.1; total time= 1.0min\n",
      "[CV] END gamma=0, learning_rate=0.1, max_depth=2, n_estimators=800, random_state=42, reg_alpha=0.2, reg_lambda=0.1; total time=  58.2s\n",
      "[CV] END gamma=0, learning_rate=0.1, max_depth=2, n_estimators=800, random_state=42, reg_alpha=0.2, reg_lambda=1; total time= 1.0min\n",
      "[CV] END gamma=0, learning_rate=0.1, max_depth=2, n_estimators=800, random_state=42, reg_alpha=0.2, reg_lambda=1; total time= 1.1min\n",
      "[CV] END gamma=0, learning_rate=0.1, max_depth=2, n_estimators=800, random_state=42, reg_alpha=0.2, reg_lambda=1; total time= 1.1min\n",
      "[CV] END gamma=0, learning_rate=0.1, max_depth=2, n_estimators=800, random_state=42, reg_alpha=0.2, reg_lambda=1; total time= 1.1min\n"
     ]
    },
    {
     "name": "stderr",
     "output_type": "stream",
     "text": [
      "/puhome/24112456g/.conda/envs/SHPC-env/lib/python3.10/site-packages/xgboost/core.py:158: UserWarning: [02:21:31] WARNING: /workspace/src/common/error_msg.cc:58: Falling back to prediction using DMatrix due to mismatched devices. This might lead to higher memory usage and slower performance. XGBoost is running on: cuda:0, while the input data is on: cpu.\n",
      "Potential solutions:\n",
      "- Use a data structure that matches the device ordinal in the booster.\n",
      "- Set the device for booster before call to inplace_predict.\n",
      "\n",
      "This warning will only be shown once.\n",
      "\n",
      "  warnings.warn(smsg, UserWarning)\n"
     ]
    },
    {
     "name": "stdout",
     "output_type": "stream",
     "text": [
      "[CV] END gamma=0, learning_rate=0.1, max_depth=2, n_estimators=800, random_state=42, reg_alpha=0.2, reg_lambda=1; total time= 1.0min\n"
     ]
    },
    {
     "name": "stderr",
     "output_type": "stream",
     "text": [
      "/puhome/24112456g/.conda/envs/SHPC-env/lib/python3.10/site-packages/xgboost/core.py:158: UserWarning: [02:21:37] WARNING: /workspace/src/common/error_msg.cc:58: Falling back to prediction using DMatrix due to mismatched devices. This might lead to higher memory usage and slower performance. XGBoost is running on: cuda:0, while the input data is on: cpu.\n",
      "Potential solutions:\n",
      "- Use a data structure that matches the device ordinal in the booster.\n",
      "- Set the device for booster before call to inplace_predict.\n",
      "\n",
      "This warning will only be shown once.\n",
      "\n",
      "  warnings.warn(smsg, UserWarning)\n"
     ]
    },
    {
     "name": "stdout",
     "output_type": "stream",
     "text": [
      "[CV] END gamma=0, learning_rate=0.1, max_depth=2, n_estimators=800, random_state=42, reg_alpha=0.2, reg_lambda=10; total time=  51.8s\n"
     ]
    },
    {
     "name": "stderr",
     "output_type": "stream",
     "text": [
      "/puhome/24112456g/.conda/envs/SHPC-env/lib/python3.10/site-packages/xgboost/core.py:158: UserWarning: [02:21:56] WARNING: /workspace/src/common/error_msg.cc:58: Falling back to prediction using DMatrix due to mismatched devices. This might lead to higher memory usage and slower performance. XGBoost is running on: cuda:0, while the input data is on: cpu.\n",
      "Potential solutions:\n",
      "- Use a data structure that matches the device ordinal in the booster.\n",
      "- Set the device for booster before call to inplace_predict.\n",
      "\n",
      "This warning will only be shown once.\n",
      "\n",
      "  warnings.warn(smsg, UserWarning)\n"
     ]
    },
    {
     "name": "stdout",
     "output_type": "stream",
     "text": [
      "[CV] END gamma=0, learning_rate=0.1, max_depth=2, n_estimators=800, random_state=42, reg_alpha=0.2, reg_lambda=10; total time=  54.0s\n"
     ]
    },
    {
     "name": "stderr",
     "output_type": "stream",
     "text": [
      "/puhome/24112456g/.conda/envs/SHPC-env/lib/python3.10/site-packages/xgboost/core.py:158: UserWarning: [02:22:04] WARNING: /workspace/src/common/error_msg.cc:58: Falling back to prediction using DMatrix due to mismatched devices. This might lead to higher memory usage and slower performance. XGBoost is running on: cuda:0, while the input data is on: cpu.\n",
      "Potential solutions:\n",
      "- Use a data structure that matches the device ordinal in the booster.\n",
      "- Set the device for booster before call to inplace_predict.\n",
      "\n",
      "This warning will only be shown once.\n",
      "\n",
      "  warnings.warn(smsg, UserWarning)\n"
     ]
    },
    {
     "name": "stdout",
     "output_type": "stream",
     "text": [
      "[CV] END gamma=0, learning_rate=0.1, max_depth=2, n_estimators=800, random_state=42, reg_alpha=0.2, reg_lambda=10; total time=  57.4s\n"
     ]
    },
    {
     "name": "stderr",
     "output_type": "stream",
     "text": [
      "/puhome/24112456g/.conda/envs/SHPC-env/lib/python3.10/site-packages/xgboost/core.py:158: UserWarning: [02:22:11] WARNING: /workspace/src/common/error_msg.cc:58: Falling back to prediction using DMatrix due to mismatched devices. This might lead to higher memory usage and slower performance. XGBoost is running on: cuda:0, while the input data is on: cpu.\n",
      "Potential solutions:\n",
      "- Use a data structure that matches the device ordinal in the booster.\n",
      "- Set the device for booster before call to inplace_predict.\n",
      "\n",
      "This warning will only be shown once.\n",
      "\n",
      "  warnings.warn(smsg, UserWarning)\n"
     ]
    },
    {
     "name": "stdout",
     "output_type": "stream",
     "text": [
      "[CV] END gamma=0, learning_rate=0.1, max_depth=2, n_estimators=800, random_state=42, reg_alpha=0.2, reg_lambda=10; total time=  53.7s\n"
     ]
    },
    {
     "name": "stderr",
     "output_type": "stream",
     "text": [
      "/puhome/24112456g/.conda/envs/SHPC-env/lib/python3.10/site-packages/xgboost/core.py:158: UserWarning: [02:22:36] WARNING: /workspace/src/common/error_msg.cc:58: Falling back to prediction using DMatrix due to mismatched devices. This might lead to higher memory usage and slower performance. XGBoost is running on: cuda:0, while the input data is on: cpu.\n",
      "Potential solutions:\n",
      "- Use a data structure that matches the device ordinal in the booster.\n",
      "- Set the device for booster before call to inplace_predict.\n",
      "\n",
      "This warning will only be shown once.\n",
      "\n",
      "  warnings.warn(smsg, UserWarning)\n"
     ]
    },
    {
     "name": "stdout",
     "output_type": "stream",
     "text": [
      "[CV] END gamma=0, learning_rate=0.1, max_depth=2, n_estimators=800, random_state=42, reg_alpha=0.3, reg_lambda=0.1; total time= 1.1min\n",
      "[CV] END gamma=0, learning_rate=0.1, max_depth=2, n_estimators=800, random_state=42, reg_alpha=0.2, reg_lambda=10; total time= 1.0min\n",
      "[CV] END gamma=0, learning_rate=0.1, max_depth=2, n_estimators=800, random_state=42, reg_alpha=0.3, reg_lambda=0.1; total time= 1.1min\n",
      "[CV] END gamma=0, learning_rate=0.1, max_depth=2, n_estimators=800, random_state=42, reg_alpha=0.3, reg_lambda=0.1; total time= 1.0min\n",
      "[CV] END gamma=0, learning_rate=0.1, max_depth=2, n_estimators=800, random_state=42, reg_alpha=0.3, reg_lambda=0.1; total time= 1.1min\n",
      "[CV] END gamma=0, learning_rate=0.1, max_depth=2, n_estimators=800, random_state=42, reg_alpha=0.3, reg_lambda=0.1; total time= 1.0min\n",
      "[CV] END gamma=0, learning_rate=0.1, max_depth=2, n_estimators=800, random_state=42, reg_alpha=0.3, reg_lambda=1; total time= 1.0min\n"
     ]
    },
    {
     "name": "stderr",
     "output_type": "stream",
     "text": [
      "/puhome/24112456g/.conda/envs/SHPC-env/lib/python3.10/site-packages/xgboost/core.py:158: UserWarning: [02:23:42] WARNING: /workspace/src/common/error_msg.cc:58: Falling back to prediction using DMatrix due to mismatched devices. This might lead to higher memory usage and slower performance. XGBoost is running on: cuda:0, while the input data is on: cpu.\n",
      "Potential solutions:\n",
      "- Use a data structure that matches the device ordinal in the booster.\n",
      "- Set the device for booster before call to inplace_predict.\n",
      "\n",
      "This warning will only be shown once.\n",
      "\n",
      "  warnings.warn(smsg, UserWarning)\n"
     ]
    },
    {
     "name": "stdout",
     "output_type": "stream",
     "text": [
      "[CV] END gamma=0, learning_rate=0.1, max_depth=2, n_estimators=800, random_state=42, reg_alpha=0.3, reg_lambda=1; total time= 1.0min\n"
     ]
    },
    {
     "name": "stderr",
     "output_type": "stream",
     "text": [
      "/puhome/24112456g/.conda/envs/SHPC-env/lib/python3.10/site-packages/xgboost/core.py:158: UserWarning: [02:23:49] WARNING: /workspace/src/common/error_msg.cc:58: Falling back to prediction using DMatrix due to mismatched devices. This might lead to higher memory usage and slower performance. XGBoost is running on: cuda:0, while the input data is on: cpu.\n",
      "Potential solutions:\n",
      "- Use a data structure that matches the device ordinal in the booster.\n",
      "- Set the device for booster before call to inplace_predict.\n",
      "\n",
      "This warning will only be shown once.\n",
      "\n",
      "  warnings.warn(smsg, UserWarning)\n"
     ]
    },
    {
     "name": "stdout",
     "output_type": "stream",
     "text": [
      "[CV] END gamma=0, learning_rate=0.1, max_depth=2, n_estimators=800, random_state=42, reg_alpha=0.3, reg_lambda=1; total time= 1.0min\n"
     ]
    },
    {
     "name": "stderr",
     "output_type": "stream",
     "text": [
      "/puhome/24112456g/.conda/envs/SHPC-env/lib/python3.10/site-packages/xgboost/core.py:158: UserWarning: [02:24:02] WARNING: /workspace/src/common/error_msg.cc:58: Falling back to prediction using DMatrix due to mismatched devices. This might lead to higher memory usage and slower performance. XGBoost is running on: cuda:0, while the input data is on: cpu.\n",
      "Potential solutions:\n",
      "- Use a data structure that matches the device ordinal in the booster.\n",
      "- Set the device for booster before call to inplace_predict.\n",
      "\n",
      "This warning will only be shown once.\n",
      "\n",
      "  warnings.warn(smsg, UserWarning)\n"
     ]
    },
    {
     "name": "stdout",
     "output_type": "stream",
     "text": [
      "[CV] END gamma=0, learning_rate=0.1, max_depth=2, n_estimators=800, random_state=42, reg_alpha=0.3, reg_lambda=1; total time=  58.3s\n"
     ]
    },
    {
     "name": "stderr",
     "output_type": "stream",
     "text": [
      "/puhome/24112456g/.conda/envs/SHPC-env/lib/python3.10/site-packages/xgboost/core.py:158: UserWarning: [02:24:14] WARNING: /workspace/src/common/error_msg.cc:58: Falling back to prediction using DMatrix due to mismatched devices. This might lead to higher memory usage and slower performance. XGBoost is running on: cuda:0, while the input data is on: cpu.\n",
      "Potential solutions:\n",
      "- Use a data structure that matches the device ordinal in the booster.\n",
      "- Set the device for booster before call to inplace_predict.\n",
      "\n",
      "This warning will only be shown once.\n",
      "\n",
      "  warnings.warn(smsg, UserWarning)\n",
      "/puhome/24112456g/.conda/envs/SHPC-env/lib/python3.10/site-packages/xgboost/core.py:158: UserWarning: [02:24:15] WARNING: /workspace/src/common/error_msg.cc:58: Falling back to prediction using DMatrix due to mismatched devices. This might lead to higher memory usage and slower performance. XGBoost is running on: cuda:0, while the input data is on: cpu.\n",
      "Potential solutions:\n",
      "- Use a data structure that matches the device ordinal in the booster.\n",
      "- Set the device for booster before call to inplace_predict.\n",
      "\n",
      "This warning will only be shown once.\n",
      "\n",
      "  warnings.warn(smsg, UserWarning)\n"
     ]
    },
    {
     "name": "stdout",
     "output_type": "stream",
     "text": [
      "[CV] END gamma=0, learning_rate=0.1, max_depth=2, n_estimators=800, random_state=42, reg_alpha=0.3, reg_lambda=10; total time=  54.6s\n",
      "[CV] END gamma=0, learning_rate=0.1, max_depth=2, n_estimators=800, random_state=42, reg_alpha=0.3, reg_lambda=1; total time=  59.7s\n"
     ]
    },
    {
     "name": "stderr",
     "output_type": "stream",
     "text": [
      "/puhome/24112456g/.conda/envs/SHPC-env/lib/python3.10/site-packages/xgboost/core.py:158: UserWarning: [02:24:35] WARNING: /workspace/src/common/error_msg.cc:58: Falling back to prediction using DMatrix due to mismatched devices. This might lead to higher memory usage and slower performance. XGBoost is running on: cuda:0, while the input data is on: cpu.\n",
      "Potential solutions:\n",
      "- Use a data structure that matches the device ordinal in the booster.\n",
      "- Set the device for booster before call to inplace_predict.\n",
      "\n",
      "This warning will only be shown once.\n",
      "\n",
      "  warnings.warn(smsg, UserWarning)\n"
     ]
    },
    {
     "name": "stdout",
     "output_type": "stream",
     "text": [
      "[CV] END gamma=0, learning_rate=0.1, max_depth=2, n_estimators=800, random_state=42, reg_alpha=0.3, reg_lambda=10; total time=  52.5s\n",
      "[CV] END gamma=0, learning_rate=0.1, max_depth=2, n_estimators=800, random_state=42, reg_alpha=0.3, reg_lambda=10; total time= 1.1min\n",
      "[CV] END gamma=0, learning_rate=0.1, max_depth=2, n_estimators=800, random_state=42, reg_alpha=0.3, reg_lambda=10; total time= 1.1min\n",
      "[CV] END gamma=0, learning_rate=0.1, max_depth=2, n_estimators=800, random_state=42, reg_alpha=0.3, reg_lambda=10; total time= 1.1min\n",
      "[CV] END gamma=0, learning_rate=0.1, max_depth=2, n_estimators=800, random_state=42, reg_alpha=0.4, reg_lambda=0.1; total time= 1.0min\n",
      "[CV] END gamma=0, learning_rate=0.1, max_depth=2, n_estimators=800, random_state=42, reg_alpha=0.4, reg_lambda=0.1; total time= 1.1min\n",
      "[CV] END gamma=0, learning_rate=0.1, max_depth=2, n_estimators=800, random_state=42, reg_alpha=0.4, reg_lambda=0.1; total time=  57.1s\n"
     ]
    },
    {
     "name": "stderr",
     "output_type": "stream",
     "text": [
      "/puhome/24112456g/.conda/envs/SHPC-env/lib/python3.10/site-packages/xgboost/core.py:158: UserWarning: [02:25:47] WARNING: /workspace/src/common/error_msg.cc:58: Falling back to prediction using DMatrix due to mismatched devices. This might lead to higher memory usage and slower performance. XGBoost is running on: cuda:0, while the input data is on: cpu.\n",
      "Potential solutions:\n",
      "- Use a data structure that matches the device ordinal in the booster.\n",
      "- Set the device for booster before call to inplace_predict.\n",
      "\n",
      "This warning will only be shown once.\n",
      "\n",
      "  warnings.warn(smsg, UserWarning)\n"
     ]
    },
    {
     "name": "stdout",
     "output_type": "stream",
     "text": [
      "[CV] END gamma=0, learning_rate=0.1, max_depth=2, n_estimators=800, random_state=42, reg_alpha=0.4, reg_lambda=0.1; total time=  54.4s\n"
     ]
    },
    {
     "name": "stderr",
     "output_type": "stream",
     "text": [
      "/puhome/24112456g/.conda/envs/SHPC-env/lib/python3.10/site-packages/xgboost/core.py:158: UserWarning: [02:25:56] WARNING: /workspace/src/common/error_msg.cc:58: Falling back to prediction using DMatrix due to mismatched devices. This might lead to higher memory usage and slower performance. XGBoost is running on: cuda:0, while the input data is on: cpu.\n",
      "Potential solutions:\n",
      "- Use a data structure that matches the device ordinal in the booster.\n",
      "- Set the device for booster before call to inplace_predict.\n",
      "\n",
      "This warning will only be shown once.\n",
      "\n",
      "  warnings.warn(smsg, UserWarning)\n"
     ]
    },
    {
     "name": "stdout",
     "output_type": "stream",
     "text": [
      "[CV] END gamma=0, learning_rate=0.1, max_depth=2, n_estimators=800, random_state=42, reg_alpha=0.4, reg_lambda=0.1; total time=  56.8s\n"
     ]
    },
    {
     "name": "stderr",
     "output_type": "stream",
     "text": [
      "/puhome/24112456g/.conda/envs/SHPC-env/lib/python3.10/site-packages/xgboost/core.py:158: UserWarning: [02:26:07] WARNING: /workspace/src/common/error_msg.cc:58: Falling back to prediction using DMatrix due to mismatched devices. This might lead to higher memory usage and slower performance. XGBoost is running on: cuda:0, while the input data is on: cpu.\n",
      "Potential solutions:\n",
      "- Use a data structure that matches the device ordinal in the booster.\n",
      "- Set the device for booster before call to inplace_predict.\n",
      "\n",
      "This warning will only be shown once.\n",
      "\n",
      "  warnings.warn(smsg, UserWarning)\n"
     ]
    },
    {
     "name": "stdout",
     "output_type": "stream",
     "text": [
      "[CV] END gamma=0, learning_rate=0.1, max_depth=2, n_estimators=800, random_state=42, reg_alpha=0.4, reg_lambda=1; total time=  52.1s\n"
     ]
    },
    {
     "name": "stderr",
     "output_type": "stream",
     "text": [
      "/puhome/24112456g/.conda/envs/SHPC-env/lib/python3.10/site-packages/xgboost/core.py:158: UserWarning: [02:26:22] WARNING: /workspace/src/common/error_msg.cc:58: Falling back to prediction using DMatrix due to mismatched devices. This might lead to higher memory usage and slower performance. XGBoost is running on: cuda:0, while the input data is on: cpu.\n",
      "Potential solutions:\n",
      "- Use a data structure that matches the device ordinal in the booster.\n",
      "- Set the device for booster before call to inplace_predict.\n",
      "\n",
      "This warning will only be shown once.\n",
      "\n",
      "  warnings.warn(smsg, UserWarning)\n"
     ]
    },
    {
     "name": "stdout",
     "output_type": "stream",
     "text": [
      "[CV] END gamma=0, learning_rate=0.1, max_depth=2, n_estimators=800, random_state=42, reg_alpha=0.4, reg_lambda=1; total time= 1.0min\n"
     ]
    },
    {
     "name": "stderr",
     "output_type": "stream",
     "text": [
      "/puhome/24112456g/.conda/envs/SHPC-env/lib/python3.10/site-packages/xgboost/core.py:158: UserWarning: [02:26:26] WARNING: /workspace/src/common/error_msg.cc:58: Falling back to prediction using DMatrix due to mismatched devices. This might lead to higher memory usage and slower performance. XGBoost is running on: cuda:0, while the input data is on: cpu.\n",
      "Potential solutions:\n",
      "- Use a data structure that matches the device ordinal in the booster.\n",
      "- Set the device for booster before call to inplace_predict.\n",
      "\n",
      "This warning will only be shown once.\n",
      "\n",
      "  warnings.warn(smsg, UserWarning)\n"
     ]
    },
    {
     "name": "stdout",
     "output_type": "stream",
     "text": [
      "[CV] END gamma=0, learning_rate=0.1, max_depth=2, n_estimators=800, random_state=42, reg_alpha=0.4, reg_lambda=1; total time= 1.0min\n"
     ]
    },
    {
     "name": "stderr",
     "output_type": "stream",
     "text": [
      "/puhome/24112456g/.conda/envs/SHPC-env/lib/python3.10/site-packages/xgboost/core.py:158: UserWarning: [02:26:34] WARNING: /workspace/src/common/error_msg.cc:58: Falling back to prediction using DMatrix due to mismatched devices. This might lead to higher memory usage and slower performance. XGBoost is running on: cuda:0, while the input data is on: cpu.\n",
      "Potential solutions:\n",
      "- Use a data structure that matches the device ordinal in the booster.\n",
      "- Set the device for booster before call to inplace_predict.\n",
      "\n",
      "This warning will only be shown once.\n",
      "\n",
      "  warnings.warn(smsg, UserWarning)\n"
     ]
    },
    {
     "name": "stdout",
     "output_type": "stream",
     "text": [
      "[CV] END gamma=0, learning_rate=0.1, max_depth=2, n_estimators=800, random_state=42, reg_alpha=0.4, reg_lambda=1; total time=  55.6s\n",
      "[CV] END gamma=0, learning_rate=0.1, max_depth=2, n_estimators=800, random_state=42, reg_alpha=0.4, reg_lambda=1; total time= 1.1min\n",
      "[CV] END gamma=0, learning_rate=0.1, max_depth=2, n_estimators=800, random_state=42, reg_alpha=0.4, reg_lambda=10; total time=  59.6s\n",
      "[CV] END gamma=0, learning_rate=0.1, max_depth=2, n_estimators=800, random_state=42, reg_alpha=0.4, reg_lambda=10; total time=  57.6s\n",
      "[CV] END gamma=0, learning_rate=0.1, max_depth=2, n_estimators=800, random_state=42, reg_alpha=0.4, reg_lambda=10; total time= 1.1min\n",
      "[CV] END gamma=0, learning_rate=0.1, max_depth=2, n_estimators=800, random_state=42, reg_alpha=0.4, reg_lambda=10; total time= 1.1min\n"
     ]
    },
    {
     "name": "stderr",
     "output_type": "stream",
     "text": [
      "/puhome/24112456g/.conda/envs/SHPC-env/lib/python3.10/site-packages/xgboost/core.py:158: UserWarning: [02:27:42] WARNING: /workspace/src/common/error_msg.cc:58: Falling back to prediction using DMatrix due to mismatched devices. This might lead to higher memory usage and slower performance. XGBoost is running on: cuda:0, while the input data is on: cpu.\n",
      "Potential solutions:\n",
      "- Use a data structure that matches the device ordinal in the booster.\n",
      "- Set the device for booster before call to inplace_predict.\n",
      "\n",
      "This warning will only be shown once.\n",
      "\n",
      "  warnings.warn(smsg, UserWarning)\n"
     ]
    },
    {
     "name": "stdout",
     "output_type": "stream",
     "text": [
      "[CV] END gamma=0, learning_rate=0.1, max_depth=2, n_estimators=800, random_state=42, reg_alpha=0.4, reg_lambda=10; total time= 1.1min\n",
      "[CV] END gamma=0, learning_rate=0.1, max_depth=3, n_estimators=400, random_state=42, reg_alpha=0, reg_lambda=0.1; total time=  44.2s\n"
     ]
    },
    {
     "name": "stderr",
     "output_type": "stream",
     "text": [
      "/puhome/24112456g/.conda/envs/SHPC-env/lib/python3.10/site-packages/xgboost/core.py:158: UserWarning: [02:27:47] WARNING: /workspace/src/common/error_msg.cc:58: Falling back to prediction using DMatrix due to mismatched devices. This might lead to higher memory usage and slower performance. XGBoost is running on: cuda:0, while the input data is on: cpu.\n",
      "Potential solutions:\n",
      "- Use a data structure that matches the device ordinal in the booster.\n",
      "- Set the device for booster before call to inplace_predict.\n",
      "\n",
      "This warning will only be shown once.\n",
      "\n",
      "  warnings.warn(smsg, UserWarning)\n"
     ]
    },
    {
     "name": "stdout",
     "output_type": "stream",
     "text": [
      "[CV] END gamma=0, learning_rate=0.1, max_depth=3, n_estimators=400, random_state=42, reg_alpha=0, reg_lambda=0.1; total time=  45.2s\n"
     ]
    },
    {
     "name": "stderr",
     "output_type": "stream",
     "text": [
      "/puhome/24112456g/.conda/envs/SHPC-env/lib/python3.10/site-packages/xgboost/core.py:158: UserWarning: [02:27:55] WARNING: /workspace/src/common/error_msg.cc:58: Falling back to prediction using DMatrix due to mismatched devices. This might lead to higher memory usage and slower performance. XGBoost is running on: cuda:0, while the input data is on: cpu.\n",
      "Potential solutions:\n",
      "- Use a data structure that matches the device ordinal in the booster.\n",
      "- Set the device for booster before call to inplace_predict.\n",
      "\n",
      "This warning will only be shown once.\n",
      "\n",
      "  warnings.warn(smsg, UserWarning)\n"
     ]
    },
    {
     "name": "stdout",
     "output_type": "stream",
     "text": [
      "[CV] END gamma=0, learning_rate=0.1, max_depth=3, n_estimators=400, random_state=42, reg_alpha=0, reg_lambda=0.1; total time=  43.7s\n"
     ]
    },
    {
     "name": "stderr",
     "output_type": "stream",
     "text": [
      "/puhome/24112456g/.conda/envs/SHPC-env/lib/python3.10/site-packages/xgboost/core.py:158: UserWarning: [02:28:14] WARNING: /workspace/src/common/error_msg.cc:58: Falling back to prediction using DMatrix due to mismatched devices. This might lead to higher memory usage and slower performance. XGBoost is running on: cuda:0, while the input data is on: cpu.\n",
      "Potential solutions:\n",
      "- Use a data structure that matches the device ordinal in the booster.\n",
      "- Set the device for booster before call to inplace_predict.\n",
      "\n",
      "This warning will only be shown once.\n",
      "\n",
      "  warnings.warn(smsg, UserWarning)\n"
     ]
    },
    {
     "name": "stdout",
     "output_type": "stream",
     "text": [
      "[CV] END gamma=0, learning_rate=0.1, max_depth=3, n_estimators=400, random_state=42, reg_alpha=0, reg_lambda=0.1; total time=  43.7s\n"
     ]
    },
    {
     "name": "stderr",
     "output_type": "stream",
     "text": [
      "/puhome/24112456g/.conda/envs/SHPC-env/lib/python3.10/site-packages/xgboost/core.py:158: UserWarning: [02:28:25] WARNING: /workspace/src/common/error_msg.cc:58: Falling back to prediction using DMatrix due to mismatched devices. This might lead to higher memory usage and slower performance. XGBoost is running on: cuda:0, while the input data is on: cpu.\n",
      "Potential solutions:\n",
      "- Use a data structure that matches the device ordinal in the booster.\n",
      "- Set the device for booster before call to inplace_predict.\n",
      "\n",
      "This warning will only be shown once.\n",
      "\n",
      "  warnings.warn(smsg, UserWarning)\n"
     ]
    },
    {
     "name": "stdout",
     "output_type": "stream",
     "text": [
      "[CV] END gamma=0, learning_rate=0.1, max_depth=3, n_estimators=400, random_state=42, reg_alpha=0, reg_lambda=0.1; total time=  45.3s\n",
      "[CV] END gamma=0, learning_rate=0.1, max_depth=3, n_estimators=400, random_state=42, reg_alpha=0, reg_lambda=1; total time=  51.4s\n"
     ]
    },
    {
     "name": "stderr",
     "output_type": "stream",
     "text": [
      "/puhome/24112456g/.conda/envs/SHPC-env/lib/python3.10/site-packages/xgboost/core.py:158: UserWarning: [02:28:36] WARNING: /workspace/src/common/error_msg.cc:58: Falling back to prediction using DMatrix due to mismatched devices. This might lead to higher memory usage and slower performance. XGBoost is running on: cuda:0, while the input data is on: cpu.\n",
      "Potential solutions:\n",
      "- Use a data structure that matches the device ordinal in the booster.\n",
      "- Set the device for booster before call to inplace_predict.\n",
      "\n",
      "This warning will only be shown once.\n",
      "\n",
      "  warnings.warn(smsg, UserWarning)\n"
     ]
    },
    {
     "name": "stdout",
     "output_type": "stream",
     "text": [
      "[CV] END gamma=0, learning_rate=0.1, max_depth=3, n_estimators=400, random_state=42, reg_alpha=0, reg_lambda=1; total time=  48.4s\n",
      "[CV] END gamma=0, learning_rate=0.1, max_depth=3, n_estimators=400, random_state=42, reg_alpha=0, reg_lambda=1; total time=  53.3s\n",
      "[CV] END gamma=0, learning_rate=0.1, max_depth=3, n_estimators=400, random_state=42, reg_alpha=0, reg_lambda=1; total time=  51.7s\n",
      "[CV] END gamma=0, learning_rate=0.1, max_depth=3, n_estimators=400, random_state=42, reg_alpha=0, reg_lambda=1; total time=  51.0s\n",
      "[CV] END gamma=0, learning_rate=0.1, max_depth=3, n_estimators=400, random_state=42, reg_alpha=0, reg_lambda=10; total time=  46.8s\n"
     ]
    },
    {
     "name": "stderr",
     "output_type": "stream",
     "text": [
      "/puhome/24112456g/.conda/envs/SHPC-env/lib/python3.10/site-packages/xgboost/core.py:158: UserWarning: [02:29:26] WARNING: /workspace/src/common/error_msg.cc:58: Falling back to prediction using DMatrix due to mismatched devices. This might lead to higher memory usage and slower performance. XGBoost is running on: cuda:0, while the input data is on: cpu.\n",
      "Potential solutions:\n",
      "- Use a data structure that matches the device ordinal in the booster.\n",
      "- Set the device for booster before call to inplace_predict.\n",
      "\n",
      "This warning will only be shown once.\n",
      "\n",
      "  warnings.warn(smsg, UserWarning)\n"
     ]
    },
    {
     "name": "stdout",
     "output_type": "stream",
     "text": [
      "[CV] END gamma=0, learning_rate=0.1, max_depth=3, n_estimators=400, random_state=42, reg_alpha=0, reg_lambda=10; total time=  46.7s\n",
      "[CV] END gamma=0, learning_rate=0.1, max_depth=3, n_estimators=400, random_state=42, reg_alpha=0, reg_lambda=10; total time=  56.2s\n"
     ]
    },
    {
     "name": "stderr",
     "output_type": "stream",
     "text": [
      "/puhome/24112456g/.conda/envs/SHPC-env/lib/python3.10/site-packages/xgboost/core.py:158: UserWarning: [02:29:36] WARNING: /workspace/src/common/error_msg.cc:58: Falling back to prediction using DMatrix due to mismatched devices. This might lead to higher memory usage and slower performance. XGBoost is running on: cuda:0, while the input data is on: cpu.\n",
      "Potential solutions:\n",
      "- Use a data structure that matches the device ordinal in the booster.\n",
      "- Set the device for booster before call to inplace_predict.\n",
      "\n",
      "This warning will only be shown once.\n",
      "\n",
      "  warnings.warn(smsg, UserWarning)\n"
     ]
    },
    {
     "name": "stdout",
     "output_type": "stream",
     "text": [
      "[CV] END gamma=0, learning_rate=0.1, max_depth=3, n_estimators=400, random_state=42, reg_alpha=0, reg_lambda=10; total time=  49.3s\n"
     ]
    },
    {
     "name": "stderr",
     "output_type": "stream",
     "text": [
      "/puhome/24112456g/.conda/envs/SHPC-env/lib/python3.10/site-packages/xgboost/core.py:158: UserWarning: [02:29:39] WARNING: /workspace/src/common/error_msg.cc:58: Falling back to prediction using DMatrix due to mismatched devices. This might lead to higher memory usage and slower performance. XGBoost is running on: cuda:0, while the input data is on: cpu.\n",
      "Potential solutions:\n",
      "- Use a data structure that matches the device ordinal in the booster.\n",
      "- Set the device for booster before call to inplace_predict.\n",
      "\n",
      "This warning will only be shown once.\n",
      "\n",
      "  warnings.warn(smsg, UserWarning)\n"
     ]
    },
    {
     "name": "stdout",
     "output_type": "stream",
     "text": [
      "[CV] END gamma=0, learning_rate=0.1, max_depth=3, n_estimators=400, random_state=42, reg_alpha=0, reg_lambda=10; total time=  46.2s\n"
     ]
    },
    {
     "name": "stderr",
     "output_type": "stream",
     "text": [
      "/puhome/24112456g/.conda/envs/SHPC-env/lib/python3.10/site-packages/xgboost/core.py:158: UserWarning: [02:29:51] WARNING: /workspace/src/common/error_msg.cc:58: Falling back to prediction using DMatrix due to mismatched devices. This might lead to higher memory usage and slower performance. XGBoost is running on: cuda:0, while the input data is on: cpu.\n",
      "Potential solutions:\n",
      "- Use a data structure that matches the device ordinal in the booster.\n",
      "- Set the device for booster before call to inplace_predict.\n",
      "\n",
      "This warning will only be shown once.\n",
      "\n",
      "  warnings.warn(smsg, UserWarning)\n"
     ]
    },
    {
     "name": "stdout",
     "output_type": "stream",
     "text": [
      "[CV] END gamma=0, learning_rate=0.1, max_depth=3, n_estimators=400, random_state=42, reg_alpha=0.2, reg_lambda=0.1; total time=  38.8s\n"
     ]
    },
    {
     "name": "stderr",
     "output_type": "stream",
     "text": [
      "/puhome/24112456g/.conda/envs/SHPC-env/lib/python3.10/site-packages/xgboost/core.py:158: UserWarning: [02:30:00] WARNING: /workspace/src/common/error_msg.cc:58: Falling back to prediction using DMatrix due to mismatched devices. This might lead to higher memory usage and slower performance. XGBoost is running on: cuda:0, while the input data is on: cpu.\n",
      "Potential solutions:\n",
      "- Use a data structure that matches the device ordinal in the booster.\n",
      "- Set the device for booster before call to inplace_predict.\n",
      "\n",
      "This warning will only be shown once.\n",
      "\n",
      "  warnings.warn(smsg, UserWarning)\n"
     ]
    },
    {
     "name": "stdout",
     "output_type": "stream",
     "text": [
      "[CV] END gamma=0, learning_rate=0.1, max_depth=3, n_estimators=400, random_state=42, reg_alpha=0.2, reg_lambda=0.1; total time=  43.1s\n",
      "[CV] END gamma=0, learning_rate=0.1, max_depth=3, n_estimators=400, random_state=42, reg_alpha=0.2, reg_lambda=0.1; total time=  50.6s\n",
      "[CV] END gamma=0, learning_rate=0.1, max_depth=3, n_estimators=400, random_state=42, reg_alpha=0.2, reg_lambda=0.1; total time=  55.3s\n",
      "[CV] END gamma=0, learning_rate=0.1, max_depth=3, n_estimators=400, random_state=42, reg_alpha=0.2, reg_lambda=1; total time=  53.3s\n",
      "[CV] END gamma=0, learning_rate=0.1, max_depth=3, n_estimators=400, random_state=42, reg_alpha=0.2, reg_lambda=0.1; total time=  57.8s\n",
      "[CV] END gamma=0, learning_rate=0.1, max_depth=3, n_estimators=400, random_state=42, reg_alpha=0.2, reg_lambda=1; total time=  51.3s\n",
      "[CV] END gamma=0, learning_rate=0.1, max_depth=3, n_estimators=400, random_state=42, reg_alpha=0.2, reg_lambda=1; total time=  51.3s\n"
     ]
    },
    {
     "name": "stderr",
     "output_type": "stream",
     "text": [
      "/puhome/24112456g/.conda/envs/SHPC-env/lib/python3.10/site-packages/xgboost/core.py:158: UserWarning: [02:31:07] WARNING: /workspace/src/common/error_msg.cc:58: Falling back to prediction using DMatrix due to mismatched devices. This might lead to higher memory usage and slower performance. XGBoost is running on: cuda:0, while the input data is on: cpu.\n",
      "Potential solutions:\n",
      "- Use a data structure that matches the device ordinal in the booster.\n",
      "- Set the device for booster before call to inplace_predict.\n",
      "\n",
      "This warning will only be shown once.\n",
      "\n",
      "  warnings.warn(smsg, UserWarning)\n"
     ]
    },
    {
     "name": "stdout",
     "output_type": "stream",
     "text": [
      "[CV] END gamma=0, learning_rate=0.1, max_depth=3, n_estimators=400, random_state=42, reg_alpha=0.2, reg_lambda=1; total time=  43.9s\n"
     ]
    },
    {
     "name": "stderr",
     "output_type": "stream",
     "text": [
      "/puhome/24112456g/.conda/envs/SHPC-env/lib/python3.10/site-packages/xgboost/core.py:158: UserWarning: [02:31:22] WARNING: /workspace/src/common/error_msg.cc:58: Falling back to prediction using DMatrix due to mismatched devices. This might lead to higher memory usage and slower performance. XGBoost is running on: cuda:0, while the input data is on: cpu.\n",
      "Potential solutions:\n",
      "- Use a data structure that matches the device ordinal in the booster.\n",
      "- Set the device for booster before call to inplace_predict.\n",
      "\n",
      "This warning will only be shown once.\n",
      "\n",
      "  warnings.warn(smsg, UserWarning)\n"
     ]
    },
    {
     "name": "stdout",
     "output_type": "stream",
     "text": [
      "[CV] END gamma=0, learning_rate=0.1, max_depth=3, n_estimators=400, random_state=42, reg_alpha=0.2, reg_lambda=1; total time=  48.3s\n",
      "[CV] END gamma=0, learning_rate=0.1, max_depth=3, n_estimators=400, random_state=42, reg_alpha=0.2, reg_lambda=10; total time=  52.8s\n"
     ]
    },
    {
     "name": "stderr",
     "output_type": "stream",
     "text": [
      "/puhome/24112456g/.conda/envs/SHPC-env/lib/python3.10/site-packages/xgboost/core.py:158: UserWarning: [02:31:29] WARNING: /workspace/src/common/error_msg.cc:58: Falling back to prediction using DMatrix due to mismatched devices. This might lead to higher memory usage and slower performance. XGBoost is running on: cuda:0, while the input data is on: cpu.\n",
      "Potential solutions:\n",
      "- Use a data structure that matches the device ordinal in the booster.\n",
      "- Set the device for booster before call to inplace_predict.\n",
      "\n",
      "This warning will only be shown once.\n",
      "\n",
      "  warnings.warn(smsg, UserWarning)\n"
     ]
    },
    {
     "name": "stdout",
     "output_type": "stream",
     "text": [
      "[CV] END gamma=0, learning_rate=0.1, max_depth=3, n_estimators=400, random_state=42, reg_alpha=0.2, reg_lambda=10; total time=  49.7s\n"
     ]
    },
    {
     "name": "stderr",
     "output_type": "stream",
     "text": [
      "/puhome/24112456g/.conda/envs/SHPC-env/lib/python3.10/site-packages/xgboost/core.py:158: UserWarning: [02:31:34] WARNING: /workspace/src/common/error_msg.cc:58: Falling back to prediction using DMatrix due to mismatched devices. This might lead to higher memory usage and slower performance. XGBoost is running on: cuda:0, while the input data is on: cpu.\n",
      "Potential solutions:\n",
      "- Use a data structure that matches the device ordinal in the booster.\n",
      "- Set the device for booster before call to inplace_predict.\n",
      "\n",
      "This warning will only be shown once.\n",
      "\n",
      "  warnings.warn(smsg, UserWarning)\n"
     ]
    },
    {
     "name": "stdout",
     "output_type": "stream",
     "text": [
      "[CV] END gamma=0, learning_rate=0.1, max_depth=3, n_estimators=400, random_state=42, reg_alpha=0.2, reg_lambda=10; total time=  45.6s\n"
     ]
    },
    {
     "name": "stderr",
     "output_type": "stream",
     "text": [
      "/puhome/24112456g/.conda/envs/SHPC-env/lib/python3.10/site-packages/xgboost/core.py:158: UserWarning: [02:31:42] WARNING: /workspace/src/common/error_msg.cc:58: Falling back to prediction using DMatrix due to mismatched devices. This might lead to higher memory usage and slower performance. XGBoost is running on: cuda:0, while the input data is on: cpu.\n",
      "Potential solutions:\n",
      "- Use a data structure that matches the device ordinal in the booster.\n",
      "- Set the device for booster before call to inplace_predict.\n",
      "\n",
      "This warning will only be shown once.\n",
      "\n",
      "  warnings.warn(smsg, UserWarning)\n"
     ]
    },
    {
     "name": "stdout",
     "output_type": "stream",
     "text": [
      "[CV] END gamma=0, learning_rate=0.1, max_depth=3, n_estimators=400, random_state=42, reg_alpha=0.2, reg_lambda=10; total time=  43.7s\n",
      "[CV] END gamma=0, learning_rate=0.1, max_depth=3, n_estimators=400, random_state=42, reg_alpha=0.2, reg_lambda=10; total time=  50.5s\n",
      "[CV] END gamma=0, learning_rate=0.1, max_depth=3, n_estimators=400, random_state=42, reg_alpha=0.3, reg_lambda=0.1; total time=  46.2s\n"
     ]
    },
    {
     "name": "stderr",
     "output_type": "stream",
     "text": [
      "/puhome/24112456g/.conda/envs/SHPC-env/lib/python3.10/site-packages/xgboost/core.py:158: UserWarning: [02:32:19] WARNING: /workspace/src/common/error_msg.cc:58: Falling back to prediction using DMatrix due to mismatched devices. This might lead to higher memory usage and slower performance. XGBoost is running on: cuda:0, while the input data is on: cpu.\n",
      "Potential solutions:\n",
      "- Use a data structure that matches the device ordinal in the booster.\n",
      "- Set the device for booster before call to inplace_predict.\n",
      "\n",
      "This warning will only be shown once.\n",
      "\n",
      "  warnings.warn(smsg, UserWarning)\n"
     ]
    },
    {
     "name": "stdout",
     "output_type": "stream",
     "text": [
      "[CV] END gamma=0, learning_rate=0.1, max_depth=3, n_estimators=400, random_state=42, reg_alpha=0.3, reg_lambda=0.1; total time=  46.0s\n",
      "[CV] END gamma=0, learning_rate=0.1, max_depth=3, n_estimators=400, random_state=42, reg_alpha=0.3, reg_lambda=0.1; total time=  55.3s\n",
      "[CV] END gamma=0, learning_rate=0.1, max_depth=3, n_estimators=400, random_state=42, reg_alpha=0.3, reg_lambda=0.1; total time=  54.5s\n",
      "[CV] END gamma=0, learning_rate=0.1, max_depth=3, n_estimators=400, random_state=42, reg_alpha=0.3, reg_lambda=0.1; total time=  52.2s\n"
     ]
    },
    {
     "name": "stderr",
     "output_type": "stream",
     "text": [
      "/puhome/24112456g/.conda/envs/SHPC-env/lib/python3.10/site-packages/xgboost/core.py:158: UserWarning: [02:32:43] WARNING: /workspace/src/common/error_msg.cc:58: Falling back to prediction using DMatrix due to mismatched devices. This might lead to higher memory usage and slower performance. XGBoost is running on: cuda:0, while the input data is on: cpu.\n",
      "Potential solutions:\n",
      "- Use a data structure that matches the device ordinal in the booster.\n",
      "- Set the device for booster before call to inplace_predict.\n",
      "\n",
      "This warning will only be shown once.\n",
      "\n",
      "  warnings.warn(smsg, UserWarning)\n"
     ]
    },
    {
     "name": "stdout",
     "output_type": "stream",
     "text": [
      "[CV] END gamma=0, learning_rate=0.1, max_depth=3, n_estimators=400, random_state=42, reg_alpha=0.3, reg_lambda=1; total time=  39.1s\n",
      "[CV] END gamma=0, learning_rate=0.1, max_depth=3, n_estimators=400, random_state=42, reg_alpha=0.3, reg_lambda=1; total time=  49.8s\n",
      "[CV] END gamma=0, learning_rate=0.1, max_depth=3, n_estimators=400, random_state=42, reg_alpha=0.3, reg_lambda=1; total time=  51.6s\n"
     ]
    },
    {
     "name": "stderr",
     "output_type": "stream",
     "text": [
      "/puhome/24112456g/.conda/envs/SHPC-env/lib/python3.10/site-packages/xgboost/core.py:158: UserWarning: [02:33:21] WARNING: /workspace/src/common/error_msg.cc:58: Falling back to prediction using DMatrix due to mismatched devices. This might lead to higher memory usage and slower performance. XGBoost is running on: cuda:0, while the input data is on: cpu.\n",
      "Potential solutions:\n",
      "- Use a data structure that matches the device ordinal in the booster.\n",
      "- Set the device for booster before call to inplace_predict.\n",
      "\n",
      "This warning will only be shown once.\n",
      "\n",
      "  warnings.warn(smsg, UserWarning)\n"
     ]
    },
    {
     "name": "stdout",
     "output_type": "stream",
     "text": [
      "[CV] END gamma=0, learning_rate=0.1, max_depth=3, n_estimators=400, random_state=42, reg_alpha=0.3, reg_lambda=1; total time=  50.0s\n"
     ]
    },
    {
     "name": "stderr",
     "output_type": "stream",
     "text": [
      "/puhome/24112456g/.conda/envs/SHPC-env/lib/python3.10/site-packages/xgboost/core.py:158: UserWarning: [02:33:24] WARNING: /workspace/src/common/error_msg.cc:58: Falling back to prediction using DMatrix due to mismatched devices. This might lead to higher memory usage and slower performance. XGBoost is running on: cuda:0, while the input data is on: cpu.\n",
      "Potential solutions:\n",
      "- Use a data structure that matches the device ordinal in the booster.\n",
      "- Set the device for booster before call to inplace_predict.\n",
      "\n",
      "This warning will only be shown once.\n",
      "\n",
      "  warnings.warn(smsg, UserWarning)\n",
      "/puhome/24112456g/.conda/envs/SHPC-env/lib/python3.10/site-packages/xgboost/core.py:158: UserWarning: [02:33:25] WARNING: /workspace/src/common/error_msg.cc:58: Falling back to prediction using DMatrix due to mismatched devices. This might lead to higher memory usage and slower performance. XGBoost is running on: cuda:0, while the input data is on: cpu.\n",
      "Potential solutions:\n",
      "- Use a data structure that matches the device ordinal in the booster.\n",
      "- Set the device for booster before call to inplace_predict.\n",
      "\n",
      "This warning will only be shown once.\n",
      "\n",
      "  warnings.warn(smsg, UserWarning)\n"
     ]
    },
    {
     "name": "stdout",
     "output_type": "stream",
     "text": [
      "[CV] END gamma=0, learning_rate=0.1, max_depth=3, n_estimators=400, random_state=42, reg_alpha=0.3, reg_lambda=1; total time=  50.5s\n",
      "[CV] END gamma=0, learning_rate=0.1, max_depth=3, n_estimators=400, random_state=42, reg_alpha=0.3, reg_lambda=10; total time=  44.8s\n",
      "[CV] END gamma=0, learning_rate=0.1, max_depth=3, n_estimators=400, random_state=42, reg_alpha=0.3, reg_lambda=10; total time=  50.9s\n"
     ]
    },
    {
     "name": "stderr",
     "output_type": "stream",
     "text": [
      "/puhome/24112456g/.conda/envs/SHPC-env/lib/python3.10/site-packages/xgboost/core.py:158: UserWarning: [02:33:49] WARNING: /workspace/src/common/error_msg.cc:58: Falling back to prediction using DMatrix due to mismatched devices. This might lead to higher memory usage and slower performance. XGBoost is running on: cuda:0, while the input data is on: cpu.\n",
      "Potential solutions:\n",
      "- Use a data structure that matches the device ordinal in the booster.\n",
      "- Set the device for booster before call to inplace_predict.\n",
      "\n",
      "This warning will only be shown once.\n",
      "\n",
      "  warnings.warn(smsg, UserWarning)\n"
     ]
    },
    {
     "name": "stdout",
     "output_type": "stream",
     "text": [
      "[CV] END gamma=0, learning_rate=0.1, max_depth=3, n_estimators=400, random_state=42, reg_alpha=0.3, reg_lambda=10; total time=  44.3s\n"
     ]
    },
    {
     "name": "stderr",
     "output_type": "stream",
     "text": [
      "/puhome/24112456g/.conda/envs/SHPC-env/lib/python3.10/site-packages/xgboost/core.py:158: UserWarning: [02:34:00] WARNING: /workspace/src/common/error_msg.cc:58: Falling back to prediction using DMatrix due to mismatched devices. This might lead to higher memory usage and slower performance. XGBoost is running on: cuda:0, while the input data is on: cpu.\n",
      "Potential solutions:\n",
      "- Use a data structure that matches the device ordinal in the booster.\n",
      "- Set the device for booster before call to inplace_predict.\n",
      "\n",
      "This warning will only be shown once.\n",
      "\n",
      "  warnings.warn(smsg, UserWarning)\n"
     ]
    },
    {
     "name": "stdout",
     "output_type": "stream",
     "text": [
      "[CV] END gamma=0, learning_rate=0.1, max_depth=3, n_estimators=400, random_state=42, reg_alpha=0.3, reg_lambda=10; total time=  44.1s\n",
      "[CV] END gamma=0, learning_rate=0.1, max_depth=3, n_estimators=400, random_state=42, reg_alpha=0.4, reg_lambda=0.1; total time=  53.9s\n",
      "[CV] END gamma=0, learning_rate=0.1, max_depth=3, n_estimators=400, random_state=42, reg_alpha=0.3, reg_lambda=10; total time=  58.7s\n",
      "[CV] END gamma=0, learning_rate=0.1, max_depth=3, n_estimators=400, random_state=42, reg_alpha=0.4, reg_lambda=0.1; total time=  58.6s\n"
     ]
    },
    {
     "name": "stderr",
     "output_type": "stream",
     "text": [
      "/puhome/24112456g/.conda/envs/SHPC-env/lib/python3.10/site-packages/xgboost/core.py:158: UserWarning: [02:34:27] WARNING: /workspace/src/common/error_msg.cc:58: Falling back to prediction using DMatrix due to mismatched devices. This might lead to higher memory usage and slower performance. XGBoost is running on: cuda:0, while the input data is on: cpu.\n",
      "Potential solutions:\n",
      "- Use a data structure that matches the device ordinal in the booster.\n",
      "- Set the device for booster before call to inplace_predict.\n",
      "\n",
      "This warning will only be shown once.\n",
      "\n",
      "  warnings.warn(smsg, UserWarning)\n"
     ]
    },
    {
     "name": "stdout",
     "output_type": "stream",
     "text": [
      "[CV] END gamma=0, learning_rate=0.1, max_depth=3, n_estimators=400, random_state=42, reg_alpha=0.4, reg_lambda=0.1; total time=  47.1s\n",
      "[CV] END gamma=0, learning_rate=0.1, max_depth=3, n_estimators=400, random_state=42, reg_alpha=0.4, reg_lambda=0.1; total time=  50.7s\n",
      "[CV] END gamma=0, learning_rate=0.1, max_depth=3, n_estimators=400, random_state=42, reg_alpha=0.4, reg_lambda=0.1; total time=  51.1s\n"
     ]
    },
    {
     "name": "stderr",
     "output_type": "stream",
     "text": [
      "/puhome/24112456g/.conda/envs/SHPC-env/lib/python3.10/site-packages/xgboost/core.py:158: UserWarning: [02:35:05] WARNING: /workspace/src/common/error_msg.cc:58: Falling back to prediction using DMatrix due to mismatched devices. This might lead to higher memory usage and slower performance. XGBoost is running on: cuda:0, while the input data is on: cpu.\n",
      "Potential solutions:\n",
      "- Use a data structure that matches the device ordinal in the booster.\n",
      "- Set the device for booster before call to inplace_predict.\n",
      "\n",
      "This warning will only be shown once.\n",
      "\n",
      "  warnings.warn(smsg, UserWarning)\n"
     ]
    },
    {
     "name": "stdout",
     "output_type": "stream",
     "text": [
      "[CV] END gamma=0, learning_rate=0.1, max_depth=3, n_estimators=400, random_state=42, reg_alpha=0.4, reg_lambda=1; total time=  40.2s\n"
     ]
    },
    {
     "name": "stderr",
     "output_type": "stream",
     "text": [
      "/puhome/24112456g/.conda/envs/SHPC-env/lib/python3.10/site-packages/xgboost/core.py:158: UserWarning: [02:35:12] WARNING: /workspace/src/common/error_msg.cc:58: Falling back to prediction using DMatrix due to mismatched devices. This might lead to higher memory usage and slower performance. XGBoost is running on: cuda:0, while the input data is on: cpu.\n",
      "Potential solutions:\n",
      "- Use a data structure that matches the device ordinal in the booster.\n",
      "- Set the device for booster before call to inplace_predict.\n",
      "\n",
      "This warning will only be shown once.\n",
      "\n",
      "  warnings.warn(smsg, UserWarning)\n"
     ]
    },
    {
     "name": "stdout",
     "output_type": "stream",
     "text": [
      "[CV] END gamma=0, learning_rate=0.1, max_depth=3, n_estimators=400, random_state=42, reg_alpha=0.4, reg_lambda=1; total time=  46.8s\n"
     ]
    },
    {
     "name": "stderr",
     "output_type": "stream",
     "text": [
      "/puhome/24112456g/.conda/envs/SHPC-env/lib/python3.10/site-packages/xgboost/core.py:158: UserWarning: [02:35:18] WARNING: /workspace/src/common/error_msg.cc:58: Falling back to prediction using DMatrix due to mismatched devices. This might lead to higher memory usage and slower performance. XGBoost is running on: cuda:0, while the input data is on: cpu.\n",
      "Potential solutions:\n",
      "- Use a data structure that matches the device ordinal in the booster.\n",
      "- Set the device for booster before call to inplace_predict.\n",
      "\n",
      "This warning will only be shown once.\n",
      "\n",
      "  warnings.warn(smsg, UserWarning)\n"
     ]
    },
    {
     "name": "stdout",
     "output_type": "stream",
     "text": [
      "[CV] END gamma=0, learning_rate=0.1, max_depth=3, n_estimators=400, random_state=42, reg_alpha=0.4, reg_lambda=1; total time=  48.9s\n",
      "[CV] END gamma=0, learning_rate=0.1, max_depth=3, n_estimators=400, random_state=42, reg_alpha=0.4, reg_lambda=1; total time=  54.5s\n"
     ]
    },
    {
     "name": "stderr",
     "output_type": "stream",
     "text": [
      "/puhome/24112456g/.conda/envs/SHPC-env/lib/python3.10/site-packages/xgboost/core.py:158: UserWarning: [02:35:30] WARNING: /workspace/src/common/error_msg.cc:58: Falling back to prediction using DMatrix due to mismatched devices. This might lead to higher memory usage and slower performance. XGBoost is running on: cuda:0, while the input data is on: cpu.\n",
      "Potential solutions:\n",
      "- Use a data structure that matches the device ordinal in the booster.\n",
      "- Set the device for booster before call to inplace_predict.\n",
      "\n",
      "This warning will only be shown once.\n",
      "\n",
      "  warnings.warn(smsg, UserWarning)\n"
     ]
    },
    {
     "name": "stdout",
     "output_type": "stream",
     "text": [
      "[CV] END gamma=0, learning_rate=0.1, max_depth=3, n_estimators=400, random_state=42, reg_alpha=0.4, reg_lambda=1; total time=  44.2s\n"
     ]
    },
    {
     "name": "stderr",
     "output_type": "stream",
     "text": [
      "/puhome/24112456g/.conda/envs/SHPC-env/lib/python3.10/site-packages/xgboost/core.py:158: UserWarning: [02:35:37] WARNING: /workspace/src/common/error_msg.cc:58: Falling back to prediction using DMatrix due to mismatched devices. This might lead to higher memory usage and slower performance. XGBoost is running on: cuda:0, while the input data is on: cpu.\n",
      "Potential solutions:\n",
      "- Use a data structure that matches the device ordinal in the booster.\n",
      "- Set the device for booster before call to inplace_predict.\n",
      "\n",
      "This warning will only be shown once.\n",
      "\n",
      "  warnings.warn(smsg, UserWarning)\n"
     ]
    },
    {
     "name": "stdout",
     "output_type": "stream",
     "text": [
      "[CV] END gamma=0, learning_rate=0.1, max_depth=3, n_estimators=400, random_state=42, reg_alpha=0.4, reg_lambda=10; total time=  38.9s\n",
      "[CV] END gamma=0, learning_rate=0.1, max_depth=3, n_estimators=400, random_state=42, reg_alpha=0.4, reg_lambda=10; total time=  50.3s\n",
      "[CV] END gamma=0, learning_rate=0.1, max_depth=3, n_estimators=400, random_state=42, reg_alpha=0.4, reg_lambda=10; total time=  50.4s\n",
      "[CV] END gamma=0, learning_rate=0.1, max_depth=3, n_estimators=400, random_state=42, reg_alpha=0.4, reg_lambda=10; total time=  55.6s\n",
      "[CV] END gamma=0, learning_rate=0.1, max_depth=3, n_estimators=400, random_state=42, reg_alpha=0.4, reg_lambda=10; total time=  56.4s\n",
      "[CV] END gamma=0, learning_rate=0.1, max_depth=3, n_estimators=800, random_state=42, reg_alpha=0, reg_lambda=0.1; total time= 1.0min\n",
      "[CV] END gamma=0, learning_rate=0.1, max_depth=3, n_estimators=800, random_state=42, reg_alpha=0, reg_lambda=0.1; total time= 1.0min\n",
      "[CV] END gamma=0, learning_rate=0.1, max_depth=3, n_estimators=800, random_state=42, reg_alpha=0, reg_lambda=0.1; total time= 1.0min\n"
     ]
    },
    {
     "name": "stderr",
     "output_type": "stream",
     "text": [
      "/puhome/24112456g/.conda/envs/SHPC-env/lib/python3.10/site-packages/xgboost/core.py:158: UserWarning: [02:37:10] WARNING: /workspace/src/common/error_msg.cc:58: Falling back to prediction using DMatrix due to mismatched devices. This might lead to higher memory usage and slower performance. XGBoost is running on: cuda:0, while the input data is on: cpu.\n",
      "Potential solutions:\n",
      "- Use a data structure that matches the device ordinal in the booster.\n",
      "- Set the device for booster before call to inplace_predict.\n",
      "\n",
      "This warning will only be shown once.\n",
      "\n",
      "  warnings.warn(smsg, UserWarning)\n"
     ]
    },
    {
     "name": "stdout",
     "output_type": "stream",
     "text": [
      "[CV] END gamma=0, learning_rate=0.1, max_depth=3, n_estimators=800, random_state=42, reg_alpha=0, reg_lambda=0.1; total time= 1.0min\n"
     ]
    },
    {
     "name": "stderr",
     "output_type": "stream",
     "text": [
      "/puhome/24112456g/.conda/envs/SHPC-env/lib/python3.10/site-packages/xgboost/core.py:158: UserWarning: [02:37:26] WARNING: /workspace/src/common/error_msg.cc:58: Falling back to prediction using DMatrix due to mismatched devices. This might lead to higher memory usage and slower performance. XGBoost is running on: cuda:0, while the input data is on: cpu.\n",
      "Potential solutions:\n",
      "- Use a data structure that matches the device ordinal in the booster.\n",
      "- Set the device for booster before call to inplace_predict.\n",
      "\n",
      "This warning will only be shown once.\n",
      "\n",
      "  warnings.warn(smsg, UserWarning)\n"
     ]
    },
    {
     "name": "stdout",
     "output_type": "stream",
     "text": [
      "[CV] END gamma=0, learning_rate=0.1, max_depth=3, n_estimators=800, random_state=42, reg_alpha=0, reg_lambda=1; total time= 1.0min\n",
      "[CV] END gamma=0, learning_rate=0.1, max_depth=3, n_estimators=800, random_state=42, reg_alpha=0, reg_lambda=0.1; total time= 1.2min\n"
     ]
    },
    {
     "name": "stderr",
     "output_type": "stream",
     "text": [
      "/puhome/24112456g/.conda/envs/SHPC-env/lib/python3.10/site-packages/xgboost/core.py:158: UserWarning: [02:37:42] WARNING: /workspace/src/common/error_msg.cc:58: Falling back to prediction using DMatrix due to mismatched devices. This might lead to higher memory usage and slower performance. XGBoost is running on: cuda:0, while the input data is on: cpu.\n",
      "Potential solutions:\n",
      "- Use a data structure that matches the device ordinal in the booster.\n",
      "- Set the device for booster before call to inplace_predict.\n",
      "\n",
      "This warning will only be shown once.\n",
      "\n",
      "  warnings.warn(smsg, UserWarning)\n"
     ]
    },
    {
     "name": "stdout",
     "output_type": "stream",
     "text": [
      "[CV] END gamma=0, learning_rate=0.1, max_depth=3, n_estimators=800, random_state=42, reg_alpha=0, reg_lambda=1; total time= 1.1min\n"
     ]
    },
    {
     "name": "stderr",
     "output_type": "stream",
     "text": [
      "/puhome/24112456g/.conda/envs/SHPC-env/lib/python3.10/site-packages/xgboost/core.py:158: UserWarning: [02:37:46] WARNING: /workspace/src/common/error_msg.cc:58: Falling back to prediction using DMatrix due to mismatched devices. This might lead to higher memory usage and slower performance. XGBoost is running on: cuda:0, while the input data is on: cpu.\n",
      "Potential solutions:\n",
      "- Use a data structure that matches the device ordinal in the booster.\n",
      "- Set the device for booster before call to inplace_predict.\n",
      "\n",
      "This warning will only be shown once.\n",
      "\n",
      "  warnings.warn(smsg, UserWarning)\n"
     ]
    },
    {
     "name": "stdout",
     "output_type": "stream",
     "text": [
      "[CV] END gamma=0, learning_rate=0.1, max_depth=3, n_estimators=800, random_state=42, reg_alpha=0, reg_lambda=1; total time= 1.0min\n"
     ]
    },
    {
     "name": "stderr",
     "output_type": "stream",
     "text": [
      "/puhome/24112456g/.conda/envs/SHPC-env/lib/python3.10/site-packages/xgboost/core.py:158: UserWarning: [02:37:57] WARNING: /workspace/src/common/error_msg.cc:58: Falling back to prediction using DMatrix due to mismatched devices. This might lead to higher memory usage and slower performance. XGBoost is running on: cuda:0, while the input data is on: cpu.\n",
      "Potential solutions:\n",
      "- Use a data structure that matches the device ordinal in the booster.\n",
      "- Set the device for booster before call to inplace_predict.\n",
      "\n",
      "This warning will only be shown once.\n",
      "\n",
      "  warnings.warn(smsg, UserWarning)\n"
     ]
    },
    {
     "name": "stdout",
     "output_type": "stream",
     "text": [
      "[CV] END gamma=0, learning_rate=0.1, max_depth=3, n_estimators=800, random_state=42, reg_alpha=0, reg_lambda=1; total time=  55.1s\n",
      "[CV] END gamma=0, learning_rate=0.1, max_depth=3, n_estimators=800, random_state=42, reg_alpha=0, reg_lambda=1; total time= 1.0min\n",
      "[CV] END gamma=0, learning_rate=0.1, max_depth=3, n_estimators=800, random_state=42, reg_alpha=0, reg_lambda=10; total time= 1.0min\n"
     ]
    },
    {
     "name": "stderr",
     "output_type": "stream",
     "text": [
      "/puhome/24112456g/.conda/envs/SHPC-env/lib/python3.10/site-packages/xgboost/core.py:158: UserWarning: [02:38:36] WARNING: /workspace/src/common/error_msg.cc:58: Falling back to prediction using DMatrix due to mismatched devices. This might lead to higher memory usage and slower performance. XGBoost is running on: cuda:0, while the input data is on: cpu.\n",
      "Potential solutions:\n",
      "- Use a data structure that matches the device ordinal in the booster.\n",
      "- Set the device for booster before call to inplace_predict.\n",
      "\n",
      "This warning will only be shown once.\n",
      "\n",
      "  warnings.warn(smsg, UserWarning)\n"
     ]
    },
    {
     "name": "stdout",
     "output_type": "stream",
     "text": [
      "[CV] END gamma=0, learning_rate=0.1, max_depth=3, n_estimators=800, random_state=42, reg_alpha=0, reg_lambda=10; total time= 1.0min\n",
      "[CV] END gamma=0, learning_rate=0.1, max_depth=3, n_estimators=800, random_state=42, reg_alpha=0, reg_lambda=10; total time= 1.2min\n",
      "[CV] END gamma=0, learning_rate=0.1, max_depth=3, n_estimators=800, random_state=42, reg_alpha=0, reg_lambda=10; total time= 1.2min\n",
      "[CV] END gamma=0, learning_rate=0.1, max_depth=3, n_estimators=800, random_state=42, reg_alpha=0, reg_lambda=10; total time= 1.2min\n"
     ]
    },
    {
     "name": "stderr",
     "output_type": "stream",
     "text": [
      "/puhome/24112456g/.conda/envs/SHPC-env/lib/python3.10/site-packages/xgboost/core.py:158: UserWarning: [02:39:15] WARNING: /workspace/src/common/error_msg.cc:58: Falling back to prediction using DMatrix due to mismatched devices. This might lead to higher memory usage and slower performance. XGBoost is running on: cuda:0, while the input data is on: cpu.\n",
      "Potential solutions:\n",
      "- Use a data structure that matches the device ordinal in the booster.\n",
      "- Set the device for booster before call to inplace_predict.\n",
      "\n",
      "This warning will only be shown once.\n",
      "\n",
      "  warnings.warn(smsg, UserWarning)\n"
     ]
    },
    {
     "name": "stdout",
     "output_type": "stream",
     "text": [
      "[CV] END gamma=0, learning_rate=0.1, max_depth=3, n_estimators=800, random_state=42, reg_alpha=0.2, reg_lambda=0.1; total time=  57.5s\n"
     ]
    },
    {
     "name": "stderr",
     "output_type": "stream",
     "text": [
      "/puhome/24112456g/.conda/envs/SHPC-env/lib/python3.10/site-packages/xgboost/core.py:158: UserWarning: [02:39:30] WARNING: /workspace/src/common/error_msg.cc:58: Falling back to prediction using DMatrix due to mismatched devices. This might lead to higher memory usage and slower performance. XGBoost is running on: cuda:0, while the input data is on: cpu.\n",
      "Potential solutions:\n",
      "- Use a data structure that matches the device ordinal in the booster.\n",
      "- Set the device for booster before call to inplace_predict.\n",
      "\n",
      "This warning will only be shown once.\n",
      "\n",
      "  warnings.warn(smsg, UserWarning)\n"
     ]
    },
    {
     "name": "stdout",
     "output_type": "stream",
     "text": [
      "[CV] END gamma=0, learning_rate=0.1, max_depth=3, n_estimators=800, random_state=42, reg_alpha=0.2, reg_lambda=0.1; total time=  56.2s\n",
      "[CV] END gamma=0, learning_rate=0.1, max_depth=3, n_estimators=800, random_state=42, reg_alpha=0.2, reg_lambda=0.1; total time= 1.0min\n"
     ]
    },
    {
     "name": "stderr",
     "output_type": "stream",
     "text": [
      "/puhome/24112456g/.conda/envs/SHPC-env/lib/python3.10/site-packages/xgboost/core.py:158: UserWarning: [02:40:02] WARNING: /workspace/src/common/error_msg.cc:58: Falling back to prediction using DMatrix due to mismatched devices. This might lead to higher memory usage and slower performance. XGBoost is running on: cuda:0, while the input data is on: cpu.\n",
      "Potential solutions:\n",
      "- Use a data structure that matches the device ordinal in the booster.\n",
      "- Set the device for booster before call to inplace_predict.\n",
      "\n",
      "This warning will only be shown once.\n",
      "\n",
      "  warnings.warn(smsg, UserWarning)\n"
     ]
    },
    {
     "name": "stdout",
     "output_type": "stream",
     "text": [
      "[CV] END gamma=0, learning_rate=0.1, max_depth=3, n_estimators=800, random_state=42, reg_alpha=0.2, reg_lambda=0.1; total time= 1.0min\n"
     ]
    },
    {
     "name": "stderr",
     "output_type": "stream",
     "text": [
      "/puhome/24112456g/.conda/envs/SHPC-env/lib/python3.10/site-packages/xgboost/core.py:158: UserWarning: [02:40:14] WARNING: /workspace/src/common/error_msg.cc:58: Falling back to prediction using DMatrix due to mismatched devices. This might lead to higher memory usage and slower performance. XGBoost is running on: cuda:0, while the input data is on: cpu.\n",
      "Potential solutions:\n",
      "- Use a data structure that matches the device ordinal in the booster.\n",
      "- Set the device for booster before call to inplace_predict.\n",
      "\n",
      "This warning will only be shown once.\n",
      "\n",
      "  warnings.warn(smsg, UserWarning)\n"
     ]
    },
    {
     "name": "stdout",
     "output_type": "stream",
     "text": [
      "[CV] END gamma=0, learning_rate=0.1, max_depth=3, n_estimators=800, random_state=42, reg_alpha=0.2, reg_lambda=0.1; total time= 1.1min\n"
     ]
    },
    {
     "name": "stderr",
     "output_type": "stream",
     "text": [
      "/puhome/24112456g/.conda/envs/SHPC-env/lib/python3.10/site-packages/xgboost/core.py:158: UserWarning: [02:40:20] WARNING: /workspace/src/common/error_msg.cc:58: Falling back to prediction using DMatrix due to mismatched devices. This might lead to higher memory usage and slower performance. XGBoost is running on: cuda:0, while the input data is on: cpu.\n",
      "Potential solutions:\n",
      "- Use a data structure that matches the device ordinal in the booster.\n",
      "- Set the device for booster before call to inplace_predict.\n",
      "\n",
      "This warning will only be shown once.\n",
      "\n",
      "  warnings.warn(smsg, UserWarning)\n"
     ]
    },
    {
     "name": "stdout",
     "output_type": "stream",
     "text": [
      "[CV] END gamma=0, learning_rate=0.1, max_depth=3, n_estimators=800, random_state=42, reg_alpha=0.2, reg_lambda=1; total time= 1.1min\n",
      "[CV] END gamma=0, learning_rate=0.1, max_depth=3, n_estimators=800, random_state=42, reg_alpha=0.2, reg_lambda=1; total time= 1.2min\n",
      "[CV] END gamma=0, learning_rate=0.1, max_depth=3, n_estimators=800, random_state=42, reg_alpha=0.2, reg_lambda=1; total time= 1.2min\n"
     ]
    },
    {
     "name": "stderr",
     "output_type": "stream",
     "text": [
      "/puhome/24112456g/.conda/envs/SHPC-env/lib/python3.10/site-packages/xgboost/core.py:158: UserWarning: [02:40:43] WARNING: /workspace/src/common/error_msg.cc:58: Falling back to prediction using DMatrix due to mismatched devices. This might lead to higher memory usage and slower performance. XGBoost is running on: cuda:0, while the input data is on: cpu.\n",
      "Potential solutions:\n",
      "- Use a data structure that matches the device ordinal in the booster.\n",
      "- Set the device for booster before call to inplace_predict.\n",
      "\n",
      "This warning will only be shown once.\n",
      "\n",
      "  warnings.warn(smsg, UserWarning)\n"
     ]
    },
    {
     "name": "stdout",
     "output_type": "stream",
     "text": [
      "[CV] END gamma=0, learning_rate=0.1, max_depth=3, n_estimators=800, random_state=42, reg_alpha=0.2, reg_lambda=1; total time=  59.4s\n",
      "[CV] END gamma=0, learning_rate=0.1, max_depth=3, n_estimators=800, random_state=42, reg_alpha=0.2, reg_lambda=1; total time= 1.0min\n",
      "[CV] END gamma=0, learning_rate=0.1, max_depth=3, n_estimators=800, random_state=42, reg_alpha=0.2, reg_lambda=10; total time= 1.1min\n",
      "[CV] END gamma=0, learning_rate=0.1, max_depth=3, n_estimators=800, random_state=42, reg_alpha=0.2, reg_lambda=10; total time= 1.2min\n"
     ]
    },
    {
     "name": "stderr",
     "output_type": "stream",
     "text": [
      "/puhome/24112456g/.conda/envs/SHPC-env/lib/python3.10/site-packages/xgboost/core.py:158: UserWarning: [02:41:41] WARNING: /workspace/src/common/error_msg.cc:58: Falling back to prediction using DMatrix due to mismatched devices. This might lead to higher memory usage and slower performance. XGBoost is running on: cuda:0, while the input data is on: cpu.\n",
      "Potential solutions:\n",
      "- Use a data structure that matches the device ordinal in the booster.\n",
      "- Set the device for booster before call to inplace_predict.\n",
      "\n",
      "This warning will only be shown once.\n",
      "\n",
      "  warnings.warn(smsg, UserWarning)\n"
     ]
    },
    {
     "name": "stdout",
     "output_type": "stream",
     "text": [
      "[CV] END gamma=0, learning_rate=0.1, max_depth=3, n_estimators=800, random_state=42, reg_alpha=0.2, reg_lambda=10; total time= 1.1min\n"
     ]
    },
    {
     "name": "stderr",
     "output_type": "stream",
     "text": [
      "/puhome/24112456g/.conda/envs/SHPC-env/lib/python3.10/site-packages/xgboost/core.py:158: UserWarning: [02:41:54] WARNING: /workspace/src/common/error_msg.cc:58: Falling back to prediction using DMatrix due to mismatched devices. This might lead to higher memory usage and slower performance. XGBoost is running on: cuda:0, while the input data is on: cpu.\n",
      "Potential solutions:\n",
      "- Use a data structure that matches the device ordinal in the booster.\n",
      "- Set the device for booster before call to inplace_predict.\n",
      "\n",
      "This warning will only be shown once.\n",
      "\n",
      "  warnings.warn(smsg, UserWarning)\n"
     ]
    },
    {
     "name": "stdout",
     "output_type": "stream",
     "text": [
      "[CV] END gamma=0, learning_rate=0.1, max_depth=3, n_estimators=800, random_state=42, reg_alpha=0.2, reg_lambda=10; total time= 1.1min\n",
      "[CV] END gamma=0, learning_rate=0.1, max_depth=3, n_estimators=800, random_state=42, reg_alpha=0.2, reg_lambda=10; total time= 1.2min\n"
     ]
    },
    {
     "name": "stderr",
     "output_type": "stream",
     "text": [
      "/puhome/24112456g/.conda/envs/SHPC-env/lib/python3.10/site-packages/xgboost/core.py:158: UserWarning: [02:42:06] WARNING: /workspace/src/common/error_msg.cc:58: Falling back to prediction using DMatrix due to mismatched devices. This might lead to higher memory usage and slower performance. XGBoost is running on: cuda:0, while the input data is on: cpu.\n",
      "Potential solutions:\n",
      "- Use a data structure that matches the device ordinal in the booster.\n",
      "- Set the device for booster before call to inplace_predict.\n",
      "\n",
      "This warning will only be shown once.\n",
      "\n",
      "  warnings.warn(smsg, UserWarning)\n"
     ]
    },
    {
     "name": "stdout",
     "output_type": "stream",
     "text": [
      "[CV] END gamma=0, learning_rate=0.1, max_depth=3, n_estimators=800, random_state=42, reg_alpha=0.3, reg_lambda=0.1; total time=  55.6s\n"
     ]
    },
    {
     "name": "stderr",
     "output_type": "stream",
     "text": [
      "/puhome/24112456g/.conda/envs/SHPC-env/lib/python3.10/site-packages/xgboost/core.py:158: UserWarning: [02:42:18] WARNING: /workspace/src/common/error_msg.cc:58: Falling back to prediction using DMatrix due to mismatched devices. This might lead to higher memory usage and slower performance. XGBoost is running on: cuda:0, while the input data is on: cpu.\n",
      "Potential solutions:\n",
      "- Use a data structure that matches the device ordinal in the booster.\n",
      "- Set the device for booster before call to inplace_predict.\n",
      "\n",
      "This warning will only be shown once.\n",
      "\n",
      "  warnings.warn(smsg, UserWarning)\n"
     ]
    },
    {
     "name": "stdout",
     "output_type": "stream",
     "text": [
      "[CV] END gamma=0, learning_rate=0.1, max_depth=3, n_estimators=800, random_state=42, reg_alpha=0.3, reg_lambda=0.1; total time=  54.5s\n"
     ]
    },
    {
     "name": "stderr",
     "output_type": "stream",
     "text": [
      "/puhome/24112456g/.conda/envs/SHPC-env/lib/python3.10/site-packages/xgboost/core.py:158: UserWarning: [02:42:30] WARNING: /workspace/src/common/error_msg.cc:58: Falling back to prediction using DMatrix due to mismatched devices. This might lead to higher memory usage and slower performance. XGBoost is running on: cuda:0, while the input data is on: cpu.\n",
      "Potential solutions:\n",
      "- Use a data structure that matches the device ordinal in the booster.\n",
      "- Set the device for booster before call to inplace_predict.\n",
      "\n",
      "This warning will only be shown once.\n",
      "\n",
      "  warnings.warn(smsg, UserWarning)\n"
     ]
    },
    {
     "name": "stdout",
     "output_type": "stream",
     "text": [
      "[CV] END gamma=0, learning_rate=0.1, max_depth=3, n_estimators=800, random_state=42, reg_alpha=0.3, reg_lambda=0.1; total time=  54.5s\n",
      "[CV] END gamma=0, learning_rate=0.1, max_depth=3, n_estimators=800, random_state=42, reg_alpha=0.3, reg_lambda=0.1; total time= 1.1min\n"
     ]
    },
    {
     "name": "stderr",
     "output_type": "stream",
     "text": [
      "/puhome/24112456g/.conda/envs/SHPC-env/lib/python3.10/site-packages/xgboost/core.py:158: UserWarning: [02:43:03] WARNING: /workspace/src/common/error_msg.cc:58: Falling back to prediction using DMatrix due to mismatched devices. This might lead to higher memory usage and slower performance. XGBoost is running on: cuda:0, while the input data is on: cpu.\n",
      "Potential solutions:\n",
      "- Use a data structure that matches the device ordinal in the booster.\n",
      "- Set the device for booster before call to inplace_predict.\n",
      "\n",
      "This warning will only be shown once.\n",
      "\n",
      "  warnings.warn(smsg, UserWarning)\n"
     ]
    },
    {
     "name": "stdout",
     "output_type": "stream",
     "text": [
      "[CV] END gamma=0, learning_rate=0.1, max_depth=3, n_estimators=800, random_state=42, reg_alpha=0.3, reg_lambda=1; total time=  59.5s\n",
      "[CV] END gamma=0, learning_rate=0.1, max_depth=3, n_estimators=800, random_state=42, reg_alpha=0.3, reg_lambda=0.1; total time= 1.2min\n",
      "[CV] END gamma=0, learning_rate=0.1, max_depth=3, n_estimators=800, random_state=42, reg_alpha=0.3, reg_lambda=1; total time= 1.2min\n",
      "[CV] END gamma=0, learning_rate=0.1, max_depth=3, n_estimators=800, random_state=42, reg_alpha=0.3, reg_lambda=1; total time= 1.2min\n",
      "[CV] END gamma=0, learning_rate=0.1, max_depth=3, n_estimators=800, random_state=42, reg_alpha=0.3, reg_lambda=1; total time= 1.1min\n"
     ]
    },
    {
     "name": "stderr",
     "output_type": "stream",
     "text": [
      "/puhome/24112456g/.conda/envs/SHPC-env/lib/python3.10/site-packages/xgboost/core.py:158: UserWarning: [02:43:47] WARNING: /workspace/src/common/error_msg.cc:58: Falling back to prediction using DMatrix due to mismatched devices. This might lead to higher memory usage and slower performance. XGBoost is running on: cuda:0, while the input data is on: cpu.\n",
      "Potential solutions:\n",
      "- Use a data structure that matches the device ordinal in the booster.\n",
      "- Set the device for booster before call to inplace_predict.\n",
      "\n",
      "This warning will only be shown once.\n",
      "\n",
      "  warnings.warn(smsg, UserWarning)\n"
     ]
    },
    {
     "name": "stdout",
     "output_type": "stream",
     "text": [
      "[CV] END gamma=0, learning_rate=0.1, max_depth=3, n_estimators=800, random_state=42, reg_alpha=0.3, reg_lambda=1; total time=  56.6s\n",
      "[CV] END gamma=0, learning_rate=0.1, max_depth=3, n_estimators=800, random_state=42, reg_alpha=0.3, reg_lambda=10; total time= 1.0min\n"
     ]
    },
    {
     "name": "stderr",
     "output_type": "stream",
     "text": [
      "/puhome/24112456g/.conda/envs/SHPC-env/lib/python3.10/site-packages/xgboost/core.py:158: UserWarning: [02:44:15] WARNING: /workspace/src/common/error_msg.cc:58: Falling back to prediction using DMatrix due to mismatched devices. This might lead to higher memory usage and slower performance. XGBoost is running on: cuda:0, while the input data is on: cpu.\n",
      "Potential solutions:\n",
      "- Use a data structure that matches the device ordinal in the booster.\n",
      "- Set the device for booster before call to inplace_predict.\n",
      "\n",
      "This warning will only be shown once.\n",
      "\n",
      "  warnings.warn(smsg, UserWarning)\n"
     ]
    },
    {
     "name": "stdout",
     "output_type": "stream",
     "text": [
      "[CV] END gamma=0, learning_rate=0.1, max_depth=3, n_estimators=800, random_state=42, reg_alpha=0.3, reg_lambda=10; total time= 1.0min\n"
     ]
    },
    {
     "name": "stderr",
     "output_type": "stream",
     "text": [
      "/puhome/24112456g/.conda/envs/SHPC-env/lib/python3.10/site-packages/xgboost/core.py:158: UserWarning: [02:44:30] WARNING: /workspace/src/common/error_msg.cc:58: Falling back to prediction using DMatrix due to mismatched devices. This might lead to higher memory usage and slower performance. XGBoost is running on: cuda:0, while the input data is on: cpu.\n",
      "Potential solutions:\n",
      "- Use a data structure that matches the device ordinal in the booster.\n",
      "- Set the device for booster before call to inplace_predict.\n",
      "\n",
      "This warning will only be shown once.\n",
      "\n",
      "  warnings.warn(smsg, UserWarning)\n"
     ]
    },
    {
     "name": "stdout",
     "output_type": "stream",
     "text": [
      "[CV] END gamma=0, learning_rate=0.1, max_depth=3, n_estimators=800, random_state=42, reg_alpha=0.3, reg_lambda=10; total time= 1.1min\n"
     ]
    },
    {
     "name": "stderr",
     "output_type": "stream",
     "text": [
      "/puhome/24112456g/.conda/envs/SHPC-env/lib/python3.10/site-packages/xgboost/core.py:158: UserWarning: [02:44:40] WARNING: /workspace/src/common/error_msg.cc:58: Falling back to prediction using DMatrix due to mismatched devices. This might lead to higher memory usage and slower performance. XGBoost is running on: cuda:0, while the input data is on: cpu.\n",
      "Potential solutions:\n",
      "- Use a data structure that matches the device ordinal in the booster.\n",
      "- Set the device for booster before call to inplace_predict.\n",
      "\n",
      "This warning will only be shown once.\n",
      "\n",
      "  warnings.warn(smsg, UserWarning)\n"
     ]
    },
    {
     "name": "stdout",
     "output_type": "stream",
     "text": [
      "[CV] END gamma=0, learning_rate=0.1, max_depth=3, n_estimators=800, random_state=42, reg_alpha=0.3, reg_lambda=10; total time= 1.1min\n"
     ]
    },
    {
     "name": "stderr",
     "output_type": "stream",
     "text": [
      "/puhome/24112456g/.conda/envs/SHPC-env/lib/python3.10/site-packages/xgboost/core.py:158: UserWarning: [02:44:49] WARNING: /workspace/src/common/error_msg.cc:58: Falling back to prediction using DMatrix due to mismatched devices. This might lead to higher memory usage and slower performance. XGBoost is running on: cuda:0, while the input data is on: cpu.\n",
      "Potential solutions:\n",
      "- Use a data structure that matches the device ordinal in the booster.\n",
      "- Set the device for booster before call to inplace_predict.\n",
      "\n",
      "This warning will only be shown once.\n",
      "\n",
      "  warnings.warn(smsg, UserWarning)\n"
     ]
    },
    {
     "name": "stdout",
     "output_type": "stream",
     "text": [
      "[CV] END gamma=0, learning_rate=0.1, max_depth=3, n_estimators=800, random_state=42, reg_alpha=0.3, reg_lambda=10; total time= 1.1min\n",
      "[CV] END gamma=0, learning_rate=0.1, max_depth=3, n_estimators=800, random_state=42, reg_alpha=0.4, reg_lambda=0.1; total time= 1.1min\n"
     ]
    },
    {
     "name": "stderr",
     "output_type": "stream",
     "text": [
      "/puhome/24112456g/.conda/envs/SHPC-env/lib/python3.10/site-packages/xgboost/core.py:158: UserWarning: [02:45:07] WARNING: /workspace/src/common/error_msg.cc:58: Falling back to prediction using DMatrix due to mismatched devices. This might lead to higher memory usage and slower performance. XGBoost is running on: cuda:0, while the input data is on: cpu.\n",
      "Potential solutions:\n",
      "- Use a data structure that matches the device ordinal in the booster.\n",
      "- Set the device for booster before call to inplace_predict.\n",
      "\n",
      "This warning will only be shown once.\n",
      "\n",
      "  warnings.warn(smsg, UserWarning)\n"
     ]
    },
    {
     "name": "stdout",
     "output_type": "stream",
     "text": [
      "[CV] END gamma=0, learning_rate=0.1, max_depth=3, n_estimators=800, random_state=42, reg_alpha=0.4, reg_lambda=0.1; total time=  56.6s\n",
      "[CV] END gamma=0, learning_rate=0.1, max_depth=3, n_estimators=800, random_state=42, reg_alpha=0.4, reg_lambda=0.1; total time= 1.0min\n",
      "[CV] END gamma=0, learning_rate=0.1, max_depth=3, n_estimators=800, random_state=42, reg_alpha=0.4, reg_lambda=0.1; total time= 1.1min\n",
      "[CV] END gamma=0, learning_rate=0.1, max_depth=3, n_estimators=800, random_state=42, reg_alpha=0.4, reg_lambda=0.1; total time= 1.2min\n",
      "[CV] END gamma=0, learning_rate=0.1, max_depth=3, n_estimators=800, random_state=42, reg_alpha=0.4, reg_lambda=1; total time= 1.2min\n"
     ]
    },
    {
     "name": "stderr",
     "output_type": "stream",
     "text": [
      "/puhome/24112456g/.conda/envs/SHPC-env/lib/python3.10/site-packages/xgboost/core.py:158: UserWarning: [02:46:08] WARNING: /workspace/src/common/error_msg.cc:58: Falling back to prediction using DMatrix due to mismatched devices. This might lead to higher memory usage and slower performance. XGBoost is running on: cuda:0, while the input data is on: cpu.\n",
      "Potential solutions:\n",
      "- Use a data structure that matches the device ordinal in the booster.\n",
      "- Set the device for booster before call to inplace_predict.\n",
      "\n",
      "This warning will only be shown once.\n",
      "\n",
      "  warnings.warn(smsg, UserWarning)\n"
     ]
    },
    {
     "name": "stdout",
     "output_type": "stream",
     "text": [
      "[CV] END gamma=0, learning_rate=0.1, max_depth=3, n_estimators=800, random_state=42, reg_alpha=0.4, reg_lambda=1; total time= 1.1min\n",
      "[CV] END gamma=0, learning_rate=0.1, max_depth=3, n_estimators=800, random_state=42, reg_alpha=0.4, reg_lambda=1; total time= 1.2min\n"
     ]
    },
    {
     "name": "stderr",
     "output_type": "stream",
     "text": [
      "/puhome/24112456g/.conda/envs/SHPC-env/lib/python3.10/site-packages/xgboost/core.py:158: UserWarning: [02:46:25] WARNING: /workspace/src/common/error_msg.cc:58: Falling back to prediction using DMatrix due to mismatched devices. This might lead to higher memory usage and slower performance. XGBoost is running on: cuda:0, while the input data is on: cpu.\n",
      "Potential solutions:\n",
      "- Use a data structure that matches the device ordinal in the booster.\n",
      "- Set the device for booster before call to inplace_predict.\n",
      "\n",
      "This warning will only be shown once.\n",
      "\n",
      "  warnings.warn(smsg, UserWarning)\n"
     ]
    },
    {
     "name": "stdout",
     "output_type": "stream",
     "text": [
      "[CV] END gamma=0, learning_rate=0.1, max_depth=3, n_estimators=800, random_state=42, reg_alpha=0.4, reg_lambda=1; total time= 1.0min\n"
     ]
    },
    {
     "name": "stderr",
     "output_type": "stream",
     "text": [
      "/puhome/24112456g/.conda/envs/SHPC-env/lib/python3.10/site-packages/xgboost/core.py:158: UserWarning: [02:46:36] WARNING: /workspace/src/common/error_msg.cc:58: Falling back to prediction using DMatrix due to mismatched devices. This might lead to higher memory usage and slower performance. XGBoost is running on: cuda:0, while the input data is on: cpu.\n",
      "Potential solutions:\n",
      "- Use a data structure that matches the device ordinal in the booster.\n",
      "- Set the device for booster before call to inplace_predict.\n",
      "\n",
      "This warning will only be shown once.\n",
      "\n",
      "  warnings.warn(smsg, UserWarning)\n"
     ]
    },
    {
     "name": "stdout",
     "output_type": "stream",
     "text": [
      "[CV] END gamma=0, learning_rate=0.1, max_depth=3, n_estimators=800, random_state=42, reg_alpha=0.4, reg_lambda=1; total time=  56.9s\n"
     ]
    },
    {
     "name": "stderr",
     "output_type": "stream",
     "text": [
      "/puhome/24112456g/.conda/envs/SHPC-env/lib/python3.10/site-packages/xgboost/core.py:158: UserWarning: [02:46:49] WARNING: /workspace/src/common/error_msg.cc:58: Falling back to prediction using DMatrix due to mismatched devices. This might lead to higher memory usage and slower performance. XGBoost is running on: cuda:0, while the input data is on: cpu.\n",
      "Potential solutions:\n",
      "- Use a data structure that matches the device ordinal in the booster.\n",
      "- Set the device for booster before call to inplace_predict.\n",
      "\n",
      "This warning will only be shown once.\n",
      "\n",
      "  warnings.warn(smsg, UserWarning)\n"
     ]
    },
    {
     "name": "stdout",
     "output_type": "stream",
     "text": [
      "[CV] END gamma=0, learning_rate=0.1, max_depth=3, n_estimators=800, random_state=42, reg_alpha=0.4, reg_lambda=10; total time=  50.1s\n"
     ]
    },
    {
     "name": "stderr",
     "output_type": "stream",
     "text": [
      "/puhome/24112456g/.conda/envs/SHPC-env/lib/python3.10/site-packages/xgboost/core.py:158: UserWarning: [02:47:01] WARNING: /workspace/src/common/error_msg.cc:58: Falling back to prediction using DMatrix due to mismatched devices. This might lead to higher memory usage and slower performance. XGBoost is running on: cuda:0, while the input data is on: cpu.\n",
      "Potential solutions:\n",
      "- Use a data structure that matches the device ordinal in the booster.\n",
      "- Set the device for booster before call to inplace_predict.\n",
      "\n",
      "This warning will only be shown once.\n",
      "\n",
      "  warnings.warn(smsg, UserWarning)\n"
     ]
    },
    {
     "name": "stdout",
     "output_type": "stream",
     "text": [
      "[CV] END gamma=0, learning_rate=0.1, max_depth=3, n_estimators=800, random_state=42, reg_alpha=0.4, reg_lambda=10; total time=  56.9s\n",
      "[CV] END gamma=0, learning_rate=0.1, max_depth=3, n_estimators=800, random_state=42, reg_alpha=0.4, reg_lambda=10; total time= 1.2min\n"
     ]
    },
    {
     "name": "stderr",
     "output_type": "stream",
     "text": [
      "/puhome/24112456g/.conda/envs/SHPC-env/lib/python3.10/site-packages/xgboost/core.py:158: UserWarning: [02:47:31] WARNING: /workspace/src/common/error_msg.cc:58: Falling back to prediction using DMatrix due to mismatched devices. This might lead to higher memory usage and slower performance. XGBoost is running on: cuda:0, while the input data is on: cpu.\n",
      "Potential solutions:\n",
      "- Use a data structure that matches the device ordinal in the booster.\n",
      "- Set the device for booster before call to inplace_predict.\n",
      "\n",
      "This warning will only be shown once.\n",
      "\n",
      "  warnings.warn(smsg, UserWarning)\n"
     ]
    },
    {
     "name": "stdout",
     "output_type": "stream",
     "text": [
      "[CV] END gamma=0, learning_rate=0.1, max_depth=3, n_estimators=800, random_state=42, reg_alpha=0.4, reg_lambda=10; total time= 1.1min\n",
      "[CV] END gamma=0, learning_rate=0.05, max_depth=2, n_estimators=400, random_state=42, reg_alpha=0, reg_lambda=0.1; total time=  55.0s\n",
      "[CV] END gamma=0, learning_rate=0.1, max_depth=3, n_estimators=800, random_state=42, reg_alpha=0.4, reg_lambda=10; total time= 1.2min\n",
      "[CV] END gamma=0, learning_rate=0.05, max_depth=2, n_estimators=400, random_state=42, reg_alpha=0, reg_lambda=0.1; total time=  51.5s\n",
      "[CV] END gamma=0, learning_rate=0.05, max_depth=2, n_estimators=400, random_state=42, reg_alpha=0, reg_lambda=0.1; total time=  49.4s\n"
     ]
    },
    {
     "name": "stderr",
     "output_type": "stream",
     "text": [
      "/puhome/24112456g/.conda/envs/SHPC-env/lib/python3.10/site-packages/xgboost/core.py:158: UserWarning: [02:48:07] WARNING: /workspace/src/common/error_msg.cc:58: Falling back to prediction using DMatrix due to mismatched devices. This might lead to higher memory usage and slower performance. XGBoost is running on: cuda:0, while the input data is on: cpu.\n",
      "Potential solutions:\n",
      "- Use a data structure that matches the device ordinal in the booster.\n",
      "- Set the device for booster before call to inplace_predict.\n",
      "\n",
      "This warning will only be shown once.\n",
      "\n",
      "  warnings.warn(smsg, UserWarning)\n"
     ]
    },
    {
     "name": "stdout",
     "output_type": "stream",
     "text": [
      "[CV] END gamma=0, learning_rate=0.05, max_depth=2, n_estimators=400, random_state=42, reg_alpha=0, reg_lambda=0.1; total time=  43.3s\n"
     ]
    },
    {
     "name": "stderr",
     "output_type": "stream",
     "text": [
      "/puhome/24112456g/.conda/envs/SHPC-env/lib/python3.10/site-packages/xgboost/core.py:158: UserWarning: [02:48:16] WARNING: /workspace/src/common/error_msg.cc:58: Falling back to prediction using DMatrix due to mismatched devices. This might lead to higher memory usage and slower performance. XGBoost is running on: cuda:0, while the input data is on: cpu.\n",
      "Potential solutions:\n",
      "- Use a data structure that matches the device ordinal in the booster.\n",
      "- Set the device for booster before call to inplace_predict.\n",
      "\n",
      "This warning will only be shown once.\n",
      "\n",
      "  warnings.warn(smsg, UserWarning)\n"
     ]
    },
    {
     "name": "stdout",
     "output_type": "stream",
     "text": [
      "[CV] END gamma=0, learning_rate=0.05, max_depth=2, n_estimators=400, random_state=42, reg_alpha=0, reg_lambda=1; total time=  38.8s\n",
      "[CV] END gamma=0, learning_rate=0.05, max_depth=2, n_estimators=400, random_state=42, reg_alpha=0, reg_lambda=0.1; total time=  52.0s\n"
     ]
    },
    {
     "name": "stderr",
     "output_type": "stream",
     "text": [
      "/puhome/24112456g/.conda/envs/SHPC-env/lib/python3.10/site-packages/xgboost/core.py:158: UserWarning: [02:48:30] WARNING: /workspace/src/common/error_msg.cc:58: Falling back to prediction using DMatrix due to mismatched devices. This might lead to higher memory usage and slower performance. XGBoost is running on: cuda:0, while the input data is on: cpu.\n",
      "Potential solutions:\n",
      "- Use a data structure that matches the device ordinal in the booster.\n",
      "- Set the device for booster before call to inplace_predict.\n",
      "\n",
      "This warning will only be shown once.\n",
      "\n",
      "  warnings.warn(smsg, UserWarning)\n"
     ]
    },
    {
     "name": "stdout",
     "output_type": "stream",
     "text": [
      "[CV] END gamma=0, learning_rate=0.05, max_depth=2, n_estimators=400, random_state=42, reg_alpha=0, reg_lambda=1; total time=  47.1s\n"
     ]
    },
    {
     "name": "stderr",
     "output_type": "stream",
     "text": [
      "/puhome/24112456g/.conda/envs/SHPC-env/lib/python3.10/site-packages/xgboost/core.py:158: UserWarning: [02:48:32] WARNING: /workspace/src/common/error_msg.cc:58: Falling back to prediction using DMatrix due to mismatched devices. This might lead to higher memory usage and slower performance. XGBoost is running on: cuda:0, while the input data is on: cpu.\n",
      "Potential solutions:\n",
      "- Use a data structure that matches the device ordinal in the booster.\n",
      "- Set the device for booster before call to inplace_predict.\n",
      "\n",
      "This warning will only be shown once.\n",
      "\n",
      "  warnings.warn(smsg, UserWarning)\n"
     ]
    },
    {
     "name": "stdout",
     "output_type": "stream",
     "text": [
      "[CV] END gamma=0, learning_rate=0.05, max_depth=2, n_estimators=400, random_state=42, reg_alpha=0, reg_lambda=1; total time=  45.7s\n",
      "[CV] END gamma=0, learning_rate=0.05, max_depth=2, n_estimators=400, random_state=42, reg_alpha=0, reg_lambda=1; total time=  49.5s\n",
      "[CV] END gamma=0, learning_rate=0.05, max_depth=2, n_estimators=400, random_state=42, reg_alpha=0, reg_lambda=1; total time=  51.1s\n",
      "[CV] END gamma=0, learning_rate=0.05, max_depth=2, n_estimators=400, random_state=42, reg_alpha=0, reg_lambda=10; total time=  46.8s\n"
     ]
    },
    {
     "name": "stderr",
     "output_type": "stream",
     "text": [
      "/puhome/24112456g/.conda/envs/SHPC-env/lib/python3.10/site-packages/xgboost/core.py:158: UserWarning: [02:49:12] WARNING: /workspace/src/common/error_msg.cc:58: Falling back to prediction using DMatrix due to mismatched devices. This might lead to higher memory usage and slower performance. XGBoost is running on: cuda:0, while the input data is on: cpu.\n",
      "Potential solutions:\n",
      "- Use a data structure that matches the device ordinal in the booster.\n",
      "- Set the device for booster before call to inplace_predict.\n",
      "\n",
      "This warning will only be shown once.\n",
      "\n",
      "  warnings.warn(smsg, UserWarning)\n"
     ]
    },
    {
     "name": "stdout",
     "output_type": "stream",
     "text": [
      "[CV] END gamma=0, learning_rate=0.05, max_depth=2, n_estimators=400, random_state=42, reg_alpha=0, reg_lambda=10; total time=  43.1s\n",
      "[CV] END gamma=0, learning_rate=0.05, max_depth=2, n_estimators=400, random_state=42, reg_alpha=0, reg_lambda=10; total time=  52.5s\n",
      "[CV] END gamma=0, learning_rate=0.05, max_depth=2, n_estimators=400, random_state=42, reg_alpha=0, reg_lambda=10; total time=  53.1s\n"
     ]
    },
    {
     "name": "stderr",
     "output_type": "stream",
     "text": [
      "/puhome/24112456g/.conda/envs/SHPC-env/lib/python3.10/site-packages/xgboost/core.py:158: UserWarning: [02:49:30] WARNING: /workspace/src/common/error_msg.cc:58: Falling back to prediction using DMatrix due to mismatched devices. This might lead to higher memory usage and slower performance. XGBoost is running on: cuda:0, while the input data is on: cpu.\n",
      "Potential solutions:\n",
      "- Use a data structure that matches the device ordinal in the booster.\n",
      "- Set the device for booster before call to inplace_predict.\n",
      "\n",
      "This warning will only be shown once.\n",
      "\n",
      "  warnings.warn(smsg, UserWarning)\n"
     ]
    },
    {
     "name": "stdout",
     "output_type": "stream",
     "text": [
      "[CV] END gamma=0, learning_rate=0.05, max_depth=2, n_estimators=400, random_state=42, reg_alpha=0, reg_lambda=10; total time=  43.8s\n"
     ]
    },
    {
     "name": "stderr",
     "output_type": "stream",
     "text": [
      "/puhome/24112456g/.conda/envs/SHPC-env/lib/python3.10/site-packages/xgboost/core.py:158: UserWarning: [02:49:43] WARNING: /workspace/src/common/error_msg.cc:58: Falling back to prediction using DMatrix due to mismatched devices. This might lead to higher memory usage and slower performance. XGBoost is running on: cuda:0, while the input data is on: cpu.\n",
      "Potential solutions:\n",
      "- Use a data structure that matches the device ordinal in the booster.\n",
      "- Set the device for booster before call to inplace_predict.\n",
      "\n",
      "This warning will only be shown once.\n",
      "\n",
      "  warnings.warn(smsg, UserWarning)\n"
     ]
    },
    {
     "name": "stdout",
     "output_type": "stream",
     "text": [
      "[CV] END gamma=0, learning_rate=0.05, max_depth=2, n_estimators=400, random_state=42, reg_alpha=0.2, reg_lambda=0.1; total time=  38.0s\n"
     ]
    },
    {
     "name": "stderr",
     "output_type": "stream",
     "text": [
      "/puhome/24112456g/.conda/envs/SHPC-env/lib/python3.10/site-packages/xgboost/core.py:158: UserWarning: [02:49:52] WARNING: /workspace/src/common/error_msg.cc:58: Falling back to prediction using DMatrix due to mismatched devices. This might lead to higher memory usage and slower performance. XGBoost is running on: cuda:0, while the input data is on: cpu.\n",
      "Potential solutions:\n",
      "- Use a data structure that matches the device ordinal in the booster.\n",
      "- Set the device for booster before call to inplace_predict.\n",
      "\n",
      "This warning will only be shown once.\n",
      "\n",
      "  warnings.warn(smsg, UserWarning)\n"
     ]
    },
    {
     "name": "stdout",
     "output_type": "stream",
     "text": [
      "[CV] END gamma=0, learning_rate=0.05, max_depth=2, n_estimators=400, random_state=42, reg_alpha=0.2, reg_lambda=0.1; total time=  43.0s\n",
      "[CV] END gamma=0, learning_rate=0.05, max_depth=2, n_estimators=400, random_state=42, reg_alpha=0.2, reg_lambda=0.1; total time=  49.8s\n"
     ]
    },
    {
     "name": "stderr",
     "output_type": "stream",
     "text": [
      "/puhome/24112456g/.conda/envs/SHPC-env/lib/python3.10/site-packages/xgboost/core.py:158: UserWarning: [02:50:16] WARNING: /workspace/src/common/error_msg.cc:58: Falling back to prediction using DMatrix due to mismatched devices. This might lead to higher memory usage and slower performance. XGBoost is running on: cuda:0, while the input data is on: cpu.\n",
      "Potential solutions:\n",
      "- Use a data structure that matches the device ordinal in the booster.\n",
      "- Set the device for booster before call to inplace_predict.\n",
      "\n",
      "This warning will only be shown once.\n",
      "\n",
      "  warnings.warn(smsg, UserWarning)\n"
     ]
    },
    {
     "name": "stdout",
     "output_type": "stream",
     "text": [
      "[CV] END gamma=0, learning_rate=0.05, max_depth=2, n_estimators=400, random_state=42, reg_alpha=0.2, reg_lambda=0.1; total time=  47.2s\n"
     ]
    },
    {
     "name": "stderr",
     "output_type": "stream",
     "text": [
      "/puhome/24112456g/.conda/envs/SHPC-env/lib/python3.10/site-packages/xgboost/core.py:158: UserWarning: [02:50:20] WARNING: /workspace/src/common/error_msg.cc:58: Falling back to prediction using DMatrix due to mismatched devices. This might lead to higher memory usage and slower performance. XGBoost is running on: cuda:0, while the input data is on: cpu.\n",
      "Potential solutions:\n",
      "- Use a data structure that matches the device ordinal in the booster.\n",
      "- Set the device for booster before call to inplace_predict.\n",
      "\n",
      "This warning will only be shown once.\n",
      "\n",
      "  warnings.warn(smsg, UserWarning)\n"
     ]
    },
    {
     "name": "stdout",
     "output_type": "stream",
     "text": [
      "[CV] END gamma=0, learning_rate=0.05, max_depth=2, n_estimators=400, random_state=42, reg_alpha=0.2, reg_lambda=0.1; total time=  48.8s\n",
      "[CV] END gamma=0, learning_rate=0.05, max_depth=2, n_estimators=400, random_state=42, reg_alpha=0.2, reg_lambda=1; total time=  50.7s\n",
      "[CV] END gamma=0, learning_rate=0.05, max_depth=2, n_estimators=400, random_state=42, reg_alpha=0.2, reg_lambda=1; total time=  49.5s\n",
      "[CV] END gamma=0, learning_rate=0.05, max_depth=2, n_estimators=400, random_state=42, reg_alpha=0.2, reg_lambda=1; total time=  50.1s\n"
     ]
    },
    {
     "name": "stderr",
     "output_type": "stream",
     "text": [
      "/puhome/24112456g/.conda/envs/SHPC-env/lib/python3.10/site-packages/xgboost/core.py:158: UserWarning: [02:50:51] WARNING: /workspace/src/common/error_msg.cc:58: Falling back to prediction using DMatrix due to mismatched devices. This might lead to higher memory usage and slower performance. XGBoost is running on: cuda:0, while the input data is on: cpu.\n",
      "Potential solutions:\n",
      "- Use a data structure that matches the device ordinal in the booster.\n",
      "- Set the device for booster before call to inplace_predict.\n",
      "\n",
      "This warning will only be shown once.\n",
      "\n",
      "  warnings.warn(smsg, UserWarning)\n"
     ]
    },
    {
     "name": "stdout",
     "output_type": "stream",
     "text": [
      "[CV] END gamma=0, learning_rate=0.05, max_depth=2, n_estimators=400, random_state=42, reg_alpha=0.2, reg_lambda=1; total time=  43.4s\n",
      "[CV] END gamma=0, learning_rate=0.05, max_depth=2, n_estimators=400, random_state=42, reg_alpha=0.2, reg_lambda=10; total time=  50.7s\n",
      "[CV] END gamma=0, learning_rate=0.05, max_depth=2, n_estimators=400, random_state=42, reg_alpha=0.2, reg_lambda=1; total time=  55.9s\n",
      "[CV] END gamma=0, learning_rate=0.05, max_depth=2, n_estimators=400, random_state=42, reg_alpha=0.2, reg_lambda=10; total time=  53.4s\n"
     ]
    },
    {
     "name": "stderr",
     "output_type": "stream",
     "text": [
      "/puhome/24112456g/.conda/envs/SHPC-env/lib/python3.10/site-packages/xgboost/core.py:158: UserWarning: [02:51:21] WARNING: /workspace/src/common/error_msg.cc:58: Falling back to prediction using DMatrix due to mismatched devices. This might lead to higher memory usage and slower performance. XGBoost is running on: cuda:0, while the input data is on: cpu.\n",
      "Potential solutions:\n",
      "- Use a data structure that matches the device ordinal in the booster.\n",
      "- Set the device for booster before call to inplace_predict.\n",
      "\n",
      "This warning will only be shown once.\n",
      "\n",
      "  warnings.warn(smsg, UserWarning)\n"
     ]
    },
    {
     "name": "stdout",
     "output_type": "stream",
     "text": [
      "[CV] END gamma=0, learning_rate=0.05, max_depth=2, n_estimators=400, random_state=42, reg_alpha=0.2, reg_lambda=10; total time=  43.3s\n"
     ]
    },
    {
     "name": "stderr",
     "output_type": "stream",
     "text": [
      "/puhome/24112456g/.conda/envs/SHPC-env/lib/python3.10/site-packages/xgboost/core.py:158: UserWarning: [02:51:31] WARNING: /workspace/src/common/error_msg.cc:58: Falling back to prediction using DMatrix due to mismatched devices. This might lead to higher memory usage and slower performance. XGBoost is running on: cuda:0, while the input data is on: cpu.\n",
      "Potential solutions:\n",
      "- Use a data structure that matches the device ordinal in the booster.\n",
      "- Set the device for booster before call to inplace_predict.\n",
      "\n",
      "This warning will only be shown once.\n",
      "\n",
      "  warnings.warn(smsg, UserWarning)\n"
     ]
    },
    {
     "name": "stdout",
     "output_type": "stream",
     "text": [
      "[CV] END gamma=0, learning_rate=0.05, max_depth=2, n_estimators=400, random_state=42, reg_alpha=0.2, reg_lambda=10; total time=  43.1s\n",
      "[CV] END gamma=0, learning_rate=0.05, max_depth=2, n_estimators=400, random_state=42, reg_alpha=0.2, reg_lambda=10; total time=  49.8s\n"
     ]
    },
    {
     "name": "stderr",
     "output_type": "stream",
     "text": [
      "/puhome/24112456g/.conda/envs/SHPC-env/lib/python3.10/site-packages/xgboost/core.py:158: UserWarning: [02:51:55] WARNING: /workspace/src/common/error_msg.cc:58: Falling back to prediction using DMatrix due to mismatched devices. This might lead to higher memory usage and slower performance. XGBoost is running on: cuda:0, while the input data is on: cpu.\n",
      "Potential solutions:\n",
      "- Use a data structure that matches the device ordinal in the booster.\n",
      "- Set the device for booster before call to inplace_predict.\n",
      "\n",
      "This warning will only be shown once.\n",
      "\n",
      "  warnings.warn(smsg, UserWarning)\n"
     ]
    },
    {
     "name": "stdout",
     "output_type": "stream",
     "text": [
      "[CV] END gamma=0, learning_rate=0.05, max_depth=2, n_estimators=400, random_state=42, reg_alpha=0.3, reg_lambda=0.1; total time=  38.2s\n"
     ]
    },
    {
     "name": "stderr",
     "output_type": "stream",
     "text": [
      "/puhome/24112456g/.conda/envs/SHPC-env/lib/python3.10/site-packages/xgboost/core.py:158: UserWarning: [02:52:03] WARNING: /workspace/src/common/error_msg.cc:58: Falling back to prediction using DMatrix due to mismatched devices. This might lead to higher memory usage and slower performance. XGBoost is running on: cuda:0, while the input data is on: cpu.\n",
      "Potential solutions:\n",
      "- Use a data structure that matches the device ordinal in the booster.\n",
      "- Set the device for booster before call to inplace_predict.\n",
      "\n",
      "This warning will only be shown once.\n",
      "\n",
      "  warnings.warn(smsg, UserWarning)\n"
     ]
    },
    {
     "name": "stdout",
     "output_type": "stream",
     "text": [
      "[CV] END gamma=0, learning_rate=0.05, max_depth=2, n_estimators=400, random_state=42, reg_alpha=0.3, reg_lambda=0.1; total time=  45.2s\n",
      "[CV] END gamma=0, learning_rate=0.05, max_depth=2, n_estimators=400, random_state=42, reg_alpha=0.3, reg_lambda=0.1; total time=  53.0s\n",
      "[CV] END gamma=0, learning_rate=0.05, max_depth=2, n_estimators=400, random_state=42, reg_alpha=0.3, reg_lambda=0.1; total time=  51.2s\n",
      "[CV] END gamma=0, learning_rate=0.05, max_depth=2, n_estimators=400, random_state=42, reg_alpha=0.3, reg_lambda=0.1; total time=  51.4s\n"
     ]
    },
    {
     "name": "stderr",
     "output_type": "stream",
     "text": [
      "/puhome/24112456g/.conda/envs/SHPC-env/lib/python3.10/site-packages/xgboost/core.py:158: UserWarning: [02:52:27] WARNING: /workspace/src/common/error_msg.cc:58: Falling back to prediction using DMatrix due to mismatched devices. This might lead to higher memory usage and slower performance. XGBoost is running on: cuda:0, while the input data is on: cpu.\n",
      "Potential solutions:\n",
      "- Use a data structure that matches the device ordinal in the booster.\n",
      "- Set the device for booster before call to inplace_predict.\n",
      "\n",
      "This warning will only be shown once.\n",
      "\n",
      "  warnings.warn(smsg, UserWarning)\n"
     ]
    },
    {
     "name": "stdout",
     "output_type": "stream",
     "text": [
      "[CV] END gamma=0, learning_rate=0.05, max_depth=2, n_estimators=400, random_state=42, reg_alpha=0.3, reg_lambda=1; total time=  39.3s\n",
      "[CV] END gamma=0, learning_rate=0.05, max_depth=2, n_estimators=400, random_state=42, reg_alpha=0.3, reg_lambda=1; total time=  49.9s\n",
      "[CV] END gamma=0, learning_rate=0.05, max_depth=2, n_estimators=400, random_state=42, reg_alpha=0.3, reg_lambda=1; total time=  51.9s\n",
      "[CV] END gamma=0, learning_rate=0.05, max_depth=2, n_estimators=400, random_state=42, reg_alpha=0.3, reg_lambda=1; total time=  53.7s\n"
     ]
    },
    {
     "name": "stderr",
     "output_type": "stream",
     "text": [
      "/puhome/24112456g/.conda/envs/SHPC-env/lib/python3.10/site-packages/xgboost/core.py:158: UserWarning: [02:53:06] WARNING: /workspace/src/common/error_msg.cc:58: Falling back to prediction using DMatrix due to mismatched devices. This might lead to higher memory usage and slower performance. XGBoost is running on: cuda:0, while the input data is on: cpu.\n",
      "Potential solutions:\n",
      "- Use a data structure that matches the device ordinal in the booster.\n",
      "- Set the device for booster before call to inplace_predict.\n",
      "\n",
      "This warning will only be shown once.\n",
      "\n",
      "  warnings.warn(smsg, UserWarning)\n"
     ]
    },
    {
     "name": "stdout",
     "output_type": "stream",
     "text": [
      "[CV] END gamma=0, learning_rate=0.05, max_depth=2, n_estimators=400, random_state=42, reg_alpha=0.3, reg_lambda=1; total time=  47.2s\n",
      "[CV] END gamma=0, learning_rate=0.05, max_depth=2, n_estimators=400, random_state=42, reg_alpha=0.3, reg_lambda=10; total time=  47.0s\n",
      "[CV] END gamma=0, learning_rate=0.05, max_depth=2, n_estimators=400, random_state=42, reg_alpha=0.3, reg_lambda=10; total time=  49.6s\n"
     ]
    },
    {
     "name": "stderr",
     "output_type": "stream",
     "text": [
      "/puhome/24112456g/.conda/envs/SHPC-env/lib/python3.10/site-packages/xgboost/core.py:158: UserWarning: [02:53:34] WARNING: /workspace/src/common/error_msg.cc:58: Falling back to prediction using DMatrix due to mismatched devices. This might lead to higher memory usage and slower performance. XGBoost is running on: cuda:0, while the input data is on: cpu.\n",
      "Potential solutions:\n",
      "- Use a data structure that matches the device ordinal in the booster.\n",
      "- Set the device for booster before call to inplace_predict.\n",
      "\n",
      "This warning will only be shown once.\n",
      "\n",
      "  warnings.warn(smsg, UserWarning)\n"
     ]
    },
    {
     "name": "stdout",
     "output_type": "stream",
     "text": [
      "[CV] END gamma=0, learning_rate=0.05, max_depth=2, n_estimators=400, random_state=42, reg_alpha=0.3, reg_lambda=10; total time=  43.1s\n"
     ]
    },
    {
     "name": "stderr",
     "output_type": "stream",
     "text": [
      "/puhome/24112456g/.conda/envs/SHPC-env/lib/python3.10/site-packages/xgboost/core.py:158: UserWarning: [02:53:44] WARNING: /workspace/src/common/error_msg.cc:58: Falling back to prediction using DMatrix due to mismatched devices. This might lead to higher memory usage and slower performance. XGBoost is running on: cuda:0, while the input data is on: cpu.\n",
      "Potential solutions:\n",
      "- Use a data structure that matches the device ordinal in the booster.\n",
      "- Set the device for booster before call to inplace_predict.\n",
      "\n",
      "This warning will only be shown once.\n",
      "\n",
      "  warnings.warn(smsg, UserWarning)\n"
     ]
    },
    {
     "name": "stdout",
     "output_type": "stream",
     "text": [
      "[CV] END gamma=0, learning_rate=0.05, max_depth=2, n_estimators=400, random_state=42, reg_alpha=0.3, reg_lambda=10; total time=  43.4s\n",
      "[CV] END gamma=0, learning_rate=0.05, max_depth=2, n_estimators=400, random_state=42, reg_alpha=0.4, reg_lambda=0.1; total time=  50.1s\n",
      "[CV] END gamma=0, learning_rate=0.05, max_depth=2, n_estimators=400, random_state=42, reg_alpha=0.3, reg_lambda=10; total time=  54.9s\n",
      "[CV] END gamma=0, learning_rate=0.05, max_depth=2, n_estimators=400, random_state=42, reg_alpha=0.4, reg_lambda=0.1; total time=  52.9s\n"
     ]
    },
    {
     "name": "stderr",
     "output_type": "stream",
     "text": [
      "/puhome/24112456g/.conda/envs/SHPC-env/lib/python3.10/site-packages/xgboost/core.py:158: UserWarning: [02:54:06] WARNING: /workspace/src/common/error_msg.cc:58: Falling back to prediction using DMatrix due to mismatched devices. This might lead to higher memory usage and slower performance. XGBoost is running on: cuda:0, while the input data is on: cpu.\n",
      "Potential solutions:\n",
      "- Use a data structure that matches the device ordinal in the booster.\n",
      "- Set the device for booster before call to inplace_predict.\n",
      "\n",
      "This warning will only be shown once.\n",
      "\n",
      "  warnings.warn(smsg, UserWarning)\n"
     ]
    },
    {
     "name": "stdout",
     "output_type": "stream",
     "text": [
      "[CV] END gamma=0, learning_rate=0.05, max_depth=2, n_estimators=400, random_state=42, reg_alpha=0.4, reg_lambda=0.1; total time=  44.2s\n",
      "[CV] END gamma=0, learning_rate=0.05, max_depth=2, n_estimators=400, random_state=42, reg_alpha=0.4, reg_lambda=0.1; total time=  50.0s\n",
      "[CV] END gamma=0, learning_rate=0.05, max_depth=2, n_estimators=400, random_state=42, reg_alpha=0.4, reg_lambda=0.1; total time=  51.0s\n"
     ]
    },
    {
     "name": "stderr",
     "output_type": "stream",
     "text": [
      "/puhome/24112456g/.conda/envs/SHPC-env/lib/python3.10/site-packages/xgboost/core.py:158: UserWarning: [02:54:42] WARNING: /workspace/src/common/error_msg.cc:58: Falling back to prediction using DMatrix due to mismatched devices. This might lead to higher memory usage and slower performance. XGBoost is running on: cuda:0, while the input data is on: cpu.\n",
      "Potential solutions:\n",
      "- Use a data structure that matches the device ordinal in the booster.\n",
      "- Set the device for booster before call to inplace_predict.\n",
      "\n",
      "This warning will only be shown once.\n",
      "\n",
      "  warnings.warn(smsg, UserWarning)\n"
     ]
    },
    {
     "name": "stdout",
     "output_type": "stream",
     "text": [
      "[CV] END gamma=0, learning_rate=0.05, max_depth=2, n_estimators=400, random_state=42, reg_alpha=0.4, reg_lambda=1; total time=  39.9s\n"
     ]
    },
    {
     "name": "stderr",
     "output_type": "stream",
     "text": [
      "/puhome/24112456g/.conda/envs/SHPC-env/lib/python3.10/site-packages/xgboost/core.py:158: UserWarning: [02:54:46] WARNING: /workspace/src/common/error_msg.cc:58: Falling back to prediction using DMatrix due to mismatched devices. This might lead to higher memory usage and slower performance. XGBoost is running on: cuda:0, while the input data is on: cpu.\n",
      "Potential solutions:\n",
      "- Use a data structure that matches the device ordinal in the booster.\n",
      "- Set the device for booster before call to inplace_predict.\n",
      "\n",
      "This warning will only be shown once.\n",
      "\n",
      "  warnings.warn(smsg, UserWarning)\n"
     ]
    },
    {
     "name": "stdout",
     "output_type": "stream",
     "text": [
      "[CV] END gamma=0, learning_rate=0.05, max_depth=2, n_estimators=400, random_state=42, reg_alpha=0.4, reg_lambda=1; total time=  44.0s\n",
      "[CV] END gamma=0, learning_rate=0.05, max_depth=2, n_estimators=400, random_state=42, reg_alpha=0.4, reg_lambda=1; total time=  51.7s\n",
      "[CV] END gamma=0, learning_rate=0.05, max_depth=2, n_estimators=400, random_state=42, reg_alpha=0.4, reg_lambda=1; total time=  51.6s\n"
     ]
    },
    {
     "name": "stderr",
     "output_type": "stream",
     "text": [
      "/puhome/24112456g/.conda/envs/SHPC-env/lib/python3.10/site-packages/xgboost/core.py:158: UserWarning: [02:55:14] WARNING: /workspace/src/common/error_msg.cc:58: Falling back to prediction using DMatrix due to mismatched devices. This might lead to higher memory usage and slower performance. XGBoost is running on: cuda:0, while the input data is on: cpu.\n",
      "Potential solutions:\n",
      "- Use a data structure that matches the device ordinal in the booster.\n",
      "- Set the device for booster before call to inplace_predict.\n",
      "\n",
      "This warning will only be shown once.\n",
      "\n",
      "  warnings.warn(smsg, UserWarning)\n"
     ]
    },
    {
     "name": "stdout",
     "output_type": "stream",
     "text": [
      "[CV] END gamma=0, learning_rate=0.05, max_depth=2, n_estimators=400, random_state=42, reg_alpha=0.4, reg_lambda=1; total time=  43.5s\n"
     ]
    },
    {
     "name": "stderr",
     "output_type": "stream",
     "text": [
      "/puhome/24112456g/.conda/envs/SHPC-env/lib/python3.10/site-packages/xgboost/core.py:158: UserWarning: [02:55:20] WARNING: /workspace/src/common/error_msg.cc:58: Falling back to prediction using DMatrix due to mismatched devices. This might lead to higher memory usage and slower performance. XGBoost is running on: cuda:0, while the input data is on: cpu.\n",
      "Potential solutions:\n",
      "- Use a data structure that matches the device ordinal in the booster.\n",
      "- Set the device for booster before call to inplace_predict.\n",
      "\n",
      "This warning will only be shown once.\n",
      "\n",
      "  warnings.warn(smsg, UserWarning)\n"
     ]
    },
    {
     "name": "stdout",
     "output_type": "stream",
     "text": [
      "[CV] END gamma=0, learning_rate=0.05, max_depth=2, n_estimators=400, random_state=42, reg_alpha=0.4, reg_lambda=10; total time=  38.6s\n",
      "[CV] END gamma=0, learning_rate=0.05, max_depth=2, n_estimators=400, random_state=42, reg_alpha=0.4, reg_lambda=10; total time=  51.3s\n",
      "[CV] END gamma=0, learning_rate=0.05, max_depth=2, n_estimators=400, random_state=42, reg_alpha=0.4, reg_lambda=10; total time=  51.2s\n",
      "[CV] END gamma=0, learning_rate=0.05, max_depth=2, n_estimators=400, random_state=42, reg_alpha=0.4, reg_lambda=10; total time=  52.0s\n"
     ]
    },
    {
     "name": "stderr",
     "output_type": "stream",
     "text": [
      "/puhome/24112456g/.conda/envs/SHPC-env/lib/python3.10/site-packages/xgboost/core.py:158: UserWarning: [02:55:49] WARNING: /workspace/src/common/error_msg.cc:58: Falling back to prediction using DMatrix due to mismatched devices. This might lead to higher memory usage and slower performance. XGBoost is running on: cuda:0, while the input data is on: cpu.\n",
      "Potential solutions:\n",
      "- Use a data structure that matches the device ordinal in the booster.\n",
      "- Set the device for booster before call to inplace_predict.\n",
      "\n",
      "This warning will only be shown once.\n",
      "\n",
      "  warnings.warn(smsg, UserWarning)\n"
     ]
    },
    {
     "name": "stdout",
     "output_type": "stream",
     "text": [
      "[CV] END gamma=0, learning_rate=0.05, max_depth=2, n_estimators=400, random_state=42, reg_alpha=0.4, reg_lambda=10; total time=  45.6s\n",
      "[CV] END gamma=0, learning_rate=0.05, max_depth=2, n_estimators=800, random_state=42, reg_alpha=0, reg_lambda=0.1; total time=  53.9s\n",
      "[CV] END gamma=0, learning_rate=0.05, max_depth=2, n_estimators=800, random_state=42, reg_alpha=0, reg_lambda=0.1; total time=  57.9s\n",
      "[CV] END gamma=0, learning_rate=0.05, max_depth=2, n_estimators=800, random_state=42, reg_alpha=0, reg_lambda=0.1; total time= 1.1min\n"
     ]
    },
    {
     "name": "stderr",
     "output_type": "stream",
     "text": [
      "/puhome/24112456g/.conda/envs/SHPC-env/lib/python3.10/site-packages/xgboost/core.py:158: UserWarning: [02:56:47] WARNING: /workspace/src/common/error_msg.cc:58: Falling back to prediction using DMatrix due to mismatched devices. This might lead to higher memory usage and slower performance. XGBoost is running on: cuda:0, while the input data is on: cpu.\n",
      "Potential solutions:\n",
      "- Use a data structure that matches the device ordinal in the booster.\n",
      "- Set the device for booster before call to inplace_predict.\n",
      "\n",
      "This warning will only be shown once.\n",
      "\n",
      "  warnings.warn(smsg, UserWarning)\n"
     ]
    },
    {
     "name": "stdout",
     "output_type": "stream",
     "text": [
      "[CV] END gamma=0, learning_rate=0.05, max_depth=2, n_estimators=800, random_state=42, reg_alpha=0, reg_lambda=0.1; total time= 1.1min\n"
     ]
    },
    {
     "name": "stderr",
     "output_type": "stream",
     "text": [
      "/puhome/24112456g/.conda/envs/SHPC-env/lib/python3.10/site-packages/xgboost/core.py:158: UserWarning: [02:56:57] WARNING: /workspace/src/common/error_msg.cc:58: Falling back to prediction using DMatrix due to mismatched devices. This might lead to higher memory usage and slower performance. XGBoost is running on: cuda:0, while the input data is on: cpu.\n",
      "Potential solutions:\n",
      "- Use a data structure that matches the device ordinal in the booster.\n",
      "- Set the device for booster before call to inplace_predict.\n",
      "\n",
      "This warning will only be shown once.\n",
      "\n",
      "  warnings.warn(smsg, UserWarning)\n"
     ]
    },
    {
     "name": "stdout",
     "output_type": "stream",
     "text": [
      "[CV] END gamma=0, learning_rate=0.05, max_depth=2, n_estimators=800, random_state=42, reg_alpha=0, reg_lambda=1; total time= 1.1min\n",
      "[CV] END gamma=0, learning_rate=0.05, max_depth=2, n_estimators=800, random_state=42, reg_alpha=0, reg_lambda=0.1; total time= 1.1min\n"
     ]
    },
    {
     "name": "stderr",
     "output_type": "stream",
     "text": [
      "/puhome/24112456g/.conda/envs/SHPC-env/lib/python3.10/site-packages/xgboost/core.py:158: UserWarning: [02:57:10] WARNING: /workspace/src/common/error_msg.cc:58: Falling back to prediction using DMatrix due to mismatched devices. This might lead to higher memory usage and slower performance. XGBoost is running on: cuda:0, while the input data is on: cpu.\n",
      "Potential solutions:\n",
      "- Use a data structure that matches the device ordinal in the booster.\n",
      "- Set the device for booster before call to inplace_predict.\n",
      "\n",
      "This warning will only be shown once.\n",
      "\n",
      "  warnings.warn(smsg, UserWarning)\n"
     ]
    },
    {
     "name": "stdout",
     "output_type": "stream",
     "text": [
      "[CV] END gamma=0, learning_rate=0.05, max_depth=2, n_estimators=800, random_state=42, reg_alpha=0, reg_lambda=1; total time=  55.9s\n"
     ]
    },
    {
     "name": "stderr",
     "output_type": "stream",
     "text": [
      "/puhome/24112456g/.conda/envs/SHPC-env/lib/python3.10/site-packages/xgboost/core.py:158: UserWarning: [02:57:16] WARNING: /workspace/src/common/error_msg.cc:58: Falling back to prediction using DMatrix due to mismatched devices. This might lead to higher memory usage and slower performance. XGBoost is running on: cuda:0, while the input data is on: cpu.\n",
      "Potential solutions:\n",
      "- Use a data structure that matches the device ordinal in the booster.\n",
      "- Set the device for booster before call to inplace_predict.\n",
      "\n",
      "This warning will only be shown once.\n",
      "\n",
      "  warnings.warn(smsg, UserWarning)\n"
     ]
    },
    {
     "name": "stdout",
     "output_type": "stream",
     "text": [
      "[CV] END gamma=0, learning_rate=0.05, max_depth=2, n_estimators=800, random_state=42, reg_alpha=0, reg_lambda=1; total time=  52.3s\n"
     ]
    },
    {
     "name": "stderr",
     "output_type": "stream",
     "text": [
      "/puhome/24112456g/.conda/envs/SHPC-env/lib/python3.10/site-packages/xgboost/core.py:158: UserWarning: [02:57:38] WARNING: /workspace/src/common/error_msg.cc:58: Falling back to prediction using DMatrix due to mismatched devices. This might lead to higher memory usage and slower performance. XGBoost is running on: cuda:0, while the input data is on: cpu.\n",
      "Potential solutions:\n",
      "- Use a data structure that matches the device ordinal in the booster.\n",
      "- Set the device for booster before call to inplace_predict.\n",
      "\n",
      "This warning will only be shown once.\n",
      "\n",
      "  warnings.warn(smsg, UserWarning)\n"
     ]
    },
    {
     "name": "stdout",
     "output_type": "stream",
     "text": [
      "[CV] END gamma=0, learning_rate=0.05, max_depth=2, n_estimators=800, random_state=42, reg_alpha=0, reg_lambda=1; total time=  52.6s\n",
      "[CV] END gamma=0, learning_rate=0.05, max_depth=2, n_estimators=800, random_state=42, reg_alpha=0, reg_lambda=1; total time= 1.2min\n",
      "[CV] END gamma=0, learning_rate=0.05, max_depth=2, n_estimators=800, random_state=42, reg_alpha=0, reg_lambda=10; total time= 1.1min\n"
     ]
    },
    {
     "name": "stderr",
     "output_type": "stream",
     "text": [
      "/puhome/24112456g/.conda/envs/SHPC-env/lib/python3.10/site-packages/xgboost/core.py:158: UserWarning: [02:58:07] WARNING: /workspace/src/common/error_msg.cc:58: Falling back to prediction using DMatrix due to mismatched devices. This might lead to higher memory usage and slower performance. XGBoost is running on: cuda:0, while the input data is on: cpu.\n",
      "Potential solutions:\n",
      "- Use a data structure that matches the device ordinal in the booster.\n",
      "- Set the device for booster before call to inplace_predict.\n",
      "\n",
      "This warning will only be shown once.\n",
      "\n",
      "  warnings.warn(smsg, UserWarning)\n"
     ]
    },
    {
     "name": "stdout",
     "output_type": "stream",
     "text": [
      "[CV] END gamma=0, learning_rate=0.05, max_depth=2, n_estimators=800, random_state=42, reg_alpha=0, reg_lambda=10; total time= 1.1min\n",
      "[CV] END gamma=0, learning_rate=0.05, max_depth=2, n_estimators=800, random_state=42, reg_alpha=0, reg_lambda=10; total time= 1.2min\n",
      "[CV] END gamma=0, learning_rate=0.05, max_depth=2, n_estimators=800, random_state=42, reg_alpha=0, reg_lambda=10; total time= 1.1min\n",
      "[CV] END gamma=0, learning_rate=0.05, max_depth=2, n_estimators=800, random_state=42, reg_alpha=0, reg_lambda=10; total time=  56.9s\n"
     ]
    },
    {
     "name": "stderr",
     "output_type": "stream",
     "text": [
      "/puhome/24112456g/.conda/envs/SHPC-env/lib/python3.10/site-packages/xgboost/core.py:158: UserWarning: [02:58:47] WARNING: /workspace/src/common/error_msg.cc:58: Falling back to prediction using DMatrix due to mismatched devices. This might lead to higher memory usage and slower performance. XGBoost is running on: cuda:0, while the input data is on: cpu.\n",
      "Potential solutions:\n",
      "- Use a data structure that matches the device ordinal in the booster.\n",
      "- Set the device for booster before call to inplace_predict.\n",
      "\n",
      "This warning will only be shown once.\n",
      "\n",
      "  warnings.warn(smsg, UserWarning)\n"
     ]
    },
    {
     "name": "stdout",
     "output_type": "stream",
     "text": [
      "[CV] END gamma=0, learning_rate=0.05, max_depth=2, n_estimators=800, random_state=42, reg_alpha=0.2, reg_lambda=0.1; total time=  44.6s\n"
     ]
    },
    {
     "name": "stderr",
     "output_type": "stream",
     "text": [
      "/puhome/24112456g/.conda/envs/SHPC-env/lib/python3.10/site-packages/xgboost/core.py:158: UserWarning: [02:59:06] WARNING: /workspace/src/common/error_msg.cc:58: Falling back to prediction using DMatrix due to mismatched devices. This might lead to higher memory usage and slower performance. XGBoost is running on: cuda:0, while the input data is on: cpu.\n",
      "Potential solutions:\n",
      "- Use a data structure that matches the device ordinal in the booster.\n",
      "- Set the device for booster before call to inplace_predict.\n",
      "\n",
      "This warning will only be shown once.\n",
      "\n",
      "  warnings.warn(smsg, UserWarning)\n"
     ]
    },
    {
     "name": "stdout",
     "output_type": "stream",
     "text": [
      "[CV] END gamma=0, learning_rate=0.05, max_depth=2, n_estimators=800, random_state=42, reg_alpha=0.2, reg_lambda=0.1; total time=  55.7s\n",
      "[CV] END gamma=0, learning_rate=0.05, max_depth=2, n_estimators=800, random_state=42, reg_alpha=0.2, reg_lambda=0.1; total time= 1.1min\n"
     ]
    },
    {
     "name": "stderr",
     "output_type": "stream",
     "text": [
      "/puhome/24112456g/.conda/envs/SHPC-env/lib/python3.10/site-packages/xgboost/core.py:158: UserWarning: [02:59:31] WARNING: /workspace/src/common/error_msg.cc:58: Falling back to prediction using DMatrix due to mismatched devices. This might lead to higher memory usage and slower performance. XGBoost is running on: cuda:0, while the input data is on: cpu.\n",
      "Potential solutions:\n",
      "- Use a data structure that matches the device ordinal in the booster.\n",
      "- Set the device for booster before call to inplace_predict.\n",
      "\n",
      "This warning will only be shown once.\n",
      "\n",
      "  warnings.warn(smsg, UserWarning)\n"
     ]
    },
    {
     "name": "stdout",
     "output_type": "stream",
     "text": [
      "[CV] END gamma=0, learning_rate=0.05, max_depth=2, n_estimators=800, random_state=42, reg_alpha=0.2, reg_lambda=0.1; total time= 1.1min\n"
     ]
    },
    {
     "name": "stderr",
     "output_type": "stream",
     "text": [
      "/puhome/24112456g/.conda/envs/SHPC-env/lib/python3.10/site-packages/xgboost/core.py:158: UserWarning: [02:59:33] WARNING: /workspace/src/common/error_msg.cc:58: Falling back to prediction using DMatrix due to mismatched devices. This might lead to higher memory usage and slower performance. XGBoost is running on: cuda:0, while the input data is on: cpu.\n",
      "Potential solutions:\n",
      "- Use a data structure that matches the device ordinal in the booster.\n",
      "- Set the device for booster before call to inplace_predict.\n",
      "\n",
      "This warning will only be shown once.\n",
      "\n",
      "  warnings.warn(smsg, UserWarning)\n"
     ]
    },
    {
     "name": "stdout",
     "output_type": "stream",
     "text": [
      "[CV] END gamma=0, learning_rate=0.05, max_depth=2, n_estimators=800, random_state=42, reg_alpha=0.2, reg_lambda=0.1; total time= 1.1min\n"
     ]
    },
    {
     "name": "stderr",
     "output_type": "stream",
     "text": [
      "/puhome/24112456g/.conda/envs/SHPC-env/lib/python3.10/site-packages/xgboost/core.py:158: UserWarning: [02:59:39] WARNING: /workspace/src/common/error_msg.cc:58: Falling back to prediction using DMatrix due to mismatched devices. This might lead to higher memory usage and slower performance. XGBoost is running on: cuda:0, while the input data is on: cpu.\n",
      "Potential solutions:\n",
      "- Use a data structure that matches the device ordinal in the booster.\n",
      "- Set the device for booster before call to inplace_predict.\n",
      "\n",
      "This warning will only be shown once.\n",
      "\n",
      "  warnings.warn(smsg, UserWarning)\n"
     ]
    },
    {
     "name": "stdout",
     "output_type": "stream",
     "text": [
      "[CV] END gamma=0, learning_rate=0.05, max_depth=2, n_estimators=800, random_state=42, reg_alpha=0.2, reg_lambda=1; total time=  57.8s\n",
      "[CV] END gamma=0, learning_rate=0.05, max_depth=2, n_estimators=800, random_state=42, reg_alpha=0.2, reg_lambda=1; total time=  59.7s\n",
      "[CV] END gamma=0, learning_rate=0.05, max_depth=2, n_estimators=800, random_state=42, reg_alpha=0.2, reg_lambda=1; total time=  58.3s\n"
     ]
    },
    {
     "name": "stderr",
     "output_type": "stream",
     "text": [
      "/puhome/24112456g/.conda/envs/SHPC-env/lib/python3.10/site-packages/xgboost/core.py:158: UserWarning: [03:00:14] WARNING: /workspace/src/common/error_msg.cc:58: Falling back to prediction using DMatrix due to mismatched devices. This might lead to higher memory usage and slower performance. XGBoost is running on: cuda:0, while the input data is on: cpu.\n",
      "Potential solutions:\n",
      "- Use a data structure that matches the device ordinal in the booster.\n",
      "- Set the device for booster before call to inplace_predict.\n",
      "\n",
      "This warning will only be shown once.\n",
      "\n",
      "  warnings.warn(smsg, UserWarning)\n"
     ]
    },
    {
     "name": "stdout",
     "output_type": "stream",
     "text": [
      "[CV] END gamma=0, learning_rate=0.05, max_depth=2, n_estimators=800, random_state=42, reg_alpha=0.2, reg_lambda=1; total time=  51.6s\n",
      "[CV] END gamma=0, learning_rate=0.05, max_depth=2, n_estimators=800, random_state=42, reg_alpha=0.2, reg_lambda=10; total time= 1.1min\n",
      "[CV] END gamma=0, learning_rate=0.05, max_depth=2, n_estimators=800, random_state=42, reg_alpha=0.2, reg_lambda=1; total time= 1.2min\n",
      "[CV] END gamma=0, learning_rate=0.05, max_depth=2, n_estimators=800, random_state=42, reg_alpha=0.2, reg_lambda=10; total time= 1.2min\n",
      "[CV] END gamma=0, learning_rate=0.05, max_depth=2, n_estimators=800, random_state=42, reg_alpha=0.2, reg_lambda=10; total time= 1.2min\n"
     ]
    },
    {
     "name": "stderr",
     "output_type": "stream",
     "text": [
      "/puhome/24112456g/.conda/envs/SHPC-env/lib/python3.10/site-packages/xgboost/core.py:158: UserWarning: [03:01:07] WARNING: /workspace/src/common/error_msg.cc:58: Falling back to prediction using DMatrix due to mismatched devices. This might lead to higher memory usage and slower performance. XGBoost is running on: cuda:0, while the input data is on: cpu.\n",
      "Potential solutions:\n",
      "- Use a data structure that matches the device ordinal in the booster.\n",
      "- Set the device for booster before call to inplace_predict.\n",
      "\n",
      "This warning will only be shown once.\n",
      "\n",
      "  warnings.warn(smsg, UserWarning)\n"
     ]
    },
    {
     "name": "stdout",
     "output_type": "stream",
     "text": [
      "[CV] END gamma=0, learning_rate=0.05, max_depth=2, n_estimators=800, random_state=42, reg_alpha=0.2, reg_lambda=10; total time=  56.4s\n",
      "[CV] END gamma=0, learning_rate=0.05, max_depth=2, n_estimators=800, random_state=42, reg_alpha=0.2, reg_lambda=10; total time= 1.0min\n"
     ]
    },
    {
     "name": "stderr",
     "output_type": "stream",
     "text": [
      "/puhome/24112456g/.conda/envs/SHPC-env/lib/python3.10/site-packages/xgboost/core.py:158: UserWarning: [03:01:31] WARNING: /workspace/src/common/error_msg.cc:58: Falling back to prediction using DMatrix due to mismatched devices. This might lead to higher memory usage and slower performance. XGBoost is running on: cuda:0, while the input data is on: cpu.\n",
      "Potential solutions:\n",
      "- Use a data structure that matches the device ordinal in the booster.\n",
      "- Set the device for booster before call to inplace_predict.\n",
      "\n",
      "This warning will only be shown once.\n",
      "\n",
      "  warnings.warn(smsg, UserWarning)\n"
     ]
    },
    {
     "name": "stdout",
     "output_type": "stream",
     "text": [
      "[CV] END gamma=0, learning_rate=0.05, max_depth=2, n_estimators=800, random_state=42, reg_alpha=0.3, reg_lambda=0.1; total time=  46.9s\n"
     ]
    },
    {
     "name": "stderr",
     "output_type": "stream",
     "text": [
      "/puhome/24112456g/.conda/envs/SHPC-env/lib/python3.10/site-packages/xgboost/core.py:158: UserWarning: [03:01:45] WARNING: /workspace/src/common/error_msg.cc:58: Falling back to prediction using DMatrix due to mismatched devices. This might lead to higher memory usage and slower performance. XGBoost is running on: cuda:0, while the input data is on: cpu.\n",
      "Potential solutions:\n",
      "- Use a data structure that matches the device ordinal in the booster.\n",
      "- Set the device for booster before call to inplace_predict.\n",
      "\n",
      "This warning will only be shown once.\n",
      "\n",
      "  warnings.warn(smsg, UserWarning)\n"
     ]
    },
    {
     "name": "stdout",
     "output_type": "stream",
     "text": [
      "[CV] END gamma=0, learning_rate=0.05, max_depth=2, n_estimators=800, random_state=42, reg_alpha=0.3, reg_lambda=0.1; total time=  56.9s\n"
     ]
    },
    {
     "name": "stderr",
     "output_type": "stream",
     "text": [
      "/puhome/24112456g/.conda/envs/SHPC-env/lib/python3.10/site-packages/xgboost/core.py:158: UserWarning: [03:01:57] WARNING: /workspace/src/common/error_msg.cc:58: Falling back to prediction using DMatrix due to mismatched devices. This might lead to higher memory usage and slower performance. XGBoost is running on: cuda:0, while the input data is on: cpu.\n",
      "Potential solutions:\n",
      "- Use a data structure that matches the device ordinal in the booster.\n",
      "- Set the device for booster before call to inplace_predict.\n",
      "\n",
      "This warning will only be shown once.\n",
      "\n",
      "  warnings.warn(smsg, UserWarning)\n"
     ]
    },
    {
     "name": "stdout",
     "output_type": "stream",
     "text": [
      "[CV] END gamma=0, learning_rate=0.05, max_depth=2, n_estimators=800, random_state=42, reg_alpha=0.3, reg_lambda=0.1; total time= 1.0min\n",
      "[CV] END gamma=0, learning_rate=0.05, max_depth=2, n_estimators=800, random_state=42, reg_alpha=0.3, reg_lambda=0.1; total time= 1.2min\n"
     ]
    },
    {
     "name": "stderr",
     "output_type": "stream",
     "text": [
      "/puhome/24112456g/.conda/envs/SHPC-env/lib/python3.10/site-packages/xgboost/core.py:158: UserWarning: [03:02:17] WARNING: /workspace/src/common/error_msg.cc:58: Falling back to prediction using DMatrix due to mismatched devices. This might lead to higher memory usage and slower performance. XGBoost is running on: cuda:0, while the input data is on: cpu.\n",
      "Potential solutions:\n",
      "- Use a data structure that matches the device ordinal in the booster.\n",
      "- Set the device for booster before call to inplace_predict.\n",
      "\n",
      "This warning will only be shown once.\n",
      "\n",
      "  warnings.warn(smsg, UserWarning)\n"
     ]
    },
    {
     "name": "stdout",
     "output_type": "stream",
     "text": [
      "[CV] END gamma=0, learning_rate=0.05, max_depth=2, n_estimators=800, random_state=42, reg_alpha=0.3, reg_lambda=0.1; total time= 1.1min\n",
      "[CV] END gamma=0, learning_rate=0.05, max_depth=2, n_estimators=800, random_state=42, reg_alpha=0.3, reg_lambda=1; total time=  56.7s\n",
      "[CV] END gamma=0, learning_rate=0.05, max_depth=2, n_estimators=800, random_state=42, reg_alpha=0.3, reg_lambda=1; total time=  56.8s\n",
      "[CV] END gamma=0, learning_rate=0.05, max_depth=2, n_estimators=800, random_state=42, reg_alpha=0.3, reg_lambda=1; total time=  56.1s\n",
      "[CV] END gamma=0, learning_rate=0.05, max_depth=2, n_estimators=800, random_state=42, reg_alpha=0.3, reg_lambda=1; total time=  58.4s\n",
      "[CV] END gamma=0, learning_rate=0.05, max_depth=2, n_estimators=800, random_state=42, reg_alpha=0.3, reg_lambda=1; total time= 1.1min\n",
      "[CV] END gamma=0, learning_rate=0.05, max_depth=2, n_estimators=800, random_state=42, reg_alpha=0.3, reg_lambda=10; total time= 1.1min\n"
     ]
    },
    {
     "name": "stderr",
     "output_type": "stream",
     "text": [
      "/puhome/24112456g/.conda/envs/SHPC-env/lib/python3.10/site-packages/xgboost/core.py:158: UserWarning: [03:03:26] WARNING: /workspace/src/common/error_msg.cc:58: Falling back to prediction using DMatrix due to mismatched devices. This might lead to higher memory usage and slower performance. XGBoost is running on: cuda:0, while the input data is on: cpu.\n",
      "Potential solutions:\n",
      "- Use a data structure that matches the device ordinal in the booster.\n",
      "- Set the device for booster before call to inplace_predict.\n",
      "\n",
      "This warning will only be shown once.\n",
      "\n",
      "  warnings.warn(smsg, UserWarning)\n"
     ]
    },
    {
     "name": "stdout",
     "output_type": "stream",
     "text": [
      "[CV] END gamma=0, learning_rate=0.05, max_depth=2, n_estimators=800, random_state=42, reg_alpha=0.3, reg_lambda=10; total time= 1.1min\n"
     ]
    },
    {
     "name": "stderr",
     "output_type": "stream",
     "text": [
      "/puhome/24112456g/.conda/envs/SHPC-env/lib/python3.10/site-packages/xgboost/core.py:158: UserWarning: [03:03:35] WARNING: /workspace/src/common/error_msg.cc:58: Falling back to prediction using DMatrix due to mismatched devices. This might lead to higher memory usage and slower performance. XGBoost is running on: cuda:0, while the input data is on: cpu.\n",
      "Potential solutions:\n",
      "- Use a data structure that matches the device ordinal in the booster.\n",
      "- Set the device for booster before call to inplace_predict.\n",
      "\n",
      "This warning will only be shown once.\n",
      "\n",
      "  warnings.warn(smsg, UserWarning)\n"
     ]
    },
    {
     "name": "stdout",
     "output_type": "stream",
     "text": [
      "[CV] END gamma=0, learning_rate=0.05, max_depth=2, n_estimators=800, random_state=42, reg_alpha=0.3, reg_lambda=10; total time= 1.0min\n"
     ]
    },
    {
     "name": "stderr",
     "output_type": "stream",
     "text": [
      "/puhome/24112456g/.conda/envs/SHPC-env/lib/python3.10/site-packages/xgboost/core.py:158: UserWarning: [03:03:42] WARNING: /workspace/src/common/error_msg.cc:58: Falling back to prediction using DMatrix due to mismatched devices. This might lead to higher memory usage and slower performance. XGBoost is running on: cuda:0, while the input data is on: cpu.\n",
      "Potential solutions:\n",
      "- Use a data structure that matches the device ordinal in the booster.\n",
      "- Set the device for booster before call to inplace_predict.\n",
      "\n",
      "This warning will only be shown once.\n",
      "\n",
      "  warnings.warn(smsg, UserWarning)\n"
     ]
    },
    {
     "name": "stdout",
     "output_type": "stream",
     "text": [
      "[CV] END gamma=0, learning_rate=0.05, max_depth=2, n_estimators=800, random_state=42, reg_alpha=0.3, reg_lambda=10; total time=  55.6s\n"
     ]
    },
    {
     "name": "stderr",
     "output_type": "stream",
     "text": [
      "/puhome/24112456g/.conda/envs/SHPC-env/lib/python3.10/site-packages/xgboost/core.py:158: UserWarning: [03:03:53] WARNING: /workspace/src/common/error_msg.cc:58: Falling back to prediction using DMatrix due to mismatched devices. This might lead to higher memory usage and slower performance. XGBoost is running on: cuda:0, while the input data is on: cpu.\n",
      "Potential solutions:\n",
      "- Use a data structure that matches the device ordinal in the booster.\n",
      "- Set the device for booster before call to inplace_predict.\n",
      "\n",
      "This warning will only be shown once.\n",
      "\n",
      "  warnings.warn(smsg, UserWarning)\n"
     ]
    },
    {
     "name": "stdout",
     "output_type": "stream",
     "text": [
      "[CV] END gamma=0, learning_rate=0.05, max_depth=2, n_estimators=800, random_state=42, reg_alpha=0.3, reg_lambda=10; total time=  51.0s\n"
     ]
    },
    {
     "name": "stderr",
     "output_type": "stream",
     "text": [
      "/puhome/24112456g/.conda/envs/SHPC-env/lib/python3.10/site-packages/xgboost/core.py:158: UserWarning: [03:04:04] WARNING: /workspace/src/common/error_msg.cc:58: Falling back to prediction using DMatrix due to mismatched devices. This might lead to higher memory usage and slower performance. XGBoost is running on: cuda:0, while the input data is on: cpu.\n",
      "Potential solutions:\n",
      "- Use a data structure that matches the device ordinal in the booster.\n",
      "- Set the device for booster before call to inplace_predict.\n",
      "\n",
      "This warning will only be shown once.\n",
      "\n",
      "  warnings.warn(smsg, UserWarning)\n"
     ]
    },
    {
     "name": "stdout",
     "output_type": "stream",
     "text": [
      "[CV] END gamma=0, learning_rate=0.05, max_depth=2, n_estimators=800, random_state=42, reg_alpha=0.4, reg_lambda=0.1; total time=  44.1s\n"
     ]
    },
    {
     "name": "stderr",
     "output_type": "stream",
     "text": [
      "/puhome/24112456g/.conda/envs/SHPC-env/lib/python3.10/site-packages/xgboost/core.py:158: UserWarning: [03:04:24] WARNING: /workspace/src/common/error_msg.cc:58: Falling back to prediction using DMatrix due to mismatched devices. This might lead to higher memory usage and slower performance. XGBoost is running on: cuda:0, while the input data is on: cpu.\n",
      "Potential solutions:\n",
      "- Use a data structure that matches the device ordinal in the booster.\n",
      "- Set the device for booster before call to inplace_predict.\n",
      "\n",
      "This warning will only be shown once.\n",
      "\n",
      "  warnings.warn(smsg, UserWarning)\n"
     ]
    },
    {
     "name": "stdout",
     "output_type": "stream",
     "text": [
      "[CV] END gamma=0, learning_rate=0.05, max_depth=2, n_estimators=800, random_state=42, reg_alpha=0.4, reg_lambda=0.1; total time=  54.8s\n",
      "[CV] END gamma=0, learning_rate=0.05, max_depth=2, n_estimators=800, random_state=42, reg_alpha=0.4, reg_lambda=0.1; total time= 1.1min\n",
      "[CV] END gamma=0, learning_rate=0.05, max_depth=2, n_estimators=800, random_state=42, reg_alpha=0.4, reg_lambda=0.1; total time= 1.2min\n",
      "[CV] END gamma=0, learning_rate=0.05, max_depth=2, n_estimators=800, random_state=42, reg_alpha=0.4, reg_lambda=0.1; total time= 1.2min\n",
      "[CV] END gamma=0, learning_rate=0.05, max_depth=2, n_estimators=800, random_state=42, reg_alpha=0.4, reg_lambda=1; total time= 1.1min\n",
      "[CV] END gamma=0, learning_rate=0.05, max_depth=2, n_estimators=800, random_state=42, reg_alpha=0.4, reg_lambda=1; total time=  59.5s\n",
      "[CV] END gamma=0, learning_rate=0.05, max_depth=2, n_estimators=800, random_state=42, reg_alpha=0.4, reg_lambda=1; total time=  58.4s\n"
     ]
    },
    {
     "name": "stderr",
     "output_type": "stream",
     "text": [
      "/puhome/24112456g/.conda/envs/SHPC-env/lib/python3.10/site-packages/xgboost/core.py:158: UserWarning: [03:05:33] WARNING: /workspace/src/common/error_msg.cc:58: Falling back to prediction using DMatrix due to mismatched devices. This might lead to higher memory usage and slower performance. XGBoost is running on: cuda:0, while the input data is on: cpu.\n",
      "Potential solutions:\n",
      "- Use a data structure that matches the device ordinal in the booster.\n",
      "- Set the device for booster before call to inplace_predict.\n",
      "\n",
      "This warning will only be shown once.\n",
      "\n",
      "  warnings.warn(smsg, UserWarning)\n"
     ]
    },
    {
     "name": "stdout",
     "output_type": "stream",
     "text": [
      "[CV] END gamma=0, learning_rate=0.05, max_depth=2, n_estimators=800, random_state=42, reg_alpha=0.4, reg_lambda=1; total time=  54.3s\n"
     ]
    },
    {
     "name": "stderr",
     "output_type": "stream",
     "text": [
      "/puhome/24112456g/.conda/envs/SHPC-env/lib/python3.10/site-packages/xgboost/core.py:158: UserWarning: [03:05:55] WARNING: /workspace/src/common/error_msg.cc:58: Falling back to prediction using DMatrix due to mismatched devices. This might lead to higher memory usage and slower performance. XGBoost is running on: cuda:0, while the input data is on: cpu.\n",
      "Potential solutions:\n",
      "- Use a data structure that matches the device ordinal in the booster.\n",
      "- Set the device for booster before call to inplace_predict.\n",
      "\n",
      "This warning will only be shown once.\n",
      "\n",
      "  warnings.warn(smsg, UserWarning)\n"
     ]
    },
    {
     "name": "stdout",
     "output_type": "stream",
     "text": [
      "[CV] END gamma=0, learning_rate=0.05, max_depth=2, n_estimators=800, random_state=42, reg_alpha=0.4, reg_lambda=1; total time= 1.1min\n"
     ]
    },
    {
     "name": "stderr",
     "output_type": "stream",
     "text": [
      "/puhome/24112456g/.conda/envs/SHPC-env/lib/python3.10/site-packages/xgboost/core.py:158: UserWarning: [03:05:57] WARNING: /workspace/src/common/error_msg.cc:58: Falling back to prediction using DMatrix due to mismatched devices. This might lead to higher memory usage and slower performance. XGBoost is running on: cuda:0, while the input data is on: cpu.\n",
      "Potential solutions:\n",
      "- Use a data structure that matches the device ordinal in the booster.\n",
      "- Set the device for booster before call to inplace_predict.\n",
      "\n",
      "This warning will only be shown once.\n",
      "\n",
      "  warnings.warn(smsg, UserWarning)\n"
     ]
    },
    {
     "name": "stdout",
     "output_type": "stream",
     "text": [
      "[CV] END gamma=0, learning_rate=0.05, max_depth=2, n_estimators=800, random_state=42, reg_alpha=0.4, reg_lambda=10; total time=  59.4s\n"
     ]
    },
    {
     "name": "stderr",
     "output_type": "stream",
     "text": [
      "/puhome/24112456g/.conda/envs/SHPC-env/lib/python3.10/site-packages/xgboost/core.py:158: UserWarning: [03:06:05] WARNING: /workspace/src/common/error_msg.cc:58: Falling back to prediction using DMatrix due to mismatched devices. This might lead to higher memory usage and slower performance. XGBoost is running on: cuda:0, while the input data is on: cpu.\n",
      "Potential solutions:\n",
      "- Use a data structure that matches the device ordinal in the booster.\n",
      "- Set the device for booster before call to inplace_predict.\n",
      "\n",
      "This warning will only be shown once.\n",
      "\n",
      "  warnings.warn(smsg, UserWarning)\n"
     ]
    },
    {
     "name": "stdout",
     "output_type": "stream",
     "text": [
      "[CV] END gamma=0, learning_rate=0.05, max_depth=2, n_estimators=800, random_state=42, reg_alpha=0.4, reg_lambda=10; total time= 1.1min\n",
      "[CV] END gamma=0, learning_rate=0.05, max_depth=2, n_estimators=800, random_state=42, reg_alpha=0.4, reg_lambda=10; total time= 1.1min\n"
     ]
    },
    {
     "name": "stderr",
     "output_type": "stream",
     "text": [
      "/puhome/24112456g/.conda/envs/SHPC-env/lib/python3.10/site-packages/xgboost/core.py:158: UserWarning: [03:06:22] WARNING: /workspace/src/common/error_msg.cc:58: Falling back to prediction using DMatrix due to mismatched devices. This might lead to higher memory usage and slower performance. XGBoost is running on: cuda:0, while the input data is on: cpu.\n",
      "Potential solutions:\n",
      "- Use a data structure that matches the device ordinal in the booster.\n",
      "- Set the device for booster before call to inplace_predict.\n",
      "\n",
      "This warning will only be shown once.\n",
      "\n",
      "  warnings.warn(smsg, UserWarning)\n"
     ]
    },
    {
     "name": "stdout",
     "output_type": "stream",
     "text": [
      "[CV] END gamma=0, learning_rate=0.05, max_depth=2, n_estimators=800, random_state=42, reg_alpha=0.4, reg_lambda=10; total time=  54.0s\n",
      "[CV] END gamma=0, learning_rate=0.05, max_depth=2, n_estimators=800, random_state=42, reg_alpha=0.4, reg_lambda=10; total time=  59.0s\n",
      "[CV] END gamma=0, learning_rate=0.05, max_depth=3, n_estimators=400, random_state=42, reg_alpha=0, reg_lambda=0.1; total time=  46.3s\n",
      "[CV] END gamma=0, learning_rate=0.05, max_depth=3, n_estimators=400, random_state=42, reg_alpha=0, reg_lambda=0.1; total time=  51.1s\n",
      "[CV] END gamma=0, learning_rate=0.05, max_depth=3, n_estimators=400, random_state=42, reg_alpha=0, reg_lambda=0.1; total time=  51.8s\n"
     ]
    },
    {
     "name": "stderr",
     "output_type": "stream",
     "text": [
      "/puhome/24112456g/.conda/envs/SHPC-env/lib/python3.10/site-packages/xgboost/core.py:158: UserWarning: [03:07:02] WARNING: /workspace/src/common/error_msg.cc:58: Falling back to prediction using DMatrix due to mismatched devices. This might lead to higher memory usage and slower performance. XGBoost is running on: cuda:0, while the input data is on: cpu.\n",
      "Potential solutions:\n",
      "- Use a data structure that matches the device ordinal in the booster.\n",
      "- Set the device for booster before call to inplace_predict.\n",
      "\n",
      "This warning will only be shown once.\n",
      "\n",
      "  warnings.warn(smsg, UserWarning)\n"
     ]
    },
    {
     "name": "stdout",
     "output_type": "stream",
     "text": [
      "[CV] END gamma=0, learning_rate=0.05, max_depth=3, n_estimators=400, random_state=42, reg_alpha=0, reg_lambda=0.1; total time=  44.9s\n",
      "[CV] END gamma=0, learning_rate=0.05, max_depth=3, n_estimators=400, random_state=42, reg_alpha=0, reg_lambda=0.1; total time=  52.8s\n"
     ]
    },
    {
     "name": "stderr",
     "output_type": "stream",
     "text": [
      "/puhome/24112456g/.conda/envs/SHPC-env/lib/python3.10/site-packages/xgboost/core.py:158: UserWarning: [03:07:19] WARNING: /workspace/src/common/error_msg.cc:58: Falling back to prediction using DMatrix due to mismatched devices. This might lead to higher memory usage and slower performance. XGBoost is running on: cuda:0, while the input data is on: cpu.\n",
      "Potential solutions:\n",
      "- Use a data structure that matches the device ordinal in the booster.\n",
      "- Set the device for booster before call to inplace_predict.\n",
      "\n",
      "This warning will only be shown once.\n",
      "\n",
      "  warnings.warn(smsg, UserWarning)\n"
     ]
    },
    {
     "name": "stdout",
     "output_type": "stream",
     "text": [
      "[CV] END gamma=0, learning_rate=0.05, max_depth=3, n_estimators=400, random_state=42, reg_alpha=0, reg_lambda=1; total time=  40.6s\n"
     ]
    },
    {
     "name": "stderr",
     "output_type": "stream",
     "text": [
      "/puhome/24112456g/.conda/envs/SHPC-env/lib/python3.10/site-packages/xgboost/core.py:158: UserWarning: [03:07:30] WARNING: /workspace/src/common/error_msg.cc:58: Falling back to prediction using DMatrix due to mismatched devices. This might lead to higher memory usage and slower performance. XGBoost is running on: cuda:0, while the input data is on: cpu.\n",
      "Potential solutions:\n",
      "- Use a data structure that matches the device ordinal in the booster.\n",
      "- Set the device for booster before call to inplace_predict.\n",
      "\n",
      "This warning will only be shown once.\n",
      "\n",
      "  warnings.warn(smsg, UserWarning)\n"
     ]
    },
    {
     "name": "stdout",
     "output_type": "stream",
     "text": [
      "[CV] END gamma=0, learning_rate=0.05, max_depth=3, n_estimators=400, random_state=42, reg_alpha=0, reg_lambda=1; total time=  43.4s\n"
     ]
    },
    {
     "name": "stderr",
     "output_type": "stream",
     "text": [
      "/puhome/24112456g/.conda/envs/SHPC-env/lib/python3.10/site-packages/xgboost/core.py:158: UserWarning: [03:07:38] WARNING: /workspace/src/common/error_msg.cc:58: Falling back to prediction using DMatrix due to mismatched devices. This might lead to higher memory usage and slower performance. XGBoost is running on: cuda:0, while the input data is on: cpu.\n",
      "Potential solutions:\n",
      "- Use a data structure that matches the device ordinal in the booster.\n",
      "- Set the device for booster before call to inplace_predict.\n",
      "\n",
      "This warning will only be shown once.\n",
      "\n",
      "  warnings.warn(smsg, UserWarning)\n"
     ]
    },
    {
     "name": "stdout",
     "output_type": "stream",
     "text": [
      "[CV] END gamma=0, learning_rate=0.05, max_depth=3, n_estimators=400, random_state=42, reg_alpha=0, reg_lambda=1; total time=  43.8s\n"
     ]
    },
    {
     "name": "stderr",
     "output_type": "stream",
     "text": [
      "/puhome/24112456g/.conda/envs/SHPC-env/lib/python3.10/site-packages/xgboost/core.py:158: UserWarning: [03:07:47] WARNING: /workspace/src/common/error_msg.cc:58: Falling back to prediction using DMatrix due to mismatched devices. This might lead to higher memory usage and slower performance. XGBoost is running on: cuda:0, while the input data is on: cpu.\n",
      "Potential solutions:\n",
      "- Use a data structure that matches the device ordinal in the booster.\n",
      "- Set the device for booster before call to inplace_predict.\n",
      "\n",
      "This warning will only be shown once.\n",
      "\n",
      "  warnings.warn(smsg, UserWarning)\n"
     ]
    },
    {
     "name": "stdout",
     "output_type": "stream",
     "text": [
      "[CV] END gamma=0, learning_rate=0.05, max_depth=3, n_estimators=400, random_state=42, reg_alpha=0, reg_lambda=1; total time=  44.5s\n",
      "[CV] END gamma=0, learning_rate=0.05, max_depth=3, n_estimators=400, random_state=42, reg_alpha=0, reg_lambda=1; total time=  51.1s\n"
     ]
    },
    {
     "name": "stderr",
     "output_type": "stream",
     "text": [
      "/puhome/24112456g/.conda/envs/SHPC-env/lib/python3.10/site-packages/xgboost/core.py:158: UserWarning: [03:08:00] WARNING: /workspace/src/common/error_msg.cc:58: Falling back to prediction using DMatrix due to mismatched devices. This might lead to higher memory usage and slower performance. XGBoost is running on: cuda:0, while the input data is on: cpu.\n",
      "Potential solutions:\n",
      "- Use a data structure that matches the device ordinal in the booster.\n",
      "- Set the device for booster before call to inplace_predict.\n",
      "\n",
      "This warning will only be shown once.\n",
      "\n",
      "  warnings.warn(smsg, UserWarning)\n"
     ]
    },
    {
     "name": "stdout",
     "output_type": "stream",
     "text": [
      "[CV] END gamma=0, learning_rate=0.05, max_depth=3, n_estimators=400, random_state=42, reg_alpha=0, reg_lambda=10; total time=  38.3s\n",
      "[CV] END gamma=0, learning_rate=0.05, max_depth=3, n_estimators=400, random_state=42, reg_alpha=0, reg_lambda=10; total time=  50.8s\n",
      "[CV] END gamma=0, learning_rate=0.05, max_depth=3, n_estimators=400, random_state=42, reg_alpha=0, reg_lambda=10; total time=  51.2s\n",
      "[CV] END gamma=0, learning_rate=0.05, max_depth=3, n_estimators=400, random_state=42, reg_alpha=0, reg_lambda=10; total time=  51.2s\n",
      "[CV] END gamma=0, learning_rate=0.05, max_depth=3, n_estimators=400, random_state=42, reg_alpha=0, reg_lambda=10; total time=  54.6s\n",
      "[CV] END gamma=0, learning_rate=0.05, max_depth=3, n_estimators=400, random_state=42, reg_alpha=0.2, reg_lambda=0.1; total time=  49.8s\n",
      "[CV] END gamma=0, learning_rate=0.05, max_depth=3, n_estimators=400, random_state=42, reg_alpha=0.2, reg_lambda=0.1; total time=  50.7s\n"
     ]
    },
    {
     "name": "stderr",
     "output_type": "stream",
     "text": [
      "/puhome/24112456g/.conda/envs/SHPC-env/lib/python3.10/site-packages/xgboost/core.py:158: UserWarning: [03:09:00] WARNING: /workspace/src/common/error_msg.cc:58: Falling back to prediction using DMatrix due to mismatched devices. This might lead to higher memory usage and slower performance. XGBoost is running on: cuda:0, while the input data is on: cpu.\n",
      "Potential solutions:\n",
      "- Use a data structure that matches the device ordinal in the booster.\n",
      "- Set the device for booster before call to inplace_predict.\n",
      "\n",
      "This warning will only be shown once.\n",
      "\n",
      "  warnings.warn(smsg, UserWarning)\n"
     ]
    },
    {
     "name": "stdout",
     "output_type": "stream",
     "text": [
      "[CV] END gamma=0, learning_rate=0.05, max_depth=3, n_estimators=400, random_state=42, reg_alpha=0.2, reg_lambda=0.1; total time=  43.8s\n"
     ]
    },
    {
     "name": "stderr",
     "output_type": "stream",
     "text": [
      "/puhome/24112456g/.conda/envs/SHPC-env/lib/python3.10/site-packages/xgboost/core.py:158: UserWarning: [03:09:11] WARNING: /workspace/src/common/error_msg.cc:58: Falling back to prediction using DMatrix due to mismatched devices. This might lead to higher memory usage and slower performance. XGBoost is running on: cuda:0, while the input data is on: cpu.\n",
      "Potential solutions:\n",
      "- Use a data structure that matches the device ordinal in the booster.\n",
      "- Set the device for booster before call to inplace_predict.\n",
      "\n",
      "This warning will only be shown once.\n",
      "\n",
      "  warnings.warn(smsg, UserWarning)\n"
     ]
    },
    {
     "name": "stdout",
     "output_type": "stream",
     "text": [
      "[CV] END gamma=0, learning_rate=0.05, max_depth=3, n_estimators=400, random_state=42, reg_alpha=0.2, reg_lambda=0.1; total time=  43.8s\n",
      "[CV] END gamma=0, learning_rate=0.05, max_depth=3, n_estimators=400, random_state=42, reg_alpha=0.2, reg_lambda=0.1; total time=  51.1s\n",
      "[CV] END gamma=0, learning_rate=0.05, max_depth=3, n_estimators=400, random_state=42, reg_alpha=0.2, reg_lambda=1; total time=  50.2s\n"
     ]
    },
    {
     "name": "stderr",
     "output_type": "stream",
     "text": [
      "/puhome/24112456g/.conda/envs/SHPC-env/lib/python3.10/site-packages/xgboost/core.py:158: UserWarning: [03:09:36] WARNING: /workspace/src/common/error_msg.cc:58: Falling back to prediction using DMatrix due to mismatched devices. This might lead to higher memory usage and slower performance. XGBoost is running on: cuda:0, while the input data is on: cpu.\n",
      "Potential solutions:\n",
      "- Use a data structure that matches the device ordinal in the booster.\n",
      "- Set the device for booster before call to inplace_predict.\n",
      "\n",
      "This warning will only be shown once.\n",
      "\n",
      "  warnings.warn(smsg, UserWarning)\n"
     ]
    },
    {
     "name": "stdout",
     "output_type": "stream",
     "text": [
      "[CV] END gamma=0, learning_rate=0.05, max_depth=3, n_estimators=400, random_state=42, reg_alpha=0.2, reg_lambda=1; total time=  48.2s\n"
     ]
    },
    {
     "name": "stderr",
     "output_type": "stream",
     "text": [
      "/puhome/24112456g/.conda/envs/SHPC-env/lib/python3.10/site-packages/xgboost/core.py:158: UserWarning: [03:09:42] WARNING: /workspace/src/common/error_msg.cc:58: Falling back to prediction using DMatrix due to mismatched devices. This might lead to higher memory usage and slower performance. XGBoost is running on: cuda:0, while the input data is on: cpu.\n",
      "Potential solutions:\n",
      "- Use a data structure that matches the device ordinal in the booster.\n",
      "- Set the device for booster before call to inplace_predict.\n",
      "\n",
      "This warning will only be shown once.\n",
      "\n",
      "  warnings.warn(smsg, UserWarning)\n"
     ]
    },
    {
     "name": "stdout",
     "output_type": "stream",
     "text": [
      "[CV] END gamma=0, learning_rate=0.05, max_depth=3, n_estimators=400, random_state=42, reg_alpha=0.2, reg_lambda=1; total time=  44.9s\n",
      "[CV] END gamma=0, learning_rate=0.05, max_depth=3, n_estimators=400, random_state=42, reg_alpha=0.2, reg_lambda=1; total time=  51.0s\n",
      "[CV] END gamma=0, learning_rate=0.05, max_depth=3, n_estimators=400, random_state=42, reg_alpha=0.2, reg_lambda=1; total time=  53.1s\n"
     ]
    },
    {
     "name": "stderr",
     "output_type": "stream",
     "text": [
      "/puhome/24112456g/.conda/envs/SHPC-env/lib/python3.10/site-packages/xgboost/core.py:158: UserWarning: [03:10:08] WARNING: /workspace/src/common/error_msg.cc:58: Falling back to prediction using DMatrix due to mismatched devices. This might lead to higher memory usage and slower performance. XGBoost is running on: cuda:0, while the input data is on: cpu.\n",
      "Potential solutions:\n",
      "- Use a data structure that matches the device ordinal in the booster.\n",
      "- Set the device for booster before call to inplace_predict.\n",
      "\n",
      "This warning will only be shown once.\n",
      "\n",
      "  warnings.warn(smsg, UserWarning)\n"
     ]
    },
    {
     "name": "stdout",
     "output_type": "stream",
     "text": [
      "[CV] END gamma=0, learning_rate=0.05, max_depth=3, n_estimators=400, random_state=42, reg_alpha=0.2, reg_lambda=10; total time=  40.9s\n",
      "[CV] END gamma=0, learning_rate=0.05, max_depth=3, n_estimators=400, random_state=42, reg_alpha=0.2, reg_lambda=10; total time=  52.9s\n",
      "[CV] END gamma=0, learning_rate=0.05, max_depth=3, n_estimators=400, random_state=42, reg_alpha=0.2, reg_lambda=10; total time=  54.8s\n",
      "[CV] END gamma=0, learning_rate=0.05, max_depth=3, n_estimators=400, random_state=42, reg_alpha=0.2, reg_lambda=10; total time=  53.9s\n"
     ]
    },
    {
     "name": "stderr",
     "output_type": "stream",
     "text": [
      "/puhome/24112456g/.conda/envs/SHPC-env/lib/python3.10/site-packages/xgboost/core.py:158: UserWarning: [03:10:41] WARNING: /workspace/src/common/error_msg.cc:58: Falling back to prediction using DMatrix due to mismatched devices. This might lead to higher memory usage and slower performance. XGBoost is running on: cuda:0, while the input data is on: cpu.\n",
      "Potential solutions:\n",
      "- Use a data structure that matches the device ordinal in the booster.\n",
      "- Set the device for booster before call to inplace_predict.\n",
      "\n",
      "This warning will only be shown once.\n",
      "\n",
      "  warnings.warn(smsg, UserWarning)\n"
     ]
    },
    {
     "name": "stdout",
     "output_type": "stream",
     "text": [
      "[CV] END gamma=0, learning_rate=0.05, max_depth=3, n_estimators=400, random_state=42, reg_alpha=0.2, reg_lambda=10; total time=  44.8s\n"
     ]
    },
    {
     "name": "stderr",
     "output_type": "stream",
     "text": [
      "/puhome/24112456g/.conda/envs/SHPC-env/lib/python3.10/site-packages/xgboost/core.py:158: UserWarning: [03:10:49] WARNING: /workspace/src/common/error_msg.cc:58: Falling back to prediction using DMatrix due to mismatched devices. This might lead to higher memory usage and slower performance. XGBoost is running on: cuda:0, while the input data is on: cpu.\n",
      "Potential solutions:\n",
      "- Use a data structure that matches the device ordinal in the booster.\n",
      "- Set the device for booster before call to inplace_predict.\n",
      "\n",
      "This warning will only be shown once.\n",
      "\n",
      "  warnings.warn(smsg, UserWarning)\n"
     ]
    },
    {
     "name": "stdout",
     "output_type": "stream",
     "text": [
      "[CV] END gamma=0, learning_rate=0.05, max_depth=3, n_estimators=400, random_state=42, reg_alpha=0.3, reg_lambda=0.1; total time=  38.0s\n",
      "[CV] END gamma=0, learning_rate=0.05, max_depth=3, n_estimators=400, random_state=42, reg_alpha=0.3, reg_lambda=0.1; total time=  49.9s\n",
      "[CV] END gamma=0, learning_rate=0.05, max_depth=3, n_estimators=400, random_state=42, reg_alpha=0.3, reg_lambda=0.1; total time=  51.8s\n"
     ]
    },
    {
     "name": "stderr",
     "output_type": "stream",
     "text": [
      "/puhome/24112456g/.conda/envs/SHPC-env/lib/python3.10/site-packages/xgboost/core.py:158: UserWarning: [03:11:25] WARNING: /workspace/src/common/error_msg.cc:58: Falling back to prediction using DMatrix due to mismatched devices. This might lead to higher memory usage and slower performance. XGBoost is running on: cuda:0, while the input data is on: cpu.\n",
      "Potential solutions:\n",
      "- Use a data structure that matches the device ordinal in the booster.\n",
      "- Set the device for booster before call to inplace_predict.\n",
      "\n",
      "This warning will only be shown once.\n",
      "\n",
      "  warnings.warn(smsg, UserWarning)\n"
     ]
    },
    {
     "name": "stdout",
     "output_type": "stream",
     "text": [
      "[CV] END gamma=0, learning_rate=0.05, max_depth=3, n_estimators=400, random_state=42, reg_alpha=0.3, reg_lambda=0.1; total time=  48.2s\n",
      "[CV] END gamma=0, learning_rate=0.05, max_depth=3, n_estimators=400, random_state=42, reg_alpha=0.3, reg_lambda=0.1; total time=  56.7s\n",
      "[CV] END gamma=0, learning_rate=0.05, max_depth=3, n_estimators=400, random_state=42, reg_alpha=0.3, reg_lambda=1; total time=  52.0s\n",
      "[CV] END gamma=0, learning_rate=0.05, max_depth=3, n_estimators=400, random_state=42, reg_alpha=0.3, reg_lambda=1; total time=  50.9s\n"
     ]
    },
    {
     "name": "stderr",
     "output_type": "stream",
     "text": [
      "/puhome/24112456g/.conda/envs/SHPC-env/lib/python3.10/site-packages/xgboost/core.py:158: UserWarning: [03:11:47] WARNING: /workspace/src/common/error_msg.cc:58: Falling back to prediction using DMatrix due to mismatched devices. This might lead to higher memory usage and slower performance. XGBoost is running on: cuda:0, while the input data is on: cpu.\n",
      "Potential solutions:\n",
      "- Use a data structure that matches the device ordinal in the booster.\n",
      "- Set the device for booster before call to inplace_predict.\n",
      "\n",
      "This warning will only be shown once.\n",
      "\n",
      "  warnings.warn(smsg, UserWarning)\n"
     ]
    },
    {
     "name": "stdout",
     "output_type": "stream",
     "text": [
      "[CV] END gamma=0, learning_rate=0.05, max_depth=3, n_estimators=400, random_state=42, reg_alpha=0.3, reg_lambda=1; total time=  43.6s\n",
      "[CV] END gamma=0, learning_rate=0.05, max_depth=3, n_estimators=400, random_state=42, reg_alpha=0.3, reg_lambda=1; total time=  50.6s\n"
     ]
    },
    {
     "name": "stderr",
     "output_type": "stream",
     "text": [
      "/puhome/24112456g/.conda/envs/SHPC-env/lib/python3.10/site-packages/xgboost/core.py:158: UserWarning: [03:12:24] WARNING: /workspace/src/common/error_msg.cc:58: Falling back to prediction using DMatrix due to mismatched devices. This might lead to higher memory usage and slower performance. XGBoost is running on: cuda:0, while the input data is on: cpu.\n",
      "Potential solutions:\n",
      "- Use a data structure that matches the device ordinal in the booster.\n",
      "- Set the device for booster before call to inplace_predict.\n",
      "\n",
      "This warning will only be shown once.\n",
      "\n",
      "  warnings.warn(smsg, UserWarning)\n"
     ]
    },
    {
     "name": "stdout",
     "output_type": "stream",
     "text": [
      "[CV] END gamma=0, learning_rate=0.05, max_depth=3, n_estimators=400, random_state=42, reg_alpha=0.3, reg_lambda=1; total time=  57.3s\n",
      "[CV] END gamma=0, learning_rate=0.05, max_depth=3, n_estimators=400, random_state=42, reg_alpha=0.3, reg_lambda=10; total time=  45.2s\n"
     ]
    },
    {
     "name": "stderr",
     "output_type": "stream",
     "text": [
      "/puhome/24112456g/.conda/envs/SHPC-env/lib/python3.10/site-packages/xgboost/core.py:158: UserWarning: [03:12:29] WARNING: /workspace/src/common/error_msg.cc:58: Falling back to prediction using DMatrix due to mismatched devices. This might lead to higher memory usage and slower performance. XGBoost is running on: cuda:0, while the input data is on: cpu.\n",
      "Potential solutions:\n",
      "- Use a data structure that matches the device ordinal in the booster.\n",
      "- Set the device for booster before call to inplace_predict.\n",
      "\n",
      "This warning will only be shown once.\n",
      "\n",
      "  warnings.warn(smsg, UserWarning)\n"
     ]
    },
    {
     "name": "stdout",
     "output_type": "stream",
     "text": [
      "[CV] END gamma=0, learning_rate=0.05, max_depth=3, n_estimators=400, random_state=42, reg_alpha=0.3, reg_lambda=10; total time=  49.8s\n"
     ]
    },
    {
     "name": "stderr",
     "output_type": "stream",
     "text": [
      "/puhome/24112456g/.conda/envs/SHPC-env/lib/python3.10/site-packages/xgboost/core.py:158: UserWarning: [03:12:34] WARNING: /workspace/src/common/error_msg.cc:58: Falling back to prediction using DMatrix due to mismatched devices. This might lead to higher memory usage and slower performance. XGBoost is running on: cuda:0, while the input data is on: cpu.\n",
      "Potential solutions:\n",
      "- Use a data structure that matches the device ordinal in the booster.\n",
      "- Set the device for booster before call to inplace_predict.\n",
      "\n",
      "This warning will only be shown once.\n",
      "\n",
      "  warnings.warn(smsg, UserWarning)\n"
     ]
    },
    {
     "name": "stdout",
     "output_type": "stream",
     "text": [
      "[CV] END gamma=0, learning_rate=0.05, max_depth=3, n_estimators=400, random_state=42, reg_alpha=0.3, reg_lambda=10; total time=  48.0s\n",
      "[CV] END gamma=0, learning_rate=0.05, max_depth=3, n_estimators=400, random_state=42, reg_alpha=0.3, reg_lambda=10; total time=  51.7s\n",
      "[CV] END gamma=0, learning_rate=0.05, max_depth=3, n_estimators=400, random_state=42, reg_alpha=0.3, reg_lambda=10; total time=  50.4s\n",
      "[CV] END gamma=0, learning_rate=0.05, max_depth=3, n_estimators=400, random_state=42, reg_alpha=0.4, reg_lambda=0.1; total time=  49.5s\n"
     ]
    },
    {
     "name": "stderr",
     "output_type": "stream",
     "text": [
      "/puhome/24112456g/.conda/envs/SHPC-env/lib/python3.10/site-packages/xgboost/core.py:158: UserWarning: [03:13:17] WARNING: /workspace/src/common/error_msg.cc:58: Falling back to prediction using DMatrix due to mismatched devices. This might lead to higher memory usage and slower performance. XGBoost is running on: cuda:0, while the input data is on: cpu.\n",
      "Potential solutions:\n",
      "- Use a data structure that matches the device ordinal in the booster.\n",
      "- Set the device for booster before call to inplace_predict.\n",
      "\n",
      "This warning will only be shown once.\n",
      "\n",
      "  warnings.warn(smsg, UserWarning)\n"
     ]
    },
    {
     "name": "stdout",
     "output_type": "stream",
     "text": [
      "[CV] END gamma=0, learning_rate=0.05, max_depth=3, n_estimators=400, random_state=42, reg_alpha=0.4, reg_lambda=0.1; total time=  47.9s\n",
      "[CV] END gamma=0, learning_rate=0.05, max_depth=3, n_estimators=400, random_state=42, reg_alpha=0.4, reg_lambda=0.1; total time=  55.7s\n"
     ]
    },
    {
     "name": "stderr",
     "output_type": "stream",
     "text": [
      "/puhome/24112456g/.conda/envs/SHPC-env/lib/python3.10/site-packages/xgboost/core.py:158: UserWarning: [03:13:32] WARNING: /workspace/src/common/error_msg.cc:58: Falling back to prediction using DMatrix due to mismatched devices. This might lead to higher memory usage and slower performance. XGBoost is running on: cuda:0, while the input data is on: cpu.\n",
      "Potential solutions:\n",
      "- Use a data structure that matches the device ordinal in the booster.\n",
      "- Set the device for booster before call to inplace_predict.\n",
      "\n",
      "This warning will only be shown once.\n",
      "\n",
      "  warnings.warn(smsg, UserWarning)\n"
     ]
    },
    {
     "name": "stdout",
     "output_type": "stream",
     "text": [
      "[CV] END gamma=0, learning_rate=0.05, max_depth=3, n_estimators=400, random_state=42, reg_alpha=0.4, reg_lambda=0.1; total time=  56.2s\n",
      "[CV] END gamma=0, learning_rate=0.05, max_depth=3, n_estimators=400, random_state=42, reg_alpha=0.4, reg_lambda=0.1; total time=  47.6s\n",
      "[CV] END gamma=0, learning_rate=0.05, max_depth=3, n_estimators=400, random_state=42, reg_alpha=0.4, reg_lambda=1; total time=  46.0s\n"
     ]
    },
    {
     "name": "stderr",
     "output_type": "stream",
     "text": [
      "/puhome/24112456g/.conda/envs/SHPC-env/lib/python3.10/site-packages/xgboost/core.py:158: UserWarning: [03:14:04] WARNING: /workspace/src/common/error_msg.cc:58: Falling back to prediction using DMatrix due to mismatched devices. This might lead to higher memory usage and slower performance. XGBoost is running on: cuda:0, while the input data is on: cpu.\n",
      "Potential solutions:\n",
      "- Use a data structure that matches the device ordinal in the booster.\n",
      "- Set the device for booster before call to inplace_predict.\n",
      "\n",
      "This warning will only be shown once.\n",
      "\n",
      "  warnings.warn(smsg, UserWarning)\n"
     ]
    },
    {
     "name": "stdout",
     "output_type": "stream",
     "text": [
      "[CV] END gamma=0, learning_rate=0.05, max_depth=3, n_estimators=400, random_state=42, reg_alpha=0.4, reg_lambda=1; total time=  44.8s\n",
      "[CV] END gamma=0, learning_rate=0.05, max_depth=3, n_estimators=400, random_state=42, reg_alpha=0.4, reg_lambda=1; total time=  52.4s\n"
     ]
    },
    {
     "name": "stderr",
     "output_type": "stream",
     "text": [
      "/puhome/24112456g/.conda/envs/SHPC-env/lib/python3.10/site-packages/xgboost/core.py:158: UserWarning: [03:14:19] WARNING: /workspace/src/common/error_msg.cc:58: Falling back to prediction using DMatrix due to mismatched devices. This might lead to higher memory usage and slower performance. XGBoost is running on: cuda:0, while the input data is on: cpu.\n",
      "Potential solutions:\n",
      "- Use a data structure that matches the device ordinal in the booster.\n",
      "- Set the device for booster before call to inplace_predict.\n",
      "\n",
      "This warning will only be shown once.\n",
      "\n",
      "  warnings.warn(smsg, UserWarning)\n"
     ]
    },
    {
     "name": "stdout",
     "output_type": "stream",
     "text": [
      "[CV] END gamma=0, learning_rate=0.05, max_depth=3, n_estimators=400, random_state=42, reg_alpha=0.4, reg_lambda=1; total time=  48.1s\n"
     ]
    },
    {
     "name": "stderr",
     "output_type": "stream",
     "text": [
      "/puhome/24112456g/.conda/envs/SHPC-env/lib/python3.10/site-packages/xgboost/core.py:158: UserWarning: [03:14:25] WARNING: /workspace/src/common/error_msg.cc:58: Falling back to prediction using DMatrix due to mismatched devices. This might lead to higher memory usage and slower performance. XGBoost is running on: cuda:0, while the input data is on: cpu.\n",
      "Potential solutions:\n",
      "- Use a data structure that matches the device ordinal in the booster.\n",
      "- Set the device for booster before call to inplace_predict.\n",
      "\n",
      "This warning will only be shown once.\n",
      "\n",
      "  warnings.warn(smsg, UserWarning)\n"
     ]
    },
    {
     "name": "stdout",
     "output_type": "stream",
     "text": [
      "[CV] END gamma=0, learning_rate=0.05, max_depth=3, n_estimators=400, random_state=42, reg_alpha=0.4, reg_lambda=10; total time=  52.5s\n",
      "[CV] END gamma=0, learning_rate=0.05, max_depth=3, n_estimators=400, random_state=42, reg_alpha=0.4, reg_lambda=1; total time=  49.4s\n",
      "[CV] END gamma=0, learning_rate=0.05, max_depth=3, n_estimators=400, random_state=42, reg_alpha=0.4, reg_lambda=10; total time=  50.4s\n",
      "[CV] END gamma=0, learning_rate=0.05, max_depth=3, n_estimators=400, random_state=42, reg_alpha=0.4, reg_lambda=10; total time=  52.2s\n",
      "[CV] END gamma=0, learning_rate=0.05, max_depth=3, n_estimators=400, random_state=42, reg_alpha=0.4, reg_lambda=10; total time=  51.6s\n",
      "[CV] END gamma=0, learning_rate=0.05, max_depth=3, n_estimators=400, random_state=42, reg_alpha=0.4, reg_lambda=10; total time=  56.8s\n",
      "[CV] END gamma=0, learning_rate=0.05, max_depth=3, n_estimators=800, random_state=42, reg_alpha=0, reg_lambda=0.1; total time= 1.1min\n",
      "[CV] END gamma=0, learning_rate=0.05, max_depth=3, n_estimators=800, random_state=42, reg_alpha=0, reg_lambda=0.1; total time= 1.2min\n",
      "[CV] END gamma=0, learning_rate=0.05, max_depth=3, n_estimators=800, random_state=42, reg_alpha=0, reg_lambda=0.1; total time= 1.1min\n"
     ]
    },
    {
     "name": "stderr",
     "output_type": "stream",
     "text": [
      "/puhome/24112456g/.conda/envs/SHPC-env/lib/python3.10/site-packages/xgboost/core.py:158: UserWarning: [03:16:02] WARNING: /workspace/src/common/error_msg.cc:58: Falling back to prediction using DMatrix due to mismatched devices. This might lead to higher memory usage and slower performance. XGBoost is running on: cuda:0, while the input data is on: cpu.\n",
      "Potential solutions:\n",
      "- Use a data structure that matches the device ordinal in the booster.\n",
      "- Set the device for booster before call to inplace_predict.\n",
      "\n",
      "This warning will only be shown once.\n",
      "\n",
      "  warnings.warn(smsg, UserWarning)\n"
     ]
    },
    {
     "name": "stdout",
     "output_type": "stream",
     "text": [
      "[CV] END gamma=0, learning_rate=0.05, max_depth=3, n_estimators=800, random_state=42, reg_alpha=0, reg_lambda=0.1; total time=  60.0s\n",
      "[CV] END gamma=0, learning_rate=0.05, max_depth=3, n_estimators=800, random_state=42, reg_alpha=0, reg_lambda=0.1; total time= 1.2min\n"
     ]
    },
    {
     "name": "stderr",
     "output_type": "stream",
     "text": [
      "/puhome/24112456g/.conda/envs/SHPC-env/lib/python3.10/site-packages/xgboost/core.py:158: UserWarning: [03:16:16] WARNING: /workspace/src/common/error_msg.cc:58: Falling back to prediction using DMatrix due to mismatched devices. This might lead to higher memory usage and slower performance. XGBoost is running on: cuda:0, while the input data is on: cpu.\n",
      "Potential solutions:\n",
      "- Use a data structure that matches the device ordinal in the booster.\n",
      "- Set the device for booster before call to inplace_predict.\n",
      "\n",
      "This warning will only be shown once.\n",
      "\n",
      "  warnings.warn(smsg, UserWarning)\n"
     ]
    },
    {
     "name": "stdout",
     "output_type": "stream",
     "text": [
      "[CV] END gamma=0, learning_rate=0.05, max_depth=3, n_estimators=800, random_state=42, reg_alpha=0, reg_lambda=1; total time=  54.4s\n"
     ]
    },
    {
     "name": "stderr",
     "output_type": "stream",
     "text": [
      "/puhome/24112456g/.conda/envs/SHPC-env/lib/python3.10/site-packages/xgboost/core.py:158: UserWarning: [03:16:37] WARNING: /workspace/src/common/error_msg.cc:58: Falling back to prediction using DMatrix due to mismatched devices. This might lead to higher memory usage and slower performance. XGBoost is running on: cuda:0, while the input data is on: cpu.\n",
      "Potential solutions:\n",
      "- Use a data structure that matches the device ordinal in the booster.\n",
      "- Set the device for booster before call to inplace_predict.\n",
      "\n",
      "This warning will only be shown once.\n",
      "\n",
      "  warnings.warn(smsg, UserWarning)\n"
     ]
    },
    {
     "name": "stdout",
     "output_type": "stream",
     "text": [
      "[CV] END gamma=0, learning_rate=0.05, max_depth=3, n_estimators=800, random_state=42, reg_alpha=0, reg_lambda=1; total time=  60.0s\n",
      "[CV] END gamma=0, learning_rate=0.05, max_depth=3, n_estimators=800, random_state=42, reg_alpha=0, reg_lambda=1; total time= 1.1min\n"
     ]
    },
    {
     "name": "stderr",
     "output_type": "stream",
     "text": [
      "/puhome/24112456g/.conda/envs/SHPC-env/lib/python3.10/site-packages/xgboost/core.py:158: UserWarning: [03:16:50] WARNING: /workspace/src/common/error_msg.cc:58: Falling back to prediction using DMatrix due to mismatched devices. This might lead to higher memory usage and slower performance. XGBoost is running on: cuda:0, while the input data is on: cpu.\n",
      "Potential solutions:\n",
      "- Use a data structure that matches the device ordinal in the booster.\n",
      "- Set the device for booster before call to inplace_predict.\n",
      "\n",
      "This warning will only be shown once.\n",
      "\n",
      "  warnings.warn(smsg, UserWarning)\n"
     ]
    },
    {
     "name": "stdout",
     "output_type": "stream",
     "text": [
      "[CV] END gamma=0, learning_rate=0.05, max_depth=3, n_estimators=800, random_state=42, reg_alpha=0, reg_lambda=1; total time= 1.0min\n"
     ]
    },
    {
     "name": "stderr",
     "output_type": "stream",
     "text": [
      "/puhome/24112456g/.conda/envs/SHPC-env/lib/python3.10/site-packages/xgboost/core.py:158: UserWarning: [03:17:15] WARNING: /workspace/src/common/error_msg.cc:58: Falling back to prediction using DMatrix due to mismatched devices. This might lead to higher memory usage and slower performance. XGBoost is running on: cuda:0, while the input data is on: cpu.\n",
      "Potential solutions:\n",
      "- Use a data structure that matches the device ordinal in the booster.\n",
      "- Set the device for booster before call to inplace_predict.\n",
      "\n",
      "This warning will only be shown once.\n",
      "\n",
      "  warnings.warn(smsg, UserWarning)\n"
     ]
    },
    {
     "name": "stdout",
     "output_type": "stream",
     "text": [
      "[CV] END gamma=0, learning_rate=0.05, max_depth=3, n_estimators=800, random_state=42, reg_alpha=0, reg_lambda=1; total time= 1.2min\n",
      "[CV] END gamma=0, learning_rate=0.05, max_depth=3, n_estimators=800, random_state=42, reg_alpha=0, reg_lambda=10; total time=  58.7s\n",
      "[CV] END gamma=0, learning_rate=0.05, max_depth=3, n_estimators=800, random_state=42, reg_alpha=0, reg_lambda=10; total time= 1.1min\n",
      "[CV] END gamma=0, learning_rate=0.05, max_depth=3, n_estimators=800, random_state=42, reg_alpha=0, reg_lambda=10; total time= 1.1min\n"
     ]
    },
    {
     "name": "stderr",
     "output_type": "stream",
     "text": [
      "/puhome/24112456g/.conda/envs/SHPC-env/lib/python3.10/site-packages/xgboost/core.py:158: UserWarning: [03:17:53] WARNING: /workspace/src/common/error_msg.cc:58: Falling back to prediction using DMatrix due to mismatched devices. This might lead to higher memory usage and slower performance. XGBoost is running on: cuda:0, while the input data is on: cpu.\n",
      "Potential solutions:\n",
      "- Use a data structure that matches the device ordinal in the booster.\n",
      "- Set the device for booster before call to inplace_predict.\n",
      "\n",
      "This warning will only be shown once.\n",
      "\n",
      "  warnings.warn(smsg, UserWarning)\n"
     ]
    },
    {
     "name": "stdout",
     "output_type": "stream",
     "text": [
      "[CV] END gamma=0, learning_rate=0.05, max_depth=3, n_estimators=800, random_state=42, reg_alpha=0, reg_lambda=10; total time= 1.0min\n",
      "[CV] END gamma=0, learning_rate=0.05, max_depth=3, n_estimators=800, random_state=42, reg_alpha=0, reg_lambda=10; total time= 1.2min\n"
     ]
    },
    {
     "name": "stderr",
     "output_type": "stream",
     "text": [
      "/puhome/24112456g/.conda/envs/SHPC-env/lib/python3.10/site-packages/xgboost/core.py:158: UserWarning: [03:18:23] WARNING: /workspace/src/common/error_msg.cc:58: Falling back to prediction using DMatrix due to mismatched devices. This might lead to higher memory usage and slower performance. XGBoost is running on: cuda:0, while the input data is on: cpu.\n",
      "Potential solutions:\n",
      "- Use a data structure that matches the device ordinal in the booster.\n",
      "- Set the device for booster before call to inplace_predict.\n",
      "\n",
      "This warning will only be shown once.\n",
      "\n",
      "  warnings.warn(smsg, UserWarning)\n"
     ]
    },
    {
     "name": "stdout",
     "output_type": "stream",
     "text": [
      "[CV] END gamma=0, learning_rate=0.05, max_depth=3, n_estimators=800, random_state=42, reg_alpha=0.2, reg_lambda=0.1; total time= 1.1min\n",
      "[CV] END gamma=0, learning_rate=0.05, max_depth=3, n_estimators=800, random_state=42, reg_alpha=0.2, reg_lambda=0.1; total time= 1.1min\n"
     ]
    },
    {
     "name": "stderr",
     "output_type": "stream",
     "text": [
      "/puhome/24112456g/.conda/envs/SHPC-env/lib/python3.10/site-packages/xgboost/core.py:158: UserWarning: [03:18:30] WARNING: /workspace/src/common/error_msg.cc:58: Falling back to prediction using DMatrix due to mismatched devices. This might lead to higher memory usage and slower performance. XGBoost is running on: cuda:0, while the input data is on: cpu.\n",
      "Potential solutions:\n",
      "- Use a data structure that matches the device ordinal in the booster.\n",
      "- Set the device for booster before call to inplace_predict.\n",
      "\n",
      "This warning will only be shown once.\n",
      "\n",
      "  warnings.warn(smsg, UserWarning)\n"
     ]
    },
    {
     "name": "stdout",
     "output_type": "stream",
     "text": [
      "[CV] END gamma=0, learning_rate=0.05, max_depth=3, n_estimators=800, random_state=42, reg_alpha=0.2, reg_lambda=0.1; total time= 1.0min\n"
     ]
    },
    {
     "name": "stderr",
     "output_type": "stream",
     "text": [
      "/puhome/24112456g/.conda/envs/SHPC-env/lib/python3.10/site-packages/xgboost/core.py:158: UserWarning: [03:18:46] WARNING: /workspace/src/common/error_msg.cc:58: Falling back to prediction using DMatrix due to mismatched devices. This might lead to higher memory usage and slower performance. XGBoost is running on: cuda:0, while the input data is on: cpu.\n",
      "Potential solutions:\n",
      "- Use a data structure that matches the device ordinal in the booster.\n",
      "- Set the device for booster before call to inplace_predict.\n",
      "\n",
      "This warning will only be shown once.\n",
      "\n",
      "  warnings.warn(smsg, UserWarning)\n"
     ]
    },
    {
     "name": "stdout",
     "output_type": "stream",
     "text": [
      "[CV] END gamma=0, learning_rate=0.05, max_depth=3, n_estimators=800, random_state=42, reg_alpha=0.2, reg_lambda=0.1; total time=  57.0s\n",
      "[CV] END gamma=0, learning_rate=0.05, max_depth=3, n_estimators=800, random_state=42, reg_alpha=0.2, reg_lambda=0.1; total time= 1.1min\n",
      "[CV] END gamma=0, learning_rate=0.05, max_depth=3, n_estimators=800, random_state=42, reg_alpha=0.2, reg_lambda=1; total time= 1.0min\n"
     ]
    },
    {
     "name": "stderr",
     "output_type": "stream",
     "text": [
      "/puhome/24112456g/.conda/envs/SHPC-env/lib/python3.10/site-packages/xgboost/core.py:158: UserWarning: [03:19:31] WARNING: /workspace/src/common/error_msg.cc:58: Falling back to prediction using DMatrix due to mismatched devices. This might lead to higher memory usage and slower performance. XGBoost is running on: cuda:0, while the input data is on: cpu.\n",
      "Potential solutions:\n",
      "- Use a data structure that matches the device ordinal in the booster.\n",
      "- Set the device for booster before call to inplace_predict.\n",
      "\n",
      "This warning will only be shown once.\n",
      "\n",
      "  warnings.warn(smsg, UserWarning)\n"
     ]
    },
    {
     "name": "stdout",
     "output_type": "stream",
     "text": [
      "[CV] END gamma=0, learning_rate=0.05, max_depth=3, n_estimators=800, random_state=42, reg_alpha=0.2, reg_lambda=1; total time= 1.0min\n",
      "[CV] END gamma=0, learning_rate=0.05, max_depth=3, n_estimators=800, random_state=42, reg_alpha=0.2, reg_lambda=1; total time= 1.2min\n",
      "[CV] END gamma=0, learning_rate=0.05, max_depth=3, n_estimators=800, random_state=42, reg_alpha=0.2, reg_lambda=1; total time= 1.2min\n",
      "[CV] END gamma=0, learning_rate=0.05, max_depth=3, n_estimators=800, random_state=42, reg_alpha=0.2, reg_lambda=1; total time= 1.2min\n",
      "[CV] END gamma=0, learning_rate=0.05, max_depth=3, n_estimators=800, random_state=42, reg_alpha=0.2, reg_lambda=10; total time= 1.1min\n",
      "[CV] END gamma=0, learning_rate=0.05, max_depth=3, n_estimators=800, random_state=42, reg_alpha=0.2, reg_lambda=10; total time= 1.1min\n",
      "[CV] END gamma=0, learning_rate=0.05, max_depth=3, n_estimators=800, random_state=42, reg_alpha=0.2, reg_lambda=10; total time= 1.2min\n"
     ]
    },
    {
     "name": "stderr",
     "output_type": "stream",
     "text": [
      "/puhome/24112456g/.conda/envs/SHPC-env/lib/python3.10/site-packages/xgboost/core.py:158: UserWarning: [03:20:47] WARNING: /workspace/src/common/error_msg.cc:58: Falling back to prediction using DMatrix due to mismatched devices. This might lead to higher memory usage and slower performance. XGBoost is running on: cuda:0, while the input data is on: cpu.\n",
      "Potential solutions:\n",
      "- Use a data structure that matches the device ordinal in the booster.\n",
      "- Set the device for booster before call to inplace_predict.\n",
      "\n",
      "This warning will only be shown once.\n",
      "\n",
      "  warnings.warn(smsg, UserWarning)\n"
     ]
    },
    {
     "name": "stdout",
     "output_type": "stream",
     "text": [
      "[CV] END gamma=0, learning_rate=0.05, max_depth=3, n_estimators=800, random_state=42, reg_alpha=0.2, reg_lambda=10; total time= 1.1min\n"
     ]
    },
    {
     "name": "stderr",
     "output_type": "stream",
     "text": [
      "/puhome/24112456g/.conda/envs/SHPC-env/lib/python3.10/site-packages/xgboost/core.py:158: UserWarning: [03:21:00] WARNING: /workspace/src/common/error_msg.cc:58: Falling back to prediction using DMatrix due to mismatched devices. This might lead to higher memory usage and slower performance. XGBoost is running on: cuda:0, while the input data is on: cpu.\n",
      "Potential solutions:\n",
      "- Use a data structure that matches the device ordinal in the booster.\n",
      "- Set the device for booster before call to inplace_predict.\n",
      "\n",
      "This warning will only be shown once.\n",
      "\n",
      "  warnings.warn(smsg, UserWarning)\n"
     ]
    },
    {
     "name": "stdout",
     "output_type": "stream",
     "text": [
      "[CV] END gamma=0, learning_rate=0.05, max_depth=3, n_estimators=800, random_state=42, reg_alpha=0.2, reg_lambda=10; total time= 1.2min\n"
     ]
    },
    {
     "name": "stderr",
     "output_type": "stream",
     "text": [
      "/puhome/24112456g/.conda/envs/SHPC-env/lib/python3.10/site-packages/xgboost/core.py:158: UserWarning: [03:21:10] WARNING: /workspace/src/common/error_msg.cc:58: Falling back to prediction using DMatrix due to mismatched devices. This might lead to higher memory usage and slower performance. XGBoost is running on: cuda:0, while the input data is on: cpu.\n",
      "Potential solutions:\n",
      "- Use a data structure that matches the device ordinal in the booster.\n",
      "- Set the device for booster before call to inplace_predict.\n",
      "\n",
      "This warning will only be shown once.\n",
      "\n",
      "  warnings.warn(smsg, UserWarning)\n"
     ]
    },
    {
     "name": "stdout",
     "output_type": "stream",
     "text": [
      "[CV] END gamma=0, learning_rate=0.05, max_depth=3, n_estimators=800, random_state=42, reg_alpha=0.3, reg_lambda=0.1; total time= 1.1min\n"
     ]
    },
    {
     "name": "stderr",
     "output_type": "stream",
     "text": [
      "/puhome/24112456g/.conda/envs/SHPC-env/lib/python3.10/site-packages/xgboost/core.py:158: UserWarning: [03:21:18] WARNING: /workspace/src/common/error_msg.cc:58: Falling back to prediction using DMatrix due to mismatched devices. This might lead to higher memory usage and slower performance. XGBoost is running on: cuda:0, while the input data is on: cpu.\n",
      "Potential solutions:\n",
      "- Use a data structure that matches the device ordinal in the booster.\n",
      "- Set the device for booster before call to inplace_predict.\n",
      "\n",
      "This warning will only be shown once.\n",
      "\n",
      "  warnings.warn(smsg, UserWarning)\n"
     ]
    },
    {
     "name": "stdout",
     "output_type": "stream",
     "text": [
      "[CV] END gamma=0, learning_rate=0.05, max_depth=3, n_estimators=800, random_state=42, reg_alpha=0.3, reg_lambda=0.1; total time= 1.1min\n",
      "[CV] END gamma=0, learning_rate=0.05, max_depth=3, n_estimators=800, random_state=42, reg_alpha=0.3, reg_lambda=0.1; total time= 1.2min\n"
     ]
    },
    {
     "name": "stderr",
     "output_type": "stream",
     "text": [
      "/puhome/24112456g/.conda/envs/SHPC-env/lib/python3.10/site-packages/xgboost/core.py:158: UserWarning: [03:21:40] WARNING: /workspace/src/common/error_msg.cc:58: Falling back to prediction using DMatrix due to mismatched devices. This might lead to higher memory usage and slower performance. XGBoost is running on: cuda:0, while the input data is on: cpu.\n",
      "Potential solutions:\n",
      "- Use a data structure that matches the device ordinal in the booster.\n",
      "- Set the device for booster before call to inplace_predict.\n",
      "\n",
      "This warning will only be shown once.\n",
      "\n",
      "  warnings.warn(smsg, UserWarning)\n"
     ]
    },
    {
     "name": "stdout",
     "output_type": "stream",
     "text": [
      "[CV] END gamma=0, learning_rate=0.05, max_depth=3, n_estimators=800, random_state=42, reg_alpha=0.3, reg_lambda=0.1; total time=  53.9s\n",
      "[CV] END gamma=0, learning_rate=0.05, max_depth=3, n_estimators=800, random_state=42, reg_alpha=0.3, reg_lambda=0.1; total time= 1.1min\n",
      "[CV] END gamma=0, learning_rate=0.05, max_depth=3, n_estimators=800, random_state=42, reg_alpha=0.3, reg_lambda=1; total time= 1.1min\n",
      "[CV] END gamma=0, learning_rate=0.05, max_depth=3, n_estimators=800, random_state=42, reg_alpha=0.3, reg_lambda=1; total time= 1.2min\n"
     ]
    },
    {
     "name": "stderr",
     "output_type": "stream",
     "text": [
      "/puhome/24112456g/.conda/envs/SHPC-env/lib/python3.10/site-packages/xgboost/core.py:158: UserWarning: [03:22:31] WARNING: /workspace/src/common/error_msg.cc:58: Falling back to prediction using DMatrix due to mismatched devices. This might lead to higher memory usage and slower performance. XGBoost is running on: cuda:0, while the input data is on: cpu.\n",
      "Potential solutions:\n",
      "- Use a data structure that matches the device ordinal in the booster.\n",
      "- Set the device for booster before call to inplace_predict.\n",
      "\n",
      "This warning will only be shown once.\n",
      "\n",
      "  warnings.warn(smsg, UserWarning)\n"
     ]
    },
    {
     "name": "stdout",
     "output_type": "stream",
     "text": [
      "[CV] END gamma=0, learning_rate=0.05, max_depth=3, n_estimators=800, random_state=42, reg_alpha=0.3, reg_lambda=1; total time= 1.1min\n",
      "[CV] END gamma=0, learning_rate=0.05, max_depth=3, n_estimators=800, random_state=42, reg_alpha=0.3, reg_lambda=1; total time= 1.2min\n",
      "[CV] END gamma=0, learning_rate=0.05, max_depth=3, n_estimators=800, random_state=42, reg_alpha=0.3, reg_lambda=1; total time= 1.1min\n",
      "[CV] END gamma=0, learning_rate=0.05, max_depth=3, n_estimators=800, random_state=42, reg_alpha=0.3, reg_lambda=10; total time= 1.0min\n"
     ]
    },
    {
     "name": "stderr",
     "output_type": "stream",
     "text": [
      "/puhome/24112456g/.conda/envs/SHPC-env/lib/python3.10/site-packages/xgboost/core.py:158: UserWarning: [03:23:03] WARNING: /workspace/src/common/error_msg.cc:58: Falling back to prediction using DMatrix due to mismatched devices. This might lead to higher memory usage and slower performance. XGBoost is running on: cuda:0, while the input data is on: cpu.\n",
      "Potential solutions:\n",
      "- Use a data structure that matches the device ordinal in the booster.\n",
      "- Set the device for booster before call to inplace_predict.\n",
      "\n",
      "This warning will only be shown once.\n",
      "\n",
      "  warnings.warn(smsg, UserWarning)\n"
     ]
    },
    {
     "name": "stdout",
     "output_type": "stream",
     "text": [
      "[CV] END gamma=0, learning_rate=0.05, max_depth=3, n_estimators=800, random_state=42, reg_alpha=0.3, reg_lambda=10; total time=  52.7s\n"
     ]
    },
    {
     "name": "stderr",
     "output_type": "stream",
     "text": [
      "/puhome/24112456g/.conda/envs/SHPC-env/lib/python3.10/site-packages/xgboost/core.py:158: UserWarning: [03:23:20] WARNING: /workspace/src/common/error_msg.cc:58: Falling back to prediction using DMatrix due to mismatched devices. This might lead to higher memory usage and slower performance. XGBoost is running on: cuda:0, while the input data is on: cpu.\n",
      "Potential solutions:\n",
      "- Use a data structure that matches the device ordinal in the booster.\n",
      "- Set the device for booster before call to inplace_predict.\n",
      "\n",
      "This warning will only be shown once.\n",
      "\n",
      "  warnings.warn(smsg, UserWarning)\n"
     ]
    },
    {
     "name": "stdout",
     "output_type": "stream",
     "text": [
      "[CV] END gamma=0, learning_rate=0.05, max_depth=3, n_estimators=800, random_state=42, reg_alpha=0.3, reg_lambda=10; total time=  54.0s\n"
     ]
    },
    {
     "name": "stderr",
     "output_type": "stream",
     "text": [
      "/puhome/24112456g/.conda/envs/SHPC-env/lib/python3.10/site-packages/xgboost/core.py:158: UserWarning: [03:23:42] WARNING: /workspace/src/common/error_msg.cc:58: Falling back to prediction using DMatrix due to mismatched devices. This might lead to higher memory usage and slower performance. XGBoost is running on: cuda:0, while the input data is on: cpu.\n",
      "Potential solutions:\n",
      "- Use a data structure that matches the device ordinal in the booster.\n",
      "- Set the device for booster before call to inplace_predict.\n",
      "\n",
      "This warning will only be shown once.\n",
      "\n",
      "  warnings.warn(smsg, UserWarning)\n"
     ]
    },
    {
     "name": "stdout",
     "output_type": "stream",
     "text": [
      "[CV] END gamma=0, learning_rate=0.05, max_depth=3, n_estimators=800, random_state=42, reg_alpha=0.3, reg_lambda=10; total time= 1.1min\n",
      "[CV] END gamma=0, learning_rate=0.05, max_depth=3, n_estimators=800, random_state=42, reg_alpha=0.3, reg_lambda=10; total time= 1.2min\n"
     ]
    },
    {
     "name": "stderr",
     "output_type": "stream",
     "text": [
      "/puhome/24112456g/.conda/envs/SHPC-env/lib/python3.10/site-packages/xgboost/core.py:158: UserWarning: [03:23:56] WARNING: /workspace/src/common/error_msg.cc:58: Falling back to prediction using DMatrix due to mismatched devices. This might lead to higher memory usage and slower performance. XGBoost is running on: cuda:0, while the input data is on: cpu.\n",
      "Potential solutions:\n",
      "- Use a data structure that matches the device ordinal in the booster.\n",
      "- Set the device for booster before call to inplace_predict.\n",
      "\n",
      "This warning will only be shown once.\n",
      "\n",
      "  warnings.warn(smsg, UserWarning)\n"
     ]
    },
    {
     "name": "stdout",
     "output_type": "stream",
     "text": [
      "[CV] END gamma=0, learning_rate=0.05, max_depth=3, n_estimators=800, random_state=42, reg_alpha=0.4, reg_lambda=0.1; total time= 1.0min\n",
      "[CV] END gamma=0, learning_rate=0.05, max_depth=3, n_estimators=800, random_state=42, reg_alpha=0.4, reg_lambda=0.1; total time= 1.2min\n",
      "[CV] END gamma=0, learning_rate=0.05, max_depth=3, n_estimators=800, random_state=42, reg_alpha=0.4, reg_lambda=0.1; total time= 1.2min\n",
      "[CV] END gamma=0, learning_rate=0.05, max_depth=3, n_estimators=800, random_state=42, reg_alpha=0.4, reg_lambda=0.1; total time= 1.0min\n"
     ]
    },
    {
     "name": "stderr",
     "output_type": "stream",
     "text": [
      "/puhome/24112456g/.conda/envs/SHPC-env/lib/python3.10/site-packages/xgboost/core.py:158: UserWarning: [03:24:44] WARNING: /workspace/src/common/error_msg.cc:58: Falling back to prediction using DMatrix due to mismatched devices. This might lead to higher memory usage and slower performance. XGBoost is running on: cuda:0, while the input data is on: cpu.\n",
      "Potential solutions:\n",
      "- Use a data structure that matches the device ordinal in the booster.\n",
      "- Set the device for booster before call to inplace_predict.\n",
      "\n",
      "This warning will only be shown once.\n",
      "\n",
      "  warnings.warn(smsg, UserWarning)\n"
     ]
    },
    {
     "name": "stdout",
     "output_type": "stream",
     "text": [
      "[CV] END gamma=0, learning_rate=0.05, max_depth=3, n_estimators=800, random_state=42, reg_alpha=0.4, reg_lambda=1; total time=  53.6s\n",
      "[CV] END gamma=0, learning_rate=0.05, max_depth=3, n_estimators=800, random_state=42, reg_alpha=0.4, reg_lambda=0.1; total time= 1.1min\n",
      "[CV] END gamma=0, learning_rate=0.05, max_depth=3, n_estimators=800, random_state=42, reg_alpha=0.4, reg_lambda=1; total time= 1.2min\n",
      "[CV] END gamma=0, learning_rate=0.05, max_depth=3, n_estimators=800, random_state=42, reg_alpha=0.4, reg_lambda=1; total time= 1.2min\n"
     ]
    },
    {
     "name": "stderr",
     "output_type": "stream",
     "text": [
      "/puhome/24112456g/.conda/envs/SHPC-env/lib/python3.10/site-packages/xgboost/core.py:158: UserWarning: [03:25:27] WARNING: /workspace/src/common/error_msg.cc:58: Falling back to prediction using DMatrix due to mismatched devices. This might lead to higher memory usage and slower performance. XGBoost is running on: cuda:0, while the input data is on: cpu.\n",
      "Potential solutions:\n",
      "- Use a data structure that matches the device ordinal in the booster.\n",
      "- Set the device for booster before call to inplace_predict.\n",
      "\n",
      "This warning will only be shown once.\n",
      "\n",
      "  warnings.warn(smsg, UserWarning)\n"
     ]
    },
    {
     "name": "stdout",
     "output_type": "stream",
     "text": [
      "[CV] END gamma=0, learning_rate=0.05, max_depth=3, n_estimators=800, random_state=42, reg_alpha=0.4, reg_lambda=1; total time= 1.1min\n"
     ]
    },
    {
     "name": "stderr",
     "output_type": "stream",
     "text": [
      "/puhome/24112456g/.conda/envs/SHPC-env/lib/python3.10/site-packages/xgboost/core.py:158: UserWarning: [03:25:33] WARNING: /workspace/src/common/error_msg.cc:58: Falling back to prediction using DMatrix due to mismatched devices. This might lead to higher memory usage and slower performance. XGBoost is running on: cuda:0, while the input data is on: cpu.\n",
      "Potential solutions:\n",
      "- Use a data structure that matches the device ordinal in the booster.\n",
      "- Set the device for booster before call to inplace_predict.\n",
      "\n",
      "This warning will only be shown once.\n",
      "\n",
      "  warnings.warn(smsg, UserWarning)\n"
     ]
    },
    {
     "name": "stdout",
     "output_type": "stream",
     "text": [
      "[CV] END gamma=0, learning_rate=0.05, max_depth=3, n_estimators=800, random_state=42, reg_alpha=0.4, reg_lambda=1; total time= 1.1min\n",
      "[CV] END gamma=0, learning_rate=0.05, max_depth=3, n_estimators=800, random_state=42, reg_alpha=0.4, reg_lambda=10; total time= 1.1min\n"
     ]
    },
    {
     "name": "stderr",
     "output_type": "stream",
     "text": [
      "/puhome/24112456g/.conda/envs/SHPC-env/lib/python3.10/site-packages/xgboost/core.py:158: UserWarning: [03:25:54] WARNING: /workspace/src/common/error_msg.cc:58: Falling back to prediction using DMatrix due to mismatched devices. This might lead to higher memory usage and slower performance. XGBoost is running on: cuda:0, while the input data is on: cpu.\n",
      "Potential solutions:\n",
      "- Use a data structure that matches the device ordinal in the booster.\n",
      "- Set the device for booster before call to inplace_predict.\n",
      "\n",
      "This warning will only be shown once.\n",
      "\n",
      "  warnings.warn(smsg, UserWarning)\n"
     ]
    },
    {
     "name": "stdout",
     "output_type": "stream",
     "text": [
      "[CV] END gamma=0, learning_rate=0.05, max_depth=3, n_estimators=800, random_state=42, reg_alpha=0.4, reg_lambda=10; total time=  57.7s\n"
     ]
    },
    {
     "name": "stderr",
     "output_type": "stream",
     "text": [
      "/puhome/24112456g/.conda/envs/SHPC-env/lib/python3.10/site-packages/xgboost/core.py:158: UserWarning: [03:26:05] WARNING: /workspace/src/common/error_msg.cc:58: Falling back to prediction using DMatrix due to mismatched devices. This might lead to higher memory usage and slower performance. XGBoost is running on: cuda:0, while the input data is on: cpu.\n",
      "Potential solutions:\n",
      "- Use a data structure that matches the device ordinal in the booster.\n",
      "- Set the device for booster before call to inplace_predict.\n",
      "\n",
      "This warning will only be shown once.\n",
      "\n",
      "  warnings.warn(smsg, UserWarning)\n"
     ]
    },
    {
     "name": "stdout",
     "output_type": "stream",
     "text": [
      "[CV] END gamma=0, learning_rate=0.05, max_depth=3, n_estimators=800, random_state=42, reg_alpha=0.4, reg_lambda=10; total time=  52.8s\n",
      "[CV] END gamma=0.1, learning_rate=0.1, max_depth=2, n_estimators=400, random_state=42, reg_alpha=0, reg_lambda=0.1; total time=  53.7s\n",
      "[CV] END gamma=0, learning_rate=0.05, max_depth=3, n_estimators=800, random_state=42, reg_alpha=0.4, reg_lambda=10; total time= 1.1min\n",
      "[CV] END gamma=0, learning_rate=0.05, max_depth=3, n_estimators=800, random_state=42, reg_alpha=0.4, reg_lambda=10; total time= 1.1min\n"
     ]
    },
    {
     "name": "stderr",
     "output_type": "stream",
     "text": [
      "/puhome/24112456g/.conda/envs/SHPC-env/lib/python3.10/site-packages/xgboost/core.py:158: UserWarning: [03:26:37] WARNING: /workspace/src/common/error_msg.cc:58: Falling back to prediction using DMatrix due to mismatched devices. This might lead to higher memory usage and slower performance. XGBoost is running on: cuda:0, while the input data is on: cpu.\n",
      "Potential solutions:\n",
      "- Use a data structure that matches the device ordinal in the booster.\n",
      "- Set the device for booster before call to inplace_predict.\n",
      "\n",
      "This warning will only be shown once.\n",
      "\n",
      "  warnings.warn(smsg, UserWarning)\n"
     ]
    },
    {
     "name": "stdout",
     "output_type": "stream",
     "text": [
      "[CV] END gamma=0.1, learning_rate=0.1, max_depth=2, n_estimators=400, random_state=42, reg_alpha=0, reg_lambda=0.1; total time=  44.7s\n",
      "[CV] END gamma=0.1, learning_rate=0.1, max_depth=2, n_estimators=400, random_state=42, reg_alpha=0, reg_lambda=0.1; total time=  50.1s\n",
      "[CV] END gamma=0.1, learning_rate=0.1, max_depth=2, n_estimators=400, random_state=42, reg_alpha=0, reg_lambda=0.1; total time=  49.2s\n",
      "[CV] END gamma=0.1, learning_rate=0.1, max_depth=2, n_estimators=400, random_state=42, reg_alpha=0, reg_lambda=1; total time=  45.5s\n",
      "[CV] END gamma=0.1, learning_rate=0.1, max_depth=2, n_estimators=400, random_state=42, reg_alpha=0, reg_lambda=0.1; total time=  50.6s\n"
     ]
    },
    {
     "name": "stderr",
     "output_type": "stream",
     "text": [
      "/puhome/24112456g/.conda/envs/SHPC-env/lib/python3.10/site-packages/xgboost/core.py:158: UserWarning: [03:27:25] WARNING: /workspace/src/common/error_msg.cc:58: Falling back to prediction using DMatrix due to mismatched devices. This might lead to higher memory usage and slower performance. XGBoost is running on: cuda:0, while the input data is on: cpu.\n",
      "Potential solutions:\n",
      "- Use a data structure that matches the device ordinal in the booster.\n",
      "- Set the device for booster before call to inplace_predict.\n",
      "\n",
      "This warning will only be shown once.\n",
      "\n",
      "  warnings.warn(smsg, UserWarning)\n"
     ]
    },
    {
     "name": "stdout",
     "output_type": "stream",
     "text": [
      "[CV] END gamma=0.1, learning_rate=0.1, max_depth=2, n_estimators=400, random_state=42, reg_alpha=0, reg_lambda=1; total time=  44.0s\n",
      "[CV] END gamma=0.1, learning_rate=0.1, max_depth=2, n_estimators=400, random_state=42, reg_alpha=0, reg_lambda=1; total time=  51.8s\n",
      "[CV] END gamma=0.1, learning_rate=0.1, max_depth=2, n_estimators=400, random_state=42, reg_alpha=0, reg_lambda=1; total time=  50.3s\n"
     ]
    },
    {
     "name": "stderr",
     "output_type": "stream",
     "text": [
      "/puhome/24112456g/.conda/envs/SHPC-env/lib/python3.10/site-packages/xgboost/core.py:158: UserWarning: [03:27:43] WARNING: /workspace/src/common/error_msg.cc:58: Falling back to prediction using DMatrix due to mismatched devices. This might lead to higher memory usage and slower performance. XGBoost is running on: cuda:0, while the input data is on: cpu.\n",
      "Potential solutions:\n",
      "- Use a data structure that matches the device ordinal in the booster.\n",
      "- Set the device for booster before call to inplace_predict.\n",
      "\n",
      "This warning will only be shown once.\n",
      "\n",
      "  warnings.warn(smsg, UserWarning)\n"
     ]
    },
    {
     "name": "stdout",
     "output_type": "stream",
     "text": [
      "[CV] END gamma=0.1, learning_rate=0.1, max_depth=2, n_estimators=400, random_state=42, reg_alpha=0, reg_lambda=1; total time=  42.7s\n",
      "[CV] END gamma=0.1, learning_rate=0.1, max_depth=2, n_estimators=400, random_state=42, reg_alpha=0, reg_lambda=10; total time=  44.8s\n",
      "[CV] END gamma=0.1, learning_rate=0.1, max_depth=2, n_estimators=400, random_state=42, reg_alpha=0, reg_lambda=10; total time=  49.1s\n",
      "[CV] END gamma=0.1, learning_rate=0.1, max_depth=2, n_estimators=400, random_state=42, reg_alpha=0, reg_lambda=10; total time=  51.5s\n"
     ]
    },
    {
     "name": "stderr",
     "output_type": "stream",
     "text": [
      "/puhome/24112456g/.conda/envs/SHPC-env/lib/python3.10/site-packages/xgboost/core.py:158: UserWarning: [03:28:21] WARNING: /workspace/src/common/error_msg.cc:58: Falling back to prediction using DMatrix due to mismatched devices. This might lead to higher memory usage and slower performance. XGBoost is running on: cuda:0, while the input data is on: cpu.\n",
      "Potential solutions:\n",
      "- Use a data structure that matches the device ordinal in the booster.\n",
      "- Set the device for booster before call to inplace_predict.\n",
      "\n",
      "This warning will only be shown once.\n",
      "\n",
      "  warnings.warn(smsg, UserWarning)\n"
     ]
    },
    {
     "name": "stdout",
     "output_type": "stream",
     "text": [
      "[CV] END gamma=0.1, learning_rate=0.1, max_depth=2, n_estimators=400, random_state=42, reg_alpha=0, reg_lambda=10; total time=  45.8s\n"
     ]
    },
    {
     "name": "stderr",
     "output_type": "stream",
     "text": [
      "/puhome/24112456g/.conda/envs/SHPC-env/lib/python3.10/site-packages/xgboost/core.py:158: UserWarning: [03:28:26] WARNING: /workspace/src/common/error_msg.cc:58: Falling back to prediction using DMatrix due to mismatched devices. This might lead to higher memory usage and slower performance. XGBoost is running on: cuda:0, while the input data is on: cpu.\n",
      "Potential solutions:\n",
      "- Use a data structure that matches the device ordinal in the booster.\n",
      "- Set the device for booster before call to inplace_predict.\n",
      "\n",
      "This warning will only be shown once.\n",
      "\n",
      "  warnings.warn(smsg, UserWarning)\n"
     ]
    },
    {
     "name": "stdout",
     "output_type": "stream",
     "text": [
      "[CV] END gamma=0.1, learning_rate=0.1, max_depth=2, n_estimators=400, random_state=42, reg_alpha=0, reg_lambda=10; total time=  46.2s\n",
      "[CV] END gamma=0.1, learning_rate=0.1, max_depth=2, n_estimators=400, random_state=42, reg_alpha=0.2, reg_lambda=0.1; total time=  46.7s\n",
      "[CV] END gamma=0.1, learning_rate=0.1, max_depth=2, n_estimators=400, random_state=42, reg_alpha=0.2, reg_lambda=0.1; total time=  49.0s\n",
      "[CV] END gamma=0.1, learning_rate=0.1, max_depth=2, n_estimators=400, random_state=42, reg_alpha=0.2, reg_lambda=0.1; total time=  49.6s\n"
     ]
    },
    {
     "name": "stderr",
     "output_type": "stream",
     "text": [
      "/puhome/24112456g/.conda/envs/SHPC-env/lib/python3.10/site-packages/xgboost/core.py:158: UserWarning: [03:29:06] WARNING: /workspace/src/common/error_msg.cc:58: Falling back to prediction using DMatrix due to mismatched devices. This might lead to higher memory usage and slower performance. XGBoost is running on: cuda:0, while the input data is on: cpu.\n",
      "Potential solutions:\n",
      "- Use a data structure that matches the device ordinal in the booster.\n",
      "- Set the device for booster before call to inplace_predict.\n",
      "\n",
      "This warning will only be shown once.\n",
      "\n",
      "  warnings.warn(smsg, UserWarning)\n"
     ]
    },
    {
     "name": "stdout",
     "output_type": "stream",
     "text": [
      "[CV] END gamma=0.1, learning_rate=0.1, max_depth=2, n_estimators=400, random_state=42, reg_alpha=0.2, reg_lambda=0.1; total time=  43.5s\n",
      "[CV] END gamma=0.1, learning_rate=0.1, max_depth=2, n_estimators=400, random_state=42, reg_alpha=0.2, reg_lambda=0.1; total time=  54.4s\n",
      "[CV] END gamma=0.1, learning_rate=0.1, max_depth=2, n_estimators=400, random_state=42, reg_alpha=0.2, reg_lambda=1; total time=  50.0s\n"
     ]
    },
    {
     "name": "stderr",
     "output_type": "stream",
     "text": [
      "/puhome/24112456g/.conda/envs/SHPC-env/lib/python3.10/site-packages/xgboost/core.py:158: UserWarning: [03:29:20] WARNING: /workspace/src/common/error_msg.cc:58: Falling back to prediction using DMatrix due to mismatched devices. This might lead to higher memory usage and slower performance. XGBoost is running on: cuda:0, while the input data is on: cpu.\n",
      "Potential solutions:\n",
      "- Use a data structure that matches the device ordinal in the booster.\n",
      "- Set the device for booster before call to inplace_predict.\n",
      "\n",
      "This warning will only be shown once.\n",
      "\n",
      "  warnings.warn(smsg, UserWarning)\n"
     ]
    },
    {
     "name": "stdout",
     "output_type": "stream",
     "text": [
      "[CV] END gamma=0.1, learning_rate=0.1, max_depth=2, n_estimators=400, random_state=42, reg_alpha=0.2, reg_lambda=1; total time=  44.7s\n",
      "[CV] END gamma=0.1, learning_rate=0.1, max_depth=2, n_estimators=400, random_state=42, reg_alpha=0.2, reg_lambda=1; total time=  49.5s\n"
     ]
    },
    {
     "name": "stderr",
     "output_type": "stream",
     "text": [
      "/puhome/24112456g/.conda/envs/SHPC-env/lib/python3.10/site-packages/xgboost/core.py:158: UserWarning: [03:29:44] WARNING: /workspace/src/common/error_msg.cc:58: Falling back to prediction using DMatrix due to mismatched devices. This might lead to higher memory usage and slower performance. XGBoost is running on: cuda:0, while the input data is on: cpu.\n",
      "Potential solutions:\n",
      "- Use a data structure that matches the device ordinal in the booster.\n",
      "- Set the device for booster before call to inplace_predict.\n",
      "\n",
      "This warning will only be shown once.\n",
      "\n",
      "  warnings.warn(smsg, UserWarning)\n"
     ]
    },
    {
     "name": "stdout",
     "output_type": "stream",
     "text": [
      "[CV] END gamma=0.1, learning_rate=0.1, max_depth=2, n_estimators=400, random_state=42, reg_alpha=0.2, reg_lambda=1; total time=  42.9s\n",
      "[CV] END gamma=0.1, learning_rate=0.1, max_depth=2, n_estimators=400, random_state=42, reg_alpha=0.2, reg_lambda=1; total time=  50.6s\n"
     ]
    },
    {
     "name": "stderr",
     "output_type": "stream",
     "text": [
      "/puhome/24112456g/.conda/envs/SHPC-env/lib/python3.10/site-packages/xgboost/core.py:158: UserWarning: [03:30:02] WARNING: /workspace/src/common/error_msg.cc:58: Falling back to prediction using DMatrix due to mismatched devices. This might lead to higher memory usage and slower performance. XGBoost is running on: cuda:0, while the input data is on: cpu.\n",
      "Potential solutions:\n",
      "- Use a data structure that matches the device ordinal in the booster.\n",
      "- Set the device for booster before call to inplace_predict.\n",
      "\n",
      "This warning will only be shown once.\n",
      "\n",
      "  warnings.warn(smsg, UserWarning)\n"
     ]
    },
    {
     "name": "stdout",
     "output_type": "stream",
     "text": [
      "[CV] END gamma=0.1, learning_rate=0.1, max_depth=2, n_estimators=400, random_state=42, reg_alpha=0.2, reg_lambda=10; total time=  40.5s\n"
     ]
    },
    {
     "name": "stderr",
     "output_type": "stream",
     "text": [
      "/puhome/24112456g/.conda/envs/SHPC-env/lib/python3.10/site-packages/xgboost/core.py:158: UserWarning: [03:30:07] WARNING: /workspace/src/common/error_msg.cc:58: Falling back to prediction using DMatrix due to mismatched devices. This might lead to higher memory usage and slower performance. XGBoost is running on: cuda:0, while the input data is on: cpu.\n",
      "Potential solutions:\n",
      "- Use a data structure that matches the device ordinal in the booster.\n",
      "- Set the device for booster before call to inplace_predict.\n",
      "\n",
      "This warning will only be shown once.\n",
      "\n",
      "  warnings.warn(smsg, UserWarning)\n"
     ]
    },
    {
     "name": "stdout",
     "output_type": "stream",
     "text": [
      "[CV] END gamma=0.1, learning_rate=0.1, max_depth=2, n_estimators=400, random_state=42, reg_alpha=0.2, reg_lambda=10; total time=  45.0s\n",
      "[CV] END gamma=0.1, learning_rate=0.1, max_depth=2, n_estimators=400, random_state=42, reg_alpha=0.2, reg_lambda=10; total time=  50.9s\n",
      "[CV] END gamma=0.1, learning_rate=0.1, max_depth=2, n_estimators=400, random_state=42, reg_alpha=0.2, reg_lambda=10; total time=  49.1s\n",
      "[CV] END gamma=0.1, learning_rate=0.1, max_depth=2, n_estimators=400, random_state=42, reg_alpha=0.2, reg_lambda=10; total time=  50.0s\n"
     ]
    },
    {
     "name": "stderr",
     "output_type": "stream",
     "text": [
      "/puhome/24112456g/.conda/envs/SHPC-env/lib/python3.10/site-packages/xgboost/core.py:158: UserWarning: [03:30:41] WARNING: /workspace/src/common/error_msg.cc:58: Falling back to prediction using DMatrix due to mismatched devices. This might lead to higher memory usage and slower performance. XGBoost is running on: cuda:0, while the input data is on: cpu.\n",
      "Potential solutions:\n",
      "- Use a data structure that matches the device ordinal in the booster.\n",
      "- Set the device for booster before call to inplace_predict.\n",
      "\n",
      "This warning will only be shown once.\n",
      "\n",
      "  warnings.warn(smsg, UserWarning)\n"
     ]
    },
    {
     "name": "stdout",
     "output_type": "stream",
     "text": [
      "[CV] END gamma=0.1, learning_rate=0.1, max_depth=2, n_estimators=400, random_state=42, reg_alpha=0.3, reg_lambda=0.1; total time=  37.6s\n",
      "[CV] END gamma=0.1, learning_rate=0.1, max_depth=2, n_estimators=400, random_state=42, reg_alpha=0.3, reg_lambda=0.1; total time=  49.6s\n",
      "[CV] END gamma=0.1, learning_rate=0.1, max_depth=2, n_estimators=400, random_state=42, reg_alpha=0.3, reg_lambda=0.1; total time=  52.2s\n"
     ]
    },
    {
     "name": "stderr",
     "output_type": "stream",
     "text": [
      "/puhome/24112456g/.conda/envs/SHPC-env/lib/python3.10/site-packages/xgboost/core.py:158: UserWarning: [03:31:02] WARNING: /workspace/src/common/error_msg.cc:58: Falling back to prediction using DMatrix due to mismatched devices. This might lead to higher memory usage and slower performance. XGBoost is running on: cuda:0, while the input data is on: cpu.\n",
      "Potential solutions:\n",
      "- Use a data structure that matches the device ordinal in the booster.\n",
      "- Set the device for booster before call to inplace_predict.\n",
      "\n",
      "This warning will only be shown once.\n",
      "\n",
      "  warnings.warn(smsg, UserWarning)\n"
     ]
    },
    {
     "name": "stdout",
     "output_type": "stream",
     "text": [
      "[CV] END gamma=0.1, learning_rate=0.1, max_depth=2, n_estimators=400, random_state=42, reg_alpha=0.3, reg_lambda=0.1; total time=  44.8s\n",
      "[CV] END gamma=0.1, learning_rate=0.1, max_depth=2, n_estimators=400, random_state=42, reg_alpha=0.3, reg_lambda=0.1; total time=  51.0s\n"
     ]
    },
    {
     "name": "stderr",
     "output_type": "stream",
     "text": [
      "/puhome/24112456g/.conda/envs/SHPC-env/lib/python3.10/site-packages/xgboost/core.py:158: UserWarning: [03:31:20] WARNING: /workspace/src/common/error_msg.cc:58: Falling back to prediction using DMatrix due to mismatched devices. This might lead to higher memory usage and slower performance. XGBoost is running on: cuda:0, while the input data is on: cpu.\n",
      "Potential solutions:\n",
      "- Use a data structure that matches the device ordinal in the booster.\n",
      "- Set the device for booster before call to inplace_predict.\n",
      "\n",
      "This warning will only be shown once.\n",
      "\n",
      "  warnings.warn(smsg, UserWarning)\n"
     ]
    },
    {
     "name": "stdout",
     "output_type": "stream",
     "text": [
      "[CV] END gamma=0.1, learning_rate=0.1, max_depth=2, n_estimators=400, random_state=42, reg_alpha=0.3, reg_lambda=1; total time=  39.1s\n",
      "[CV] END gamma=0.1, learning_rate=0.1, max_depth=2, n_estimators=400, random_state=42, reg_alpha=0.3, reg_lambda=1; total time=  49.6s\n"
     ]
    },
    {
     "name": "stderr",
     "output_type": "stream",
     "text": [
      "/puhome/24112456g/.conda/envs/SHPC-env/lib/python3.10/site-packages/xgboost/core.py:158: UserWarning: [03:31:40] WARNING: /workspace/src/common/error_msg.cc:58: Falling back to prediction using DMatrix due to mismatched devices. This might lead to higher memory usage and slower performance. XGBoost is running on: cuda:0, while the input data is on: cpu.\n",
      "Potential solutions:\n",
      "- Use a data structure that matches the device ordinal in the booster.\n",
      "- Set the device for booster before call to inplace_predict.\n",
      "\n",
      "This warning will only be shown once.\n",
      "\n",
      "  warnings.warn(smsg, UserWarning)\n"
     ]
    },
    {
     "name": "stdout",
     "output_type": "stream",
     "text": [
      "[CV] END gamma=0.1, learning_rate=0.1, max_depth=2, n_estimators=400, random_state=42, reg_alpha=0.3, reg_lambda=1; total time=  42.6s\n"
     ]
    },
    {
     "name": "stderr",
     "output_type": "stream",
     "text": [
      "/puhome/24112456g/.conda/envs/SHPC-env/lib/python3.10/site-packages/xgboost/core.py:158: UserWarning: [03:31:50] WARNING: /workspace/src/common/error_msg.cc:58: Falling back to prediction using DMatrix due to mismatched devices. This might lead to higher memory usage and slower performance. XGBoost is running on: cuda:0, while the input data is on: cpu.\n",
      "Potential solutions:\n",
      "- Use a data structure that matches the device ordinal in the booster.\n",
      "- Set the device for booster before call to inplace_predict.\n",
      "\n",
      "This warning will only be shown once.\n",
      "\n",
      "  warnings.warn(smsg, UserWarning)\n"
     ]
    },
    {
     "name": "stdout",
     "output_type": "stream",
     "text": [
      "[CV] END gamma=0.1, learning_rate=0.1, max_depth=2, n_estimators=400, random_state=42, reg_alpha=0.3, reg_lambda=1; total time=  44.8s\n",
      "[CV] END gamma=0.1, learning_rate=0.1, max_depth=2, n_estimators=400, random_state=42, reg_alpha=0.3, reg_lambda=1; total time=  51.8s\n",
      "[CV] END gamma=0.1, learning_rate=0.1, max_depth=2, n_estimators=400, random_state=42, reg_alpha=0.3, reg_lambda=10; total time=  44.4s\n",
      "[CV] END gamma=0.1, learning_rate=0.1, max_depth=2, n_estimators=400, random_state=42, reg_alpha=0.3, reg_lambda=10; total time=  49.3s\n"
     ]
    },
    {
     "name": "stderr",
     "output_type": "stream",
     "text": [
      "/puhome/24112456g/.conda/envs/SHPC-env/lib/python3.10/site-packages/xgboost/core.py:158: UserWarning: [03:32:19] WARNING: /workspace/src/common/error_msg.cc:58: Falling back to prediction using DMatrix due to mismatched devices. This might lead to higher memory usage and slower performance. XGBoost is running on: cuda:0, while the input data is on: cpu.\n",
      "Potential solutions:\n",
      "- Use a data structure that matches the device ordinal in the booster.\n",
      "- Set the device for booster before call to inplace_predict.\n",
      "\n",
      "This warning will only be shown once.\n",
      "\n",
      "  warnings.warn(smsg, UserWarning)\n"
     ]
    },
    {
     "name": "stdout",
     "output_type": "stream",
     "text": [
      "[CV] END gamma=0.1, learning_rate=0.1, max_depth=2, n_estimators=400, random_state=42, reg_alpha=0.3, reg_lambda=10; total time=  43.2s\n",
      "[CV] END gamma=0.1, learning_rate=0.1, max_depth=2, n_estimators=400, random_state=42, reg_alpha=0.3, reg_lambda=10; total time=  49.4s\n"
     ]
    },
    {
     "name": "stderr",
     "output_type": "stream",
     "text": [
      "/puhome/24112456g/.conda/envs/SHPC-env/lib/python3.10/site-packages/xgboost/core.py:158: UserWarning: [03:32:40] WARNING: /workspace/src/common/error_msg.cc:58: Falling back to prediction using DMatrix due to mismatched devices. This might lead to higher memory usage and slower performance. XGBoost is running on: cuda:0, while the input data is on: cpu.\n",
      "Potential solutions:\n",
      "- Use a data structure that matches the device ordinal in the booster.\n",
      "- Set the device for booster before call to inplace_predict.\n",
      "\n",
      "This warning will only be shown once.\n",
      "\n",
      "  warnings.warn(smsg, UserWarning)\n"
     ]
    },
    {
     "name": "stdout",
     "output_type": "stream",
     "text": [
      "[CV] END gamma=0.1, learning_rate=0.1, max_depth=2, n_estimators=400, random_state=42, reg_alpha=0.4, reg_lambda=0.1; total time=  40.1s\n",
      "[CV] END gamma=0.1, learning_rate=0.1, max_depth=2, n_estimators=400, random_state=42, reg_alpha=0.3, reg_lambda=10; total time=  52.5s\n"
     ]
    },
    {
     "name": "stderr",
     "output_type": "stream",
     "text": [
      "/puhome/24112456g/.conda/envs/SHPC-env/lib/python3.10/site-packages/xgboost/core.py:158: UserWarning: [03:32:49] WARNING: /workspace/src/common/error_msg.cc:58: Falling back to prediction using DMatrix due to mismatched devices. This might lead to higher memory usage and slower performance. XGBoost is running on: cuda:0, while the input data is on: cpu.\n",
      "Potential solutions:\n",
      "- Use a data structure that matches the device ordinal in the booster.\n",
      "- Set the device for booster before call to inplace_predict.\n",
      "\n",
      "This warning will only be shown once.\n",
      "\n",
      "  warnings.warn(smsg, UserWarning)\n"
     ]
    },
    {
     "name": "stdout",
     "output_type": "stream",
     "text": [
      "[CV] END gamma=0.1, learning_rate=0.1, max_depth=2, n_estimators=400, random_state=42, reg_alpha=0.4, reg_lambda=0.1; total time=  42.4s\n"
     ]
    },
    {
     "name": "stderr",
     "output_type": "stream",
     "text": [
      "/puhome/24112456g/.conda/envs/SHPC-env/lib/python3.10/site-packages/xgboost/core.py:158: UserWarning: [03:32:58] WARNING: /workspace/src/common/error_msg.cc:58: Falling back to prediction using DMatrix due to mismatched devices. This might lead to higher memory usage and slower performance. XGBoost is running on: cuda:0, while the input data is on: cpu.\n",
      "Potential solutions:\n",
      "- Use a data structure that matches the device ordinal in the booster.\n",
      "- Set the device for booster before call to inplace_predict.\n",
      "\n",
      "This warning will only be shown once.\n",
      "\n",
      "  warnings.warn(smsg, UserWarning)\n"
     ]
    },
    {
     "name": "stdout",
     "output_type": "stream",
     "text": [
      "[CV] END gamma=0.1, learning_rate=0.1, max_depth=2, n_estimators=400, random_state=42, reg_alpha=0.4, reg_lambda=0.1; total time=  42.6s\n",
      "[CV] END gamma=0.1, learning_rate=0.1, max_depth=2, n_estimators=400, random_state=42, reg_alpha=0.4, reg_lambda=0.1; total time=  49.9s\n"
     ]
    },
    {
     "name": "stderr",
     "output_type": "stream",
     "text": [
      "/puhome/24112456g/.conda/envs/SHPC-env/lib/python3.10/site-packages/xgboost/core.py:158: UserWarning: [03:33:19] WARNING: /workspace/src/common/error_msg.cc:58: Falling back to prediction using DMatrix due to mismatched devices. This might lead to higher memory usage and slower performance. XGBoost is running on: cuda:0, while the input data is on: cpu.\n",
      "Potential solutions:\n",
      "- Use a data structure that matches the device ordinal in the booster.\n",
      "- Set the device for booster before call to inplace_predict.\n",
      "\n",
      "This warning will only be shown once.\n",
      "\n",
      "  warnings.warn(smsg, UserWarning)\n"
     ]
    },
    {
     "name": "stdout",
     "output_type": "stream",
     "text": [
      "[CV] END gamma=0.1, learning_rate=0.1, max_depth=2, n_estimators=400, random_state=42, reg_alpha=0.4, reg_lambda=0.1; total time=  43.3s\n",
      "[CV] END gamma=0.1, learning_rate=0.1, max_depth=2, n_estimators=400, random_state=42, reg_alpha=0.4, reg_lambda=1; total time=  45.4s\n"
     ]
    },
    {
     "name": "stderr",
     "output_type": "stream",
     "text": [
      "/puhome/24112456g/.conda/envs/SHPC-env/lib/python3.10/site-packages/xgboost/core.py:158: UserWarning: [03:33:31] WARNING: /workspace/src/common/error_msg.cc:58: Falling back to prediction using DMatrix due to mismatched devices. This might lead to higher memory usage and slower performance. XGBoost is running on: cuda:0, while the input data is on: cpu.\n",
      "Potential solutions:\n",
      "- Use a data structure that matches the device ordinal in the booster.\n",
      "- Set the device for booster before call to inplace_predict.\n",
      "\n",
      "This warning will only be shown once.\n",
      "\n",
      "  warnings.warn(smsg, UserWarning)\n"
     ]
    },
    {
     "name": "stdout",
     "output_type": "stream",
     "text": [
      "[CV] END gamma=0.1, learning_rate=0.1, max_depth=2, n_estimators=400, random_state=42, reg_alpha=0.4, reg_lambda=1; total time=  42.6s\n",
      "[CV] END gamma=0.1, learning_rate=0.1, max_depth=2, n_estimators=400, random_state=42, reg_alpha=0.4, reg_lambda=1; total time=  49.2s\n",
      "[CV] END gamma=0.1, learning_rate=0.1, max_depth=2, n_estimators=400, random_state=42, reg_alpha=0.4, reg_lambda=1; total time=  49.9s\n"
     ]
    },
    {
     "name": "stderr",
     "output_type": "stream",
     "text": [
      "/puhome/24112456g/.conda/envs/SHPC-env/lib/python3.10/site-packages/xgboost/core.py:158: UserWarning: [03:33:58] WARNING: /workspace/src/common/error_msg.cc:58: Falling back to prediction using DMatrix due to mismatched devices. This might lead to higher memory usage and slower performance. XGBoost is running on: cuda:0, while the input data is on: cpu.\n",
      "Potential solutions:\n",
      "- Use a data structure that matches the device ordinal in the booster.\n",
      "- Set the device for booster before call to inplace_predict.\n",
      "\n",
      "This warning will only be shown once.\n",
      "\n",
      "  warnings.warn(smsg, UserWarning)\n"
     ]
    },
    {
     "name": "stdout",
     "output_type": "stream",
     "text": [
      "[CV] END gamma=0.1, learning_rate=0.1, max_depth=2, n_estimators=400, random_state=42, reg_alpha=0.4, reg_lambda=1; total time=  43.2s\n",
      "[CV] END gamma=0.1, learning_rate=0.1, max_depth=2, n_estimators=400, random_state=42, reg_alpha=0.4, reg_lambda=10; total time=  45.4s\n",
      "[CV] END gamma=0.1, learning_rate=0.1, max_depth=2, n_estimators=400, random_state=42, reg_alpha=0.4, reg_lambda=10; total time=  49.4s\n",
      "[CV] END gamma=0.1, learning_rate=0.1, max_depth=2, n_estimators=400, random_state=42, reg_alpha=0.4, reg_lambda=10; total time=  49.3s\n"
     ]
    },
    {
     "name": "stderr",
     "output_type": "stream",
     "text": [
      "/puhome/24112456g/.conda/envs/SHPC-env/lib/python3.10/site-packages/xgboost/core.py:158: UserWarning: [03:34:27] WARNING: /workspace/src/common/error_msg.cc:58: Falling back to prediction using DMatrix due to mismatched devices. This might lead to higher memory usage and slower performance. XGBoost is running on: cuda:0, while the input data is on: cpu.\n",
      "Potential solutions:\n",
      "- Use a data structure that matches the device ordinal in the booster.\n",
      "- Set the device for booster before call to inplace_predict.\n",
      "\n",
      "This warning will only be shown once.\n",
      "\n",
      "  warnings.warn(smsg, UserWarning)\n"
     ]
    },
    {
     "name": "stdout",
     "output_type": "stream",
     "text": [
      "[CV] END gamma=0.1, learning_rate=0.1, max_depth=2, n_estimators=400, random_state=42, reg_alpha=0.4, reg_lambda=10; total time=  43.0s\n"
     ]
    },
    {
     "name": "stderr",
     "output_type": "stream",
     "text": [
      "/puhome/24112456g/.conda/envs/SHPC-env/lib/python3.10/site-packages/xgboost/core.py:158: UserWarning: [03:34:36] WARNING: /workspace/src/common/error_msg.cc:58: Falling back to prediction using DMatrix due to mismatched devices. This might lead to higher memory usage and slower performance. XGBoost is running on: cuda:0, while the input data is on: cpu.\n",
      "Potential solutions:\n",
      "- Use a data structure that matches the device ordinal in the booster.\n",
      "- Set the device for booster before call to inplace_predict.\n",
      "\n",
      "This warning will only be shown once.\n",
      "\n",
      "  warnings.warn(smsg, UserWarning)\n"
     ]
    },
    {
     "name": "stdout",
     "output_type": "stream",
     "text": [
      "[CV] END gamma=0.1, learning_rate=0.1, max_depth=2, n_estimators=400, random_state=42, reg_alpha=0.4, reg_lambda=10; total time=  42.7s\n",
      "[CV] END gamma=0.1, learning_rate=0.1, max_depth=2, n_estimators=800, random_state=42, reg_alpha=0, reg_lambda=0.1; total time=  52.7s\n"
     ]
    },
    {
     "name": "stderr",
     "output_type": "stream",
     "text": [
      "/puhome/24112456g/.conda/envs/SHPC-env/lib/python3.10/site-packages/xgboost/core.py:158: UserWarning: [03:35:02] WARNING: /workspace/src/common/error_msg.cc:58: Falling back to prediction using DMatrix due to mismatched devices. This might lead to higher memory usage and slower performance. XGBoost is running on: cuda:0, while the input data is on: cpu.\n",
      "Potential solutions:\n",
      "- Use a data structure that matches the device ordinal in the booster.\n",
      "- Set the device for booster before call to inplace_predict.\n",
      "\n",
      "This warning will only be shown once.\n",
      "\n",
      "  warnings.warn(smsg, UserWarning)\n"
     ]
    },
    {
     "name": "stdout",
     "output_type": "stream",
     "text": [
      "[CV] END gamma=0.1, learning_rate=0.1, max_depth=2, n_estimators=800, random_state=42, reg_alpha=0, reg_lambda=0.1; total time=  51.7s\n",
      "[CV] END gamma=0.1, learning_rate=0.1, max_depth=2, n_estimators=800, random_state=42, reg_alpha=0, reg_lambda=0.1; total time= 1.1min\n"
     ]
    },
    {
     "name": "stderr",
     "output_type": "stream",
     "text": [
      "/puhome/24112456g/.conda/envs/SHPC-env/lib/python3.10/site-packages/xgboost/core.py:158: UserWarning: [03:35:29] WARNING: /workspace/src/common/error_msg.cc:58: Falling back to prediction using DMatrix due to mismatched devices. This might lead to higher memory usage and slower performance. XGBoost is running on: cuda:0, while the input data is on: cpu.\n",
      "Potential solutions:\n",
      "- Use a data structure that matches the device ordinal in the booster.\n",
      "- Set the device for booster before call to inplace_predict.\n",
      "\n",
      "This warning will only be shown once.\n",
      "\n",
      "  warnings.warn(smsg, UserWarning)\n"
     ]
    },
    {
     "name": "stdout",
     "output_type": "stream",
     "text": [
      "[CV] END gamma=0.1, learning_rate=0.1, max_depth=2, n_estimators=800, random_state=42, reg_alpha=0, reg_lambda=0.1; total time= 1.0min\n",
      "[CV] END gamma=0.1, learning_rate=0.1, max_depth=2, n_estimators=800, random_state=42, reg_alpha=0, reg_lambda=0.1; total time= 1.2min\n",
      "[CV] END gamma=0.1, learning_rate=0.1, max_depth=2, n_estimators=800, random_state=42, reg_alpha=0, reg_lambda=1; total time= 1.1min\n"
     ]
    },
    {
     "name": "stderr",
     "output_type": "stream",
     "text": [
      "/puhome/24112456g/.conda/envs/SHPC-env/lib/python3.10/site-packages/xgboost/core.py:158: UserWarning: [03:35:51] WARNING: /workspace/src/common/error_msg.cc:58: Falling back to prediction using DMatrix due to mismatched devices. This might lead to higher memory usage and slower performance. XGBoost is running on: cuda:0, while the input data is on: cpu.\n",
      "Potential solutions:\n",
      "- Use a data structure that matches the device ordinal in the booster.\n",
      "- Set the device for booster before call to inplace_predict.\n",
      "\n",
      "This warning will only be shown once.\n",
      "\n",
      "  warnings.warn(smsg, UserWarning)\n"
     ]
    },
    {
     "name": "stdout",
     "output_type": "stream",
     "text": [
      "[CV] END gamma=0.1, learning_rate=0.1, max_depth=2, n_estimators=800, random_state=42, reg_alpha=0, reg_lambda=1; total time=  55.1s\n",
      "[CV] END gamma=0.1, learning_rate=0.1, max_depth=2, n_estimators=800, random_state=42, reg_alpha=0, reg_lambda=1; total time=  58.1s\n"
     ]
    },
    {
     "name": "stderr",
     "output_type": "stream",
     "text": [
      "/puhome/24112456g/.conda/envs/SHPC-env/lib/python3.10/site-packages/xgboost/core.py:158: UserWarning: [03:36:17] WARNING: /workspace/src/common/error_msg.cc:58: Falling back to prediction using DMatrix due to mismatched devices. This might lead to higher memory usage and slower performance. XGBoost is running on: cuda:0, while the input data is on: cpu.\n",
      "Potential solutions:\n",
      "- Use a data structure that matches the device ordinal in the booster.\n",
      "- Set the device for booster before call to inplace_predict.\n",
      "\n",
      "This warning will only be shown once.\n",
      "\n",
      "  warnings.warn(smsg, UserWarning)\n"
     ]
    },
    {
     "name": "stdout",
     "output_type": "stream",
     "text": [
      "[CV] END gamma=0.1, learning_rate=0.1, max_depth=2, n_estimators=800, random_state=42, reg_alpha=0, reg_lambda=1; total time=  51.0s\n",
      "[CV] END gamma=0.1, learning_rate=0.1, max_depth=2, n_estimators=800, random_state=42, reg_alpha=0, reg_lambda=1; total time= 1.1min\n"
     ]
    },
    {
     "name": "stderr",
     "output_type": "stream",
     "text": [
      "/puhome/24112456g/.conda/envs/SHPC-env/lib/python3.10/site-packages/xgboost/core.py:158: UserWarning: [03:36:42] WARNING: /workspace/src/common/error_msg.cc:58: Falling back to prediction using DMatrix due to mismatched devices. This might lead to higher memory usage and slower performance. XGBoost is running on: cuda:0, while the input data is on: cpu.\n",
      "Potential solutions:\n",
      "- Use a data structure that matches the device ordinal in the booster.\n",
      "- Set the device for booster before call to inplace_predict.\n",
      "\n",
      "This warning will only be shown once.\n",
      "\n",
      "  warnings.warn(smsg, UserWarning)\n"
     ]
    },
    {
     "name": "stdout",
     "output_type": "stream",
     "text": [
      "[CV] END gamma=0.1, learning_rate=0.1, max_depth=2, n_estimators=800, random_state=42, reg_alpha=0, reg_lambda=10; total time=  57.1s\n"
     ]
    },
    {
     "name": "stderr",
     "output_type": "stream",
     "text": [
      "/puhome/24112456g/.conda/envs/SHPC-env/lib/python3.10/site-packages/xgboost/core.py:158: UserWarning: [03:36:51] WARNING: /workspace/src/common/error_msg.cc:58: Falling back to prediction using DMatrix due to mismatched devices. This might lead to higher memory usage and slower performance. XGBoost is running on: cuda:0, while the input data is on: cpu.\n",
      "Potential solutions:\n",
      "- Use a data structure that matches the device ordinal in the booster.\n",
      "- Set the device for booster before call to inplace_predict.\n",
      "\n",
      "This warning will only be shown once.\n",
      "\n",
      "  warnings.warn(smsg, UserWarning)\n"
     ]
    },
    {
     "name": "stdout",
     "output_type": "stream",
     "text": [
      "[CV] END gamma=0.1, learning_rate=0.1, max_depth=2, n_estimators=800, random_state=42, reg_alpha=0, reg_lambda=10; total time= 1.1min\n",
      "[CV] END gamma=0.1, learning_rate=0.1, max_depth=2, n_estimators=800, random_state=42, reg_alpha=0, reg_lambda=10; total time= 1.1min\n"
     ]
    },
    {
     "name": "stderr",
     "output_type": "stream",
     "text": [
      "/puhome/24112456g/.conda/envs/SHPC-env/lib/python3.10/site-packages/xgboost/core.py:158: UserWarning: [03:37:04] WARNING: /workspace/src/common/error_msg.cc:58: Falling back to prediction using DMatrix due to mismatched devices. This might lead to higher memory usage and slower performance. XGBoost is running on: cuda:0, while the input data is on: cpu.\n",
      "Potential solutions:\n",
      "- Use a data structure that matches the device ordinal in the booster.\n",
      "- Set the device for booster before call to inplace_predict.\n",
      "\n",
      "This warning will only be shown once.\n",
      "\n",
      "  warnings.warn(smsg, UserWarning)\n"
     ]
    },
    {
     "name": "stdout",
     "output_type": "stream",
     "text": [
      "[CV] END gamma=0.1, learning_rate=0.1, max_depth=2, n_estimators=800, random_state=42, reg_alpha=0, reg_lambda=10; total time=  57.5s\n",
      "[CV] END gamma=0.1, learning_rate=0.1, max_depth=2, n_estimators=800, random_state=42, reg_alpha=0, reg_lambda=10; total time=  57.7s\n"
     ]
    },
    {
     "name": "stderr",
     "output_type": "stream",
     "text": [
      "/puhome/24112456g/.conda/envs/SHPC-env/lib/python3.10/site-packages/xgboost/core.py:158: UserWarning: [03:37:29] WARNING: /workspace/src/common/error_msg.cc:58: Falling back to prediction using DMatrix due to mismatched devices. This might lead to higher memory usage and slower performance. XGBoost is running on: cuda:0, while the input data is on: cpu.\n",
      "Potential solutions:\n",
      "- Use a data structure that matches the device ordinal in the booster.\n",
      "- Set the device for booster before call to inplace_predict.\n",
      "\n",
      "This warning will only be shown once.\n",
      "\n",
      "  warnings.warn(smsg, UserWarning)\n"
     ]
    },
    {
     "name": "stdout",
     "output_type": "stream",
     "text": [
      "[CV] END gamma=0.1, learning_rate=0.1, max_depth=2, n_estimators=800, random_state=42, reg_alpha=0.2, reg_lambda=0.1; total time=  46.2s\n",
      "[CV] END gamma=0.1, learning_rate=0.1, max_depth=2, n_estimators=800, random_state=42, reg_alpha=0.2, reg_lambda=0.1; total time=  60.0s\n",
      "[CV] END gamma=0.1, learning_rate=0.1, max_depth=2, n_estimators=800, random_state=42, reg_alpha=0.2, reg_lambda=0.1; total time= 1.1min\n"
     ]
    },
    {
     "name": "stderr",
     "output_type": "stream",
     "text": [
      "/puhome/24112456g/.conda/envs/SHPC-env/lib/python3.10/site-packages/xgboost/core.py:158: UserWarning: [03:38:09] WARNING: /workspace/src/common/error_msg.cc:58: Falling back to prediction using DMatrix due to mismatched devices. This might lead to higher memory usage and slower performance. XGBoost is running on: cuda:0, while the input data is on: cpu.\n",
      "Potential solutions:\n",
      "- Use a data structure that matches the device ordinal in the booster.\n",
      "- Set the device for booster before call to inplace_predict.\n",
      "\n",
      "This warning will only be shown once.\n",
      "\n",
      "  warnings.warn(smsg, UserWarning)\n"
     ]
    },
    {
     "name": "stdout",
     "output_type": "stream",
     "text": [
      "[CV] END gamma=0.1, learning_rate=0.1, max_depth=2, n_estimators=800, random_state=42, reg_alpha=0.2, reg_lambda=0.1; total time= 1.1min\n",
      "[CV] END gamma=0.1, learning_rate=0.1, max_depth=2, n_estimators=800, random_state=42, reg_alpha=0.2, reg_lambda=0.1; total time= 1.2min\n"
     ]
    },
    {
     "name": "stderr",
     "output_type": "stream",
     "text": [
      "/puhome/24112456g/.conda/envs/SHPC-env/lib/python3.10/site-packages/xgboost/core.py:158: UserWarning: [03:38:19] WARNING: /workspace/src/common/error_msg.cc:58: Falling back to prediction using DMatrix due to mismatched devices. This might lead to higher memory usage and slower performance. XGBoost is running on: cuda:0, while the input data is on: cpu.\n",
      "Potential solutions:\n",
      "- Use a data structure that matches the device ordinal in the booster.\n",
      "- Set the device for booster before call to inplace_predict.\n",
      "\n",
      "This warning will only be shown once.\n",
      "\n",
      "  warnings.warn(smsg, UserWarning)\n"
     ]
    },
    {
     "name": "stdout",
     "output_type": "stream",
     "text": [
      "[CV] END gamma=0.1, learning_rate=0.1, max_depth=2, n_estimators=800, random_state=42, reg_alpha=0.2, reg_lambda=1; total time=  57.8s\n",
      "[CV] END gamma=0.1, learning_rate=0.1, max_depth=2, n_estimators=800, random_state=42, reg_alpha=0.2, reg_lambda=1; total time= 1.0min\n"
     ]
    },
    {
     "name": "stderr",
     "output_type": "stream",
     "text": [
      "/puhome/24112456g/.conda/envs/SHPC-env/lib/python3.10/site-packages/xgboost/core.py:158: UserWarning: [03:38:38] WARNING: /workspace/src/common/error_msg.cc:58: Falling back to prediction using DMatrix due to mismatched devices. This might lead to higher memory usage and slower performance. XGBoost is running on: cuda:0, while the input data is on: cpu.\n",
      "Potential solutions:\n",
      "- Use a data structure that matches the device ordinal in the booster.\n",
      "- Set the device for booster before call to inplace_predict.\n",
      "\n",
      "This warning will only be shown once.\n",
      "\n",
      "  warnings.warn(smsg, UserWarning)\n"
     ]
    },
    {
     "name": "stdout",
     "output_type": "stream",
     "text": [
      "[CV] END gamma=0.1, learning_rate=0.1, max_depth=2, n_estimators=800, random_state=42, reg_alpha=0.2, reg_lambda=1; total time=  51.4s\n"
     ]
    },
    {
     "name": "stderr",
     "output_type": "stream",
     "text": [
      "/puhome/24112456g/.conda/envs/SHPC-env/lib/python3.10/site-packages/xgboost/core.py:158: UserWarning: [03:38:52] WARNING: /workspace/src/common/error_msg.cc:58: Falling back to prediction using DMatrix due to mismatched devices. This might lead to higher memory usage and slower performance. XGBoost is running on: cuda:0, while the input data is on: cpu.\n",
      "Potential solutions:\n",
      "- Use a data structure that matches the device ordinal in the booster.\n",
      "- Set the device for booster before call to inplace_predict.\n",
      "\n",
      "This warning will only be shown once.\n",
      "\n",
      "  warnings.warn(smsg, UserWarning)\n"
     ]
    },
    {
     "name": "stdout",
     "output_type": "stream",
     "text": [
      "[CV] END gamma=0.1, learning_rate=0.1, max_depth=2, n_estimators=800, random_state=42, reg_alpha=0.2, reg_lambda=1; total time=  48.6s\n"
     ]
    },
    {
     "name": "stderr",
     "output_type": "stream",
     "text": [
      "/puhome/24112456g/.conda/envs/SHPC-env/lib/python3.10/site-packages/xgboost/core.py:158: UserWarning: [03:39:18] WARNING: /workspace/src/common/error_msg.cc:58: Falling back to prediction using DMatrix due to mismatched devices. This might lead to higher memory usage and slower performance. XGBoost is running on: cuda:0, while the input data is on: cpu.\n",
      "Potential solutions:\n",
      "- Use a data structure that matches the device ordinal in the booster.\n",
      "- Set the device for booster before call to inplace_predict.\n",
      "\n",
      "This warning will only be shown once.\n",
      "\n",
      "  warnings.warn(smsg, UserWarning)\n"
     ]
    },
    {
     "name": "stdout",
     "output_type": "stream",
     "text": [
      "[CV] END gamma=0.1, learning_rate=0.1, max_depth=2, n_estimators=800, random_state=42, reg_alpha=0.2, reg_lambda=10; total time=  56.8s\n",
      "[CV] END gamma=0.1, learning_rate=0.1, max_depth=2, n_estimators=800, random_state=42, reg_alpha=0.2, reg_lambda=1; total time= 1.2min\n",
      "[CV] END gamma=0.1, learning_rate=0.1, max_depth=2, n_estimators=800, random_state=42, reg_alpha=0.2, reg_lambda=10; total time= 1.2min\n"
     ]
    },
    {
     "name": "stderr",
     "output_type": "stream",
     "text": [
      "/puhome/24112456g/.conda/envs/SHPC-env/lib/python3.10/site-packages/xgboost/core.py:158: UserWarning: [03:39:39] WARNING: /workspace/src/common/error_msg.cc:58: Falling back to prediction using DMatrix due to mismatched devices. This might lead to higher memory usage and slower performance. XGBoost is running on: cuda:0, while the input data is on: cpu.\n",
      "Potential solutions:\n",
      "- Use a data structure that matches the device ordinal in the booster.\n",
      "- Set the device for booster before call to inplace_predict.\n",
      "\n",
      "This warning will only be shown once.\n",
      "\n",
      "  warnings.warn(smsg, UserWarning)\n"
     ]
    },
    {
     "name": "stdout",
     "output_type": "stream",
     "text": [
      "[CV] END gamma=0.1, learning_rate=0.1, max_depth=2, n_estimators=800, random_state=42, reg_alpha=0.2, reg_lambda=10; total time= 1.0min\n",
      "[CV] END gamma=0.1, learning_rate=0.1, max_depth=2, n_estimators=800, random_state=42, reg_alpha=0.2, reg_lambda=10; total time= 1.1min\n",
      "[CV] END gamma=0.1, learning_rate=0.1, max_depth=2, n_estimators=800, random_state=42, reg_alpha=0.2, reg_lambda=10; total time= 1.0min\n",
      "[CV] END gamma=0.1, learning_rate=0.1, max_depth=2, n_estimators=800, random_state=42, reg_alpha=0.3, reg_lambda=0.1; total time=  57.2s\n"
     ]
    },
    {
     "name": "stderr",
     "output_type": "stream",
     "text": [
      "/puhome/24112456g/.conda/envs/SHPC-env/lib/python3.10/site-packages/xgboost/core.py:158: UserWarning: [03:40:23] WARNING: /workspace/src/common/error_msg.cc:58: Falling back to prediction using DMatrix due to mismatched devices. This might lead to higher memory usage and slower performance. XGBoost is running on: cuda:0, while the input data is on: cpu.\n",
      "Potential solutions:\n",
      "- Use a data structure that matches the device ordinal in the booster.\n",
      "- Set the device for booster before call to inplace_predict.\n",
      "\n",
      "This warning will only be shown once.\n",
      "\n",
      "  warnings.warn(smsg, UserWarning)\n"
     ]
    },
    {
     "name": "stdout",
     "output_type": "stream",
     "text": [
      "[CV] END gamma=0.1, learning_rate=0.1, max_depth=2, n_estimators=800, random_state=42, reg_alpha=0.3, reg_lambda=0.1; total time=  58.2s\n"
     ]
    },
    {
     "name": "stderr",
     "output_type": "stream",
     "text": [
      "/puhome/24112456g/.conda/envs/SHPC-env/lib/python3.10/site-packages/xgboost/core.py:158: UserWarning: [03:40:37] WARNING: /workspace/src/common/error_msg.cc:58: Falling back to prediction using DMatrix due to mismatched devices. This might lead to higher memory usage and slower performance. XGBoost is running on: cuda:0, while the input data is on: cpu.\n",
      "Potential solutions:\n",
      "- Use a data structure that matches the device ordinal in the booster.\n",
      "- Set the device for booster before call to inplace_predict.\n",
      "\n",
      "This warning will only be shown once.\n",
      "\n",
      "  warnings.warn(smsg, UserWarning)\n"
     ]
    },
    {
     "name": "stdout",
     "output_type": "stream",
     "text": [
      "[CV] END gamma=0.1, learning_rate=0.1, max_depth=2, n_estimators=800, random_state=42, reg_alpha=0.3, reg_lambda=0.1; total time= 1.0min\n",
      "[CV] END gamma=0.1, learning_rate=0.1, max_depth=2, n_estimators=800, random_state=42, reg_alpha=0.3, reg_lambda=0.1; total time= 1.2min\n"
     ]
    },
    {
     "name": "stderr",
     "output_type": "stream",
     "text": [
      "/puhome/24112456g/.conda/envs/SHPC-env/lib/python3.10/site-packages/xgboost/core.py:158: UserWarning: [03:40:54] WARNING: /workspace/src/common/error_msg.cc:58: Falling back to prediction using DMatrix due to mismatched devices. This might lead to higher memory usage and slower performance. XGBoost is running on: cuda:0, while the input data is on: cpu.\n",
      "Potential solutions:\n",
      "- Use a data structure that matches the device ordinal in the booster.\n",
      "- Set the device for booster before call to inplace_predict.\n",
      "\n",
      "This warning will only be shown once.\n",
      "\n",
      "  warnings.warn(smsg, UserWarning)\n",
      "/puhome/24112456g/.conda/envs/SHPC-env/lib/python3.10/site-packages/xgboost/core.py:158: UserWarning: [03:40:55] WARNING: /workspace/src/common/error_msg.cc:58: Falling back to prediction using DMatrix due to mismatched devices. This might lead to higher memory usage and slower performance. XGBoost is running on: cuda:0, while the input data is on: cpu.\n",
      "Potential solutions:\n",
      "- Use a data structure that matches the device ordinal in the booster.\n",
      "- Set the device for booster before call to inplace_predict.\n",
      "\n",
      "This warning will only be shown once.\n",
      "\n",
      "  warnings.warn(smsg, UserWarning)\n"
     ]
    },
    {
     "name": "stdout",
     "output_type": "stream",
     "text": [
      "[CV] END gamma=0.1, learning_rate=0.1, max_depth=2, n_estimators=800, random_state=42, reg_alpha=0.3, reg_lambda=0.1; total time= 1.0min\n",
      "[CV] END gamma=0.1, learning_rate=0.1, max_depth=2, n_estimators=800, random_state=42, reg_alpha=0.3, reg_lambda=1; total time=  57.0s\n"
     ]
    },
    {
     "name": "stderr",
     "output_type": "stream",
     "text": [
      "/puhome/24112456g/.conda/envs/SHPC-env/lib/python3.10/site-packages/xgboost/core.py:158: UserWarning: [03:41:12] WARNING: /workspace/src/common/error_msg.cc:58: Falling back to prediction using DMatrix due to mismatched devices. This might lead to higher memory usage and slower performance. XGBoost is running on: cuda:0, while the input data is on: cpu.\n",
      "Potential solutions:\n",
      "- Use a data structure that matches the device ordinal in the booster.\n",
      "- Set the device for booster before call to inplace_predict.\n",
      "\n",
      "This warning will only be shown once.\n",
      "\n",
      "  warnings.warn(smsg, UserWarning)\n"
     ]
    },
    {
     "name": "stdout",
     "output_type": "stream",
     "text": [
      "[CV] END gamma=0.1, learning_rate=0.1, max_depth=2, n_estimators=800, random_state=42, reg_alpha=0.3, reg_lambda=1; total time=  50.9s\n",
      "[CV] END gamma=0.1, learning_rate=0.1, max_depth=2, n_estimators=800, random_state=42, reg_alpha=0.3, reg_lambda=1; total time=  58.1s\n",
      "[CV] END gamma=0.1, learning_rate=0.1, max_depth=2, n_estimators=800, random_state=42, reg_alpha=0.3, reg_lambda=1; total time=  57.6s\n"
     ]
    },
    {
     "name": "stderr",
     "output_type": "stream",
     "text": [
      "/puhome/24112456g/.conda/envs/SHPC-env/lib/python3.10/site-packages/xgboost/core.py:158: UserWarning: [03:41:55] WARNING: /workspace/src/common/error_msg.cc:58: Falling back to prediction using DMatrix due to mismatched devices. This might lead to higher memory usage and slower performance. XGBoost is running on: cuda:0, while the input data is on: cpu.\n",
      "Potential solutions:\n",
      "- Use a data structure that matches the device ordinal in the booster.\n",
      "- Set the device for booster before call to inplace_predict.\n",
      "\n",
      "This warning will only be shown once.\n",
      "\n",
      "  warnings.warn(smsg, UserWarning)\n"
     ]
    },
    {
     "name": "stdout",
     "output_type": "stream",
     "text": [
      "[CV] END gamma=0.1, learning_rate=0.1, max_depth=2, n_estimators=800, random_state=42, reg_alpha=0.3, reg_lambda=1; total time= 1.0min\n",
      "[CV] END gamma=0.1, learning_rate=0.1, max_depth=2, n_estimators=800, random_state=42, reg_alpha=0.3, reg_lambda=10; total time= 1.1min\n",
      "[CV] END gamma=0.1, learning_rate=0.1, max_depth=2, n_estimators=800, random_state=42, reg_alpha=0.3, reg_lambda=10; total time= 1.1min\n",
      "[CV] END gamma=0.1, learning_rate=0.1, max_depth=2, n_estimators=800, random_state=42, reg_alpha=0.3, reg_lambda=10; total time= 1.1min\n"
     ]
    },
    {
     "name": "stderr",
     "output_type": "stream",
     "text": [
      "/puhome/24112456g/.conda/envs/SHPC-env/lib/python3.10/site-packages/xgboost/core.py:158: UserWarning: [03:42:24] WARNING: /workspace/src/common/error_msg.cc:58: Falling back to prediction using DMatrix due to mismatched devices. This might lead to higher memory usage and slower performance. XGBoost is running on: cuda:0, while the input data is on: cpu.\n",
      "Potential solutions:\n",
      "- Use a data structure that matches the device ordinal in the booster.\n",
      "- Set the device for booster before call to inplace_predict.\n",
      "\n",
      "This warning will only be shown once.\n",
      "\n",
      "  warnings.warn(smsg, UserWarning)\n"
     ]
    },
    {
     "name": "stdout",
     "output_type": "stream",
     "text": [
      "[CV] END gamma=0.1, learning_rate=0.1, max_depth=2, n_estimators=800, random_state=42, reg_alpha=0.3, reg_lambda=10; total time=  57.1s\n"
     ]
    },
    {
     "name": "stderr",
     "output_type": "stream",
     "text": [
      "/puhome/24112456g/.conda/envs/SHPC-env/lib/python3.10/site-packages/xgboost/core.py:158: UserWarning: [03:42:33] WARNING: /workspace/src/common/error_msg.cc:58: Falling back to prediction using DMatrix due to mismatched devices. This might lead to higher memory usage and slower performance. XGBoost is running on: cuda:0, while the input data is on: cpu.\n",
      "Potential solutions:\n",
      "- Use a data structure that matches the device ordinal in the booster.\n",
      "- Set the device for booster before call to inplace_predict.\n",
      "\n",
      "This warning will only be shown once.\n",
      "\n",
      "  warnings.warn(smsg, UserWarning)\n"
     ]
    },
    {
     "name": "stdout",
     "output_type": "stream",
     "text": [
      "[CV] END gamma=0.1, learning_rate=0.1, max_depth=2, n_estimators=800, random_state=42, reg_alpha=0.3, reg_lambda=10; total time=  52.0s\n",
      "[CV] END gamma=0.1, learning_rate=0.1, max_depth=2, n_estimators=800, random_state=42, reg_alpha=0.4, reg_lambda=0.1; total time=  57.9s\n"
     ]
    },
    {
     "name": "stderr",
     "output_type": "stream",
     "text": [
      "/puhome/24112456g/.conda/envs/SHPC-env/lib/python3.10/site-packages/xgboost/core.py:158: UserWarning: [03:43:05] WARNING: /workspace/src/common/error_msg.cc:58: Falling back to prediction using DMatrix due to mismatched devices. This might lead to higher memory usage and slower performance. XGBoost is running on: cuda:0, while the input data is on: cpu.\n",
      "Potential solutions:\n",
      "- Use a data structure that matches the device ordinal in the booster.\n",
      "- Set the device for booster before call to inplace_predict.\n",
      "\n",
      "This warning will only be shown once.\n",
      "\n",
      "  warnings.warn(smsg, UserWarning)\n"
     ]
    },
    {
     "name": "stdout",
     "output_type": "stream",
     "text": [
      "[CV] END gamma=0.1, learning_rate=0.1, max_depth=2, n_estimators=800, random_state=42, reg_alpha=0.4, reg_lambda=0.1; total time=  59.0s\n"
     ]
    },
    {
     "name": "stderr",
     "output_type": "stream",
     "text": [
      "/puhome/24112456g/.conda/envs/SHPC-env/lib/python3.10/site-packages/xgboost/core.py:158: UserWarning: [03:43:09] WARNING: /workspace/src/common/error_msg.cc:58: Falling back to prediction using DMatrix due to mismatched devices. This might lead to higher memory usage and slower performance. XGBoost is running on: cuda:0, while the input data is on: cpu.\n",
      "Potential solutions:\n",
      "- Use a data structure that matches the device ordinal in the booster.\n",
      "- Set the device for booster before call to inplace_predict.\n",
      "\n",
      "This warning will only be shown once.\n",
      "\n",
      "  warnings.warn(smsg, UserWarning)\n"
     ]
    },
    {
     "name": "stdout",
     "output_type": "stream",
     "text": [
      "[CV] END gamma=0.1, learning_rate=0.1, max_depth=2, n_estimators=800, random_state=42, reg_alpha=0.4, reg_lambda=0.1; total time=  59.5s\n"
     ]
    },
    {
     "name": "stderr",
     "output_type": "stream",
     "text": [
      "/puhome/24112456g/.conda/envs/SHPC-env/lib/python3.10/site-packages/xgboost/core.py:158: UserWarning: [03:43:25] WARNING: /workspace/src/common/error_msg.cc:58: Falling back to prediction using DMatrix due to mismatched devices. This might lead to higher memory usage and slower performance. XGBoost is running on: cuda:0, while the input data is on: cpu.\n",
      "Potential solutions:\n",
      "- Use a data structure that matches the device ordinal in the booster.\n",
      "- Set the device for booster before call to inplace_predict.\n",
      "\n",
      "This warning will only be shown once.\n",
      "\n",
      "  warnings.warn(smsg, UserWarning)\n"
     ]
    },
    {
     "name": "stdout",
     "output_type": "stream",
     "text": [
      "[CV] END gamma=0.1, learning_rate=0.1, max_depth=2, n_estimators=800, random_state=42, reg_alpha=0.4, reg_lambda=0.1; total time= 1.0min\n",
      "[CV] END gamma=0.1, learning_rate=0.1, max_depth=2, n_estimators=800, random_state=42, reg_alpha=0.4, reg_lambda=0.1; total time= 1.1min\n",
      "[CV] END gamma=0.1, learning_rate=0.1, max_depth=2, n_estimators=800, random_state=42, reg_alpha=0.4, reg_lambda=1; total time= 1.0min\n"
     ]
    },
    {
     "name": "stderr",
     "output_type": "stream",
     "text": [
      "/puhome/24112456g/.conda/envs/SHPC-env/lib/python3.10/site-packages/xgboost/core.py:158: UserWarning: [03:43:47] WARNING: /workspace/src/common/error_msg.cc:58: Falling back to prediction using DMatrix due to mismatched devices. This might lead to higher memory usage and slower performance. XGBoost is running on: cuda:0, while the input data is on: cpu.\n",
      "Potential solutions:\n",
      "- Use a data structure that matches the device ordinal in the booster.\n",
      "- Set the device for booster before call to inplace_predict.\n",
      "\n",
      "This warning will only be shown once.\n",
      "\n",
      "  warnings.warn(smsg, UserWarning)\n"
     ]
    },
    {
     "name": "stdout",
     "output_type": "stream",
     "text": [
      "[CV] END gamma=0.1, learning_rate=0.1, max_depth=2, n_estimators=800, random_state=42, reg_alpha=0.4, reg_lambda=1; total time=  48.5s\n",
      "[CV] END gamma=0.1, learning_rate=0.1, max_depth=2, n_estimators=800, random_state=42, reg_alpha=0.4, reg_lambda=1; total time= 1.0min\n",
      "[CV] END gamma=0.1, learning_rate=0.1, max_depth=2, n_estimators=800, random_state=42, reg_alpha=0.4, reg_lambda=1; total time= 1.0min\n",
      "[CV] END gamma=0.1, learning_rate=0.1, max_depth=2, n_estimators=800, random_state=42, reg_alpha=0.4, reg_lambda=1; total time= 1.1min\n"
     ]
    },
    {
     "name": "stderr",
     "output_type": "stream",
     "text": [
      "/puhome/24112456g/.conda/envs/SHPC-env/lib/python3.10/site-packages/xgboost/core.py:158: UserWarning: [03:44:36] WARNING: /workspace/src/common/error_msg.cc:58: Falling back to prediction using DMatrix due to mismatched devices. This might lead to higher memory usage and slower performance. XGBoost is running on: cuda:0, while the input data is on: cpu.\n",
      "Potential solutions:\n",
      "- Use a data structure that matches the device ordinal in the booster.\n",
      "- Set the device for booster before call to inplace_predict.\n",
      "\n",
      "This warning will only be shown once.\n",
      "\n",
      "  warnings.warn(smsg, UserWarning)\n"
     ]
    },
    {
     "name": "stdout",
     "output_type": "stream",
     "text": [
      "[CV] END gamma=0.1, learning_rate=0.1, max_depth=2, n_estimators=800, random_state=42, reg_alpha=0.4, reg_lambda=10; total time=  57.3s\n"
     ]
    },
    {
     "name": "stderr",
     "output_type": "stream",
     "text": [
      "/puhome/24112456g/.conda/envs/SHPC-env/lib/python3.10/site-packages/xgboost/core.py:158: UserWarning: [03:44:42] WARNING: /workspace/src/common/error_msg.cc:58: Falling back to prediction using DMatrix due to mismatched devices. This might lead to higher memory usage and slower performance. XGBoost is running on: cuda:0, while the input data is on: cpu.\n",
      "Potential solutions:\n",
      "- Use a data structure that matches the device ordinal in the booster.\n",
      "- Set the device for booster before call to inplace_predict.\n",
      "\n",
      "This warning will only be shown once.\n",
      "\n",
      "  warnings.warn(smsg, UserWarning)\n"
     ]
    },
    {
     "name": "stdout",
     "output_type": "stream",
     "text": [
      "[CV] END gamma=0.1, learning_rate=0.1, max_depth=2, n_estimators=800, random_state=42, reg_alpha=0.4, reg_lambda=10; total time= 1.0min\n",
      "[CV] END gamma=0.1, learning_rate=0.1, max_depth=2, n_estimators=800, random_state=42, reg_alpha=0.4, reg_lambda=10; total time= 1.0min\n"
     ]
    },
    {
     "name": "stderr",
     "output_type": "stream",
     "text": [
      "/puhome/24112456g/.conda/envs/SHPC-env/lib/python3.10/site-packages/xgboost/core.py:158: UserWarning: [03:45:05] WARNING: /workspace/src/common/error_msg.cc:58: Falling back to prediction using DMatrix due to mismatched devices. This might lead to higher memory usage and slower performance. XGBoost is running on: cuda:0, while the input data is on: cpu.\n",
      "Potential solutions:\n",
      "- Use a data structure that matches the device ordinal in the booster.\n",
      "- Set the device for booster before call to inplace_predict.\n",
      "\n",
      "This warning will only be shown once.\n",
      "\n",
      "  warnings.warn(smsg, UserWarning)\n"
     ]
    },
    {
     "name": "stdout",
     "output_type": "stream",
     "text": [
      "[CV] END gamma=0.1, learning_rate=0.1, max_depth=2, n_estimators=800, random_state=42, reg_alpha=0.4, reg_lambda=10; total time=  54.1s\n"
     ]
    },
    {
     "name": "stderr",
     "output_type": "stream",
     "text": [
      "/puhome/24112456g/.conda/envs/SHPC-env/lib/python3.10/site-packages/xgboost/core.py:158: UserWarning: [03:45:10] WARNING: /workspace/src/common/error_msg.cc:58: Falling back to prediction using DMatrix due to mismatched devices. This might lead to higher memory usage and slower performance. XGBoost is running on: cuda:0, while the input data is on: cpu.\n",
      "Potential solutions:\n",
      "- Use a data structure that matches the device ordinal in the booster.\n",
      "- Set the device for booster before call to inplace_predict.\n",
      "\n",
      "This warning will only be shown once.\n",
      "\n",
      "  warnings.warn(smsg, UserWarning)\n"
     ]
    },
    {
     "name": "stdout",
     "output_type": "stream",
     "text": [
      "[CV] END gamma=0.1, learning_rate=0.1, max_depth=2, n_estimators=800, random_state=42, reg_alpha=0.4, reg_lambda=10; total time=  53.6s\n"
     ]
    },
    {
     "name": "stderr",
     "output_type": "stream",
     "text": [
      "/puhome/24112456g/.conda/envs/SHPC-env/lib/python3.10/site-packages/xgboost/core.py:158: UserWarning: [03:45:18] WARNING: /workspace/src/common/error_msg.cc:58: Falling back to prediction using DMatrix due to mismatched devices. This might lead to higher memory usage and slower performance. XGBoost is running on: cuda:0, while the input data is on: cpu.\n",
      "Potential solutions:\n",
      "- Use a data structure that matches the device ordinal in the booster.\n",
      "- Set the device for booster before call to inplace_predict.\n",
      "\n",
      "This warning will only be shown once.\n",
      "\n",
      "  warnings.warn(smsg, UserWarning)\n"
     ]
    },
    {
     "name": "stdout",
     "output_type": "stream",
     "text": [
      "[CV] END gamma=0.1, learning_rate=0.1, max_depth=3, n_estimators=400, random_state=42, reg_alpha=0, reg_lambda=0.1; total time=  38.5s\n",
      "[CV] END gamma=0.1, learning_rate=0.1, max_depth=3, n_estimators=400, random_state=42, reg_alpha=0, reg_lambda=0.1; total time=  49.9s\n",
      "[CV] END gamma=0.1, learning_rate=0.1, max_depth=3, n_estimators=400, random_state=42, reg_alpha=0, reg_lambda=0.1; total time=  51.1s\n"
     ]
    },
    {
     "name": "stderr",
     "output_type": "stream",
     "text": [
      "/puhome/24112456g/.conda/envs/SHPC-env/lib/python3.10/site-packages/xgboost/core.py:158: UserWarning: [03:45:39] WARNING: /workspace/src/common/error_msg.cc:58: Falling back to prediction using DMatrix due to mismatched devices. This might lead to higher memory usage and slower performance. XGBoost is running on: cuda:0, while the input data is on: cpu.\n",
      "Potential solutions:\n",
      "- Use a data structure that matches the device ordinal in the booster.\n",
      "- Set the device for booster before call to inplace_predict.\n",
      "\n",
      "This warning will only be shown once.\n",
      "\n",
      "  warnings.warn(smsg, UserWarning)\n"
     ]
    },
    {
     "name": "stdout",
     "output_type": "stream",
     "text": [
      "[CV] END gamma=0.1, learning_rate=0.1, max_depth=3, n_estimators=400, random_state=42, reg_alpha=0, reg_lambda=0.1; total time=  43.9s\n",
      "[CV] END gamma=0.1, learning_rate=0.1, max_depth=3, n_estimators=400, random_state=42, reg_alpha=0, reg_lambda=0.1; total time=  54.2s\n",
      "[CV] END gamma=0.1, learning_rate=0.1, max_depth=3, n_estimators=400, random_state=42, reg_alpha=0, reg_lambda=1; total time=  49.6s\n",
      "[CV] END gamma=0.1, learning_rate=0.1, max_depth=3, n_estimators=400, random_state=42, reg_alpha=0, reg_lambda=1; total time=  50.0s\n"
     ]
    },
    {
     "name": "stderr",
     "output_type": "stream",
     "text": [
      "/puhome/24112456g/.conda/envs/SHPC-env/lib/python3.10/site-packages/xgboost/core.py:158: UserWarning: [03:46:15] WARNING: /workspace/src/common/error_msg.cc:58: Falling back to prediction using DMatrix due to mismatched devices. This might lead to higher memory usage and slower performance. XGBoost is running on: cuda:0, while the input data is on: cpu.\n",
      "Potential solutions:\n",
      "- Use a data structure that matches the device ordinal in the booster.\n",
      "- Set the device for booster before call to inplace_predict.\n",
      "\n",
      "This warning will only be shown once.\n",
      "\n",
      "  warnings.warn(smsg, UserWarning)\n"
     ]
    },
    {
     "name": "stdout",
     "output_type": "stream",
     "text": [
      "[CV] END gamma=0.1, learning_rate=0.1, max_depth=3, n_estimators=400, random_state=42, reg_alpha=0, reg_lambda=1; total time=  43.6s\n",
      "[CV] END gamma=0.1, learning_rate=0.1, max_depth=3, n_estimators=400, random_state=42, reg_alpha=0, reg_lambda=1; total time=  50.5s\n",
      "[CV] END gamma=0.1, learning_rate=0.1, max_depth=3, n_estimators=400, random_state=42, reg_alpha=0, reg_lambda=1; total time=  50.7s\n"
     ]
    },
    {
     "name": "stderr",
     "output_type": "stream",
     "text": [
      "/puhome/24112456g/.conda/envs/SHPC-env/lib/python3.10/site-packages/xgboost/core.py:158: UserWarning: [03:46:45] WARNING: /workspace/src/common/error_msg.cc:58: Falling back to prediction using DMatrix due to mismatched devices. This might lead to higher memory usage and slower performance. XGBoost is running on: cuda:0, while the input data is on: cpu.\n",
      "Potential solutions:\n",
      "- Use a data structure that matches the device ordinal in the booster.\n",
      "- Set the device for booster before call to inplace_predict.\n",
      "\n",
      "This warning will only be shown once.\n",
      "\n",
      "  warnings.warn(smsg, UserWarning)\n"
     ]
    },
    {
     "name": "stdout",
     "output_type": "stream",
     "text": [
      "[CV] END gamma=0.1, learning_rate=0.1, max_depth=3, n_estimators=400, random_state=42, reg_alpha=0, reg_lambda=10; total time=  39.9s\n"
     ]
    },
    {
     "name": "stderr",
     "output_type": "stream",
     "text": [
      "/puhome/24112456g/.conda/envs/SHPC-env/lib/python3.10/site-packages/xgboost/core.py:158: UserWarning: [03:46:50] WARNING: /workspace/src/common/error_msg.cc:58: Falling back to prediction using DMatrix due to mismatched devices. This might lead to higher memory usage and slower performance. XGBoost is running on: cuda:0, while the input data is on: cpu.\n",
      "Potential solutions:\n",
      "- Use a data structure that matches the device ordinal in the booster.\n",
      "- Set the device for booster before call to inplace_predict.\n",
      "\n",
      "This warning will only be shown once.\n",
      "\n",
      "  warnings.warn(smsg, UserWarning)\n"
     ]
    },
    {
     "name": "stdout",
     "output_type": "stream",
     "text": [
      "[CV] END gamma=0.1, learning_rate=0.1, max_depth=3, n_estimators=400, random_state=42, reg_alpha=0, reg_lambda=10; total time=  44.5s\n"
     ]
    },
    {
     "name": "stderr",
     "output_type": "stream",
     "text": [
      "/puhome/24112456g/.conda/envs/SHPC-env/lib/python3.10/site-packages/xgboost/core.py:158: UserWarning: [03:46:58] WARNING: /workspace/src/common/error_msg.cc:58: Falling back to prediction using DMatrix due to mismatched devices. This might lead to higher memory usage and slower performance. XGBoost is running on: cuda:0, while the input data is on: cpu.\n",
      "Potential solutions:\n",
      "- Use a data structure that matches the device ordinal in the booster.\n",
      "- Set the device for booster before call to inplace_predict.\n",
      "\n",
      "This warning will only be shown once.\n",
      "\n",
      "  warnings.warn(smsg, UserWarning)\n"
     ]
    },
    {
     "name": "stdout",
     "output_type": "stream",
     "text": [
      "[CV] END gamma=0.1, learning_rate=0.1, max_depth=3, n_estimators=400, random_state=42, reg_alpha=0, reg_lambda=10; total time=  43.8s\n",
      "[CV] END gamma=0.1, learning_rate=0.1, max_depth=3, n_estimators=400, random_state=42, reg_alpha=0, reg_lambda=10; total time=  50.4s\n"
     ]
    },
    {
     "name": "stderr",
     "output_type": "stream",
     "text": [
      "/puhome/24112456g/.conda/envs/SHPC-env/lib/python3.10/site-packages/xgboost/core.py:158: UserWarning: [03:47:18] WARNING: /workspace/src/common/error_msg.cc:58: Falling back to prediction using DMatrix due to mismatched devices. This might lead to higher memory usage and slower performance. XGBoost is running on: cuda:0, while the input data is on: cpu.\n",
      "Potential solutions:\n",
      "- Use a data structure that matches the device ordinal in the booster.\n",
      "- Set the device for booster before call to inplace_predict.\n",
      "\n",
      "This warning will only be shown once.\n",
      "\n",
      "  warnings.warn(smsg, UserWarning)\n"
     ]
    },
    {
     "name": "stdout",
     "output_type": "stream",
     "text": [
      "[CV] END gamma=0.1, learning_rate=0.1, max_depth=3, n_estimators=400, random_state=42, reg_alpha=0.2, reg_lambda=0.1; total time=  42.3s\n",
      "[CV] END gamma=0.1, learning_rate=0.1, max_depth=3, n_estimators=400, random_state=42, reg_alpha=0, reg_lambda=10; total time=  54.4s\n",
      "[CV] END gamma=0.1, learning_rate=0.1, max_depth=3, n_estimators=400, random_state=42, reg_alpha=0.2, reg_lambda=0.1; total time=  51.8s\n",
      "[CV] END gamma=0.1, learning_rate=0.1, max_depth=3, n_estimators=400, random_state=42, reg_alpha=0.2, reg_lambda=0.1; total time=  51.9s\n",
      "[CV] END gamma=0.1, learning_rate=0.1, max_depth=3, n_estimators=400, random_state=42, reg_alpha=0.2, reg_lambda=0.1; total time=  51.4s\n"
     ]
    },
    {
     "name": "stderr",
     "output_type": "stream",
     "text": [
      "/puhome/24112456g/.conda/envs/SHPC-env/lib/python3.10/site-packages/xgboost/core.py:158: UserWarning: [03:47:55] WARNING: /workspace/src/common/error_msg.cc:58: Falling back to prediction using DMatrix due to mismatched devices. This might lead to higher memory usage and slower performance. XGBoost is running on: cuda:0, while the input data is on: cpu.\n",
      "Potential solutions:\n",
      "- Use a data structure that matches the device ordinal in the booster.\n",
      "- Set the device for booster before call to inplace_predict.\n",
      "\n",
      "This warning will only be shown once.\n",
      "\n",
      "  warnings.warn(smsg, UserWarning)\n"
     ]
    },
    {
     "name": "stdout",
     "output_type": "stream",
     "text": [
      "[CV] END gamma=0.1, learning_rate=0.1, max_depth=3, n_estimators=400, random_state=42, reg_alpha=0.2, reg_lambda=0.1; total time=  44.0s\n",
      "[CV] END gamma=0.1, learning_rate=0.1, max_depth=3, n_estimators=400, random_state=42, reg_alpha=0.2, reg_lambda=1; total time=  47.3s\n",
      "[CV] END gamma=0.1, learning_rate=0.1, max_depth=3, n_estimators=400, random_state=42, reg_alpha=0.2, reg_lambda=1; total time=  51.3s\n"
     ]
    },
    {
     "name": "stderr",
     "output_type": "stream",
     "text": [
      "/puhome/24112456g/.conda/envs/SHPC-env/lib/python3.10/site-packages/xgboost/core.py:158: UserWarning: [03:48:26] WARNING: /workspace/src/common/error_msg.cc:58: Falling back to prediction using DMatrix due to mismatched devices. This might lead to higher memory usage and slower performance. XGBoost is running on: cuda:0, while the input data is on: cpu.\n",
      "Potential solutions:\n",
      "- Use a data structure that matches the device ordinal in the booster.\n",
      "- Set the device for booster before call to inplace_predict.\n",
      "\n",
      "This warning will only be shown once.\n",
      "\n",
      "  warnings.warn(smsg, UserWarning)\n"
     ]
    },
    {
     "name": "stdout",
     "output_type": "stream",
     "text": [
      "[CV] END gamma=0.1, learning_rate=0.1, max_depth=3, n_estimators=400, random_state=42, reg_alpha=0.2, reg_lambda=1; total time=  43.8s\n"
     ]
    },
    {
     "name": "stderr",
     "output_type": "stream",
     "text": [
      "/puhome/24112456g/.conda/envs/SHPC-env/lib/python3.10/site-packages/xgboost/core.py:158: UserWarning: [03:48:32] WARNING: /workspace/src/common/error_msg.cc:58: Falling back to prediction using DMatrix due to mismatched devices. This might lead to higher memory usage and slower performance. XGBoost is running on: cuda:0, while the input data is on: cpu.\n",
      "Potential solutions:\n",
      "- Use a data structure that matches the device ordinal in the booster.\n",
      "- Set the device for booster before call to inplace_predict.\n",
      "\n",
      "This warning will only be shown once.\n",
      "\n",
      "  warnings.warn(smsg, UserWarning)\n"
     ]
    },
    {
     "name": "stdout",
     "output_type": "stream",
     "text": [
      "[CV] END gamma=0.1, learning_rate=0.1, max_depth=3, n_estimators=400, random_state=42, reg_alpha=0.2, reg_lambda=1; total time=  44.1s\n"
     ]
    },
    {
     "name": "stderr",
     "output_type": "stream",
     "text": [
      "/puhome/24112456g/.conda/envs/SHPC-env/lib/python3.10/site-packages/xgboost/core.py:158: UserWarning: [03:48:42] WARNING: /workspace/src/common/error_msg.cc:58: Falling back to prediction using DMatrix due to mismatched devices. This might lead to higher memory usage and slower performance. XGBoost is running on: cuda:0, while the input data is on: cpu.\n",
      "Potential solutions:\n",
      "- Use a data structure that matches the device ordinal in the booster.\n",
      "- Set the device for booster before call to inplace_predict.\n",
      "\n",
      "This warning will only be shown once.\n",
      "\n",
      "  warnings.warn(smsg, UserWarning)\n"
     ]
    },
    {
     "name": "stdout",
     "output_type": "stream",
     "text": [
      "[CV] END gamma=0.1, learning_rate=0.1, max_depth=3, n_estimators=400, random_state=42, reg_alpha=0.2, reg_lambda=1; total time=  46.9s\n",
      "[CV] END gamma=0.1, learning_rate=0.1, max_depth=3, n_estimators=400, random_state=42, reg_alpha=0.2, reg_lambda=10; total time=  49.0s\n",
      "[CV] END gamma=0.1, learning_rate=0.1, max_depth=3, n_estimators=400, random_state=42, reg_alpha=0.2, reg_lambda=10; total time=  50.0s\n",
      "[CV] END gamma=0.1, learning_rate=0.1, max_depth=3, n_estimators=400, random_state=42, reg_alpha=0.2, reg_lambda=10; total time=  51.0s\n",
      "[CV] END gamma=0.1, learning_rate=0.1, max_depth=3, n_estimators=400, random_state=42, reg_alpha=0.2, reg_lambda=10; total time=  51.3s\n",
      "[CV] END gamma=0.1, learning_rate=0.1, max_depth=3, n_estimators=400, random_state=42, reg_alpha=0.2, reg_lambda=10; total time=  52.8s\n",
      "[CV] END gamma=0.1, learning_rate=0.1, max_depth=3, n_estimators=400, random_state=42, reg_alpha=0.3, reg_lambda=0.1; total time=  48.7s\n"
     ]
    },
    {
     "name": "stderr",
     "output_type": "stream",
     "text": [
      "/puhome/24112456g/.conda/envs/SHPC-env/lib/python3.10/site-packages/xgboost/core.py:158: UserWarning: [03:49:35] WARNING: /workspace/src/common/error_msg.cc:58: Falling back to prediction using DMatrix due to mismatched devices. This might lead to higher memory usage and slower performance. XGBoost is running on: cuda:0, while the input data is on: cpu.\n",
      "Potential solutions:\n",
      "- Use a data structure that matches the device ordinal in the booster.\n",
      "- Set the device for booster before call to inplace_predict.\n",
      "\n",
      "This warning will only be shown once.\n",
      "\n",
      "  warnings.warn(smsg, UserWarning)\n"
     ]
    },
    {
     "name": "stdout",
     "output_type": "stream",
     "text": [
      "[CV] END gamma=0.1, learning_rate=0.1, max_depth=3, n_estimators=400, random_state=42, reg_alpha=0.3, reg_lambda=0.1; total time=  44.7s\n"
     ]
    },
    {
     "name": "stderr",
     "output_type": "stream",
     "text": [
      "/puhome/24112456g/.conda/envs/SHPC-env/lib/python3.10/site-packages/xgboost/core.py:158: UserWarning: [03:49:44] WARNING: /workspace/src/common/error_msg.cc:58: Falling back to prediction using DMatrix due to mismatched devices. This might lead to higher memory usage and slower performance. XGBoost is running on: cuda:0, while the input data is on: cpu.\n",
      "Potential solutions:\n",
      "- Use a data structure that matches the device ordinal in the booster.\n",
      "- Set the device for booster before call to inplace_predict.\n",
      "\n",
      "This warning will only be shown once.\n",
      "\n",
      "  warnings.warn(smsg, UserWarning)\n"
     ]
    },
    {
     "name": "stdout",
     "output_type": "stream",
     "text": [
      "[CV] END gamma=0.1, learning_rate=0.1, max_depth=3, n_estimators=400, random_state=42, reg_alpha=0.3, reg_lambda=0.1; total time=  43.3s\n",
      "[CV] END gamma=0.1, learning_rate=0.1, max_depth=3, n_estimators=400, random_state=42, reg_alpha=0.3, reg_lambda=0.1; total time=  50.5s\n"
     ]
    },
    {
     "name": "stderr",
     "output_type": "stream",
     "text": [
      "/puhome/24112456g/.conda/envs/SHPC-env/lib/python3.10/site-packages/xgboost/core.py:158: UserWarning: [03:50:13] WARNING: /workspace/src/common/error_msg.cc:58: Falling back to prediction using DMatrix due to mismatched devices. This might lead to higher memory usage and slower performance. XGBoost is running on: cuda:0, while the input data is on: cpu.\n",
      "Potential solutions:\n",
      "- Use a data structure that matches the device ordinal in the booster.\n",
      "- Set the device for booster before call to inplace_predict.\n",
      "\n",
      "This warning will only be shown once.\n",
      "\n",
      "  warnings.warn(smsg, UserWarning)\n"
     ]
    },
    {
     "name": "stdout",
     "output_type": "stream",
     "text": [
      "[CV] END gamma=0.1, learning_rate=0.1, max_depth=3, n_estimators=400, random_state=42, reg_alpha=0.3, reg_lambda=0.1; total time=  53.2s\n",
      "[CV] END gamma=0.1, learning_rate=0.1, max_depth=3, n_estimators=400, random_state=42, reg_alpha=0.3, reg_lambda=1; total time=  41.6s\n"
     ]
    },
    {
     "name": "stderr",
     "output_type": "stream",
     "text": [
      "/puhome/24112456g/.conda/envs/SHPC-env/lib/python3.10/site-packages/xgboost/core.py:158: UserWarning: [03:50:21] WARNING: /workspace/src/common/error_msg.cc:58: Falling back to prediction using DMatrix due to mismatched devices. This might lead to higher memory usage and slower performance. XGBoost is running on: cuda:0, while the input data is on: cpu.\n",
      "Potential solutions:\n",
      "- Use a data structure that matches the device ordinal in the booster.\n",
      "- Set the device for booster before call to inplace_predict.\n",
      "\n",
      "This warning will only be shown once.\n",
      "\n",
      "  warnings.warn(smsg, UserWarning)\n"
     ]
    },
    {
     "name": "stdout",
     "output_type": "stream",
     "text": [
      "[CV] END gamma=0.1, learning_rate=0.1, max_depth=3, n_estimators=400, random_state=42, reg_alpha=0.3, reg_lambda=1; total time=  43.7s\n",
      "[CV] END gamma=0.1, learning_rate=0.1, max_depth=3, n_estimators=400, random_state=42, reg_alpha=0.3, reg_lambda=1; total time=  51.2s\n",
      "[CV] END gamma=0.1, learning_rate=0.1, max_depth=3, n_estimators=400, random_state=42, reg_alpha=0.3, reg_lambda=1; total time=  50.2s\n",
      "[CV] END gamma=0.1, learning_rate=0.1, max_depth=3, n_estimators=400, random_state=42, reg_alpha=0.3, reg_lambda=1; total time=  50.3s\n"
     ]
    },
    {
     "name": "stderr",
     "output_type": "stream",
     "text": [
      "/puhome/24112456g/.conda/envs/SHPC-env/lib/python3.10/site-packages/xgboost/core.py:158: UserWarning: [03:51:03] WARNING: /workspace/src/common/error_msg.cc:58: Falling back to prediction using DMatrix due to mismatched devices. This might lead to higher memory usage and slower performance. XGBoost is running on: cuda:0, while the input data is on: cpu.\n",
      "Potential solutions:\n",
      "- Use a data structure that matches the device ordinal in the booster.\n",
      "- Set the device for booster before call to inplace_predict.\n",
      "\n",
      "This warning will only be shown once.\n",
      "\n",
      "  warnings.warn(smsg, UserWarning)\n"
     ]
    },
    {
     "name": "stdout",
     "output_type": "stream",
     "text": [
      "[CV] END gamma=0.1, learning_rate=0.1, max_depth=3, n_estimators=400, random_state=42, reg_alpha=0.3, reg_lambda=10; total time=  49.7s\n",
      "[CV] END gamma=0.1, learning_rate=0.1, max_depth=3, n_estimators=400, random_state=42, reg_alpha=0.3, reg_lambda=10; total time=  46.6s\n",
      "[CV] END gamma=0.1, learning_rate=0.1, max_depth=3, n_estimators=400, random_state=42, reg_alpha=0.3, reg_lambda=10; total time=  51.4s\n"
     ]
    },
    {
     "name": "stderr",
     "output_type": "stream",
     "text": [
      "/puhome/24112456g/.conda/envs/SHPC-env/lib/python3.10/site-packages/xgboost/core.py:158: UserWarning: [03:51:17] WARNING: /workspace/src/common/error_msg.cc:58: Falling back to prediction using DMatrix due to mismatched devices. This might lead to higher memory usage and slower performance. XGBoost is running on: cuda:0, while the input data is on: cpu.\n",
      "Potential solutions:\n",
      "- Use a data structure that matches the device ordinal in the booster.\n",
      "- Set the device for booster before call to inplace_predict.\n",
      "\n",
      "This warning will only be shown once.\n",
      "\n",
      "  warnings.warn(smsg, UserWarning)\n"
     ]
    },
    {
     "name": "stdout",
     "output_type": "stream",
     "text": [
      "[CV] END gamma=0.1, learning_rate=0.1, max_depth=3, n_estimators=400, random_state=42, reg_alpha=0.3, reg_lambda=10; total time=  44.7s\n"
     ]
    },
    {
     "name": "stderr",
     "output_type": "stream",
     "text": [
      "/puhome/24112456g/.conda/envs/SHPC-env/lib/python3.10/site-packages/xgboost/core.py:158: UserWarning: [03:51:27] WARNING: /workspace/src/common/error_msg.cc:58: Falling back to prediction using DMatrix due to mismatched devices. This might lead to higher memory usage and slower performance. XGBoost is running on: cuda:0, while the input data is on: cpu.\n",
      "Potential solutions:\n",
      "- Use a data structure that matches the device ordinal in the booster.\n",
      "- Set the device for booster before call to inplace_predict.\n",
      "\n",
      "This warning will only be shown once.\n",
      "\n",
      "  warnings.warn(smsg, UserWarning)\n"
     ]
    },
    {
     "name": "stdout",
     "output_type": "stream",
     "text": [
      "[CV] END gamma=0.1, learning_rate=0.1, max_depth=3, n_estimators=400, random_state=42, reg_alpha=0.3, reg_lambda=10; total time=  46.5s\n",
      "[CV] END gamma=0.1, learning_rate=0.1, max_depth=3, n_estimators=400, random_state=42, reg_alpha=0.4, reg_lambda=0.1; total time=  48.1s\n"
     ]
    },
    {
     "name": "stderr",
     "output_type": "stream",
     "text": [
      "/puhome/24112456g/.conda/envs/SHPC-env/lib/python3.10/site-packages/xgboost/core.py:158: UserWarning: [03:51:54] WARNING: /workspace/src/common/error_msg.cc:58: Falling back to prediction using DMatrix due to mismatched devices. This might lead to higher memory usage and slower performance. XGBoost is running on: cuda:0, while the input data is on: cpu.\n",
      "Potential solutions:\n",
      "- Use a data structure that matches the device ordinal in the booster.\n",
      "- Set the device for booster before call to inplace_predict.\n",
      "\n",
      "This warning will only be shown once.\n",
      "\n",
      "  warnings.warn(smsg, UserWarning)\n"
     ]
    },
    {
     "name": "stdout",
     "output_type": "stream",
     "text": [
      "[CV] END gamma=0.1, learning_rate=0.1, max_depth=3, n_estimators=400, random_state=42, reg_alpha=0.4, reg_lambda=0.1; total time=  45.8s\n",
      "[CV] END gamma=0.1, learning_rate=0.1, max_depth=3, n_estimators=400, random_state=42, reg_alpha=0.4, reg_lambda=0.1; total time=  53.7s\n",
      "[CV] END gamma=0.1, learning_rate=0.1, max_depth=3, n_estimators=400, random_state=42, reg_alpha=0.4, reg_lambda=0.1; total time=  51.7s\n",
      "[CV] END gamma=0.1, learning_rate=0.1, max_depth=3, n_estimators=400, random_state=42, reg_alpha=0.4, reg_lambda=0.1; total time=  53.2s\n",
      "[CV] END gamma=0.1, learning_rate=0.1, max_depth=3, n_estimators=400, random_state=42, reg_alpha=0.4, reg_lambda=1; total time=  47.8s\n",
      "[CV] END gamma=0.1, learning_rate=0.1, max_depth=3, n_estimators=400, random_state=42, reg_alpha=0.4, reg_lambda=1; total time=  50.6s\n",
      "[CV] END gamma=0.1, learning_rate=0.1, max_depth=3, n_estimators=400, random_state=42, reg_alpha=0.4, reg_lambda=1; total time=  54.4s\n"
     ]
    },
    {
     "name": "stderr",
     "output_type": "stream",
     "text": [
      "/puhome/24112456g/.conda/envs/SHPC-env/lib/python3.10/site-packages/xgboost/core.py:158: UserWarning: [03:52:52] WARNING: /workspace/src/common/error_msg.cc:58: Falling back to prediction using DMatrix due to mismatched devices. This might lead to higher memory usage and slower performance. XGBoost is running on: cuda:0, while the input data is on: cpu.\n",
      "Potential solutions:\n",
      "- Use a data structure that matches the device ordinal in the booster.\n",
      "- Set the device for booster before call to inplace_predict.\n",
      "\n",
      "This warning will only be shown once.\n",
      "\n",
      "  warnings.warn(smsg, UserWarning)\n"
     ]
    },
    {
     "name": "stdout",
     "output_type": "stream",
     "text": [
      "[CV] END gamma=0.1, learning_rate=0.1, max_depth=3, n_estimators=400, random_state=42, reg_alpha=0.4, reg_lambda=1; total time=  49.3s\n"
     ]
    },
    {
     "name": "stderr",
     "output_type": "stream",
     "text": [
      "/puhome/24112456g/.conda/envs/SHPC-env/lib/python3.10/site-packages/xgboost/core.py:158: UserWarning: [03:53:00] WARNING: /workspace/src/common/error_msg.cc:58: Falling back to prediction using DMatrix due to mismatched devices. This might lead to higher memory usage and slower performance. XGBoost is running on: cuda:0, while the input data is on: cpu.\n",
      "Potential solutions:\n",
      "- Use a data structure that matches the device ordinal in the booster.\n",
      "- Set the device for booster before call to inplace_predict.\n",
      "\n",
      "This warning will only be shown once.\n",
      "\n",
      "  warnings.warn(smsg, UserWarning)\n",
      "/puhome/24112456g/.conda/envs/SHPC-env/lib/python3.10/site-packages/xgboost/core.py:158: UserWarning: [03:53:02] WARNING: /workspace/src/common/error_msg.cc:58: Falling back to prediction using DMatrix due to mismatched devices. This might lead to higher memory usage and slower performance. XGBoost is running on: cuda:0, while the input data is on: cpu.\n",
      "Potential solutions:\n",
      "- Use a data structure that matches the device ordinal in the booster.\n",
      "- Set the device for booster before call to inplace_predict.\n",
      "\n",
      "This warning will only be shown once.\n",
      "\n",
      "  warnings.warn(smsg, UserWarning)\n"
     ]
    },
    {
     "name": "stdout",
     "output_type": "stream",
     "text": [
      "[CV] END gamma=0.1, learning_rate=0.1, max_depth=3, n_estimators=400, random_state=42, reg_alpha=0.4, reg_lambda=1; total time=  50.8s\n",
      "[CV] END gamma=0.1, learning_rate=0.1, max_depth=3, n_estimators=400, random_state=42, reg_alpha=0.4, reg_lambda=10; total time=  45.7s\n"
     ]
    },
    {
     "name": "stderr",
     "output_type": "stream",
     "text": [
      "/puhome/24112456g/.conda/envs/SHPC-env/lib/python3.10/site-packages/xgboost/core.py:158: UserWarning: [03:53:08] WARNING: /workspace/src/common/error_msg.cc:58: Falling back to prediction using DMatrix due to mismatched devices. This might lead to higher memory usage and slower performance. XGBoost is running on: cuda:0, while the input data is on: cpu.\n",
      "Potential solutions:\n",
      "- Use a data structure that matches the device ordinal in the booster.\n",
      "- Set the device for booster before call to inplace_predict.\n",
      "\n",
      "This warning will only be shown once.\n",
      "\n",
      "  warnings.warn(smsg, UserWarning)\n"
     ]
    },
    {
     "name": "stdout",
     "output_type": "stream",
     "text": [
      "[CV] END gamma=0.1, learning_rate=0.1, max_depth=3, n_estimators=400, random_state=42, reg_alpha=0.4, reg_lambda=10; total time=  47.3s\n",
      "[CV] END gamma=0.1, learning_rate=0.1, max_depth=3, n_estimators=400, random_state=42, reg_alpha=0.4, reg_lambda=10; total time=  51.5s\n"
     ]
    },
    {
     "name": "stderr",
     "output_type": "stream",
     "text": [
      "/puhome/24112456g/.conda/envs/SHPC-env/lib/python3.10/site-packages/xgboost/core.py:158: UserWarning: [03:53:39] WARNING: /workspace/src/common/error_msg.cc:58: Falling back to prediction using DMatrix due to mismatched devices. This might lead to higher memory usage and slower performance. XGBoost is running on: cuda:0, while the input data is on: cpu.\n",
      "Potential solutions:\n",
      "- Use a data structure that matches the device ordinal in the booster.\n",
      "- Set the device for booster before call to inplace_predict.\n",
      "\n",
      "This warning will only be shown once.\n",
      "\n",
      "  warnings.warn(smsg, UserWarning)\n"
     ]
    },
    {
     "name": "stdout",
     "output_type": "stream",
     "text": [
      "[CV] END gamma=0.1, learning_rate=0.1, max_depth=3, n_estimators=400, random_state=42, reg_alpha=0.4, reg_lambda=10; total time=  44.4s\n",
      "[CV] END gamma=0.1, learning_rate=0.1, max_depth=3, n_estimators=400, random_state=42, reg_alpha=0.4, reg_lambda=10; total time=  56.6s\n",
      "[CV] END gamma=0.1, learning_rate=0.1, max_depth=3, n_estimators=800, random_state=42, reg_alpha=0, reg_lambda=0.1; total time= 1.2min\n",
      "[CV] END gamma=0.1, learning_rate=0.1, max_depth=3, n_estimators=800, random_state=42, reg_alpha=0, reg_lambda=0.1; total time= 1.3min\n",
      "[CV] END gamma=0.1, learning_rate=0.1, max_depth=3, n_estimators=800, random_state=42, reg_alpha=0, reg_lambda=0.1; total time= 1.2min\n",
      "[CV] END gamma=0.1, learning_rate=0.1, max_depth=3, n_estimators=800, random_state=42, reg_alpha=0, reg_lambda=0.1; total time= 1.2min\n",
      "[CV] END gamma=0.1, learning_rate=0.1, max_depth=3, n_estimators=800, random_state=42, reg_alpha=0, reg_lambda=0.1; total time= 1.1min\n"
     ]
    },
    {
     "name": "stderr",
     "output_type": "stream",
     "text": [
      "/puhome/24112456g/.conda/envs/SHPC-env/lib/python3.10/site-packages/xgboost/core.py:158: UserWarning: [03:54:47] WARNING: /workspace/src/common/error_msg.cc:58: Falling back to prediction using DMatrix due to mismatched devices. This might lead to higher memory usage and slower performance. XGBoost is running on: cuda:0, while the input data is on: cpu.\n",
      "Potential solutions:\n",
      "- Use a data structure that matches the device ordinal in the booster.\n",
      "- Set the device for booster before call to inplace_predict.\n",
      "\n",
      "This warning will only be shown once.\n",
      "\n",
      "  warnings.warn(smsg, UserWarning)\n"
     ]
    },
    {
     "name": "stdout",
     "output_type": "stream",
     "text": [
      "[CV] END gamma=0.1, learning_rate=0.1, max_depth=3, n_estimators=800, random_state=42, reg_alpha=0, reg_lambda=1; total time=  51.8s\n"
     ]
    },
    {
     "name": "stderr",
     "output_type": "stream",
     "text": [
      "/puhome/24112456g/.conda/envs/SHPC-env/lib/python3.10/site-packages/xgboost/core.py:158: UserWarning: [03:55:16] WARNING: /workspace/src/common/error_msg.cc:58: Falling back to prediction using DMatrix due to mismatched devices. This might lead to higher memory usage and slower performance. XGBoost is running on: cuda:0, while the input data is on: cpu.\n",
      "Potential solutions:\n",
      "- Use a data structure that matches the device ordinal in the booster.\n",
      "- Set the device for booster before call to inplace_predict.\n",
      "\n",
      "This warning will only be shown once.\n",
      "\n",
      "  warnings.warn(smsg, UserWarning)\n"
     ]
    },
    {
     "name": "stdout",
     "output_type": "stream",
     "text": [
      "[CV] END gamma=0.1, learning_rate=0.1, max_depth=3, n_estimators=800, random_state=42, reg_alpha=0, reg_lambda=1; total time=  59.3s\n"
     ]
    },
    {
     "name": "stderr",
     "output_type": "stream",
     "text": [
      "/puhome/24112456g/.conda/envs/SHPC-env/lib/python3.10/site-packages/xgboost/core.py:158: UserWarning: [03:55:33] WARNING: /workspace/src/common/error_msg.cc:58: Falling back to prediction using DMatrix due to mismatched devices. This might lead to higher memory usage and slower performance. XGBoost is running on: cuda:0, while the input data is on: cpu.\n",
      "Potential solutions:\n",
      "- Use a data structure that matches the device ordinal in the booster.\n",
      "- Set the device for booster before call to inplace_predict.\n",
      "\n",
      "This warning will only be shown once.\n",
      "\n",
      "  warnings.warn(smsg, UserWarning)\n"
     ]
    },
    {
     "name": "stdout",
     "output_type": "stream",
     "text": [
      "[CV] END gamma=0.1, learning_rate=0.1, max_depth=3, n_estimators=800, random_state=42, reg_alpha=0, reg_lambda=1; total time= 1.2min\n"
     ]
    },
    {
     "name": "stderr",
     "output_type": "stream",
     "text": [
      "/puhome/24112456g/.conda/envs/SHPC-env/lib/python3.10/site-packages/xgboost/core.py:158: UserWarning: [03:55:42] WARNING: /workspace/src/common/error_msg.cc:58: Falling back to prediction using DMatrix due to mismatched devices. This might lead to higher memory usage and slower performance. XGBoost is running on: cuda:0, while the input data is on: cpu.\n",
      "Potential solutions:\n",
      "- Use a data structure that matches the device ordinal in the booster.\n",
      "- Set the device for booster before call to inplace_predict.\n",
      "\n",
      "This warning will only be shown once.\n",
      "\n",
      "  warnings.warn(smsg, UserWarning)\n"
     ]
    },
    {
     "name": "stdout",
     "output_type": "stream",
     "text": [
      "[CV] END gamma=0.1, learning_rate=0.1, max_depth=3, n_estimators=800, random_state=42, reg_alpha=0, reg_lambda=1; total time= 1.2min\n",
      "[CV] END gamma=0.1, learning_rate=0.1, max_depth=3, n_estimators=800, random_state=42, reg_alpha=0, reg_lambda=1; total time= 1.3min\n"
     ]
    },
    {
     "name": "stderr",
     "output_type": "stream",
     "text": [
      "/puhome/24112456g/.conda/envs/SHPC-env/lib/python3.10/site-packages/xgboost/core.py:158: UserWarning: [03:55:55] WARNING: /workspace/src/common/error_msg.cc:58: Falling back to prediction using DMatrix due to mismatched devices. This might lead to higher memory usage and slower performance. XGBoost is running on: cuda:0, while the input data is on: cpu.\n",
      "Potential solutions:\n",
      "- Use a data structure that matches the device ordinal in the booster.\n",
      "- Set the device for booster before call to inplace_predict.\n",
      "\n",
      "This warning will only be shown once.\n",
      "\n",
      "  warnings.warn(smsg, UserWarning)\n"
     ]
    },
    {
     "name": "stdout",
     "output_type": "stream",
     "text": [
      "[CV] END gamma=0.1, learning_rate=0.1, max_depth=3, n_estimators=800, random_state=42, reg_alpha=0, reg_lambda=10; total time= 1.1min\n",
      "[CV] END gamma=0.1, learning_rate=0.1, max_depth=3, n_estimators=800, random_state=42, reg_alpha=0, reg_lambda=10; total time= 1.2min\n",
      "[CV] END gamma=0.1, learning_rate=0.1, max_depth=3, n_estimators=800, random_state=42, reg_alpha=0, reg_lambda=10; total time=  56.9s\n",
      "[CV] END gamma=0.1, learning_rate=0.1, max_depth=3, n_estimators=800, random_state=42, reg_alpha=0, reg_lambda=10; total time= 1.1min\n"
     ]
    },
    {
     "name": "stderr",
     "output_type": "stream",
     "text": [
      "/puhome/24112456g/.conda/envs/SHPC-env/lib/python3.10/site-packages/xgboost/core.py:158: UserWarning: [03:56:58] WARNING: /workspace/src/common/error_msg.cc:58: Falling back to prediction using DMatrix due to mismatched devices. This might lead to higher memory usage and slower performance. XGBoost is running on: cuda:0, while the input data is on: cpu.\n",
      "Potential solutions:\n",
      "- Use a data structure that matches the device ordinal in the booster.\n",
      "- Set the device for booster before call to inplace_predict.\n",
      "\n",
      "This warning will only be shown once.\n",
      "\n",
      "  warnings.warn(smsg, UserWarning)\n"
     ]
    },
    {
     "name": "stdout",
     "output_type": "stream",
     "text": [
      "[CV] END gamma=0.1, learning_rate=0.1, max_depth=3, n_estimators=800, random_state=42, reg_alpha=0.2, reg_lambda=0.1; total time= 1.1min\n",
      "[CV] END gamma=0.1, learning_rate=0.1, max_depth=3, n_estimators=800, random_state=42, reg_alpha=0, reg_lambda=10; total time= 1.3min\n"
     ]
    },
    {
     "name": "stderr",
     "output_type": "stream",
     "text": [
      "/puhome/24112456g/.conda/envs/SHPC-env/lib/python3.10/site-packages/xgboost/core.py:158: UserWarning: [03:57:15] WARNING: /workspace/src/common/error_msg.cc:58: Falling back to prediction using DMatrix due to mismatched devices. This might lead to higher memory usage and slower performance. XGBoost is running on: cuda:0, while the input data is on: cpu.\n",
      "Potential solutions:\n",
      "- Use a data structure that matches the device ordinal in the booster.\n",
      "- Set the device for booster before call to inplace_predict.\n",
      "\n",
      "This warning will only be shown once.\n",
      "\n",
      "  warnings.warn(smsg, UserWarning)\n"
     ]
    },
    {
     "name": "stdout",
     "output_type": "stream",
     "text": [
      "[CV] END gamma=0.1, learning_rate=0.1, max_depth=3, n_estimators=800, random_state=42, reg_alpha=0.2, reg_lambda=0.1; total time= 1.3min\n",
      "[CV] END gamma=0.1, learning_rate=0.1, max_depth=3, n_estimators=800, random_state=42, reg_alpha=0.2, reg_lambda=0.1; total time= 1.2min\n"
     ]
    },
    {
     "name": "stderr",
     "output_type": "stream",
     "text": [
      "/puhome/24112456g/.conda/envs/SHPC-env/lib/python3.10/site-packages/xgboost/core.py:158: UserWarning: [03:57:21] WARNING: /workspace/src/common/error_msg.cc:58: Falling back to prediction using DMatrix due to mismatched devices. This might lead to higher memory usage and slower performance. XGBoost is running on: cuda:0, while the input data is on: cpu.\n",
      "Potential solutions:\n",
      "- Use a data structure that matches the device ordinal in the booster.\n",
      "- Set the device for booster before call to inplace_predict.\n",
      "\n",
      "This warning will only be shown once.\n",
      "\n",
      "  warnings.warn(smsg, UserWarning)\n"
     ]
    },
    {
     "name": "stdout",
     "output_type": "stream",
     "text": [
      "[CV] END gamma=0.1, learning_rate=0.1, max_depth=3, n_estimators=800, random_state=42, reg_alpha=0.2, reg_lambda=0.1; total time= 1.0min\n"
     ]
    },
    {
     "name": "stderr",
     "output_type": "stream",
     "text": [
      "/puhome/24112456g/.conda/envs/SHPC-env/lib/python3.10/site-packages/xgboost/core.py:158: UserWarning: [03:57:33] WARNING: /workspace/src/common/error_msg.cc:58: Falling back to prediction using DMatrix due to mismatched devices. This might lead to higher memory usage and slower performance. XGBoost is running on: cuda:0, while the input data is on: cpu.\n",
      "Potential solutions:\n",
      "- Use a data structure that matches the device ordinal in the booster.\n",
      "- Set the device for booster before call to inplace_predict.\n",
      "\n",
      "This warning will only be shown once.\n",
      "\n",
      "  warnings.warn(smsg, UserWarning)\n"
     ]
    },
    {
     "name": "stdout",
     "output_type": "stream",
     "text": [
      "[CV] END gamma=0.1, learning_rate=0.1, max_depth=3, n_estimators=800, random_state=42, reg_alpha=0.2, reg_lambda=0.1; total time=  51.2s\n",
      "[CV] END gamma=0.1, learning_rate=0.1, max_depth=3, n_estimators=800, random_state=42, reg_alpha=0.2, reg_lambda=1; total time=  56.6s\n"
     ]
    },
    {
     "name": "stderr",
     "output_type": "stream",
     "text": [
      "/puhome/24112456g/.conda/envs/SHPC-env/lib/python3.10/site-packages/xgboost/core.py:158: UserWarning: [03:58:09] WARNING: /workspace/src/common/error_msg.cc:58: Falling back to prediction using DMatrix due to mismatched devices. This might lead to higher memory usage and slower performance. XGBoost is running on: cuda:0, while the input data is on: cpu.\n",
      "Potential solutions:\n",
      "- Use a data structure that matches the device ordinal in the booster.\n",
      "- Set the device for booster before call to inplace_predict.\n",
      "\n",
      "This warning will only be shown once.\n",
      "\n",
      "  warnings.warn(smsg, UserWarning)\n"
     ]
    },
    {
     "name": "stdout",
     "output_type": "stream",
     "text": [
      "[CV] END gamma=0.1, learning_rate=0.1, max_depth=3, n_estimators=800, random_state=42, reg_alpha=0.2, reg_lambda=1; total time= 1.0min\n"
     ]
    },
    {
     "name": "stderr",
     "output_type": "stream",
     "text": [
      "/puhome/24112456g/.conda/envs/SHPC-env/lib/python3.10/site-packages/xgboost/core.py:158: UserWarning: [03:58:31] WARNING: /workspace/src/common/error_msg.cc:58: Falling back to prediction using DMatrix due to mismatched devices. This might lead to higher memory usage and slower performance. XGBoost is running on: cuda:0, while the input data is on: cpu.\n",
      "Potential solutions:\n",
      "- Use a data structure that matches the device ordinal in the booster.\n",
      "- Set the device for booster before call to inplace_predict.\n",
      "\n",
      "This warning will only be shown once.\n",
      "\n",
      "  warnings.warn(smsg, UserWarning)\n"
     ]
    },
    {
     "name": "stdout",
     "output_type": "stream",
     "text": [
      "[CV] END gamma=0.1, learning_rate=0.1, max_depth=3, n_estimators=800, random_state=42, reg_alpha=0.2, reg_lambda=1; total time= 1.2min\n",
      "[CV] END gamma=0.1, learning_rate=0.1, max_depth=3, n_estimators=800, random_state=42, reg_alpha=0.2, reg_lambda=1; total time= 1.3min\n",
      "[CV] END gamma=0.1, learning_rate=0.1, max_depth=3, n_estimators=800, random_state=42, reg_alpha=0.2, reg_lambda=1; total time= 1.3min\n",
      "[CV] END gamma=0.1, learning_rate=0.1, max_depth=3, n_estimators=800, random_state=42, reg_alpha=0.2, reg_lambda=10; total time= 1.2min\n"
     ]
    },
    {
     "name": "stderr",
     "output_type": "stream",
     "text": [
      "/puhome/24112456g/.conda/envs/SHPC-env/lib/python3.10/site-packages/xgboost/core.py:158: UserWarning: [03:58:54] WARNING: /workspace/src/common/error_msg.cc:58: Falling back to prediction using DMatrix due to mismatched devices. This might lead to higher memory usage and slower performance. XGBoost is running on: cuda:0, while the input data is on: cpu.\n",
      "Potential solutions:\n",
      "- Use a data structure that matches the device ordinal in the booster.\n",
      "- Set the device for booster before call to inplace_predict.\n",
      "\n",
      "This warning will only be shown once.\n",
      "\n",
      "  warnings.warn(smsg, UserWarning)\n"
     ]
    },
    {
     "name": "stdout",
     "output_type": "stream",
     "text": [
      "[CV] END gamma=0.1, learning_rate=0.1, max_depth=3, n_estimators=800, random_state=42, reg_alpha=0.2, reg_lambda=10; total time=  54.4s\n",
      "[CV] END gamma=0.1, learning_rate=0.1, max_depth=3, n_estimators=800, random_state=42, reg_alpha=0.2, reg_lambda=10; total time=  57.9s\n",
      "[CV] END gamma=0.1, learning_rate=0.1, max_depth=3, n_estimators=800, random_state=42, reg_alpha=0.2, reg_lambda=10; total time= 1.3min\n"
     ]
    },
    {
     "name": "stderr",
     "output_type": "stream",
     "text": [
      "/puhome/24112456g/.conda/envs/SHPC-env/lib/python3.10/site-packages/xgboost/core.py:158: UserWarning: [03:59:57] WARNING: /workspace/src/common/error_msg.cc:58: Falling back to prediction using DMatrix due to mismatched devices. This might lead to higher memory usage and slower performance. XGBoost is running on: cuda:0, while the input data is on: cpu.\n",
      "Potential solutions:\n",
      "- Use a data structure that matches the device ordinal in the booster.\n",
      "- Set the device for booster before call to inplace_predict.\n",
      "\n",
      "This warning will only be shown once.\n",
      "\n",
      "  warnings.warn(smsg, UserWarning)\n",
      "/puhome/24112456g/.conda/envs/SHPC-env/lib/python3.10/site-packages/xgboost/core.py:158: UserWarning: [03:59:58] WARNING: /workspace/src/common/error_msg.cc:58: Falling back to prediction using DMatrix due to mismatched devices. This might lead to higher memory usage and slower performance. XGBoost is running on: cuda:0, while the input data is on: cpu.\n",
      "Potential solutions:\n",
      "- Use a data structure that matches the device ordinal in the booster.\n",
      "- Set the device for booster before call to inplace_predict.\n",
      "\n",
      "This warning will only be shown once.\n",
      "\n",
      "  warnings.warn(smsg, UserWarning)\n"
     ]
    },
    {
     "name": "stdout",
     "output_type": "stream",
     "text": [
      "[CV] END gamma=0.1, learning_rate=0.1, max_depth=3, n_estimators=800, random_state=42, reg_alpha=0.3, reg_lambda=0.1; total time= 1.2min\n",
      "[CV] END gamma=0.1, learning_rate=0.1, max_depth=3, n_estimators=800, random_state=42, reg_alpha=0.2, reg_lambda=10; total time= 1.3min\n"
     ]
    },
    {
     "name": "stderr",
     "output_type": "stream",
     "text": [
      "/puhome/24112456g/.conda/envs/SHPC-env/lib/python3.10/site-packages/xgboost/core.py:158: UserWarning: [04:00:07] WARNING: /workspace/src/common/error_msg.cc:58: Falling back to prediction using DMatrix due to mismatched devices. This might lead to higher memory usage and slower performance. XGBoost is running on: cuda:0, while the input data is on: cpu.\n",
      "Potential solutions:\n",
      "- Use a data structure that matches the device ordinal in the booster.\n",
      "- Set the device for booster before call to inplace_predict.\n",
      "\n",
      "This warning will only be shown once.\n",
      "\n",
      "  warnings.warn(smsg, UserWarning)\n"
     ]
    },
    {
     "name": "stdout",
     "output_type": "stream",
     "text": [
      "[CV] END gamma=0.1, learning_rate=0.1, max_depth=3, n_estimators=800, random_state=42, reg_alpha=0.3, reg_lambda=0.1; total time= 1.3min\n",
      "[CV] END gamma=0.1, learning_rate=0.1, max_depth=3, n_estimators=800, random_state=42, reg_alpha=0.3, reg_lambda=0.1; total time= 1.3min\n"
     ]
    },
    {
     "name": "stderr",
     "output_type": "stream",
     "text": [
      "/puhome/24112456g/.conda/envs/SHPC-env/lib/python3.10/site-packages/xgboost/core.py:158: UserWarning: [04:00:17] WARNING: /workspace/src/common/error_msg.cc:58: Falling back to prediction using DMatrix due to mismatched devices. This might lead to higher memory usage and slower performance. XGBoost is running on: cuda:0, while the input data is on: cpu.\n",
      "Potential solutions:\n",
      "- Use a data structure that matches the device ordinal in the booster.\n",
      "- Set the device for booster before call to inplace_predict.\n",
      "\n",
      "This warning will only be shown once.\n",
      "\n",
      "  warnings.warn(smsg, UserWarning)\n"
     ]
    },
    {
     "name": "stdout",
     "output_type": "stream",
     "text": [
      "[CV] END gamma=0.1, learning_rate=0.1, max_depth=3, n_estimators=800, random_state=42, reg_alpha=0.3, reg_lambda=0.1; total time= 1.1min\n"
     ]
    },
    {
     "name": "stderr",
     "output_type": "stream",
     "text": [
      "/puhome/24112456g/.conda/envs/SHPC-env/lib/python3.10/site-packages/xgboost/core.py:158: UserWarning: [04:00:46] WARNING: /workspace/src/common/error_msg.cc:58: Falling back to prediction using DMatrix due to mismatched devices. This might lead to higher memory usage and slower performance. XGBoost is running on: cuda:0, while the input data is on: cpu.\n",
      "Potential solutions:\n",
      "- Use a data structure that matches the device ordinal in the booster.\n",
      "- Set the device for booster before call to inplace_predict.\n",
      "\n",
      "This warning will only be shown once.\n",
      "\n",
      "  warnings.warn(smsg, UserWarning)\n"
     ]
    },
    {
     "name": "stdout",
     "output_type": "stream",
     "text": [
      "[CV] END gamma=0.1, learning_rate=0.1, max_depth=3, n_estimators=800, random_state=42, reg_alpha=0.3, reg_lambda=0.1; total time=  55.1s\n",
      "[CV] END gamma=0.1, learning_rate=0.1, max_depth=3, n_estimators=800, random_state=42, reg_alpha=0.3, reg_lambda=1; total time= 1.2min\n",
      "[CV] END gamma=0.1, learning_rate=0.1, max_depth=3, n_estimators=800, random_state=42, reg_alpha=0.3, reg_lambda=1; total time= 1.3min\n",
      "[CV] END gamma=0.1, learning_rate=0.1, max_depth=3, n_estimators=800, random_state=42, reg_alpha=0.3, reg_lambda=1; total time= 1.3min\n",
      "[CV] END gamma=0.1, learning_rate=0.1, max_depth=3, n_estimators=800, random_state=42, reg_alpha=0.3, reg_lambda=1; total time= 1.3min\n",
      "[CV] END gamma=0.1, learning_rate=0.1, max_depth=3, n_estimators=800, random_state=42, reg_alpha=0.3, reg_lambda=1; total time= 1.3min\n",
      "[CV] END gamma=0.1, learning_rate=0.1, max_depth=3, n_estimators=800, random_state=42, reg_alpha=0.3, reg_lambda=10; total time=  57.2s\n",
      "[CV] END gamma=0.1, learning_rate=0.1, max_depth=3, n_estimators=800, random_state=42, reg_alpha=0.3, reg_lambda=10; total time= 1.0min\n"
     ]
    },
    {
     "name": "stderr",
     "output_type": "stream",
     "text": [
      "/puhome/24112456g/.conda/envs/SHPC-env/lib/python3.10/site-packages/xgboost/core.py:158: UserWarning: [04:02:24] WARNING: /workspace/src/common/error_msg.cc:58: Falling back to prediction using DMatrix due to mismatched devices. This might lead to higher memory usage and slower performance. XGBoost is running on: cuda:0, while the input data is on: cpu.\n",
      "Potential solutions:\n",
      "- Use a data structure that matches the device ordinal in the booster.\n",
      "- Set the device for booster before call to inplace_predict.\n",
      "\n",
      "This warning will only be shown once.\n",
      "\n",
      "  warnings.warn(smsg, UserWarning)\n"
     ]
    },
    {
     "name": "stdout",
     "output_type": "stream",
     "text": [
      "[CV] END gamma=0.1, learning_rate=0.1, max_depth=3, n_estimators=800, random_state=42, reg_alpha=0.3, reg_lambda=10; total time= 1.0min\n"
     ]
    },
    {
     "name": "stderr",
     "output_type": "stream",
     "text": [
      "/puhome/24112456g/.conda/envs/SHPC-env/lib/python3.10/site-packages/xgboost/core.py:158: UserWarning: [04:02:43] WARNING: /workspace/src/common/error_msg.cc:58: Falling back to prediction using DMatrix due to mismatched devices. This might lead to higher memory usage and slower performance. XGBoost is running on: cuda:0, while the input data is on: cpu.\n",
      "Potential solutions:\n",
      "- Use a data structure that matches the device ordinal in the booster.\n",
      "- Set the device for booster before call to inplace_predict.\n",
      "\n",
      "This warning will only be shown once.\n",
      "\n",
      "  warnings.warn(smsg, UserWarning)\n"
     ]
    },
    {
     "name": "stdout",
     "output_type": "stream",
     "text": [
      "[CV] END gamma=0.1, learning_rate=0.1, max_depth=3, n_estimators=800, random_state=42, reg_alpha=0.3, reg_lambda=10; total time= 1.2min\n"
     ]
    },
    {
     "name": "stderr",
     "output_type": "stream",
     "text": [
      "/puhome/24112456g/.conda/envs/SHPC-env/lib/python3.10/site-packages/xgboost/core.py:158: UserWarning: [04:02:49] WARNING: /workspace/src/common/error_msg.cc:58: Falling back to prediction using DMatrix due to mismatched devices. This might lead to higher memory usage and slower performance. XGBoost is running on: cuda:0, while the input data is on: cpu.\n",
      "Potential solutions:\n",
      "- Use a data structure that matches the device ordinal in the booster.\n",
      "- Set the device for booster before call to inplace_predict.\n",
      "\n",
      "This warning will only be shown once.\n",
      "\n",
      "  warnings.warn(smsg, UserWarning)\n"
     ]
    },
    {
     "name": "stdout",
     "output_type": "stream",
     "text": [
      "[CV] END gamma=0.1, learning_rate=0.1, max_depth=3, n_estimators=800, random_state=42, reg_alpha=0.4, reg_lambda=0.1; total time= 1.1min\n",
      "[CV] END gamma=0.1, learning_rate=0.1, max_depth=3, n_estimators=800, random_state=42, reg_alpha=0.3, reg_lambda=10; total time= 1.3min\n"
     ]
    },
    {
     "name": "stderr",
     "output_type": "stream",
     "text": [
      "/puhome/24112456g/.conda/envs/SHPC-env/lib/python3.10/site-packages/xgboost/core.py:158: UserWarning: [04:02:58] WARNING: /workspace/src/common/error_msg.cc:58: Falling back to prediction using DMatrix due to mismatched devices. This might lead to higher memory usage and slower performance. XGBoost is running on: cuda:0, while the input data is on: cpu.\n",
      "Potential solutions:\n",
      "- Use a data structure that matches the device ordinal in the booster.\n",
      "- Set the device for booster before call to inplace_predict.\n",
      "\n",
      "This warning will only be shown once.\n",
      "\n",
      "  warnings.warn(smsg, UserWarning)\n"
     ]
    },
    {
     "name": "stdout",
     "output_type": "stream",
     "text": [
      "[CV] END gamma=0.1, learning_rate=0.1, max_depth=3, n_estimators=800, random_state=42, reg_alpha=0.4, reg_lambda=0.1; total time= 1.1min\n",
      "[CV] END gamma=0.1, learning_rate=0.1, max_depth=3, n_estimators=800, random_state=42, reg_alpha=0.4, reg_lambda=0.1; total time=  60.0s\n",
      "[CV] END gamma=0.1, learning_rate=0.1, max_depth=3, n_estimators=800, random_state=42, reg_alpha=0.4, reg_lambda=0.1; total time=  57.2s\n",
      "[CV] END gamma=0.1, learning_rate=0.1, max_depth=3, n_estimators=800, random_state=42, reg_alpha=0.4, reg_lambda=0.1; total time= 1.3min\n",
      "[CV] END gamma=0.1, learning_rate=0.1, max_depth=3, n_estimators=800, random_state=42, reg_alpha=0.4, reg_lambda=1; total time= 1.2min\n"
     ]
    },
    {
     "name": "stderr",
     "output_type": "stream",
     "text": [
      "/puhome/24112456g/.conda/envs/SHPC-env/lib/python3.10/site-packages/xgboost/core.py:158: UserWarning: [04:04:14] WARNING: /workspace/src/common/error_msg.cc:58: Falling back to prediction using DMatrix due to mismatched devices. This might lead to higher memory usage and slower performance. XGBoost is running on: cuda:0, while the input data is on: cpu.\n",
      "Potential solutions:\n",
      "- Use a data structure that matches the device ordinal in the booster.\n",
      "- Set the device for booster before call to inplace_predict.\n",
      "\n",
      "This warning will only be shown once.\n",
      "\n",
      "  warnings.warn(smsg, UserWarning)\n"
     ]
    },
    {
     "name": "stdout",
     "output_type": "stream",
     "text": [
      "[CV] END gamma=0.1, learning_rate=0.1, max_depth=3, n_estimators=800, random_state=42, reg_alpha=0.4, reg_lambda=1; total time= 1.3min\n",
      "[CV] END gamma=0.1, learning_rate=0.1, max_depth=3, n_estimators=800, random_state=42, reg_alpha=0.4, reg_lambda=1; total time= 1.4min\n"
     ]
    },
    {
     "name": "stderr",
     "output_type": "stream",
     "text": [
      "/puhome/24112456g/.conda/envs/SHPC-env/lib/python3.10/site-packages/xgboost/core.py:158: UserWarning: [04:04:26] WARNING: /workspace/src/common/error_msg.cc:58: Falling back to prediction using DMatrix due to mismatched devices. This might lead to higher memory usage and slower performance. XGBoost is running on: cuda:0, while the input data is on: cpu.\n",
      "Potential solutions:\n",
      "- Use a data structure that matches the device ordinal in the booster.\n",
      "- Set the device for booster before call to inplace_predict.\n",
      "\n",
      "This warning will only be shown once.\n",
      "\n",
      "  warnings.warn(smsg, UserWarning)\n"
     ]
    },
    {
     "name": "stdout",
     "output_type": "stream",
     "text": [
      "[CV] END gamma=0.1, learning_rate=0.1, max_depth=3, n_estimators=800, random_state=42, reg_alpha=0.4, reg_lambda=1; total time= 1.2min\n"
     ]
    },
    {
     "name": "stderr",
     "output_type": "stream",
     "text": [
      "/puhome/24112456g/.conda/envs/SHPC-env/lib/python3.10/site-packages/xgboost/core.py:158: UserWarning: [04:04:29] WARNING: /workspace/src/common/error_msg.cc:58: Falling back to prediction using DMatrix due to mismatched devices. This might lead to higher memory usage and slower performance. XGBoost is running on: cuda:0, while the input data is on: cpu.\n",
      "Potential solutions:\n",
      "- Use a data structure that matches the device ordinal in the booster.\n",
      "- Set the device for booster before call to inplace_predict.\n",
      "\n",
      "This warning will only be shown once.\n",
      "\n",
      "  warnings.warn(smsg, UserWarning)\n"
     ]
    },
    {
     "name": "stdout",
     "output_type": "stream",
     "text": [
      "[CV] END gamma=0.1, learning_rate=0.1, max_depth=3, n_estimators=800, random_state=42, reg_alpha=0.4, reg_lambda=1; total time= 1.0min\n"
     ]
    },
    {
     "name": "stderr",
     "output_type": "stream",
     "text": [
      "/puhome/24112456g/.conda/envs/SHPC-env/lib/python3.10/site-packages/xgboost/core.py:158: UserWarning: [04:04:55] WARNING: /workspace/src/common/error_msg.cc:58: Falling back to prediction using DMatrix due to mismatched devices. This might lead to higher memory usage and slower performance. XGBoost is running on: cuda:0, while the input data is on: cpu.\n",
      "Potential solutions:\n",
      "- Use a data structure that matches the device ordinal in the booster.\n",
      "- Set the device for booster before call to inplace_predict.\n",
      "\n",
      "This warning will only be shown once.\n",
      "\n",
      "  warnings.warn(smsg, UserWarning)\n"
     ]
    },
    {
     "name": "stdout",
     "output_type": "stream",
     "text": [
      "[CV] END gamma=0.1, learning_rate=0.1, max_depth=3, n_estimators=800, random_state=42, reg_alpha=0.4, reg_lambda=10; total time=  48.8s\n"
     ]
    },
    {
     "name": "stderr",
     "output_type": "stream",
     "text": [
      "/puhome/24112456g/.conda/envs/SHPC-env/lib/python3.10/site-packages/xgboost/core.py:158: UserWarning: [04:05:07] WARNING: /workspace/src/common/error_msg.cc:58: Falling back to prediction using DMatrix due to mismatched devices. This might lead to higher memory usage and slower performance. XGBoost is running on: cuda:0, while the input data is on: cpu.\n",
      "Potential solutions:\n",
      "- Use a data structure that matches the device ordinal in the booster.\n",
      "- Set the device for booster before call to inplace_predict.\n",
      "\n",
      "This warning will only be shown once.\n",
      "\n",
      "  warnings.warn(smsg, UserWarning)\n"
     ]
    },
    {
     "name": "stdout",
     "output_type": "stream",
     "text": [
      "[CV] END gamma=0.1, learning_rate=0.1, max_depth=3, n_estimators=800, random_state=42, reg_alpha=0.4, reg_lambda=10; total time=  57.9s\n",
      "[CV] END gamma=0.1, learning_rate=0.05, max_depth=2, n_estimators=400, random_state=42, reg_alpha=0, reg_lambda=0.1; total time=  57.2s\n",
      "[CV] END gamma=0.1, learning_rate=0.1, max_depth=3, n_estimators=800, random_state=42, reg_alpha=0.4, reg_lambda=10; total time= 1.2min\n",
      "[CV] END gamma=0.1, learning_rate=0.1, max_depth=3, n_estimators=800, random_state=42, reg_alpha=0.4, reg_lambda=10; total time= 1.3min\n",
      "[CV] END gamma=0.1, learning_rate=0.1, max_depth=3, n_estimators=800, random_state=42, reg_alpha=0.4, reg_lambda=10; total time= 1.2min\n",
      "[CV] END gamma=0.1, learning_rate=0.05, max_depth=2, n_estimators=400, random_state=42, reg_alpha=0, reg_lambda=0.1; total time=  50.1s\n",
      "[CV] END gamma=0.1, learning_rate=0.05, max_depth=2, n_estimators=400, random_state=42, reg_alpha=0, reg_lambda=0.1; total time=  49.5s\n"
     ]
    },
    {
     "name": "stderr",
     "output_type": "stream",
     "text": [
      "/puhome/24112456g/.conda/envs/SHPC-env/lib/python3.10/site-packages/xgboost/core.py:158: UserWarning: [04:06:19] WARNING: /workspace/src/common/error_msg.cc:58: Falling back to prediction using DMatrix due to mismatched devices. This might lead to higher memory usage and slower performance. XGBoost is running on: cuda:0, while the input data is on: cpu.\n",
      "Potential solutions:\n",
      "- Use a data structure that matches the device ordinal in the booster.\n",
      "- Set the device for booster before call to inplace_predict.\n",
      "\n",
      "This warning will only be shown once.\n",
      "\n",
      "  warnings.warn(smsg, UserWarning)\n"
     ]
    },
    {
     "name": "stdout",
     "output_type": "stream",
     "text": [
      "[CV] END gamma=0.1, learning_rate=0.05, max_depth=2, n_estimators=400, random_state=42, reg_alpha=0, reg_lambda=0.1; total time=  46.7s\n"
     ]
    },
    {
     "name": "stderr",
     "output_type": "stream",
     "text": [
      "/puhome/24112456g/.conda/envs/SHPC-env/lib/python3.10/site-packages/xgboost/core.py:158: UserWarning: [04:06:22] WARNING: /workspace/src/common/error_msg.cc:58: Falling back to prediction using DMatrix due to mismatched devices. This might lead to higher memory usage and slower performance. XGBoost is running on: cuda:0, while the input data is on: cpu.\n",
      "Potential solutions:\n",
      "- Use a data structure that matches the device ordinal in the booster.\n",
      "- Set the device for booster before call to inplace_predict.\n",
      "\n",
      "This warning will only be shown once.\n",
      "\n",
      "  warnings.warn(smsg, UserWarning)\n"
     ]
    },
    {
     "name": "stdout",
     "output_type": "stream",
     "text": [
      "[CV] END gamma=0.1, learning_rate=0.05, max_depth=2, n_estimators=400, random_state=42, reg_alpha=0, reg_lambda=0.1; total time=  48.1s\n"
     ]
    },
    {
     "name": "stderr",
     "output_type": "stream",
     "text": [
      "/puhome/24112456g/.conda/envs/SHPC-env/lib/python3.10/site-packages/xgboost/core.py:158: UserWarning: [04:06:26] WARNING: /workspace/src/common/error_msg.cc:58: Falling back to prediction using DMatrix due to mismatched devices. This might lead to higher memory usage and slower performance. XGBoost is running on: cuda:0, while the input data is on: cpu.\n",
      "Potential solutions:\n",
      "- Use a data structure that matches the device ordinal in the booster.\n",
      "- Set the device for booster before call to inplace_predict.\n",
      "\n",
      "This warning will only be shown once.\n",
      "\n",
      "  warnings.warn(smsg, UserWarning)\n"
     ]
    },
    {
     "name": "stdout",
     "output_type": "stream",
     "text": [
      "[CV] END gamma=0.1, learning_rate=0.05, max_depth=2, n_estimators=400, random_state=42, reg_alpha=0, reg_lambda=1; total time=  43.1s\n"
     ]
    },
    {
     "name": "stderr",
     "output_type": "stream",
     "text": [
      "/puhome/24112456g/.conda/envs/SHPC-env/lib/python3.10/site-packages/xgboost/core.py:158: UserWarning: [04:06:31] WARNING: /workspace/src/common/error_msg.cc:58: Falling back to prediction using DMatrix due to mismatched devices. This might lead to higher memory usage and slower performance. XGBoost is running on: cuda:0, while the input data is on: cpu.\n",
      "Potential solutions:\n",
      "- Use a data structure that matches the device ordinal in the booster.\n",
      "- Set the device for booster before call to inplace_predict.\n",
      "\n",
      "This warning will only be shown once.\n",
      "\n",
      "  warnings.warn(smsg, UserWarning)\n"
     ]
    },
    {
     "name": "stdout",
     "output_type": "stream",
     "text": [
      "[CV] END gamma=0.1, learning_rate=0.05, max_depth=2, n_estimators=400, random_state=42, reg_alpha=0, reg_lambda=1; total time=  46.2s\n"
     ]
    },
    {
     "name": "stderr",
     "output_type": "stream",
     "text": [
      "/puhome/24112456g/.conda/envs/SHPC-env/lib/python3.10/site-packages/xgboost/core.py:158: UserWarning: [04:06:34] WARNING: /workspace/src/common/error_msg.cc:58: Falling back to prediction using DMatrix due to mismatched devices. This might lead to higher memory usage and slower performance. XGBoost is running on: cuda:0, while the input data is on: cpu.\n",
      "Potential solutions:\n",
      "- Use a data structure that matches the device ordinal in the booster.\n",
      "- Set the device for booster before call to inplace_predict.\n",
      "\n",
      "This warning will only be shown once.\n",
      "\n",
      "  warnings.warn(smsg, UserWarning)\n"
     ]
    },
    {
     "name": "stdout",
     "output_type": "stream",
     "text": [
      "[CV] END gamma=0.1, learning_rate=0.05, max_depth=2, n_estimators=400, random_state=42, reg_alpha=0, reg_lambda=1; total time=  43.9s\n",
      "[CV] END gamma=0.1, learning_rate=0.05, max_depth=2, n_estimators=400, random_state=42, reg_alpha=0, reg_lambda=1; total time=  49.3s\n",
      "[CV] END gamma=0.1, learning_rate=0.05, max_depth=2, n_estimators=400, random_state=42, reg_alpha=0, reg_lambda=10; total time=  49.6s\n",
      "[CV] END gamma=0.1, learning_rate=0.05, max_depth=2, n_estimators=400, random_state=42, reg_alpha=0, reg_lambda=1; total time=  54.4s\n",
      "[CV] END gamma=0.1, learning_rate=0.05, max_depth=2, n_estimators=400, random_state=42, reg_alpha=0, reg_lambda=10; total time=  54.4s\n",
      "[CV] END gamma=0.1, learning_rate=0.05, max_depth=2, n_estimators=400, random_state=42, reg_alpha=0, reg_lambda=10; total time=  54.1s\n",
      "[CV] END gamma=0.1, learning_rate=0.05, max_depth=2, n_estimators=400, random_state=42, reg_alpha=0, reg_lambda=10; total time=  52.6s\n"
     ]
    },
    {
     "name": "stderr",
     "output_type": "stream",
     "text": [
      "/puhome/24112456g/.conda/envs/SHPC-env/lib/python3.10/site-packages/xgboost/core.py:158: UserWarning: [04:07:35] WARNING: /workspace/src/common/error_msg.cc:58: Falling back to prediction using DMatrix due to mismatched devices. This might lead to higher memory usage and slower performance. XGBoost is running on: cuda:0, while the input data is on: cpu.\n",
      "Potential solutions:\n",
      "- Use a data structure that matches the device ordinal in the booster.\n",
      "- Set the device for booster before call to inplace_predict.\n",
      "\n",
      "This warning will only be shown once.\n",
      "\n",
      "  warnings.warn(smsg, UserWarning)\n"
     ]
    },
    {
     "name": "stdout",
     "output_type": "stream",
     "text": [
      "[CV] END gamma=0.1, learning_rate=0.05, max_depth=2, n_estimators=400, random_state=42, reg_alpha=0, reg_lambda=10; total time=  43.6s\n"
     ]
    },
    {
     "name": "stderr",
     "output_type": "stream",
     "text": [
      "/puhome/24112456g/.conda/envs/SHPC-env/lib/python3.10/site-packages/xgboost/core.py:158: UserWarning: [04:07:56] WARNING: /workspace/src/common/error_msg.cc:58: Falling back to prediction using DMatrix due to mismatched devices. This might lead to higher memory usage and slower performance. XGBoost is running on: cuda:0, while the input data is on: cpu.\n",
      "Potential solutions:\n",
      "- Use a data structure that matches the device ordinal in the booster.\n",
      "- Set the device for booster before call to inplace_predict.\n",
      "\n",
      "This warning will only be shown once.\n",
      "\n",
      "  warnings.warn(smsg, UserWarning)\n"
     ]
    },
    {
     "name": "stdout",
     "output_type": "stream",
     "text": [
      "[CV] END gamma=0.1, learning_rate=0.05, max_depth=2, n_estimators=400, random_state=42, reg_alpha=0.2, reg_lambda=0.1; total time=  38.1s\n"
     ]
    },
    {
     "name": "stderr",
     "output_type": "stream",
     "text": [
      "/puhome/24112456g/.conda/envs/SHPC-env/lib/python3.10/site-packages/xgboost/core.py:158: UserWarning: [04:08:02] WARNING: /workspace/src/common/error_msg.cc:58: Falling back to prediction using DMatrix due to mismatched devices. This might lead to higher memory usage and slower performance. XGBoost is running on: cuda:0, while the input data is on: cpu.\n",
      "Potential solutions:\n",
      "- Use a data structure that matches the device ordinal in the booster.\n",
      "- Set the device for booster before call to inplace_predict.\n",
      "\n",
      "This warning will only be shown once.\n",
      "\n",
      "  warnings.warn(smsg, UserWarning)\n"
     ]
    },
    {
     "name": "stdout",
     "output_type": "stream",
     "text": [
      "[CV] END gamma=0.1, learning_rate=0.05, max_depth=2, n_estimators=400, random_state=42, reg_alpha=0.2, reg_lambda=0.1; total time=  42.7s\n"
     ]
    },
    {
     "name": "stderr",
     "output_type": "stream",
     "text": [
      "/puhome/24112456g/.conda/envs/SHPC-env/lib/python3.10/site-packages/xgboost/core.py:158: UserWarning: [04:08:09] WARNING: /workspace/src/common/error_msg.cc:58: Falling back to prediction using DMatrix due to mismatched devices. This might lead to higher memory usage and slower performance. XGBoost is running on: cuda:0, while the input data is on: cpu.\n",
      "Potential solutions:\n",
      "- Use a data structure that matches the device ordinal in the booster.\n",
      "- Set the device for booster before call to inplace_predict.\n",
      "\n",
      "This warning will only be shown once.\n",
      "\n",
      "  warnings.warn(smsg, UserWarning)\n"
     ]
    },
    {
     "name": "stdout",
     "output_type": "stream",
     "text": [
      "[CV] END gamma=0.1, learning_rate=0.05, max_depth=2, n_estimators=400, random_state=42, reg_alpha=0.2, reg_lambda=0.1; total time=  42.9s\n"
     ]
    },
    {
     "name": "stderr",
     "output_type": "stream",
     "text": [
      "/puhome/24112456g/.conda/envs/SHPC-env/lib/python3.10/site-packages/xgboost/core.py:158: UserWarning: [04:08:18] WARNING: /workspace/src/common/error_msg.cc:58: Falling back to prediction using DMatrix due to mismatched devices. This might lead to higher memory usage and slower performance. XGBoost is running on: cuda:0, while the input data is on: cpu.\n",
      "Potential solutions:\n",
      "- Use a data structure that matches the device ordinal in the booster.\n",
      "- Set the device for booster before call to inplace_predict.\n",
      "\n",
      "This warning will only be shown once.\n",
      "\n",
      "  warnings.warn(smsg, UserWarning)\n"
     ]
    },
    {
     "name": "stdout",
     "output_type": "stream",
     "text": [
      "[CV] END gamma=0.1, learning_rate=0.05, max_depth=2, n_estimators=400, random_state=42, reg_alpha=0.2, reg_lambda=0.1; total time=  47.3s\n"
     ]
    },
    {
     "name": "stderr",
     "output_type": "stream",
     "text": [
      "/puhome/24112456g/.conda/envs/SHPC-env/lib/python3.10/site-packages/xgboost/core.py:158: UserWarning: [04:08:21] WARNING: /workspace/src/common/error_msg.cc:58: Falling back to prediction using DMatrix due to mismatched devices. This might lead to higher memory usage and slower performance. XGBoost is running on: cuda:0, while the input data is on: cpu.\n",
      "Potential solutions:\n",
      "- Use a data structure that matches the device ordinal in the booster.\n",
      "- Set the device for booster before call to inplace_predict.\n",
      "\n",
      "This warning will only be shown once.\n",
      "\n",
      "  warnings.warn(smsg, UserWarning)\n"
     ]
    },
    {
     "name": "stdout",
     "output_type": "stream",
     "text": [
      "[CV] END gamma=0.1, learning_rate=0.05, max_depth=2, n_estimators=400, random_state=42, reg_alpha=0.2, reg_lambda=0.1; total time=  48.0s\n",
      "[CV] END gamma=0.1, learning_rate=0.05, max_depth=2, n_estimators=400, random_state=42, reg_alpha=0.2, reg_lambda=1; total time=  48.3s\n",
      "[CV] END gamma=0.1, learning_rate=0.05, max_depth=2, n_estimators=400, random_state=42, reg_alpha=0.2, reg_lambda=1; total time=  49.6s\n",
      "[CV] END gamma=0.1, learning_rate=0.05, max_depth=2, n_estimators=400, random_state=42, reg_alpha=0.2, reg_lambda=1; total time=  49.6s\n",
      "[CV] END gamma=0.1, learning_rate=0.05, max_depth=2, n_estimators=400, random_state=42, reg_alpha=0.2, reg_lambda=1; total time=  49.3s\n",
      "[CV] END gamma=0.1, learning_rate=0.05, max_depth=2, n_estimators=400, random_state=42, reg_alpha=0.2, reg_lambda=10; total time=  48.9s\n"
     ]
    },
    {
     "name": "stderr",
     "output_type": "stream",
     "text": [
      "/puhome/24112456g/.conda/envs/SHPC-env/lib/python3.10/site-packages/xgboost/core.py:158: UserWarning: [04:09:15] WARNING: /workspace/src/common/error_msg.cc:58: Falling back to prediction using DMatrix due to mismatched devices. This might lead to higher memory usage and slower performance. XGBoost is running on: cuda:0, while the input data is on: cpu.\n",
      "Potential solutions:\n",
      "- Use a data structure that matches the device ordinal in the booster.\n",
      "- Set the device for booster before call to inplace_predict.\n",
      "\n",
      "This warning will only be shown once.\n",
      "\n",
      "  warnings.warn(smsg, UserWarning)\n"
     ]
    },
    {
     "name": "stdout",
     "output_type": "stream",
     "text": [
      "[CV] END gamma=0.1, learning_rate=0.05, max_depth=2, n_estimators=400, random_state=42, reg_alpha=0.2, reg_lambda=1; total time=  55.2s\n",
      "[CV] END gamma=0.1, learning_rate=0.05, max_depth=2, n_estimators=400, random_state=42, reg_alpha=0.2, reg_lambda=10; total time=  45.9s\n"
     ]
    },
    {
     "name": "stderr",
     "output_type": "stream",
     "text": [
      "/puhome/24112456g/.conda/envs/SHPC-env/lib/python3.10/site-packages/xgboost/core.py:158: UserWarning: [04:09:35] WARNING: /workspace/src/common/error_msg.cc:58: Falling back to prediction using DMatrix due to mismatched devices. This might lead to higher memory usage and slower performance. XGBoost is running on: cuda:0, while the input data is on: cpu.\n",
      "Potential solutions:\n",
      "- Use a data structure that matches the device ordinal in the booster.\n",
      "- Set the device for booster before call to inplace_predict.\n",
      "\n",
      "This warning will only be shown once.\n",
      "\n",
      "  warnings.warn(smsg, UserWarning)\n"
     ]
    },
    {
     "name": "stdout",
     "output_type": "stream",
     "text": [
      "[CV] END gamma=0.1, learning_rate=0.05, max_depth=2, n_estimators=400, random_state=42, reg_alpha=0.2, reg_lambda=10; total time=  43.1s\n"
     ]
    },
    {
     "name": "stderr",
     "output_type": "stream",
     "text": [
      "/puhome/24112456g/.conda/envs/SHPC-env/lib/python3.10/site-packages/xgboost/core.py:158: UserWarning: [04:09:41] WARNING: /workspace/src/common/error_msg.cc:58: Falling back to prediction using DMatrix due to mismatched devices. This might lead to higher memory usage and slower performance. XGBoost is running on: cuda:0, while the input data is on: cpu.\n",
      "Potential solutions:\n",
      "- Use a data structure that matches the device ordinal in the booster.\n",
      "- Set the device for booster before call to inplace_predict.\n",
      "\n",
      "This warning will only be shown once.\n",
      "\n",
      "  warnings.warn(smsg, UserWarning)\n"
     ]
    },
    {
     "name": "stdout",
     "output_type": "stream",
     "text": [
      "[CV] END gamma=0.1, learning_rate=0.05, max_depth=2, n_estimators=400, random_state=42, reg_alpha=0.2, reg_lambda=10; total time=  42.9s\n"
     ]
    },
    {
     "name": "stderr",
     "output_type": "stream",
     "text": [
      "/puhome/24112456g/.conda/envs/SHPC-env/lib/python3.10/site-packages/xgboost/core.py:158: UserWarning: [04:09:47] WARNING: /workspace/src/common/error_msg.cc:58: Falling back to prediction using DMatrix due to mismatched devices. This might lead to higher memory usage and slower performance. XGBoost is running on: cuda:0, while the input data is on: cpu.\n",
      "Potential solutions:\n",
      "- Use a data structure that matches the device ordinal in the booster.\n",
      "- Set the device for booster before call to inplace_predict.\n",
      "\n",
      "This warning will only be shown once.\n",
      "\n",
      "  warnings.warn(smsg, UserWarning)\n"
     ]
    },
    {
     "name": "stdout",
     "output_type": "stream",
     "text": [
      "[CV] END gamma=0.1, learning_rate=0.05, max_depth=2, n_estimators=400, random_state=42, reg_alpha=0.2, reg_lambda=10; total time=  42.5s\n"
     ]
    },
    {
     "name": "stderr",
     "output_type": "stream",
     "text": [
      "/puhome/24112456g/.conda/envs/SHPC-env/lib/python3.10/site-packages/xgboost/core.py:158: UserWarning: [04:09:54] WARNING: /workspace/src/common/error_msg.cc:58: Falling back to prediction using DMatrix due to mismatched devices. This might lead to higher memory usage and slower performance. XGBoost is running on: cuda:0, while the input data is on: cpu.\n",
      "Potential solutions:\n",
      "- Use a data structure that matches the device ordinal in the booster.\n",
      "- Set the device for booster before call to inplace_predict.\n",
      "\n",
      "This warning will only be shown once.\n",
      "\n",
      "  warnings.warn(smsg, UserWarning)\n"
     ]
    },
    {
     "name": "stdout",
     "output_type": "stream",
     "text": [
      "[CV] END gamma=0.1, learning_rate=0.05, max_depth=2, n_estimators=400, random_state=42, reg_alpha=0.3, reg_lambda=0.1; total time=  37.9s\n"
     ]
    },
    {
     "name": "stderr",
     "output_type": "stream",
     "text": [
      "/puhome/24112456g/.conda/envs/SHPC-env/lib/python3.10/site-packages/xgboost/core.py:158: UserWarning: [04:10:04] WARNING: /workspace/src/common/error_msg.cc:58: Falling back to prediction using DMatrix due to mismatched devices. This might lead to higher memory usage and slower performance. XGBoost is running on: cuda:0, while the input data is on: cpu.\n",
      "Potential solutions:\n",
      "- Use a data structure that matches the device ordinal in the booster.\n",
      "- Set the device for booster before call to inplace_predict.\n",
      "\n",
      "This warning will only be shown once.\n",
      "\n",
      "  warnings.warn(smsg, UserWarning)\n"
     ]
    },
    {
     "name": "stdout",
     "output_type": "stream",
     "text": [
      "[CV] END gamma=0.1, learning_rate=0.05, max_depth=2, n_estimators=400, random_state=42, reg_alpha=0.3, reg_lambda=0.1; total time=  44.4s\n",
      "[CV] END gamma=0.1, learning_rate=0.05, max_depth=2, n_estimators=400, random_state=42, reg_alpha=0.3, reg_lambda=0.1; total time=  51.5s\n",
      "[CV] END gamma=0.1, learning_rate=0.05, max_depth=2, n_estimators=400, random_state=42, reg_alpha=0.3, reg_lambda=0.1; total time=  49.3s\n",
      "[CV] END gamma=0.1, learning_rate=0.05, max_depth=2, n_estimators=400, random_state=42, reg_alpha=0.3, reg_lambda=0.1; total time=  52.7s\n",
      "[CV] END gamma=0.1, learning_rate=0.05, max_depth=2, n_estimators=400, random_state=42, reg_alpha=0.3, reg_lambda=1; total time=  48.0s\n",
      "[CV] END gamma=0.1, learning_rate=0.05, max_depth=2, n_estimators=400, random_state=42, reg_alpha=0.3, reg_lambda=1; total time=  49.3s\n"
     ]
    },
    {
     "name": "stderr",
     "output_type": "stream",
     "text": [
      "/puhome/24112456g/.conda/envs/SHPC-env/lib/python3.10/site-packages/xgboost/core.py:158: UserWarning: [04:10:58] WARNING: /workspace/src/common/error_msg.cc:58: Falling back to prediction using DMatrix due to mismatched devices. This might lead to higher memory usage and slower performance. XGBoost is running on: cuda:0, while the input data is on: cpu.\n",
      "Potential solutions:\n",
      "- Use a data structure that matches the device ordinal in the booster.\n",
      "- Set the device for booster before call to inplace_predict.\n",
      "\n",
      "This warning will only be shown once.\n",
      "\n",
      "  warnings.warn(smsg, UserWarning)\n"
     ]
    },
    {
     "name": "stdout",
     "output_type": "stream",
     "text": [
      "[CV] END gamma=0.1, learning_rate=0.05, max_depth=2, n_estimators=400, random_state=42, reg_alpha=0.3, reg_lambda=1; total time=  52.8s\n",
      "[CV] END gamma=0.1, learning_rate=0.05, max_depth=2, n_estimators=400, random_state=42, reg_alpha=0.3, reg_lambda=1; total time=  45.5s\n"
     ]
    },
    {
     "name": "stderr",
     "output_type": "stream",
     "text": [
      "/puhome/24112456g/.conda/envs/SHPC-env/lib/python3.10/site-packages/xgboost/core.py:158: UserWarning: [04:11:13] WARNING: /workspace/src/common/error_msg.cc:58: Falling back to prediction using DMatrix due to mismatched devices. This might lead to higher memory usage and slower performance. XGBoost is running on: cuda:0, while the input data is on: cpu.\n",
      "Potential solutions:\n",
      "- Use a data structure that matches the device ordinal in the booster.\n",
      "- Set the device for booster before call to inplace_predict.\n",
      "\n",
      "This warning will only be shown once.\n",
      "\n",
      "  warnings.warn(smsg, UserWarning)\n"
     ]
    },
    {
     "name": "stdout",
     "output_type": "stream",
     "text": [
      "[CV] END gamma=0.1, learning_rate=0.05, max_depth=2, n_estimators=400, random_state=42, reg_alpha=0.3, reg_lambda=1; total time=  43.7s\n"
     ]
    },
    {
     "name": "stderr",
     "output_type": "stream",
     "text": [
      "/puhome/24112456g/.conda/envs/SHPC-env/lib/python3.10/site-packages/xgboost/core.py:158: UserWarning: [04:11:19] WARNING: /workspace/src/common/error_msg.cc:58: Falling back to prediction using DMatrix due to mismatched devices. This might lead to higher memory usage and slower performance. XGBoost is running on: cuda:0, while the input data is on: cpu.\n",
      "Potential solutions:\n",
      "- Use a data structure that matches the device ordinal in the booster.\n",
      "- Set the device for booster before call to inplace_predict.\n",
      "\n",
      "This warning will only be shown once.\n",
      "\n",
      "  warnings.warn(smsg, UserWarning)\n"
     ]
    },
    {
     "name": "stdout",
     "output_type": "stream",
     "text": [
      "[CV] END gamma=0.1, learning_rate=0.05, max_depth=2, n_estimators=400, random_state=42, reg_alpha=0.3, reg_lambda=10; total time=  39.6s\n"
     ]
    },
    {
     "name": "stderr",
     "output_type": "stream",
     "text": [
      "/puhome/24112456g/.conda/envs/SHPC-env/lib/python3.10/site-packages/xgboost/core.py:158: UserWarning: [04:11:24] WARNING: /workspace/src/common/error_msg.cc:58: Falling back to prediction using DMatrix due to mismatched devices. This might lead to higher memory usage and slower performance. XGBoost is running on: cuda:0, while the input data is on: cpu.\n",
      "Potential solutions:\n",
      "- Use a data structure that matches the device ordinal in the booster.\n",
      "- Set the device for booster before call to inplace_predict.\n",
      "\n",
      "This warning will only be shown once.\n",
      "\n",
      "  warnings.warn(smsg, UserWarning)\n"
     ]
    },
    {
     "name": "stdout",
     "output_type": "stream",
     "text": [
      "[CV] END gamma=0.1, learning_rate=0.05, max_depth=2, n_estimators=400, random_state=42, reg_alpha=0.3, reg_lambda=10; total time=  43.3s\n"
     ]
    },
    {
     "name": "stderr",
     "output_type": "stream",
     "text": [
      "/puhome/24112456g/.conda/envs/SHPC-env/lib/python3.10/site-packages/xgboost/core.py:158: UserWarning: [04:11:31] WARNING: /workspace/src/common/error_msg.cc:58: Falling back to prediction using DMatrix due to mismatched devices. This might lead to higher memory usage and slower performance. XGBoost is running on: cuda:0, while the input data is on: cpu.\n",
      "Potential solutions:\n",
      "- Use a data structure that matches the device ordinal in the booster.\n",
      "- Set the device for booster before call to inplace_predict.\n",
      "\n",
      "This warning will only be shown once.\n",
      "\n",
      "  warnings.warn(smsg, UserWarning)\n"
     ]
    },
    {
     "name": "stdout",
     "output_type": "stream",
     "text": [
      "[CV] END gamma=0.1, learning_rate=0.05, max_depth=2, n_estimators=400, random_state=42, reg_alpha=0.3, reg_lambda=10; total time=  42.9s\n"
     ]
    },
    {
     "name": "stderr",
     "output_type": "stream",
     "text": [
      "/puhome/24112456g/.conda/envs/SHPC-env/lib/python3.10/site-packages/xgboost/core.py:158: UserWarning: [04:11:47] WARNING: /workspace/src/common/error_msg.cc:58: Falling back to prediction using DMatrix due to mismatched devices. This might lead to higher memory usage and slower performance. XGBoost is running on: cuda:0, while the input data is on: cpu.\n",
      "Potential solutions:\n",
      "- Use a data structure that matches the device ordinal in the booster.\n",
      "- Set the device for booster before call to inplace_predict.\n",
      "\n",
      "This warning will only be shown once.\n",
      "\n",
      "  warnings.warn(smsg, UserWarning)\n"
     ]
    },
    {
     "name": "stdout",
     "output_type": "stream",
     "text": [
      "[CV] END gamma=0.1, learning_rate=0.05, max_depth=2, n_estimators=400, random_state=42, reg_alpha=0.3, reg_lambda=10; total time=  44.7s\n",
      "[CV] END gamma=0.1, learning_rate=0.05, max_depth=2, n_estimators=400, random_state=42, reg_alpha=0.3, reg_lambda=10; total time=  52.2s\n",
      "[CV] END gamma=0.1, learning_rate=0.05, max_depth=2, n_estimators=400, random_state=42, reg_alpha=0.4, reg_lambda=0.1; total time=  45.5s\n",
      "[CV] END gamma=0.1, learning_rate=0.05, max_depth=2, n_estimators=400, random_state=42, reg_alpha=0.4, reg_lambda=0.1; total time=  49.7s\n",
      "[CV] END gamma=0.1, learning_rate=0.05, max_depth=2, n_estimators=400, random_state=42, reg_alpha=0.4, reg_lambda=0.1; total time=  50.0s\n",
      "[CV] END gamma=0.1, learning_rate=0.05, max_depth=2, n_estimators=400, random_state=42, reg_alpha=0.4, reg_lambda=0.1; total time=  49.4s\n"
     ]
    },
    {
     "name": "stderr",
     "output_type": "stream",
     "text": [
      "/puhome/24112456g/.conda/envs/SHPC-env/lib/python3.10/site-packages/xgboost/core.py:158: UserWarning: [04:12:37] WARNING: /workspace/src/common/error_msg.cc:58: Falling back to prediction using DMatrix due to mismatched devices. This might lead to higher memory usage and slower performance. XGBoost is running on: cuda:0, while the input data is on: cpu.\n",
      "Potential solutions:\n",
      "- Use a data structure that matches the device ordinal in the booster.\n",
      "- Set the device for booster before call to inplace_predict.\n",
      "\n",
      "This warning will only be shown once.\n",
      "\n",
      "  warnings.warn(smsg, UserWarning)\n"
     ]
    },
    {
     "name": "stdout",
     "output_type": "stream",
     "text": [
      "[CV] END gamma=0.1, learning_rate=0.05, max_depth=2, n_estimators=400, random_state=42, reg_alpha=0.4, reg_lambda=1; total time=  40.4s\n",
      "[CV] END gamma=0.1, learning_rate=0.05, max_depth=2, n_estimators=400, random_state=42, reg_alpha=0.4, reg_lambda=0.1; total time=  52.2s\n"
     ]
    },
    {
     "name": "stderr",
     "output_type": "stream",
     "text": [
      "/puhome/24112456g/.conda/envs/SHPC-env/lib/python3.10/site-packages/xgboost/core.py:158: UserWarning: [04:12:47] WARNING: /workspace/src/common/error_msg.cc:58: Falling back to prediction using DMatrix due to mismatched devices. This might lead to higher memory usage and slower performance. XGBoost is running on: cuda:0, while the input data is on: cpu.\n",
      "Potential solutions:\n",
      "- Use a data structure that matches the device ordinal in the booster.\n",
      "- Set the device for booster before call to inplace_predict.\n",
      "\n",
      "This warning will only be shown once.\n",
      "\n",
      "  warnings.warn(smsg, UserWarning)\n"
     ]
    },
    {
     "name": "stdout",
     "output_type": "stream",
     "text": [
      "[CV] END gamma=0.1, learning_rate=0.05, max_depth=2, n_estimators=400, random_state=42, reg_alpha=0.4, reg_lambda=1; total time=  42.6s\n"
     ]
    },
    {
     "name": "stderr",
     "output_type": "stream",
     "text": [
      "/puhome/24112456g/.conda/envs/SHPC-env/lib/python3.10/site-packages/xgboost/core.py:158: UserWarning: [04:12:58] WARNING: /workspace/src/common/error_msg.cc:58: Falling back to prediction using DMatrix due to mismatched devices. This might lead to higher memory usage and slower performance. XGBoost is running on: cuda:0, while the input data is on: cpu.\n",
      "Potential solutions:\n",
      "- Use a data structure that matches the device ordinal in the booster.\n",
      "- Set the device for booster before call to inplace_predict.\n",
      "\n",
      "This warning will only be shown once.\n",
      "\n",
      "  warnings.warn(smsg, UserWarning)\n"
     ]
    },
    {
     "name": "stdout",
     "output_type": "stream",
     "text": [
      "[CV] END gamma=0.1, learning_rate=0.05, max_depth=2, n_estimators=400, random_state=42, reg_alpha=0.4, reg_lambda=1; total time=  43.2s\n"
     ]
    },
    {
     "name": "stderr",
     "output_type": "stream",
     "text": [
      "/puhome/24112456g/.conda/envs/SHPC-env/lib/python3.10/site-packages/xgboost/core.py:158: UserWarning: [04:13:03] WARNING: /workspace/src/common/error_msg.cc:58: Falling back to prediction using DMatrix due to mismatched devices. This might lead to higher memory usage and slower performance. XGBoost is running on: cuda:0, while the input data is on: cpu.\n",
      "Potential solutions:\n",
      "- Use a data structure that matches the device ordinal in the booster.\n",
      "- Set the device for booster before call to inplace_predict.\n",
      "\n",
      "This warning will only be shown once.\n",
      "\n",
      "  warnings.warn(smsg, UserWarning)\n"
     ]
    },
    {
     "name": "stdout",
     "output_type": "stream",
     "text": [
      "[CV] END gamma=0.1, learning_rate=0.05, max_depth=2, n_estimators=400, random_state=42, reg_alpha=0.4, reg_lambda=1; total time=  43.4s\n"
     ]
    },
    {
     "name": "stderr",
     "output_type": "stream",
     "text": [
      "/puhome/24112456g/.conda/envs/SHPC-env/lib/python3.10/site-packages/xgboost/core.py:158: UserWarning: [04:13:09] WARNING: /workspace/src/common/error_msg.cc:58: Falling back to prediction using DMatrix due to mismatched devices. This might lead to higher memory usage and slower performance. XGBoost is running on: cuda:0, while the input data is on: cpu.\n",
      "Potential solutions:\n",
      "- Use a data structure that matches the device ordinal in the booster.\n",
      "- Set the device for booster before call to inplace_predict.\n",
      "\n",
      "This warning will only be shown once.\n",
      "\n",
      "  warnings.warn(smsg, UserWarning)\n"
     ]
    },
    {
     "name": "stdout",
     "output_type": "stream",
     "text": [
      "[CV] END gamma=0.1, learning_rate=0.05, max_depth=2, n_estimators=400, random_state=42, reg_alpha=0.4, reg_lambda=1; total time=  42.9s\n",
      "[CV] END gamma=0.1, learning_rate=0.05, max_depth=2, n_estimators=400, random_state=42, reg_alpha=0.4, reg_lambda=10; total time=  46.5s\n"
     ]
    },
    {
     "name": "stderr",
     "output_type": "stream",
     "text": [
      "/puhome/24112456g/.conda/envs/SHPC-env/lib/python3.10/site-packages/xgboost/core.py:158: UserWarning: [04:13:28] WARNING: /workspace/src/common/error_msg.cc:58: Falling back to prediction using DMatrix due to mismatched devices. This might lead to higher memory usage and slower performance. XGBoost is running on: cuda:0, while the input data is on: cpu.\n",
      "Potential solutions:\n",
      "- Use a data structure that matches the device ordinal in the booster.\n",
      "- Set the device for booster before call to inplace_predict.\n",
      "\n",
      "This warning will only be shown once.\n",
      "\n",
      "  warnings.warn(smsg, UserWarning)\n"
     ]
    },
    {
     "name": "stdout",
     "output_type": "stream",
     "text": [
      "[CV] END gamma=0.1, learning_rate=0.05, max_depth=2, n_estimators=400, random_state=42, reg_alpha=0.4, reg_lambda=10; total time=  43.3s\n",
      "[CV] END gamma=0.1, learning_rate=0.05, max_depth=2, n_estimators=400, random_state=42, reg_alpha=0.4, reg_lambda=10; total time=  49.7s\n",
      "[CV] END gamma=0.1, learning_rate=0.05, max_depth=2, n_estimators=400, random_state=42, reg_alpha=0.4, reg_lambda=10; total time=  50.2s\n",
      "[CV] END gamma=0.1, learning_rate=0.05, max_depth=2, n_estimators=400, random_state=42, reg_alpha=0.4, reg_lambda=10; total time=  53.5s\n",
      "[CV] END gamma=0.1, learning_rate=0.05, max_depth=2, n_estimators=800, random_state=42, reg_alpha=0, reg_lambda=0.1; total time=  54.9s\n"
     ]
    },
    {
     "name": "stderr",
     "output_type": "stream",
     "text": [
      "/puhome/24112456g/.conda/envs/SHPC-env/lib/python3.10/site-packages/xgboost/core.py:158: UserWarning: [04:14:23] WARNING: /workspace/src/common/error_msg.cc:58: Falling back to prediction using DMatrix due to mismatched devices. This might lead to higher memory usage and slower performance. XGBoost is running on: cuda:0, while the input data is on: cpu.\n",
      "Potential solutions:\n",
      "- Use a data structure that matches the device ordinal in the booster.\n",
      "- Set the device for booster before call to inplace_predict.\n",
      "\n",
      "This warning will only be shown once.\n",
      "\n",
      "  warnings.warn(smsg, UserWarning)\n"
     ]
    },
    {
     "name": "stdout",
     "output_type": "stream",
     "text": [
      "[CV] END gamma=0.1, learning_rate=0.05, max_depth=2, n_estimators=800, random_state=42, reg_alpha=0, reg_lambda=0.1; total time=  53.8s\n",
      "[CV] END gamma=0.1, learning_rate=0.05, max_depth=2, n_estimators=800, random_state=42, reg_alpha=0, reg_lambda=0.1; total time= 1.1min\n"
     ]
    },
    {
     "name": "stderr",
     "output_type": "stream",
     "text": [
      "/puhome/24112456g/.conda/envs/SHPC-env/lib/python3.10/site-packages/xgboost/core.py:158: UserWarning: [04:14:44] WARNING: /workspace/src/common/error_msg.cc:58: Falling back to prediction using DMatrix due to mismatched devices. This might lead to higher memory usage and slower performance. XGBoost is running on: cuda:0, while the input data is on: cpu.\n",
      "Potential solutions:\n",
      "- Use a data structure that matches the device ordinal in the booster.\n",
      "- Set the device for booster before call to inplace_predict.\n",
      "\n",
      "This warning will only be shown once.\n",
      "\n",
      "  warnings.warn(smsg, UserWarning)\n"
     ]
    },
    {
     "name": "stdout",
     "output_type": "stream",
     "text": [
      "[CV] END gamma=0.1, learning_rate=0.05, max_depth=2, n_estimators=800, random_state=42, reg_alpha=0, reg_lambda=0.1; total time= 1.0min\n"
     ]
    },
    {
     "name": "stderr",
     "output_type": "stream",
     "text": [
      "/puhome/24112456g/.conda/envs/SHPC-env/lib/python3.10/site-packages/xgboost/core.py:158: UserWarning: [04:14:56] WARNING: /workspace/src/common/error_msg.cc:58: Falling back to prediction using DMatrix due to mismatched devices. This might lead to higher memory usage and slower performance. XGBoost is running on: cuda:0, while the input data is on: cpu.\n",
      "Potential solutions:\n",
      "- Use a data structure that matches the device ordinal in the booster.\n",
      "- Set the device for booster before call to inplace_predict.\n",
      "\n",
      "This warning will only be shown once.\n",
      "\n",
      "  warnings.warn(smsg, UserWarning)\n"
     ]
    },
    {
     "name": "stdout",
     "output_type": "stream",
     "text": [
      "[CV] END gamma=0.1, learning_rate=0.05, max_depth=2, n_estimators=800, random_state=42, reg_alpha=0, reg_lambda=0.1; total time= 1.0min\n"
     ]
    },
    {
     "name": "stderr",
     "output_type": "stream",
     "text": [
      "/puhome/24112456g/.conda/envs/SHPC-env/lib/python3.10/site-packages/xgboost/core.py:158: UserWarning: [04:14:59] WARNING: /workspace/src/common/error_msg.cc:58: Falling back to prediction using DMatrix due to mismatched devices. This might lead to higher memory usage and slower performance. XGBoost is running on: cuda:0, while the input data is on: cpu.\n",
      "Potential solutions:\n",
      "- Use a data structure that matches the device ordinal in the booster.\n",
      "- Set the device for booster before call to inplace_predict.\n",
      "\n",
      "This warning will only be shown once.\n",
      "\n",
      "  warnings.warn(smsg, UserWarning)\n"
     ]
    },
    {
     "name": "stdout",
     "output_type": "stream",
     "text": [
      "[CV] END gamma=0.1, learning_rate=0.05, max_depth=2, n_estimators=800, random_state=42, reg_alpha=0, reg_lambda=1; total time=  57.0s\n"
     ]
    },
    {
     "name": "stderr",
     "output_type": "stream",
     "text": [
      "/puhome/24112456g/.conda/envs/SHPC-env/lib/python3.10/site-packages/xgboost/core.py:158: UserWarning: [04:15:05] WARNING: /workspace/src/common/error_msg.cc:58: Falling back to prediction using DMatrix due to mismatched devices. This might lead to higher memory usage and slower performance. XGBoost is running on: cuda:0, while the input data is on: cpu.\n",
      "Potential solutions:\n",
      "- Use a data structure that matches the device ordinal in the booster.\n",
      "- Set the device for booster before call to inplace_predict.\n",
      "\n",
      "This warning will only be shown once.\n",
      "\n",
      "  warnings.warn(smsg, UserWarning)\n"
     ]
    },
    {
     "name": "stdout",
     "output_type": "stream",
     "text": [
      "[CV] END gamma=0.1, learning_rate=0.05, max_depth=2, n_estimators=800, random_state=42, reg_alpha=0, reg_lambda=1; total time=  55.0s\n",
      "[CV] END gamma=0.1, learning_rate=0.05, max_depth=2, n_estimators=800, random_state=42, reg_alpha=0, reg_lambda=1; total time=  57.3s\n"
     ]
    },
    {
     "name": "stderr",
     "output_type": "stream",
     "text": [
      "/puhome/24112456g/.conda/envs/SHPC-env/lib/python3.10/site-packages/xgboost/core.py:158: UserWarning: [04:15:31] WARNING: /workspace/src/common/error_msg.cc:58: Falling back to prediction using DMatrix due to mismatched devices. This might lead to higher memory usage and slower performance. XGBoost is running on: cuda:0, while the input data is on: cpu.\n",
      "Potential solutions:\n",
      "- Use a data structure that matches the device ordinal in the booster.\n",
      "- Set the device for booster before call to inplace_predict.\n",
      "\n",
      "This warning will only be shown once.\n",
      "\n",
      "  warnings.warn(smsg, UserWarning)\n"
     ]
    },
    {
     "name": "stdout",
     "output_type": "stream",
     "text": [
      "[CV] END gamma=0.1, learning_rate=0.05, max_depth=2, n_estimators=800, random_state=42, reg_alpha=0, reg_lambda=1; total time=  52.3s\n",
      "[CV] END gamma=0.1, learning_rate=0.05, max_depth=2, n_estimators=800, random_state=42, reg_alpha=0, reg_lambda=1; total time= 1.0min\n",
      "[CV] END gamma=0.1, learning_rate=0.05, max_depth=2, n_estimators=800, random_state=42, reg_alpha=0, reg_lambda=10; total time= 1.0min\n",
      "[CV] END gamma=0.1, learning_rate=0.05, max_depth=2, n_estimators=800, random_state=42, reg_alpha=0, reg_lambda=10; total time= 1.1min\n",
      "[CV] END gamma=0.1, learning_rate=0.05, max_depth=2, n_estimators=800, random_state=42, reg_alpha=0, reg_lambda=10; total time= 1.1min\n"
     ]
    },
    {
     "name": "stderr",
     "output_type": "stream",
     "text": [
      "/puhome/24112456g/.conda/envs/SHPC-env/lib/python3.10/site-packages/xgboost/core.py:158: UserWarning: [04:16:23] WARNING: /workspace/src/common/error_msg.cc:58: Falling back to prediction using DMatrix due to mismatched devices. This might lead to higher memory usage and slower performance. XGBoost is running on: cuda:0, while the input data is on: cpu.\n",
      "Potential solutions:\n",
      "- Use a data structure that matches the device ordinal in the booster.\n",
      "- Set the device for booster before call to inplace_predict.\n",
      "\n",
      "This warning will only be shown once.\n",
      "\n",
      "  warnings.warn(smsg, UserWarning)\n"
     ]
    },
    {
     "name": "stdout",
     "output_type": "stream",
     "text": [
      "[CV] END gamma=0.1, learning_rate=0.05, max_depth=2, n_estimators=800, random_state=42, reg_alpha=0, reg_lambda=10; total time=  57.0s\n",
      "[CV] END gamma=0.1, learning_rate=0.05, max_depth=2, n_estimators=800, random_state=42, reg_alpha=0, reg_lambda=10; total time= 1.0min\n"
     ]
    },
    {
     "name": "stderr",
     "output_type": "stream",
     "text": [
      "/puhome/24112456g/.conda/envs/SHPC-env/lib/python3.10/site-packages/xgboost/core.py:158: UserWarning: [04:16:41] WARNING: /workspace/src/common/error_msg.cc:58: Falling back to prediction using DMatrix due to mismatched devices. This might lead to higher memory usage and slower performance. XGBoost is running on: cuda:0, while the input data is on: cpu.\n",
      "Potential solutions:\n",
      "- Use a data structure that matches the device ordinal in the booster.\n",
      "- Set the device for booster before call to inplace_predict.\n",
      "\n",
      "This warning will only be shown once.\n",
      "\n",
      "  warnings.warn(smsg, UserWarning)\n"
     ]
    },
    {
     "name": "stdout",
     "output_type": "stream",
     "text": [
      "[CV] END gamma=0.1, learning_rate=0.05, max_depth=2, n_estimators=800, random_state=42, reg_alpha=0.2, reg_lambda=0.1; total time=  48.3s\n"
     ]
    },
    {
     "name": "stderr",
     "output_type": "stream",
     "text": [
      "/puhome/24112456g/.conda/envs/SHPC-env/lib/python3.10/site-packages/xgboost/core.py:158: UserWarning: [04:16:55] WARNING: /workspace/src/common/error_msg.cc:58: Falling back to prediction using DMatrix due to mismatched devices. This might lead to higher memory usage and slower performance. XGBoost is running on: cuda:0, while the input data is on: cpu.\n",
      "Potential solutions:\n",
      "- Use a data structure that matches the device ordinal in the booster.\n",
      "- Set the device for booster before call to inplace_predict.\n",
      "\n",
      "This warning will only be shown once.\n",
      "\n",
      "  warnings.warn(smsg, UserWarning)\n"
     ]
    },
    {
     "name": "stdout",
     "output_type": "stream",
     "text": [
      "[CV] END gamma=0.1, learning_rate=0.05, max_depth=2, n_estimators=800, random_state=42, reg_alpha=0.2, reg_lambda=0.1; total time=  50.6s\n"
     ]
    },
    {
     "name": "stderr",
     "output_type": "stream",
     "text": [
      "/puhome/24112456g/.conda/envs/SHPC-env/lib/python3.10/site-packages/xgboost/core.py:158: UserWarning: [04:17:12] WARNING: /workspace/src/common/error_msg.cc:58: Falling back to prediction using DMatrix due to mismatched devices. This might lead to higher memory usage and slower performance. XGBoost is running on: cuda:0, while the input data is on: cpu.\n",
      "Potential solutions:\n",
      "- Use a data structure that matches the device ordinal in the booster.\n",
      "- Set the device for booster before call to inplace_predict.\n",
      "\n",
      "This warning will only be shown once.\n",
      "\n",
      "  warnings.warn(smsg, UserWarning)\n"
     ]
    },
    {
     "name": "stdout",
     "output_type": "stream",
     "text": [
      "[CV] END gamma=0.1, learning_rate=0.05, max_depth=2, n_estimators=800, random_state=42, reg_alpha=0.2, reg_lambda=0.1; total time=  58.1s\n"
     ]
    },
    {
     "name": "stderr",
     "output_type": "stream",
     "text": [
      "/puhome/24112456g/.conda/envs/SHPC-env/lib/python3.10/site-packages/xgboost/core.py:158: UserWarning: [04:17:19] WARNING: /workspace/src/common/error_msg.cc:58: Falling back to prediction using DMatrix due to mismatched devices. This might lead to higher memory usage and slower performance. XGBoost is running on: cuda:0, while the input data is on: cpu.\n",
      "Potential solutions:\n",
      "- Use a data structure that matches the device ordinal in the booster.\n",
      "- Set the device for booster before call to inplace_predict.\n",
      "\n",
      "This warning will only be shown once.\n",
      "\n",
      "  warnings.warn(smsg, UserWarning)\n"
     ]
    },
    {
     "name": "stdout",
     "output_type": "stream",
     "text": [
      "[CV] END gamma=0.1, learning_rate=0.05, max_depth=2, n_estimators=800, random_state=42, reg_alpha=0.2, reg_lambda=0.1; total time= 1.0min\n",
      "[CV] END gamma=0.1, learning_rate=0.05, max_depth=2, n_estimators=800, random_state=42, reg_alpha=0.2, reg_lambda=0.1; total time= 1.1min\n"
     ]
    },
    {
     "name": "stderr",
     "output_type": "stream",
     "text": [
      "/puhome/24112456g/.conda/envs/SHPC-env/lib/python3.10/site-packages/xgboost/core.py:158: UserWarning: [04:17:36] WARNING: /workspace/src/common/error_msg.cc:58: Falling back to prediction using DMatrix due to mismatched devices. This might lead to higher memory usage and slower performance. XGBoost is running on: cuda:0, while the input data is on: cpu.\n",
      "Potential solutions:\n",
      "- Use a data structure that matches the device ordinal in the booster.\n",
      "- Set the device for booster before call to inplace_predict.\n",
      "\n",
      "This warning will only be shown once.\n",
      "\n",
      "  warnings.warn(smsg, UserWarning)\n"
     ]
    },
    {
     "name": "stdout",
     "output_type": "stream",
     "text": [
      "[CV] END gamma=0.1, learning_rate=0.05, max_depth=2, n_estimators=800, random_state=42, reg_alpha=0.2, reg_lambda=1; total time=  55.6s\n",
      "[CV] END gamma=0.1, learning_rate=0.05, max_depth=2, n_estimators=800, random_state=42, reg_alpha=0.2, reg_lambda=1; total time= 1.1min\n",
      "[CV] END gamma=0.1, learning_rate=0.05, max_depth=2, n_estimators=800, random_state=42, reg_alpha=0.2, reg_lambda=1; total time=  57.7s\n",
      "[CV] END gamma=0.1, learning_rate=0.05, max_depth=2, n_estimators=800, random_state=42, reg_alpha=0.2, reg_lambda=1; total time= 1.0min\n",
      "[CV] END gamma=0.1, learning_rate=0.05, max_depth=2, n_estimators=800, random_state=42, reg_alpha=0.2, reg_lambda=1; total time= 1.1min\n"
     ]
    },
    {
     "name": "stderr",
     "output_type": "stream",
     "text": [
      "/puhome/24112456g/.conda/envs/SHPC-env/lib/python3.10/site-packages/xgboost/core.py:158: UserWarning: [04:18:34] WARNING: /workspace/src/common/error_msg.cc:58: Falling back to prediction using DMatrix due to mismatched devices. This might lead to higher memory usage and slower performance. XGBoost is running on: cuda:0, while the input data is on: cpu.\n",
      "Potential solutions:\n",
      "- Use a data structure that matches the device ordinal in the booster.\n",
      "- Set the device for booster before call to inplace_predict.\n",
      "\n",
      "This warning will only be shown once.\n",
      "\n",
      "  warnings.warn(smsg, UserWarning)\n"
     ]
    },
    {
     "name": "stdout",
     "output_type": "stream",
     "text": [
      "[CV] END gamma=0.1, learning_rate=0.05, max_depth=2, n_estimators=800, random_state=42, reg_alpha=0.2, reg_lambda=10; total time=  55.6s\n",
      "[CV] END gamma=0.1, learning_rate=0.05, max_depth=2, n_estimators=800, random_state=42, reg_alpha=0.2, reg_lambda=10; total time= 1.2min\n"
     ]
    },
    {
     "name": "stderr",
     "output_type": "stream",
     "text": [
      "/puhome/24112456g/.conda/envs/SHPC-env/lib/python3.10/site-packages/xgboost/core.py:158: UserWarning: [04:18:52] WARNING: /workspace/src/common/error_msg.cc:58: Falling back to prediction using DMatrix due to mismatched devices. This might lead to higher memory usage and slower performance. XGBoost is running on: cuda:0, while the input data is on: cpu.\n",
      "Potential solutions:\n",
      "- Use a data structure that matches the device ordinal in the booster.\n",
      "- Set the device for booster before call to inplace_predict.\n",
      "\n",
      "This warning will only be shown once.\n",
      "\n",
      "  warnings.warn(smsg, UserWarning)\n"
     ]
    },
    {
     "name": "stdout",
     "output_type": "stream",
     "text": [
      "[CV] END gamma=0.1, learning_rate=0.05, max_depth=2, n_estimators=800, random_state=42, reg_alpha=0.2, reg_lambda=10; total time= 1.0min\n"
     ]
    },
    {
     "name": "stderr",
     "output_type": "stream",
     "text": [
      "/puhome/24112456g/.conda/envs/SHPC-env/lib/python3.10/site-packages/xgboost/core.py:158: UserWarning: [04:18:57] WARNING: /workspace/src/common/error_msg.cc:58: Falling back to prediction using DMatrix due to mismatched devices. This might lead to higher memory usage and slower performance. XGBoost is running on: cuda:0, while the input data is on: cpu.\n",
      "Potential solutions:\n",
      "- Use a data structure that matches the device ordinal in the booster.\n",
      "- Set the device for booster before call to inplace_predict.\n",
      "\n",
      "This warning will only be shown once.\n",
      "\n",
      "  warnings.warn(smsg, UserWarning)\n"
     ]
    },
    {
     "name": "stdout",
     "output_type": "stream",
     "text": [
      "[CV] END gamma=0.1, learning_rate=0.05, max_depth=2, n_estimators=800, random_state=42, reg_alpha=0.2, reg_lambda=10; total time=  57.5s\n"
     ]
    },
    {
     "name": "stderr",
     "output_type": "stream",
     "text": [
      "/puhome/24112456g/.conda/envs/SHPC-env/lib/python3.10/site-packages/xgboost/core.py:158: UserWarning: [04:19:11] WARNING: /workspace/src/common/error_msg.cc:58: Falling back to prediction using DMatrix due to mismatched devices. This might lead to higher memory usage and slower performance. XGBoost is running on: cuda:0, while the input data is on: cpu.\n",
      "Potential solutions:\n",
      "- Use a data structure that matches the device ordinal in the booster.\n",
      "- Set the device for booster before call to inplace_predict.\n",
      "\n",
      "This warning will only be shown once.\n",
      "\n",
      "  warnings.warn(smsg, UserWarning)\n"
     ]
    },
    {
     "name": "stdout",
     "output_type": "stream",
     "text": [
      "[CV] END gamma=0.1, learning_rate=0.05, max_depth=2, n_estimators=800, random_state=42, reg_alpha=0.2, reg_lambda=10; total time=  53.7s\n"
     ]
    },
    {
     "name": "stderr",
     "output_type": "stream",
     "text": [
      "/puhome/24112456g/.conda/envs/SHPC-env/lib/python3.10/site-packages/xgboost/core.py:158: UserWarning: [04:19:19] WARNING: /workspace/src/common/error_msg.cc:58: Falling back to prediction using DMatrix due to mismatched devices. This might lead to higher memory usage and slower performance. XGBoost is running on: cuda:0, while the input data is on: cpu.\n",
      "Potential solutions:\n",
      "- Use a data structure that matches the device ordinal in the booster.\n",
      "- Set the device for booster before call to inplace_predict.\n",
      "\n",
      "This warning will only be shown once.\n",
      "\n",
      "  warnings.warn(smsg, UserWarning)\n"
     ]
    },
    {
     "name": "stdout",
     "output_type": "stream",
     "text": [
      "[CV] END gamma=0.1, learning_rate=0.05, max_depth=2, n_estimators=800, random_state=42, reg_alpha=0.3, reg_lambda=0.1; total time=  48.0s\n",
      "[CV] END gamma=0.1, learning_rate=0.05, max_depth=2, n_estimators=800, random_state=42, reg_alpha=0.3, reg_lambda=0.1; total time=  58.1s\n"
     ]
    },
    {
     "name": "stderr",
     "output_type": "stream",
     "text": [
      "/puhome/24112456g/.conda/envs/SHPC-env/lib/python3.10/site-packages/xgboost/core.py:158: UserWarning: [04:19:46] WARNING: /workspace/src/common/error_msg.cc:58: Falling back to prediction using DMatrix due to mismatched devices. This might lead to higher memory usage and slower performance. XGBoost is running on: cuda:0, while the input data is on: cpu.\n",
      "Potential solutions:\n",
      "- Use a data structure that matches the device ordinal in the booster.\n",
      "- Set the device for booster before call to inplace_predict.\n",
      "\n",
      "This warning will only be shown once.\n",
      "\n",
      "  warnings.warn(smsg, UserWarning)\n"
     ]
    },
    {
     "name": "stdout",
     "output_type": "stream",
     "text": [
      "[CV] END gamma=0.1, learning_rate=0.05, max_depth=2, n_estimators=800, random_state=42, reg_alpha=0.3, reg_lambda=0.1; total time=  55.0s\n",
      "[CV] END gamma=0.1, learning_rate=0.05, max_depth=2, n_estimators=800, random_state=42, reg_alpha=0.3, reg_lambda=0.1; total time= 1.1min\n",
      "[CV] END gamma=0.1, learning_rate=0.05, max_depth=2, n_estimators=800, random_state=42, reg_alpha=0.3, reg_lambda=0.1; total time= 1.1min\n",
      "[CV] END gamma=0.1, learning_rate=0.05, max_depth=2, n_estimators=800, random_state=42, reg_alpha=0.3, reg_lambda=1; total time= 1.1min\n",
      "[CV] END gamma=0.1, learning_rate=0.05, max_depth=2, n_estimators=800, random_state=42, reg_alpha=0.3, reg_lambda=1; total time= 1.1min\n"
     ]
    },
    {
     "name": "stderr",
     "output_type": "stream",
     "text": [
      "/puhome/24112456g/.conda/envs/SHPC-env/lib/python3.10/site-packages/xgboost/core.py:158: UserWarning: [04:20:31] WARNING: /workspace/src/common/error_msg.cc:58: Falling back to prediction using DMatrix due to mismatched devices. This might lead to higher memory usage and slower performance. XGBoost is running on: cuda:0, while the input data is on: cpu.\n",
      "Potential solutions:\n",
      "- Use a data structure that matches the device ordinal in the booster.\n",
      "- Set the device for booster before call to inplace_predict.\n",
      "\n",
      "This warning will only be shown once.\n",
      "\n",
      "  warnings.warn(smsg, UserWarning)\n"
     ]
    },
    {
     "name": "stdout",
     "output_type": "stream",
     "text": [
      "[CV] END gamma=0.1, learning_rate=0.05, max_depth=2, n_estimators=800, random_state=42, reg_alpha=0.3, reg_lambda=1; total time=  53.2s\n",
      "[CV] END gamma=0.1, learning_rate=0.05, max_depth=2, n_estimators=800, random_state=42, reg_alpha=0.3, reg_lambda=1; total time=  55.5s\n"
     ]
    },
    {
     "name": "stderr",
     "output_type": "stream",
     "text": [
      "/puhome/24112456g/.conda/envs/SHPC-env/lib/python3.10/site-packages/xgboost/core.py:158: UserWarning: [04:21:05] WARNING: /workspace/src/common/error_msg.cc:58: Falling back to prediction using DMatrix due to mismatched devices. This might lead to higher memory usage and slower performance. XGBoost is running on: cuda:0, while the input data is on: cpu.\n",
      "Potential solutions:\n",
      "- Use a data structure that matches the device ordinal in the booster.\n",
      "- Set the device for booster before call to inplace_predict.\n",
      "\n",
      "This warning will only be shown once.\n",
      "\n",
      "  warnings.warn(smsg, UserWarning)\n",
      "/puhome/24112456g/.conda/envs/SHPC-env/lib/python3.10/site-packages/xgboost/core.py:158: UserWarning: [04:21:06] WARNING: /workspace/src/common/error_msg.cc:58: Falling back to prediction using DMatrix due to mismatched devices. This might lead to higher memory usage and slower performance. XGBoost is running on: cuda:0, while the input data is on: cpu.\n",
      "Potential solutions:\n",
      "- Use a data structure that matches the device ordinal in the booster.\n",
      "- Set the device for booster before call to inplace_predict.\n",
      "\n",
      "This warning will only be shown once.\n",
      "\n",
      "  warnings.warn(smsg, UserWarning)\n"
     ]
    },
    {
     "name": "stdout",
     "output_type": "stream",
     "text": [
      "[CV] END gamma=0.1, learning_rate=0.05, max_depth=2, n_estimators=800, random_state=42, reg_alpha=0.3, reg_lambda=1; total time=  58.9s\n",
      "[CV] END gamma=0.1, learning_rate=0.05, max_depth=2, n_estimators=800, random_state=42, reg_alpha=0.3, reg_lambda=10; total time=  54.5s\n"
     ]
    },
    {
     "name": "stderr",
     "output_type": "stream",
     "text": [
      "/puhome/24112456g/.conda/envs/SHPC-env/lib/python3.10/site-packages/xgboost/core.py:158: UserWarning: [04:21:21] WARNING: /workspace/src/common/error_msg.cc:58: Falling back to prediction using DMatrix due to mismatched devices. This might lead to higher memory usage and slower performance. XGBoost is running on: cuda:0, while the input data is on: cpu.\n",
      "Potential solutions:\n",
      "- Use a data structure that matches the device ordinal in the booster.\n",
      "- Set the device for booster before call to inplace_predict.\n",
      "\n",
      "This warning will only be shown once.\n",
      "\n",
      "  warnings.warn(smsg, UserWarning)\n"
     ]
    },
    {
     "name": "stdout",
     "output_type": "stream",
     "text": [
      "[CV] END gamma=0.1, learning_rate=0.05, max_depth=2, n_estimators=800, random_state=42, reg_alpha=0.3, reg_lambda=10; total time= 1.0min\n"
     ]
    },
    {
     "name": "stderr",
     "output_type": "stream",
     "text": [
      "/puhome/24112456g/.conda/envs/SHPC-env/lib/python3.10/site-packages/xgboost/core.py:158: UserWarning: [04:21:29] WARNING: /workspace/src/common/error_msg.cc:58: Falling back to prediction using DMatrix due to mismatched devices. This might lead to higher memory usage and slower performance. XGBoost is running on: cuda:0, while the input data is on: cpu.\n",
      "Potential solutions:\n",
      "- Use a data structure that matches the device ordinal in the booster.\n",
      "- Set the device for booster before call to inplace_predict.\n",
      "\n",
      "This warning will only be shown once.\n",
      "\n",
      "  warnings.warn(smsg, UserWarning)\n"
     ]
    },
    {
     "name": "stdout",
     "output_type": "stream",
     "text": [
      "[CV] END gamma=0.1, learning_rate=0.05, max_depth=2, n_estimators=800, random_state=42, reg_alpha=0.3, reg_lambda=10; total time=  59.3s\n",
      "[CV] END gamma=0.1, learning_rate=0.05, max_depth=2, n_estimators=800, random_state=42, reg_alpha=0.3, reg_lambda=10; total time= 1.1min\n"
     ]
    },
    {
     "name": "stderr",
     "output_type": "stream",
     "text": [
      "/puhome/24112456g/.conda/envs/SHPC-env/lib/python3.10/site-packages/xgboost/core.py:158: UserWarning: [04:21:43] WARNING: /workspace/src/common/error_msg.cc:58: Falling back to prediction using DMatrix due to mismatched devices. This might lead to higher memory usage and slower performance. XGBoost is running on: cuda:0, while the input data is on: cpu.\n",
      "Potential solutions:\n",
      "- Use a data structure that matches the device ordinal in the booster.\n",
      "- Set the device for booster before call to inplace_predict.\n",
      "\n",
      "This warning will only be shown once.\n",
      "\n",
      "  warnings.warn(smsg, UserWarning)\n"
     ]
    },
    {
     "name": "stdout",
     "output_type": "stream",
     "text": [
      "[CV] END gamma=0.1, learning_rate=0.05, max_depth=2, n_estimators=800, random_state=42, reg_alpha=0.3, reg_lambda=10; total time=  55.6s\n",
      "[CV] END gamma=0.1, learning_rate=0.05, max_depth=2, n_estimators=800, random_state=42, reg_alpha=0.4, reg_lambda=0.1; total time=  55.0s\n",
      "[CV] END gamma=0.1, learning_rate=0.05, max_depth=2, n_estimators=800, random_state=42, reg_alpha=0.4, reg_lambda=0.1; total time= 1.0min\n",
      "[CV] END gamma=0.1, learning_rate=0.05, max_depth=2, n_estimators=800, random_state=42, reg_alpha=0.4, reg_lambda=0.1; total time= 1.0min\n",
      "[CV] END gamma=0.1, learning_rate=0.05, max_depth=2, n_estimators=800, random_state=42, reg_alpha=0.4, reg_lambda=0.1; total time= 1.1min\n"
     ]
    },
    {
     "name": "stderr",
     "output_type": "stream",
     "text": [
      "/puhome/24112456g/.conda/envs/SHPC-env/lib/python3.10/site-packages/xgboost/core.py:158: UserWarning: [04:22:45] WARNING: /workspace/src/common/error_msg.cc:58: Falling back to prediction using DMatrix due to mismatched devices. This might lead to higher memory usage and slower performance. XGBoost is running on: cuda:0, while the input data is on: cpu.\n",
      "Potential solutions:\n",
      "- Use a data structure that matches the device ordinal in the booster.\n",
      "- Set the device for booster before call to inplace_predict.\n",
      "\n",
      "This warning will only be shown once.\n",
      "\n",
      "  warnings.warn(smsg, UserWarning)\n"
     ]
    },
    {
     "name": "stdout",
     "output_type": "stream",
     "text": [
      "[CV] END gamma=0.1, learning_rate=0.05, max_depth=2, n_estimators=800, random_state=42, reg_alpha=0.4, reg_lambda=0.1; total time= 1.0min\n",
      "[CV] END gamma=0.1, learning_rate=0.05, max_depth=2, n_estimators=800, random_state=42, reg_alpha=0.4, reg_lambda=1; total time= 1.1min\n"
     ]
    },
    {
     "name": "stderr",
     "output_type": "stream",
     "text": [
      "/puhome/24112456g/.conda/envs/SHPC-env/lib/python3.10/site-packages/xgboost/core.py:158: UserWarning: [04:23:01] WARNING: /workspace/src/common/error_msg.cc:58: Falling back to prediction using DMatrix due to mismatched devices. This might lead to higher memory usage and slower performance. XGBoost is running on: cuda:0, while the input data is on: cpu.\n",
      "Potential solutions:\n",
      "- Use a data structure that matches the device ordinal in the booster.\n",
      "- Set the device for booster before call to inplace_predict.\n",
      "\n",
      "This warning will only be shown once.\n",
      "\n",
      "  warnings.warn(smsg, UserWarning)\n"
     ]
    },
    {
     "name": "stdout",
     "output_type": "stream",
     "text": [
      "[CV] END gamma=0.1, learning_rate=0.05, max_depth=2, n_estimators=800, random_state=42, reg_alpha=0.4, reg_lambda=1; total time=  55.2s\n"
     ]
    },
    {
     "name": "stderr",
     "output_type": "stream",
     "text": [
      "/puhome/24112456g/.conda/envs/SHPC-env/lib/python3.10/site-packages/xgboost/core.py:158: UserWarning: [04:23:07] WARNING: /workspace/src/common/error_msg.cc:58: Falling back to prediction using DMatrix due to mismatched devices. This might lead to higher memory usage and slower performance. XGBoost is running on: cuda:0, while the input data is on: cpu.\n",
      "Potential solutions:\n",
      "- Use a data structure that matches the device ordinal in the booster.\n",
      "- Set the device for booster before call to inplace_predict.\n",
      "\n",
      "This warning will only be shown once.\n",
      "\n",
      "  warnings.warn(smsg, UserWarning)\n"
     ]
    },
    {
     "name": "stdout",
     "output_type": "stream",
     "text": [
      "[CV] END gamma=0.1, learning_rate=0.05, max_depth=2, n_estimators=800, random_state=42, reg_alpha=0.4, reg_lambda=1; total time=  54.2s\n"
     ]
    },
    {
     "name": "stderr",
     "output_type": "stream",
     "text": [
      "/puhome/24112456g/.conda/envs/SHPC-env/lib/python3.10/site-packages/xgboost/core.py:158: UserWarning: [04:23:18] WARNING: /workspace/src/common/error_msg.cc:58: Falling back to prediction using DMatrix due to mismatched devices. This might lead to higher memory usage and slower performance. XGBoost is running on: cuda:0, while the input data is on: cpu.\n",
      "Potential solutions:\n",
      "- Use a data structure that matches the device ordinal in the booster.\n",
      "- Set the device for booster before call to inplace_predict.\n",
      "\n",
      "This warning will only be shown once.\n",
      "\n",
      "  warnings.warn(smsg, UserWarning)\n"
     ]
    },
    {
     "name": "stdout",
     "output_type": "stream",
     "text": [
      "[CV] END gamma=0.1, learning_rate=0.05, max_depth=2, n_estimators=800, random_state=42, reg_alpha=0.4, reg_lambda=1; total time=  49.6s\n"
     ]
    },
    {
     "name": "stderr",
     "output_type": "stream",
     "text": [
      "/puhome/24112456g/.conda/envs/SHPC-env/lib/python3.10/site-packages/xgboost/core.py:158: UserWarning: [04:23:37] WARNING: /workspace/src/common/error_msg.cc:58: Falling back to prediction using DMatrix due to mismatched devices. This might lead to higher memory usage and slower performance. XGBoost is running on: cuda:0, while the input data is on: cpu.\n",
      "Potential solutions:\n",
      "- Use a data structure that matches the device ordinal in the booster.\n",
      "- Set the device for booster before call to inplace_predict.\n",
      "\n",
      "This warning will only be shown once.\n",
      "\n",
      "  warnings.warn(smsg, UserWarning)\n"
     ]
    },
    {
     "name": "stdout",
     "output_type": "stream",
     "text": [
      "[CV] END gamma=0.1, learning_rate=0.05, max_depth=2, n_estimators=800, random_state=42, reg_alpha=0.4, reg_lambda=1; total time=  56.2s\n",
      "[CV] END gamma=0.1, learning_rate=0.05, max_depth=2, n_estimators=800, random_state=42, reg_alpha=0.4, reg_lambda=10; total time= 1.0min\n"
     ]
    },
    {
     "name": "stderr",
     "output_type": "stream",
     "text": [
      "/puhome/24112456g/.conda/envs/SHPC-env/lib/python3.10/site-packages/xgboost/core.py:158: UserWarning: [04:23:53] WARNING: /workspace/src/common/error_msg.cc:58: Falling back to prediction using DMatrix due to mismatched devices. This might lead to higher memory usage and slower performance. XGBoost is running on: cuda:0, while the input data is on: cpu.\n",
      "Potential solutions:\n",
      "- Use a data structure that matches the device ordinal in the booster.\n",
      "- Set the device for booster before call to inplace_predict.\n",
      "\n",
      "This warning will only be shown once.\n",
      "\n",
      "  warnings.warn(smsg, UserWarning)\n"
     ]
    },
    {
     "name": "stdout",
     "output_type": "stream",
     "text": [
      "[CV] END gamma=0.1, learning_rate=0.05, max_depth=2, n_estimators=800, random_state=42, reg_alpha=0.4, reg_lambda=10; total time= 1.0min\n",
      "[CV] END gamma=0.1, learning_rate=0.05, max_depth=2, n_estimators=800, random_state=42, reg_alpha=0.4, reg_lambda=10; total time= 1.1min\n",
      "[CV] END gamma=0.1, learning_rate=0.05, max_depth=2, n_estimators=800, random_state=42, reg_alpha=0.4, reg_lambda=10; total time= 1.1min\n",
      "[CV] END gamma=0.1, learning_rate=0.05, max_depth=2, n_estimators=800, random_state=42, reg_alpha=0.4, reg_lambda=10; total time= 1.1min\n",
      "[CV] END gamma=0.1, learning_rate=0.05, max_depth=3, n_estimators=400, random_state=42, reg_alpha=0, reg_lambda=0.1; total time=  47.6s\n"
     ]
    },
    {
     "name": "stderr",
     "output_type": "stream",
     "text": [
      "/puhome/24112456g/.conda/envs/SHPC-env/lib/python3.10/site-packages/xgboost/core.py:158: UserWarning: [04:24:38] WARNING: /workspace/src/common/error_msg.cc:58: Falling back to prediction using DMatrix due to mismatched devices. This might lead to higher memory usage and slower performance. XGBoost is running on: cuda:0, while the input data is on: cpu.\n",
      "Potential solutions:\n",
      "- Use a data structure that matches the device ordinal in the booster.\n",
      "- Set the device for booster before call to inplace_predict.\n",
      "\n",
      "This warning will only be shown once.\n",
      "\n",
      "  warnings.warn(smsg, UserWarning)\n"
     ]
    },
    {
     "name": "stdout",
     "output_type": "stream",
     "text": [
      "[CV] END gamma=0.1, learning_rate=0.05, max_depth=3, n_estimators=400, random_state=42, reg_alpha=0, reg_lambda=0.1; total time=  44.3s\n",
      "[CV] END gamma=0.1, learning_rate=0.05, max_depth=3, n_estimators=400, random_state=42, reg_alpha=0, reg_lambda=0.1; total time=  51.1s\n"
     ]
    },
    {
     "name": "stderr",
     "output_type": "stream",
     "text": [
      "/puhome/24112456g/.conda/envs/SHPC-env/lib/python3.10/site-packages/xgboost/core.py:158: UserWarning: [04:24:58] WARNING: /workspace/src/common/error_msg.cc:58: Falling back to prediction using DMatrix due to mismatched devices. This might lead to higher memory usage and slower performance. XGBoost is running on: cuda:0, while the input data is on: cpu.\n",
      "Potential solutions:\n",
      "- Use a data structure that matches the device ordinal in the booster.\n",
      "- Set the device for booster before call to inplace_predict.\n",
      "\n",
      "This warning will only be shown once.\n",
      "\n",
      "  warnings.warn(smsg, UserWarning)\n"
     ]
    },
    {
     "name": "stdout",
     "output_type": "stream",
     "text": [
      "[CV] END gamma=0.1, learning_rate=0.05, max_depth=3, n_estimators=400, random_state=42, reg_alpha=0, reg_lambda=0.1; total time=  44.7s\n"
     ]
    },
    {
     "name": "stderr",
     "output_type": "stream",
     "text": [
      "/puhome/24112456g/.conda/envs/SHPC-env/lib/python3.10/site-packages/xgboost/core.py:158: UserWarning: [04:25:06] WARNING: /workspace/src/common/error_msg.cc:58: Falling back to prediction using DMatrix due to mismatched devices. This might lead to higher memory usage and slower performance. XGBoost is running on: cuda:0, while the input data is on: cpu.\n",
      "Potential solutions:\n",
      "- Use a data structure that matches the device ordinal in the booster.\n",
      "- Set the device for booster before call to inplace_predict.\n",
      "\n",
      "This warning will only be shown once.\n",
      "\n",
      "  warnings.warn(smsg, UserWarning)\n"
     ]
    },
    {
     "name": "stdout",
     "output_type": "stream",
     "text": [
      "[CV] END gamma=0.1, learning_rate=0.05, max_depth=3, n_estimators=400, random_state=42, reg_alpha=0, reg_lambda=0.1; total time=  46.6s\n"
     ]
    },
    {
     "name": "stderr",
     "output_type": "stream",
     "text": [
      "/puhome/24112456g/.conda/envs/SHPC-env/lib/python3.10/site-packages/xgboost/core.py:158: UserWarning: [04:25:10] WARNING: /workspace/src/common/error_msg.cc:58: Falling back to prediction using DMatrix due to mismatched devices. This might lead to higher memory usage and slower performance. XGBoost is running on: cuda:0, while the input data is on: cpu.\n",
      "Potential solutions:\n",
      "- Use a data structure that matches the device ordinal in the booster.\n",
      "- Set the device for booster before call to inplace_predict.\n",
      "\n",
      "This warning will only be shown once.\n",
      "\n",
      "  warnings.warn(smsg, UserWarning)\n"
     ]
    },
    {
     "name": "stdout",
     "output_type": "stream",
     "text": [
      "[CV] END gamma=0.1, learning_rate=0.05, max_depth=3, n_estimators=400, random_state=42, reg_alpha=0, reg_lambda=1; total time=  41.9s\n"
     ]
    },
    {
     "name": "stderr",
     "output_type": "stream",
     "text": [
      "/puhome/24112456g/.conda/envs/SHPC-env/lib/python3.10/site-packages/xgboost/core.py:158: UserWarning: [04:25:15] WARNING: /workspace/src/common/error_msg.cc:58: Falling back to prediction using DMatrix due to mismatched devices. This might lead to higher memory usage and slower performance. XGBoost is running on: cuda:0, while the input data is on: cpu.\n",
      "Potential solutions:\n",
      "- Use a data structure that matches the device ordinal in the booster.\n",
      "- Set the device for booster before call to inplace_predict.\n",
      "\n",
      "This warning will only be shown once.\n",
      "\n",
      "  warnings.warn(smsg, UserWarning)\n"
     ]
    },
    {
     "name": "stdout",
     "output_type": "stream",
     "text": [
      "[CV] END gamma=0.1, learning_rate=0.05, max_depth=3, n_estimators=400, random_state=42, reg_alpha=0, reg_lambda=1; total time=  44.2s\n",
      "[CV] END gamma=0.1, learning_rate=0.05, max_depth=3, n_estimators=400, random_state=42, reg_alpha=0, reg_lambda=1; total time=  52.0s\n"
     ]
    },
    {
     "name": "stderr",
     "output_type": "stream",
     "text": [
      "/puhome/24112456g/.conda/envs/SHPC-env/lib/python3.10/site-packages/xgboost/core.py:158: UserWarning: [04:25:34] WARNING: /workspace/src/common/error_msg.cc:58: Falling back to prediction using DMatrix due to mismatched devices. This might lead to higher memory usage and slower performance. XGBoost is running on: cuda:0, while the input data is on: cpu.\n",
      "Potential solutions:\n",
      "- Use a data structure that matches the device ordinal in the booster.\n",
      "- Set the device for booster before call to inplace_predict.\n",
      "\n",
      "This warning will only be shown once.\n",
      "\n",
      "  warnings.warn(smsg, UserWarning)\n"
     ]
    },
    {
     "name": "stdout",
     "output_type": "stream",
     "text": [
      "[CV] END gamma=0.1, learning_rate=0.05, max_depth=3, n_estimators=400, random_state=42, reg_alpha=0, reg_lambda=1; total time=  44.8s\n",
      "[CV] END gamma=0.1, learning_rate=0.05, max_depth=3, n_estimators=400, random_state=42, reg_alpha=0, reg_lambda=1; total time=  54.1s\n",
      "[CV] END gamma=0.1, learning_rate=0.05, max_depth=3, n_estimators=400, random_state=42, reg_alpha=0, reg_lambda=10; total time=  49.6s\n",
      "[CV] END gamma=0.1, learning_rate=0.05, max_depth=3, n_estimators=400, random_state=42, reg_alpha=0, reg_lambda=10; total time=  52.8s\n",
      "[CV] END gamma=0.1, learning_rate=0.05, max_depth=3, n_estimators=400, random_state=42, reg_alpha=0, reg_lambda=10; total time=  51.7s\n"
     ]
    },
    {
     "name": "stderr",
     "output_type": "stream",
     "text": [
      "/puhome/24112456g/.conda/envs/SHPC-env/lib/python3.10/site-packages/xgboost/core.py:158: UserWarning: [04:26:20] WARNING: /workspace/src/common/error_msg.cc:58: Falling back to prediction using DMatrix due to mismatched devices. This might lead to higher memory usage and slower performance. XGBoost is running on: cuda:0, while the input data is on: cpu.\n",
      "Potential solutions:\n",
      "- Use a data structure that matches the device ordinal in the booster.\n",
      "- Set the device for booster before call to inplace_predict.\n",
      "\n",
      "This warning will only be shown once.\n",
      "\n",
      "  warnings.warn(smsg, UserWarning)\n"
     ]
    },
    {
     "name": "stdout",
     "output_type": "stream",
     "text": [
      "[CV] END gamma=0.1, learning_rate=0.05, max_depth=3, n_estimators=400, random_state=42, reg_alpha=0, reg_lambda=10; total time=  44.4s\n",
      "[CV] END gamma=0.1, learning_rate=0.05, max_depth=3, n_estimators=400, random_state=42, reg_alpha=0, reg_lambda=10; total time=  51.9s\n"
     ]
    },
    {
     "name": "stderr",
     "output_type": "stream",
     "text": [
      "/puhome/24112456g/.conda/envs/SHPC-env/lib/python3.10/site-packages/xgboost/core.py:158: UserWarning: [04:26:37] WARNING: /workspace/src/common/error_msg.cc:58: Falling back to prediction using DMatrix due to mismatched devices. This might lead to higher memory usage and slower performance. XGBoost is running on: cuda:0, while the input data is on: cpu.\n",
      "Potential solutions:\n",
      "- Use a data structure that matches the device ordinal in the booster.\n",
      "- Set the device for booster before call to inplace_predict.\n",
      "\n",
      "This warning will only be shown once.\n",
      "\n",
      "  warnings.warn(smsg, UserWarning)\n"
     ]
    },
    {
     "name": "stdout",
     "output_type": "stream",
     "text": [
      "[CV] END gamma=0.1, learning_rate=0.05, max_depth=3, n_estimators=400, random_state=42, reg_alpha=0.2, reg_lambda=0.1; total time=  38.9s\n",
      "[CV] END gamma=0.1, learning_rate=0.05, max_depth=3, n_estimators=400, random_state=42, reg_alpha=0.2, reg_lambda=0.1; total time=  49.9s\n"
     ]
    },
    {
     "name": "stderr",
     "output_type": "stream",
     "text": [
      "/puhome/24112456g/.conda/envs/SHPC-env/lib/python3.10/site-packages/xgboost/core.py:158: UserWarning: [04:26:54] WARNING: /workspace/src/common/error_msg.cc:58: Falling back to prediction using DMatrix due to mismatched devices. This might lead to higher memory usage and slower performance. XGBoost is running on: cuda:0, while the input data is on: cpu.\n",
      "Potential solutions:\n",
      "- Use a data structure that matches the device ordinal in the booster.\n",
      "- Set the device for booster before call to inplace_predict.\n",
      "\n",
      "This warning will only be shown once.\n",
      "\n",
      "  warnings.warn(smsg, UserWarning)\n"
     ]
    },
    {
     "name": "stdout",
     "output_type": "stream",
     "text": [
      "[CV] END gamma=0.1, learning_rate=0.05, max_depth=3, n_estimators=400, random_state=42, reg_alpha=0.2, reg_lambda=0.1; total time=  45.5s\n"
     ]
    },
    {
     "name": "stderr",
     "output_type": "stream",
     "text": [
      "/puhome/24112456g/.conda/envs/SHPC-env/lib/python3.10/site-packages/xgboost/core.py:158: UserWarning: [04:26:58] WARNING: /workspace/src/common/error_msg.cc:58: Falling back to prediction using DMatrix due to mismatched devices. This might lead to higher memory usage and slower performance. XGBoost is running on: cuda:0, while the input data is on: cpu.\n",
      "Potential solutions:\n",
      "- Use a data structure that matches the device ordinal in the booster.\n",
      "- Set the device for booster before call to inplace_predict.\n",
      "\n",
      "This warning will only be shown once.\n",
      "\n",
      "  warnings.warn(smsg, UserWarning)\n"
     ]
    },
    {
     "name": "stdout",
     "output_type": "stream",
     "text": [
      "[CV] END gamma=0.1, learning_rate=0.05, max_depth=3, n_estimators=400, random_state=42, reg_alpha=0.2, reg_lambda=0.1; total time=  45.5s\n"
     ]
    },
    {
     "name": "stderr",
     "output_type": "stream",
     "text": [
      "/puhome/24112456g/.conda/envs/SHPC-env/lib/python3.10/site-packages/xgboost/core.py:158: UserWarning: [04:27:15] WARNING: /workspace/src/common/error_msg.cc:58: Falling back to prediction using DMatrix due to mismatched devices. This might lead to higher memory usage and slower performance. XGBoost is running on: cuda:0, while the input data is on: cpu.\n",
      "Potential solutions:\n",
      "- Use a data structure that matches the device ordinal in the booster.\n",
      "- Set the device for booster before call to inplace_predict.\n",
      "\n",
      "This warning will only be shown once.\n",
      "\n",
      "  warnings.warn(smsg, UserWarning)\n"
     ]
    },
    {
     "name": "stdout",
     "output_type": "stream",
     "text": [
      "[CV] END gamma=0.1, learning_rate=0.05, max_depth=3, n_estimators=400, random_state=42, reg_alpha=0.2, reg_lambda=1; total time=  43.0s\n",
      "[CV] END gamma=0.1, learning_rate=0.05, max_depth=3, n_estimators=400, random_state=42, reg_alpha=0.2, reg_lambda=0.1; total time=  55.4s\n",
      "[CV] END gamma=0.1, learning_rate=0.05, max_depth=3, n_estimators=400, random_state=42, reg_alpha=0.2, reg_lambda=1; total time=  50.4s\n",
      "[CV] END gamma=0.1, learning_rate=0.05, max_depth=3, n_estimators=400, random_state=42, reg_alpha=0.2, reg_lambda=1; total time=  50.1s\n",
      "[CV] END gamma=0.1, learning_rate=0.05, max_depth=3, n_estimators=400, random_state=42, reg_alpha=0.2, reg_lambda=1; total time=  52.5s\n",
      "[CV] END gamma=0.1, learning_rate=0.05, max_depth=3, n_estimators=400, random_state=42, reg_alpha=0.2, reg_lambda=1; total time=  52.3s\n",
      "[CV] END gamma=0.1, learning_rate=0.05, max_depth=3, n_estimators=400, random_state=42, reg_alpha=0.2, reg_lambda=10; total time=  47.2s\n",
      "[CV] END gamma=0.1, learning_rate=0.05, max_depth=3, n_estimators=400, random_state=42, reg_alpha=0.2, reg_lambda=10; total time=  51.3s\n"
     ]
    },
    {
     "name": "stderr",
     "output_type": "stream",
     "text": [
      "/puhome/24112456g/.conda/envs/SHPC-env/lib/python3.10/site-packages/xgboost/core.py:158: UserWarning: [04:28:17] WARNING: /workspace/src/common/error_msg.cc:58: Falling back to prediction using DMatrix due to mismatched devices. This might lead to higher memory usage and slower performance. XGBoost is running on: cuda:0, while the input data is on: cpu.\n",
      "Potential solutions:\n",
      "- Use a data structure that matches the device ordinal in the booster.\n",
      "- Set the device for booster before call to inplace_predict.\n",
      "\n",
      "This warning will only be shown once.\n",
      "\n",
      "  warnings.warn(smsg, UserWarning)\n"
     ]
    },
    {
     "name": "stdout",
     "output_type": "stream",
     "text": [
      "[CV] END gamma=0.1, learning_rate=0.05, max_depth=3, n_estimators=400, random_state=42, reg_alpha=0.2, reg_lambda=10; total time=  43.4s\n",
      "[CV] END gamma=0.1, learning_rate=0.05, max_depth=3, n_estimators=400, random_state=42, reg_alpha=0.2, reg_lambda=10; total time=  49.5s\n"
     ]
    },
    {
     "name": "stderr",
     "output_type": "stream",
     "text": [
      "/puhome/24112456g/.conda/envs/SHPC-env/lib/python3.10/site-packages/xgboost/core.py:158: UserWarning: [04:28:39] WARNING: /workspace/src/common/error_msg.cc:58: Falling back to prediction using DMatrix due to mismatched devices. This might lead to higher memory usage and slower performance. XGBoost is running on: cuda:0, while the input data is on: cpu.\n",
      "Potential solutions:\n",
      "- Use a data structure that matches the device ordinal in the booster.\n",
      "- Set the device for booster before call to inplace_predict.\n",
      "\n",
      "This warning will only be shown once.\n",
      "\n",
      "  warnings.warn(smsg, UserWarning)\n",
      "/puhome/24112456g/.conda/envs/SHPC-env/lib/python3.10/site-packages/xgboost/core.py:158: UserWarning: [04:28:40] WARNING: /workspace/src/common/error_msg.cc:58: Falling back to prediction using DMatrix due to mismatched devices. This might lead to higher memory usage and slower performance. XGBoost is running on: cuda:0, while the input data is on: cpu.\n",
      "Potential solutions:\n",
      "- Use a data structure that matches the device ordinal in the booster.\n",
      "- Set the device for booster before call to inplace_predict.\n",
      "\n",
      "This warning will only be shown once.\n",
      "\n",
      "  warnings.warn(smsg, UserWarning)\n"
     ]
    },
    {
     "name": "stdout",
     "output_type": "stream",
     "text": [
      "[CV] END gamma=0.1, learning_rate=0.05, max_depth=3, n_estimators=400, random_state=42, reg_alpha=0.3, reg_lambda=0.1; total time=  42.5s\n",
      "[CV] END gamma=0.1, learning_rate=0.05, max_depth=3, n_estimators=400, random_state=42, reg_alpha=0.2, reg_lambda=10; total time=  47.3s\n"
     ]
    },
    {
     "name": "stderr",
     "output_type": "stream",
     "text": [
      "/puhome/24112456g/.conda/envs/SHPC-env/lib/python3.10/site-packages/xgboost/core.py:158: UserWarning: [04:28:53] WARNING: /workspace/src/common/error_msg.cc:58: Falling back to prediction using DMatrix due to mismatched devices. This might lead to higher memory usage and slower performance. XGBoost is running on: cuda:0, while the input data is on: cpu.\n",
      "Potential solutions:\n",
      "- Use a data structure that matches the device ordinal in the booster.\n",
      "- Set the device for booster before call to inplace_predict.\n",
      "\n",
      "This warning will only be shown once.\n",
      "\n",
      "  warnings.warn(smsg, UserWarning)\n"
     ]
    },
    {
     "name": "stdout",
     "output_type": "stream",
     "text": [
      "[CV] END gamma=0.1, learning_rate=0.05, max_depth=3, n_estimators=400, random_state=42, reg_alpha=0.3, reg_lambda=0.1; total time=  44.8s\n"
     ]
    },
    {
     "name": "stderr",
     "output_type": "stream",
     "text": [
      "/puhome/24112456g/.conda/envs/SHPC-env/lib/python3.10/site-packages/xgboost/core.py:158: UserWarning: [04:28:58] WARNING: /workspace/src/common/error_msg.cc:58: Falling back to prediction using DMatrix due to mismatched devices. This might lead to higher memory usage and slower performance. XGBoost is running on: cuda:0, while the input data is on: cpu.\n",
      "Potential solutions:\n",
      "- Use a data structure that matches the device ordinal in the booster.\n",
      "- Set the device for booster before call to inplace_predict.\n",
      "\n",
      "This warning will only be shown once.\n",
      "\n",
      "  warnings.warn(smsg, UserWarning)\n"
     ]
    },
    {
     "name": "stdout",
     "output_type": "stream",
     "text": [
      "[CV] END gamma=0.1, learning_rate=0.05, max_depth=3, n_estimators=400, random_state=42, reg_alpha=0.3, reg_lambda=0.1; total time=  44.9s\n",
      "[CV] END gamma=0.1, learning_rate=0.05, max_depth=3, n_estimators=400, random_state=42, reg_alpha=0.3, reg_lambda=0.1; total time=  50.2s\n",
      "[CV] END gamma=0.1, learning_rate=0.05, max_depth=3, n_estimators=400, random_state=42, reg_alpha=0.3, reg_lambda=0.1; total time=  49.6s\n",
      "[CV] END gamma=0.1, learning_rate=0.05, max_depth=3, n_estimators=400, random_state=42, reg_alpha=0.3, reg_lambda=1; total time=  47.0s\n",
      "[CV] END gamma=0.1, learning_rate=0.05, max_depth=3, n_estimators=400, random_state=42, reg_alpha=0.3, reg_lambda=1; total time=  51.2s\n",
      "[CV] END gamma=0.1, learning_rate=0.05, max_depth=3, n_estimators=400, random_state=42, reg_alpha=0.3, reg_lambda=1; total time=  52.3s\n",
      "[CV] END gamma=0.1, learning_rate=0.05, max_depth=3, n_estimators=400, random_state=42, reg_alpha=0.3, reg_lambda=1; total time=  52.7s\n"
     ]
    },
    {
     "name": "stderr",
     "output_type": "stream",
     "text": [
      "/puhome/24112456g/.conda/envs/SHPC-env/lib/python3.10/site-packages/xgboost/core.py:158: UserWarning: [04:30:00] WARNING: /workspace/src/common/error_msg.cc:58: Falling back to prediction using DMatrix due to mismatched devices. This might lead to higher memory usage and slower performance. XGBoost is running on: cuda:0, while the input data is on: cpu.\n",
      "Potential solutions:\n",
      "- Use a data structure that matches the device ordinal in the booster.\n",
      "- Set the device for booster before call to inplace_predict.\n",
      "\n",
      "This warning will only be shown once.\n",
      "\n",
      "  warnings.warn(smsg, UserWarning)\n"
     ]
    },
    {
     "name": "stdout",
     "output_type": "stream",
     "text": [
      "[CV] END gamma=0.1, learning_rate=0.05, max_depth=3, n_estimators=400, random_state=42, reg_alpha=0.3, reg_lambda=1; total time=  47.6s\n",
      "[CV] END gamma=0.1, learning_rate=0.05, max_depth=3, n_estimators=400, random_state=42, reg_alpha=0.3, reg_lambda=10; total time=  47.3s\n",
      "[CV] END gamma=0.1, learning_rate=0.05, max_depth=3, n_estimators=400, random_state=42, reg_alpha=0.3, reg_lambda=10; total time=  50.6s\n"
     ]
    },
    {
     "name": "stderr",
     "output_type": "stream",
     "text": [
      "/puhome/24112456g/.conda/envs/SHPC-env/lib/python3.10/site-packages/xgboost/core.py:158: UserWarning: [04:30:22] WARNING: /workspace/src/common/error_msg.cc:58: Falling back to prediction using DMatrix due to mismatched devices. This might lead to higher memory usage and slower performance. XGBoost is running on: cuda:0, while the input data is on: cpu.\n",
      "Potential solutions:\n",
      "- Use a data structure that matches the device ordinal in the booster.\n",
      "- Set the device for booster before call to inplace_predict.\n",
      "\n",
      "This warning will only be shown once.\n",
      "\n",
      "  warnings.warn(smsg, UserWarning)\n"
     ]
    },
    {
     "name": "stdout",
     "output_type": "stream",
     "text": [
      "[CV] END gamma=0.1, learning_rate=0.05, max_depth=3, n_estimators=400, random_state=42, reg_alpha=0.3, reg_lambda=10; total time=  44.2s\n"
     ]
    },
    {
     "name": "stderr",
     "output_type": "stream",
     "text": [
      "/puhome/24112456g/.conda/envs/SHPC-env/lib/python3.10/site-packages/xgboost/core.py:158: UserWarning: [04:30:36] WARNING: /workspace/src/common/error_msg.cc:58: Falling back to prediction using DMatrix due to mismatched devices. This might lead to higher memory usage and slower performance. XGBoost is running on: cuda:0, while the input data is on: cpu.\n",
      "Potential solutions:\n",
      "- Use a data structure that matches the device ordinal in the booster.\n",
      "- Set the device for booster before call to inplace_predict.\n",
      "\n",
      "This warning will only be shown once.\n",
      "\n",
      "  warnings.warn(smsg, UserWarning)\n"
     ]
    },
    {
     "name": "stdout",
     "output_type": "stream",
     "text": [
      "[CV] END gamma=0.1, learning_rate=0.05, max_depth=3, n_estimators=400, random_state=42, reg_alpha=0.3, reg_lambda=10; total time=  44.4s\n"
     ]
    },
    {
     "name": "stderr",
     "output_type": "stream",
     "text": [
      "/puhome/24112456g/.conda/envs/SHPC-env/lib/python3.10/site-packages/xgboost/core.py:158: UserWarning: [04:30:44] WARNING: /workspace/src/common/error_msg.cc:58: Falling back to prediction using DMatrix due to mismatched devices. This might lead to higher memory usage and slower performance. XGBoost is running on: cuda:0, while the input data is on: cpu.\n",
      "Potential solutions:\n",
      "- Use a data structure that matches the device ordinal in the booster.\n",
      "- Set the device for booster before call to inplace_predict.\n",
      "\n",
      "This warning will only be shown once.\n",
      "\n",
      "  warnings.warn(smsg, UserWarning)\n"
     ]
    },
    {
     "name": "stdout",
     "output_type": "stream",
     "text": [
      "[CV] END gamma=0.1, learning_rate=0.05, max_depth=3, n_estimators=400, random_state=42, reg_alpha=0.3, reg_lambda=10; total time=  46.2s\n",
      "[CV] END gamma=0.1, learning_rate=0.05, max_depth=3, n_estimators=400, random_state=42, reg_alpha=0.4, reg_lambda=0.1; total time=  50.3s\n",
      "[CV] END gamma=0.1, learning_rate=0.05, max_depth=3, n_estimators=400, random_state=42, reg_alpha=0.4, reg_lambda=0.1; total time=  51.1s\n"
     ]
    },
    {
     "name": "stderr",
     "output_type": "stream",
     "text": [
      "/puhome/24112456g/.conda/envs/SHPC-env/lib/python3.10/site-packages/xgboost/core.py:158: UserWarning: [04:31:06] WARNING: /workspace/src/common/error_msg.cc:58: Falling back to prediction using DMatrix due to mismatched devices. This might lead to higher memory usage and slower performance. XGBoost is running on: cuda:0, while the input data is on: cpu.\n",
      "Potential solutions:\n",
      "- Use a data structure that matches the device ordinal in the booster.\n",
      "- Set the device for booster before call to inplace_predict.\n",
      "\n",
      "This warning will only be shown once.\n",
      "\n",
      "  warnings.warn(smsg, UserWarning)\n"
     ]
    },
    {
     "name": "stdout",
     "output_type": "stream",
     "text": [
      "[CV] END gamma=0.1, learning_rate=0.05, max_depth=3, n_estimators=400, random_state=42, reg_alpha=0.4, reg_lambda=0.1; total time=  43.1s\n",
      "[CV] END gamma=0.1, learning_rate=0.05, max_depth=3, n_estimators=400, random_state=42, reg_alpha=0.4, reg_lambda=0.1; total time=  51.0s\n",
      "[CV] END gamma=0.1, learning_rate=0.05, max_depth=3, n_estimators=400, random_state=42, reg_alpha=0.4, reg_lambda=0.1; total time=  52.1s\n",
      "[CV] END gamma=0.1, learning_rate=0.05, max_depth=3, n_estimators=400, random_state=42, reg_alpha=0.4, reg_lambda=1; total time=  48.0s\n"
     ]
    },
    {
     "name": "stderr",
     "output_type": "stream",
     "text": [
      "/puhome/24112456g/.conda/envs/SHPC-env/lib/python3.10/site-packages/xgboost/core.py:158: UserWarning: [04:31:43] WARNING: /workspace/src/common/error_msg.cc:58: Falling back to prediction using DMatrix due to mismatched devices. This might lead to higher memory usage and slower performance. XGBoost is running on: cuda:0, while the input data is on: cpu.\n",
      "Potential solutions:\n",
      "- Use a data structure that matches the device ordinal in the booster.\n",
      "- Set the device for booster before call to inplace_predict.\n",
      "\n",
      "This warning will only be shown once.\n",
      "\n",
      "  warnings.warn(smsg, UserWarning)\n"
     ]
    },
    {
     "name": "stdout",
     "output_type": "stream",
     "text": [
      "[CV] END gamma=0.1, learning_rate=0.05, max_depth=3, n_estimators=400, random_state=42, reg_alpha=0.4, reg_lambda=1; total time=  46.2s\n"
     ]
    },
    {
     "name": "stderr",
     "output_type": "stream",
     "text": [
      "/puhome/24112456g/.conda/envs/SHPC-env/lib/python3.10/site-packages/xgboost/core.py:158: UserWarning: [04:31:45] WARNING: /workspace/src/common/error_msg.cc:58: Falling back to prediction using DMatrix due to mismatched devices. This might lead to higher memory usage and slower performance. XGBoost is running on: cuda:0, while the input data is on: cpu.\n",
      "Potential solutions:\n",
      "- Use a data structure that matches the device ordinal in the booster.\n",
      "- Set the device for booster before call to inplace_predict.\n",
      "\n",
      "This warning will only be shown once.\n",
      "\n",
      "  warnings.warn(smsg, UserWarning)\n"
     ]
    },
    {
     "name": "stdout",
     "output_type": "stream",
     "text": [
      "[CV] END gamma=0.1, learning_rate=0.05, max_depth=3, n_estimators=400, random_state=42, reg_alpha=0.4, reg_lambda=1; total time=  46.1s\n",
      "[CV] END gamma=0.1, learning_rate=0.05, max_depth=3, n_estimators=400, random_state=42, reg_alpha=0.4, reg_lambda=1; total time=  50.8s\n"
     ]
    },
    {
     "name": "stderr",
     "output_type": "stream",
     "text": [
      "/puhome/24112456g/.conda/envs/SHPC-env/lib/python3.10/site-packages/xgboost/core.py:158: UserWarning: [04:32:03] WARNING: /workspace/src/common/error_msg.cc:58: Falling back to prediction using DMatrix due to mismatched devices. This might lead to higher memory usage and slower performance. XGBoost is running on: cuda:0, while the input data is on: cpu.\n",
      "Potential solutions:\n",
      "- Use a data structure that matches the device ordinal in the booster.\n",
      "- Set the device for booster before call to inplace_predict.\n",
      "\n",
      "This warning will only be shown once.\n",
      "\n",
      "  warnings.warn(smsg, UserWarning)\n"
     ]
    },
    {
     "name": "stdout",
     "output_type": "stream",
     "text": [
      "[CV] END gamma=0.1, learning_rate=0.05, max_depth=3, n_estimators=400, random_state=42, reg_alpha=0.4, reg_lambda=1; total time=  44.2s\n"
     ]
    },
    {
     "name": "stderr",
     "output_type": "stream",
     "text": [
      "/puhome/24112456g/.conda/envs/SHPC-env/lib/python3.10/site-packages/xgboost/core.py:158: UserWarning: [04:32:13] WARNING: /workspace/src/common/error_msg.cc:58: Falling back to prediction using DMatrix due to mismatched devices. This might lead to higher memory usage and slower performance. XGBoost is running on: cuda:0, while the input data is on: cpu.\n",
      "Potential solutions:\n",
      "- Use a data structure that matches the device ordinal in the booster.\n",
      "- Set the device for booster before call to inplace_predict.\n",
      "\n",
      "This warning will only be shown once.\n",
      "\n",
      "  warnings.warn(smsg, UserWarning)\n"
     ]
    },
    {
     "name": "stdout",
     "output_type": "stream",
     "text": [
      "[CV] END gamma=0.1, learning_rate=0.05, max_depth=3, n_estimators=400, random_state=42, reg_alpha=0.4, reg_lambda=10; total time=  38.6s\n"
     ]
    },
    {
     "name": "stderr",
     "output_type": "stream",
     "text": [
      "/puhome/24112456g/.conda/envs/SHPC-env/lib/python3.10/site-packages/xgboost/core.py:158: UserWarning: [04:32:21] WARNING: /workspace/src/common/error_msg.cc:58: Falling back to prediction using DMatrix due to mismatched devices. This might lead to higher memory usage and slower performance. XGBoost is running on: cuda:0, while the input data is on: cpu.\n",
      "Potential solutions:\n",
      "- Use a data structure that matches the device ordinal in the booster.\n",
      "- Set the device for booster before call to inplace_predict.\n",
      "\n",
      "This warning will only be shown once.\n",
      "\n",
      "  warnings.warn(smsg, UserWarning)\n"
     ]
    },
    {
     "name": "stdout",
     "output_type": "stream",
     "text": [
      "[CV] END gamma=0.1, learning_rate=0.05, max_depth=3, n_estimators=400, random_state=42, reg_alpha=0.4, reg_lambda=10; total time=  43.4s\n",
      "[CV] END gamma=0.1, learning_rate=0.05, max_depth=3, n_estimators=400, random_state=42, reg_alpha=0.4, reg_lambda=10; total time=  54.1s\n",
      "[CV] END gamma=0.1, learning_rate=0.05, max_depth=3, n_estimators=400, random_state=42, reg_alpha=0.4, reg_lambda=10; total time=  53.9s\n"
     ]
    },
    {
     "name": "stderr",
     "output_type": "stream",
     "text": [
      "/puhome/24112456g/.conda/envs/SHPC-env/lib/python3.10/site-packages/xgboost/core.py:158: UserWarning: [04:32:50] WARNING: /workspace/src/common/error_msg.cc:58: Falling back to prediction using DMatrix due to mismatched devices. This might lead to higher memory usage and slower performance. XGBoost is running on: cuda:0, while the input data is on: cpu.\n",
      "Potential solutions:\n",
      "- Use a data structure that matches the device ordinal in the booster.\n",
      "- Set the device for booster before call to inplace_predict.\n",
      "\n",
      "This warning will only be shown once.\n",
      "\n",
      "  warnings.warn(smsg, UserWarning)\n"
     ]
    },
    {
     "name": "stdout",
     "output_type": "stream",
     "text": [
      "[CV] END gamma=0.1, learning_rate=0.05, max_depth=3, n_estimators=400, random_state=42, reg_alpha=0.4, reg_lambda=10; total time=  46.4s\n",
      "[CV] END gamma=0.1, learning_rate=0.05, max_depth=3, n_estimators=800, random_state=42, reg_alpha=0, reg_lambda=0.1; total time=  57.6s\n",
      "[CV] END gamma=0.1, learning_rate=0.05, max_depth=3, n_estimators=800, random_state=42, reg_alpha=0, reg_lambda=0.1; total time= 1.1min\n",
      "[CV] END gamma=0.1, learning_rate=0.05, max_depth=3, n_estimators=800, random_state=42, reg_alpha=0, reg_lambda=0.1; total time= 1.0min\n"
     ]
    },
    {
     "name": "stderr",
     "output_type": "stream",
     "text": [
      "/puhome/24112456g/.conda/envs/SHPC-env/lib/python3.10/site-packages/xgboost/core.py:158: UserWarning: [04:33:48] WARNING: /workspace/src/common/error_msg.cc:58: Falling back to prediction using DMatrix due to mismatched devices. This might lead to higher memory usage and slower performance. XGBoost is running on: cuda:0, while the input data is on: cpu.\n",
      "Potential solutions:\n",
      "- Use a data structure that matches the device ordinal in the booster.\n",
      "- Set the device for booster before call to inplace_predict.\n",
      "\n",
      "This warning will only be shown once.\n",
      "\n",
      "  warnings.warn(smsg, UserWarning)\n"
     ]
    },
    {
     "name": "stdout",
     "output_type": "stream",
     "text": [
      "[CV] END gamma=0.1, learning_rate=0.05, max_depth=3, n_estimators=800, random_state=42, reg_alpha=0, reg_lambda=0.1; total time= 1.1min\n",
      "[CV] END gamma=0.1, learning_rate=0.05, max_depth=3, n_estimators=800, random_state=42, reg_alpha=0, reg_lambda=0.1; total time= 1.2min\n",
      "[CV] END gamma=0.1, learning_rate=0.05, max_depth=3, n_estimators=800, random_state=42, reg_alpha=0, reg_lambda=1; total time= 1.1min\n"
     ]
    },
    {
     "name": "stderr",
     "output_type": "stream",
     "text": [
      "/puhome/24112456g/.conda/envs/SHPC-env/lib/python3.10/site-packages/xgboost/core.py:158: UserWarning: [04:34:10] WARNING: /workspace/src/common/error_msg.cc:58: Falling back to prediction using DMatrix due to mismatched devices. This might lead to higher memory usage and slower performance. XGBoost is running on: cuda:0, while the input data is on: cpu.\n",
      "Potential solutions:\n",
      "- Use a data structure that matches the device ordinal in the booster.\n",
      "- Set the device for booster before call to inplace_predict.\n",
      "\n",
      "This warning will only be shown once.\n",
      "\n",
      "  warnings.warn(smsg, UserWarning)\n"
     ]
    },
    {
     "name": "stdout",
     "output_type": "stream",
     "text": [
      "[CV] END gamma=0.1, learning_rate=0.05, max_depth=3, n_estimators=800, random_state=42, reg_alpha=0, reg_lambda=1; total time= 1.0min\n"
     ]
    },
    {
     "name": "stderr",
     "output_type": "stream",
     "text": [
      "/puhome/24112456g/.conda/envs/SHPC-env/lib/python3.10/site-packages/xgboost/core.py:158: UserWarning: [04:34:21] WARNING: /workspace/src/common/error_msg.cc:58: Falling back to prediction using DMatrix due to mismatched devices. This might lead to higher memory usage and slower performance. XGBoost is running on: cuda:0, while the input data is on: cpu.\n",
      "Potential solutions:\n",
      "- Use a data structure that matches the device ordinal in the booster.\n",
      "- Set the device for booster before call to inplace_predict.\n",
      "\n",
      "This warning will only be shown once.\n",
      "\n",
      "  warnings.warn(smsg, UserWarning)\n"
     ]
    },
    {
     "name": "stdout",
     "output_type": "stream",
     "text": [
      "[CV] END gamma=0.1, learning_rate=0.05, max_depth=3, n_estimators=800, random_state=42, reg_alpha=0, reg_lambda=1; total time=  59.3s\n"
     ]
    },
    {
     "name": "stderr",
     "output_type": "stream",
     "text": [
      "/puhome/24112456g/.conda/envs/SHPC-env/lib/python3.10/site-packages/xgboost/core.py:158: UserWarning: [04:34:25] WARNING: /workspace/src/common/error_msg.cc:58: Falling back to prediction using DMatrix due to mismatched devices. This might lead to higher memory usage and slower performance. XGBoost is running on: cuda:0, while the input data is on: cpu.\n",
      "Potential solutions:\n",
      "- Use a data structure that matches the device ordinal in the booster.\n",
      "- Set the device for booster before call to inplace_predict.\n",
      "\n",
      "This warning will only be shown once.\n",
      "\n",
      "  warnings.warn(smsg, UserWarning)\n"
     ]
    },
    {
     "name": "stdout",
     "output_type": "stream",
     "text": [
      "[CV] END gamma=0.1, learning_rate=0.05, max_depth=3, n_estimators=800, random_state=42, reg_alpha=0, reg_lambda=1; total time=  56.8s\n"
     ]
    },
    {
     "name": "stderr",
     "output_type": "stream",
     "text": [
      "/puhome/24112456g/.conda/envs/SHPC-env/lib/python3.10/site-packages/xgboost/core.py:158: UserWarning: [04:35:01] WARNING: /workspace/src/common/error_msg.cc:58: Falling back to prediction using DMatrix due to mismatched devices. This might lead to higher memory usage and slower performance. XGBoost is running on: cuda:0, while the input data is on: cpu.\n",
      "Potential solutions:\n",
      "- Use a data structure that matches the device ordinal in the booster.\n",
      "- Set the device for booster before call to inplace_predict.\n",
      "\n",
      "This warning will only be shown once.\n",
      "\n",
      "  warnings.warn(smsg, UserWarning)\n"
     ]
    },
    {
     "name": "stdout",
     "output_type": "stream",
     "text": [
      "[CV] END gamma=0.1, learning_rate=0.05, max_depth=3, n_estimators=800, random_state=42, reg_alpha=0, reg_lambda=1; total time= 1.2min\n",
      "[CV] END gamma=0.1, learning_rate=0.05, max_depth=3, n_estimators=800, random_state=42, reg_alpha=0, reg_lambda=10; total time= 1.0min\n"
     ]
    },
    {
     "name": "stderr",
     "output_type": "stream",
     "text": [
      "/puhome/24112456g/.conda/envs/SHPC-env/lib/python3.10/site-packages/xgboost/core.py:158: UserWarning: [04:35:12] WARNING: /workspace/src/common/error_msg.cc:58: Falling back to prediction using DMatrix due to mismatched devices. This might lead to higher memory usage and slower performance. XGBoost is running on: cuda:0, while the input data is on: cpu.\n",
      "Potential solutions:\n",
      "- Use a data structure that matches the device ordinal in the booster.\n",
      "- Set the device for booster before call to inplace_predict.\n",
      "\n",
      "This warning will only be shown once.\n",
      "\n",
      "  warnings.warn(smsg, UserWarning)\n"
     ]
    },
    {
     "name": "stdout",
     "output_type": "stream",
     "text": [
      "[CV] END gamma=0.1, learning_rate=0.05, max_depth=3, n_estimators=800, random_state=42, reg_alpha=0, reg_lambda=10; total time= 1.1min\n",
      "[CV] END gamma=0.1, learning_rate=0.05, max_depth=3, n_estimators=800, random_state=42, reg_alpha=0, reg_lambda=10; total time= 1.3min\n",
      "[CV] END gamma=0.1, learning_rate=0.05, max_depth=3, n_estimators=800, random_state=42, reg_alpha=0, reg_lambda=10; total time= 1.2min\n",
      "[CV] END gamma=0.1, learning_rate=0.05, max_depth=3, n_estimators=800, random_state=42, reg_alpha=0, reg_lambda=10; total time= 1.2min\n",
      "[CV] END gamma=0.1, learning_rate=0.05, max_depth=3, n_estimators=800, random_state=42, reg_alpha=0.2, reg_lambda=0.1; total time= 1.0min\n"
     ]
    },
    {
     "name": "stderr",
     "output_type": "stream",
     "text": [
      "/puhome/24112456g/.conda/envs/SHPC-env/lib/python3.10/site-packages/xgboost/core.py:158: UserWarning: [04:36:06] WARNING: /workspace/src/common/error_msg.cc:58: Falling back to prediction using DMatrix due to mismatched devices. This might lead to higher memory usage and slower performance. XGBoost is running on: cuda:0, while the input data is on: cpu.\n",
      "Potential solutions:\n",
      "- Use a data structure that matches the device ordinal in the booster.\n",
      "- Set the device for booster before call to inplace_predict.\n",
      "\n",
      "This warning will only be shown once.\n",
      "\n",
      "  warnings.warn(smsg, UserWarning)\n"
     ]
    },
    {
     "name": "stdout",
     "output_type": "stream",
     "text": [
      "[CV] END gamma=0.1, learning_rate=0.05, max_depth=3, n_estimators=800, random_state=42, reg_alpha=0.2, reg_lambda=0.1; total time= 1.0min\n",
      "[CV] END gamma=0.1, learning_rate=0.05, max_depth=3, n_estimators=800, random_state=42, reg_alpha=0.2, reg_lambda=0.1; total time= 1.2min\n"
     ]
    },
    {
     "name": "stderr",
     "output_type": "stream",
     "text": [
      "/puhome/24112456g/.conda/envs/SHPC-env/lib/python3.10/site-packages/xgboost/core.py:158: UserWarning: [04:36:39] WARNING: /workspace/src/common/error_msg.cc:58: Falling back to prediction using DMatrix due to mismatched devices. This might lead to higher memory usage and slower performance. XGBoost is running on: cuda:0, while the input data is on: cpu.\n",
      "Potential solutions:\n",
      "- Use a data structure that matches the device ordinal in the booster.\n",
      "- Set the device for booster before call to inplace_predict.\n",
      "\n",
      "This warning will only be shown once.\n",
      "\n",
      "  warnings.warn(smsg, UserWarning)\n"
     ]
    },
    {
     "name": "stdout",
     "output_type": "stream",
     "text": [
      "[CV] END gamma=0.1, learning_rate=0.05, max_depth=3, n_estimators=800, random_state=42, reg_alpha=0.2, reg_lambda=0.1; total time= 1.1min\n"
     ]
    },
    {
     "name": "stderr",
     "output_type": "stream",
     "text": [
      "/puhome/24112456g/.conda/envs/SHPC-env/lib/python3.10/site-packages/xgboost/core.py:158: UserWarning: [04:36:44] WARNING: /workspace/src/common/error_msg.cc:58: Falling back to prediction using DMatrix due to mismatched devices. This might lead to higher memory usage and slower performance. XGBoost is running on: cuda:0, while the input data is on: cpu.\n",
      "Potential solutions:\n",
      "- Use a data structure that matches the device ordinal in the booster.\n",
      "- Set the device for booster before call to inplace_predict.\n",
      "\n",
      "This warning will only be shown once.\n",
      "\n",
      "  warnings.warn(smsg, UserWarning)\n",
      "/puhome/24112456g/.conda/envs/SHPC-env/lib/python3.10/site-packages/xgboost/core.py:158: UserWarning: [04:36:45] WARNING: /workspace/src/common/error_msg.cc:58: Falling back to prediction using DMatrix due to mismatched devices. This might lead to higher memory usage and slower performance. XGBoost is running on: cuda:0, while the input data is on: cpu.\n",
      "Potential solutions:\n",
      "- Use a data structure that matches the device ordinal in the booster.\n",
      "- Set the device for booster before call to inplace_predict.\n",
      "\n",
      "This warning will only be shown once.\n",
      "\n",
      "  warnings.warn(smsg, UserWarning)\n"
     ]
    },
    {
     "name": "stdout",
     "output_type": "stream",
     "text": [
      "[CV] END gamma=0.1, learning_rate=0.05, max_depth=3, n_estimators=800, random_state=42, reg_alpha=0.2, reg_lambda=1; total time= 1.0min\n",
      "[CV] END gamma=0.1, learning_rate=0.05, max_depth=3, n_estimators=800, random_state=42, reg_alpha=0.2, reg_lambda=0.1; total time= 1.1min\n"
     ]
    },
    {
     "name": "stderr",
     "output_type": "stream",
     "text": [
      "/puhome/24112456g/.conda/envs/SHPC-env/lib/python3.10/site-packages/xgboost/core.py:158: UserWarning: [04:37:04] WARNING: /workspace/src/common/error_msg.cc:58: Falling back to prediction using DMatrix due to mismatched devices. This might lead to higher memory usage and slower performance. XGBoost is running on: cuda:0, while the input data is on: cpu.\n",
      "Potential solutions:\n",
      "- Use a data structure that matches the device ordinal in the booster.\n",
      "- Set the device for booster before call to inplace_predict.\n",
      "\n",
      "This warning will only be shown once.\n",
      "\n",
      "  warnings.warn(smsg, UserWarning)\n"
     ]
    },
    {
     "name": "stdout",
     "output_type": "stream",
     "text": [
      "[CV] END gamma=0.1, learning_rate=0.05, max_depth=3, n_estimators=800, random_state=42, reg_alpha=0.2, reg_lambda=1; total time=  55.9s\n",
      "[CV] END gamma=0.1, learning_rate=0.05, max_depth=3, n_estimators=800, random_state=42, reg_alpha=0.2, reg_lambda=1; total time= 1.1min\n"
     ]
    },
    {
     "name": "stderr",
     "output_type": "stream",
     "text": [
      "/puhome/24112456g/.conda/envs/SHPC-env/lib/python3.10/site-packages/xgboost/core.py:158: UserWarning: [04:37:21] WARNING: /workspace/src/common/error_msg.cc:58: Falling back to prediction using DMatrix due to mismatched devices. This might lead to higher memory usage and slower performance. XGBoost is running on: cuda:0, while the input data is on: cpu.\n",
      "Potential solutions:\n",
      "- Use a data structure that matches the device ordinal in the booster.\n",
      "- Set the device for booster before call to inplace_predict.\n",
      "\n",
      "This warning will only be shown once.\n",
      "\n",
      "  warnings.warn(smsg, UserWarning)\n"
     ]
    },
    {
     "name": "stdout",
     "output_type": "stream",
     "text": [
      "[CV] END gamma=0.1, learning_rate=0.05, max_depth=3, n_estimators=800, random_state=42, reg_alpha=0.2, reg_lambda=1; total time=  51.2s\n",
      "[CV] END gamma=0.1, learning_rate=0.05, max_depth=3, n_estimators=800, random_state=42, reg_alpha=0.2, reg_lambda=1; total time= 1.2min\n",
      "[CV] END gamma=0.1, learning_rate=0.05, max_depth=3, n_estimators=800, random_state=42, reg_alpha=0.2, reg_lambda=10; total time= 1.1min\n",
      "[CV] END gamma=0.1, learning_rate=0.05, max_depth=3, n_estimators=800, random_state=42, reg_alpha=0.2, reg_lambda=10; total time= 1.2min\n",
      "[CV] END gamma=0.1, learning_rate=0.05, max_depth=3, n_estimators=800, random_state=42, reg_alpha=0.2, reg_lambda=10; total time= 1.2min\n"
     ]
    },
    {
     "name": "stderr",
     "output_type": "stream",
     "text": [
      "/puhome/24112456g/.conda/envs/SHPC-env/lib/python3.10/site-packages/xgboost/core.py:158: UserWarning: [04:38:21] WARNING: /workspace/src/common/error_msg.cc:58: Falling back to prediction using DMatrix due to mismatched devices. This might lead to higher memory usage and slower performance. XGBoost is running on: cuda:0, while the input data is on: cpu.\n",
      "Potential solutions:\n",
      "- Use a data structure that matches the device ordinal in the booster.\n",
      "- Set the device for booster before call to inplace_predict.\n",
      "\n",
      "This warning will only be shown once.\n",
      "\n",
      "  warnings.warn(smsg, UserWarning)\n"
     ]
    },
    {
     "name": "stdout",
     "output_type": "stream",
     "text": [
      "[CV] END gamma=0.1, learning_rate=0.05, max_depth=3, n_estimators=800, random_state=42, reg_alpha=0.2, reg_lambda=10; total time= 1.1min\n",
      "[CV] END gamma=0.1, learning_rate=0.05, max_depth=3, n_estimators=800, random_state=42, reg_alpha=0.2, reg_lambda=10; total time= 1.1min\n",
      "[CV] END gamma=0.1, learning_rate=0.05, max_depth=3, n_estimators=800, random_state=42, reg_alpha=0.3, reg_lambda=0.1; total time= 1.0min\n"
     ]
    },
    {
     "name": "stderr",
     "output_type": "stream",
     "text": [
      "/puhome/24112456g/.conda/envs/SHPC-env/lib/python3.10/site-packages/xgboost/core.py:158: UserWarning: [04:38:59] WARNING: /workspace/src/common/error_msg.cc:58: Falling back to prediction using DMatrix due to mismatched devices. This might lead to higher memory usage and slower performance. XGBoost is running on: cuda:0, while the input data is on: cpu.\n",
      "Potential solutions:\n",
      "- Use a data structure that matches the device ordinal in the booster.\n",
      "- Set the device for booster before call to inplace_predict.\n",
      "\n",
      "This warning will only be shown once.\n",
      "\n",
      "  warnings.warn(smsg, UserWarning)\n"
     ]
    },
    {
     "name": "stdout",
     "output_type": "stream",
     "text": [
      "[CV] END gamma=0.1, learning_rate=0.05, max_depth=3, n_estimators=800, random_state=42, reg_alpha=0.3, reg_lambda=0.1; total time= 1.0min\n"
     ]
    },
    {
     "name": "stderr",
     "output_type": "stream",
     "text": [
      "/puhome/24112456g/.conda/envs/SHPC-env/lib/python3.10/site-packages/xgboost/core.py:158: UserWarning: [04:39:09] WARNING: /workspace/src/common/error_msg.cc:58: Falling back to prediction using DMatrix due to mismatched devices. This might lead to higher memory usage and slower performance. XGBoost is running on: cuda:0, while the input data is on: cpu.\n",
      "Potential solutions:\n",
      "- Use a data structure that matches the device ordinal in the booster.\n",
      "- Set the device for booster before call to inplace_predict.\n",
      "\n",
      "This warning will only be shown once.\n",
      "\n",
      "  warnings.warn(smsg, UserWarning)\n"
     ]
    },
    {
     "name": "stdout",
     "output_type": "stream",
     "text": [
      "[CV] END gamma=0.1, learning_rate=0.05, max_depth=3, n_estimators=800, random_state=42, reg_alpha=0.3, reg_lambda=0.1; total time= 1.1min\n"
     ]
    },
    {
     "name": "stderr",
     "output_type": "stream",
     "text": [
      "/puhome/24112456g/.conda/envs/SHPC-env/lib/python3.10/site-packages/xgboost/core.py:158: UserWarning: [04:39:29] WARNING: /workspace/src/common/error_msg.cc:58: Falling back to prediction using DMatrix due to mismatched devices. This might lead to higher memory usage and slower performance. XGBoost is running on: cuda:0, while the input data is on: cpu.\n",
      "Potential solutions:\n",
      "- Use a data structure that matches the device ordinal in the booster.\n",
      "- Set the device for booster before call to inplace_predict.\n",
      "\n",
      "This warning will only be shown once.\n",
      "\n",
      "  warnings.warn(smsg, UserWarning)\n"
     ]
    },
    {
     "name": "stdout",
     "output_type": "stream",
     "text": [
      "[CV] END gamma=0.1, learning_rate=0.05, max_depth=3, n_estimators=800, random_state=42, reg_alpha=0.3, reg_lambda=0.1; total time= 1.1min\n"
     ]
    },
    {
     "name": "stderr",
     "output_type": "stream",
     "text": [
      "/puhome/24112456g/.conda/envs/SHPC-env/lib/python3.10/site-packages/xgboost/core.py:158: UserWarning: [04:39:34] WARNING: /workspace/src/common/error_msg.cc:58: Falling back to prediction using DMatrix due to mismatched devices. This might lead to higher memory usage and slower performance. XGBoost is running on: cuda:0, while the input data is on: cpu.\n",
      "Potential solutions:\n",
      "- Use a data structure that matches the device ordinal in the booster.\n",
      "- Set the device for booster before call to inplace_predict.\n",
      "\n",
      "This warning will only be shown once.\n",
      "\n",
      "  warnings.warn(smsg, UserWarning)\n"
     ]
    },
    {
     "name": "stdout",
     "output_type": "stream",
     "text": [
      "[CV] END gamma=0.1, learning_rate=0.05, max_depth=3, n_estimators=800, random_state=42, reg_alpha=0.3, reg_lambda=1; total time= 1.0min\n",
      "[CV] END gamma=0.1, learning_rate=0.05, max_depth=3, n_estimators=800, random_state=42, reg_alpha=0.3, reg_lambda=0.1; total time= 1.2min\n"
     ]
    },
    {
     "name": "stderr",
     "output_type": "stream",
     "text": [
      "/puhome/24112456g/.conda/envs/SHPC-env/lib/python3.10/site-packages/xgboost/core.py:158: UserWarning: [04:39:53] WARNING: /workspace/src/common/error_msg.cc:58: Falling back to prediction using DMatrix due to mismatched devices. This might lead to higher memory usage and slower performance. XGBoost is running on: cuda:0, while the input data is on: cpu.\n",
      "Potential solutions:\n",
      "- Use a data structure that matches the device ordinal in the booster.\n",
      "- Set the device for booster before call to inplace_predict.\n",
      "\n",
      "This warning will only be shown once.\n",
      "\n",
      "  warnings.warn(smsg, UserWarning)\n"
     ]
    },
    {
     "name": "stdout",
     "output_type": "stream",
     "text": [
      "[CV] END gamma=0.1, learning_rate=0.05, max_depth=3, n_estimators=800, random_state=42, reg_alpha=0.3, reg_lambda=1; total time=  53.7s\n",
      "[CV] END gamma=0.1, learning_rate=0.05, max_depth=3, n_estimators=800, random_state=42, reg_alpha=0.3, reg_lambda=1; total time= 1.1min\n",
      "[CV] END gamma=0.1, learning_rate=0.05, max_depth=3, n_estimators=800, random_state=42, reg_alpha=0.3, reg_lambda=1; total time= 1.0min\n",
      "[CV] END gamma=0.1, learning_rate=0.05, max_depth=3, n_estimators=800, random_state=42, reg_alpha=0.3, reg_lambda=10; total time= 1.2min\n",
      "[CV] END gamma=0.1, learning_rate=0.05, max_depth=3, n_estimators=800, random_state=42, reg_alpha=0.3, reg_lambda=1; total time= 1.3min\n"
     ]
    },
    {
     "name": "stderr",
     "output_type": "stream",
     "text": [
      "/puhome/24112456g/.conda/envs/SHPC-env/lib/python3.10/site-packages/xgboost/core.py:158: UserWarning: [04:40:47] WARNING: /workspace/src/common/error_msg.cc:58: Falling back to prediction using DMatrix due to mismatched devices. This might lead to higher memory usage and slower performance. XGBoost is running on: cuda:0, while the input data is on: cpu.\n",
      "Potential solutions:\n",
      "- Use a data structure that matches the device ordinal in the booster.\n",
      "- Set the device for booster before call to inplace_predict.\n",
      "\n",
      "This warning will only be shown once.\n",
      "\n",
      "  warnings.warn(smsg, UserWarning)\n"
     ]
    },
    {
     "name": "stdout",
     "output_type": "stream",
     "text": [
      "[CV] END gamma=0.1, learning_rate=0.05, max_depth=3, n_estimators=800, random_state=42, reg_alpha=0.3, reg_lambda=10; total time= 1.1min\n",
      "[CV] END gamma=0.1, learning_rate=0.05, max_depth=3, n_estimators=800, random_state=42, reg_alpha=0.3, reg_lambda=10; total time= 1.2min\n"
     ]
    },
    {
     "name": "stderr",
     "output_type": "stream",
     "text": [
      "/puhome/24112456g/.conda/envs/SHPC-env/lib/python3.10/site-packages/xgboost/core.py:158: UserWarning: [04:41:13] WARNING: /workspace/src/common/error_msg.cc:58: Falling back to prediction using DMatrix due to mismatched devices. This might lead to higher memory usage and slower performance. XGBoost is running on: cuda:0, while the input data is on: cpu.\n",
      "Potential solutions:\n",
      "- Use a data structure that matches the device ordinal in the booster.\n",
      "- Set the device for booster before call to inplace_predict.\n",
      "\n",
      "This warning will only be shown once.\n",
      "\n",
      "  warnings.warn(smsg, UserWarning)\n"
     ]
    },
    {
     "name": "stdout",
     "output_type": "stream",
     "text": [
      "[CV] END gamma=0.1, learning_rate=0.05, max_depth=3, n_estimators=800, random_state=42, reg_alpha=0.3, reg_lambda=10; total time= 1.0min\n"
     ]
    },
    {
     "name": "stderr",
     "output_type": "stream",
     "text": [
      "/puhome/24112456g/.conda/envs/SHPC-env/lib/python3.10/site-packages/xgboost/core.py:158: UserWarning: [04:41:17] WARNING: /workspace/src/common/error_msg.cc:58: Falling back to prediction using DMatrix due to mismatched devices. This might lead to higher memory usage and slower performance. XGBoost is running on: cuda:0, while the input data is on: cpu.\n",
      "Potential solutions:\n",
      "- Use a data structure that matches the device ordinal in the booster.\n",
      "- Set the device for booster before call to inplace_predict.\n",
      "\n",
      "This warning will only be shown once.\n",
      "\n",
      "  warnings.warn(smsg, UserWarning)\n"
     ]
    },
    {
     "name": "stdout",
     "output_type": "stream",
     "text": [
      "[CV] END gamma=0.1, learning_rate=0.05, max_depth=3, n_estimators=800, random_state=42, reg_alpha=0.3, reg_lambda=10; total time=  60.0s\n"
     ]
    },
    {
     "name": "stderr",
     "output_type": "stream",
     "text": [
      "/puhome/24112456g/.conda/envs/SHPC-env/lib/python3.10/site-packages/xgboost/core.py:158: UserWarning: [04:41:44] WARNING: /workspace/src/common/error_msg.cc:58: Falling back to prediction using DMatrix due to mismatched devices. This might lead to higher memory usage and slower performance. XGBoost is running on: cuda:0, while the input data is on: cpu.\n",
      "Potential solutions:\n",
      "- Use a data structure that matches the device ordinal in the booster.\n",
      "- Set the device for booster before call to inplace_predict.\n",
      "\n",
      "This warning will only be shown once.\n",
      "\n",
      "  warnings.warn(smsg, UserWarning)\n"
     ]
    },
    {
     "name": "stdout",
     "output_type": "stream",
     "text": [
      "[CV] END gamma=0.1, learning_rate=0.05, max_depth=3, n_estimators=800, random_state=42, reg_alpha=0.4, reg_lambda=0.1; total time=  54.3s\n"
     ]
    },
    {
     "name": "stderr",
     "output_type": "stream",
     "text": [
      "/puhome/24112456g/.conda/envs/SHPC-env/lib/python3.10/site-packages/xgboost/core.py:158: UserWarning: [04:41:54] WARNING: /workspace/src/common/error_msg.cc:58: Falling back to prediction using DMatrix due to mismatched devices. This might lead to higher memory usage and slower performance. XGBoost is running on: cuda:0, while the input data is on: cpu.\n",
      "Potential solutions:\n",
      "- Use a data structure that matches the device ordinal in the booster.\n",
      "- Set the device for booster before call to inplace_predict.\n",
      "\n",
      "This warning will only be shown once.\n",
      "\n",
      "  warnings.warn(smsg, UserWarning)\n"
     ]
    },
    {
     "name": "stdout",
     "output_type": "stream",
     "text": [
      "[CV] END gamma=0.1, learning_rate=0.05, max_depth=3, n_estimators=800, random_state=42, reg_alpha=0.4, reg_lambda=0.1; total time= 1.1min\n",
      "[CV] END gamma=0.1, learning_rate=0.05, max_depth=3, n_estimators=800, random_state=42, reg_alpha=0.4, reg_lambda=0.1; total time= 1.2min\n"
     ]
    },
    {
     "name": "stderr",
     "output_type": "stream",
     "text": [
      "/puhome/24112456g/.conda/envs/SHPC-env/lib/python3.10/site-packages/xgboost/core.py:158: UserWarning: [04:42:18] WARNING: /workspace/src/common/error_msg.cc:58: Falling back to prediction using DMatrix due to mismatched devices. This might lead to higher memory usage and slower performance. XGBoost is running on: cuda:0, while the input data is on: cpu.\n",
      "Potential solutions:\n",
      "- Use a data structure that matches the device ordinal in the booster.\n",
      "- Set the device for booster before call to inplace_predict.\n",
      "\n",
      "This warning will only be shown once.\n",
      "\n",
      "  warnings.warn(smsg, UserWarning)\n"
     ]
    },
    {
     "name": "stdout",
     "output_type": "stream",
     "text": [
      "[CV] END gamma=0.1, learning_rate=0.05, max_depth=3, n_estimators=800, random_state=42, reg_alpha=0.4, reg_lambda=0.1; total time= 1.1min\n",
      "[CV] END gamma=0.1, learning_rate=0.05, max_depth=3, n_estimators=800, random_state=42, reg_alpha=0.4, reg_lambda=1; total time= 1.1min\n",
      "[CV] END gamma=0.1, learning_rate=0.05, max_depth=3, n_estimators=800, random_state=42, reg_alpha=0.4, reg_lambda=0.1; total time= 1.2min\n",
      "[CV] END gamma=0.1, learning_rate=0.05, max_depth=3, n_estimators=800, random_state=42, reg_alpha=0.4, reg_lambda=1; total time=  58.0s\n",
      "[CV] END gamma=0.1, learning_rate=0.05, max_depth=3, n_estimators=800, random_state=42, reg_alpha=0.4, reg_lambda=1; total time= 1.1min\n"
     ]
    },
    {
     "name": "stderr",
     "output_type": "stream",
     "text": [
      "/puhome/24112456g/.conda/envs/SHPC-env/lib/python3.10/site-packages/xgboost/core.py:158: UserWarning: [04:43:05] WARNING: /workspace/src/common/error_msg.cc:58: Falling back to prediction using DMatrix due to mismatched devices. This might lead to higher memory usage and slower performance. XGBoost is running on: cuda:0, while the input data is on: cpu.\n",
      "Potential solutions:\n",
      "- Use a data structure that matches the device ordinal in the booster.\n",
      "- Set the device for booster before call to inplace_predict.\n",
      "\n",
      "This warning will only be shown once.\n",
      "\n",
      "  warnings.warn(smsg, UserWarning)\n"
     ]
    },
    {
     "name": "stdout",
     "output_type": "stream",
     "text": [
      "[CV] END gamma=0.1, learning_rate=0.05, max_depth=3, n_estimators=800, random_state=42, reg_alpha=0.4, reg_lambda=1; total time=  58.8s\n",
      "[CV] END gamma=0.1, learning_rate=0.05, max_depth=3, n_estimators=800, random_state=42, reg_alpha=0.4, reg_lambda=1; total time= 1.2min\n"
     ]
    },
    {
     "name": "stderr",
     "output_type": "stream",
     "text": [
      "/puhome/24112456g/.conda/envs/SHPC-env/lib/python3.10/site-packages/xgboost/core.py:158: UserWarning: [04:43:34] WARNING: /workspace/src/common/error_msg.cc:58: Falling back to prediction using DMatrix due to mismatched devices. This might lead to higher memory usage and slower performance. XGBoost is running on: cuda:0, while the input data is on: cpu.\n",
      "Potential solutions:\n",
      "- Use a data structure that matches the device ordinal in the booster.\n",
      "- Set the device for booster before call to inplace_predict.\n",
      "\n",
      "This warning will only be shown once.\n",
      "\n",
      "  warnings.warn(smsg, UserWarning)\n"
     ]
    },
    {
     "name": "stdout",
     "output_type": "stream",
     "text": [
      "[CV] END gamma=0.1, learning_rate=0.05, max_depth=3, n_estimators=800, random_state=42, reg_alpha=0.4, reg_lambda=10; total time= 1.1min\n"
     ]
    },
    {
     "name": "stderr",
     "output_type": "stream",
     "text": [
      "/puhome/24112456g/.conda/envs/SHPC-env/lib/python3.10/site-packages/xgboost/core.py:158: UserWarning: [04:43:38] WARNING: /workspace/src/common/error_msg.cc:58: Falling back to prediction using DMatrix due to mismatched devices. This might lead to higher memory usage and slower performance. XGBoost is running on: cuda:0, while the input data is on: cpu.\n",
      "Potential solutions:\n",
      "- Use a data structure that matches the device ordinal in the booster.\n",
      "- Set the device for booster before call to inplace_predict.\n",
      "\n",
      "This warning will only be shown once.\n",
      "\n",
      "  warnings.warn(smsg, UserWarning)\n"
     ]
    },
    {
     "name": "stdout",
     "output_type": "stream",
     "text": [
      "[CV] END gamma=0.1, learning_rate=0.05, max_depth=3, n_estimators=800, random_state=42, reg_alpha=0.4, reg_lambda=10; total time= 1.1min\n"
     ]
    },
    {
     "name": "stderr",
     "output_type": "stream",
     "text": [
      "/puhome/24112456g/.conda/envs/SHPC-env/lib/python3.10/site-packages/xgboost/core.py:158: UserWarning: [04:43:49] WARNING: /workspace/src/common/error_msg.cc:58: Falling back to prediction using DMatrix due to mismatched devices. This might lead to higher memory usage and slower performance. XGBoost is running on: cuda:0, while the input data is on: cpu.\n",
      "Potential solutions:\n",
      "- Use a data structure that matches the device ordinal in the booster.\n",
      "- Set the device for booster before call to inplace_predict.\n",
      "\n",
      "This warning will only be shown once.\n",
      "\n",
      "  warnings.warn(smsg, UserWarning)\n"
     ]
    },
    {
     "name": "stdout",
     "output_type": "stream",
     "text": [
      "[CV] END gamma=0.1, learning_rate=0.05, max_depth=3, n_estimators=800, random_state=42, reg_alpha=0.4, reg_lambda=10; total time= 1.0min\n"
     ]
    },
    {
     "name": "stderr",
     "output_type": "stream",
     "text": [
      "/puhome/24112456g/.conda/envs/SHPC-env/lib/python3.10/site-packages/xgboost/core.py:158: UserWarning: [04:44:04] WARNING: /workspace/src/common/error_msg.cc:58: Falling back to prediction using DMatrix due to mismatched devices. This might lead to higher memory usage and slower performance. XGBoost is running on: cuda:0, while the input data is on: cpu.\n",
      "Potential solutions:\n",
      "- Use a data structure that matches the device ordinal in the booster.\n",
      "- Set the device for booster before call to inplace_predict.\n",
      "\n",
      "This warning will only be shown once.\n",
      "\n",
      "  warnings.warn(smsg, UserWarning)\n"
     ]
    },
    {
     "name": "stdout",
     "output_type": "stream",
     "text": [
      "[CV] END gamma=0.1, learning_rate=0.05, max_depth=3, n_estimators=800, random_state=42, reg_alpha=0.4, reg_lambda=10; total time=  58.1s\n",
      "[CV] END gamma=0.1, learning_rate=0.05, max_depth=3, n_estimators=800, random_state=42, reg_alpha=0.4, reg_lambda=10; total time= 1.0min\n"
     ]
    }
   ],
   "source": [
    "import xgboost as xgb\n",
    "from sklearn.metrics import auc, roc_auc_score\n",
    "from sklearn.model_selection import GridSearchCV\n",
    "import warnings\n",
    "\n",
    "# don't print warnings\n",
    "warnings.filterwarnings(\"ignore\", category=UserWarning)\n",
    "\n",
    "\n",
    "def grid_search_xgb(X, y, param_grid, cv=5, scoring=\"roc_auc\", n=5):\n",
    "    grid_search = GridSearchCV(\n",
    "        estimator=xgb.XGBClassifier(\n",
    "            # use_label_encoder=True,\n",
    "            eval_metric=\"auc\",\n",
    "            tree_method=\"hist\",\n",
    "            device=\"cuda\",\n",
    "        ),\n",
    "        param_grid=param_grid,\n",
    "        scoring=scoring,\n",
    "        cv=cv,\n",
    "        n_jobs=-1,\n",
    "        verbose=2,\n",
    "    )\n",
    "    grid_search.fit(X, y)\n",
    "\n",
    "    # Get the best n results\n",
    "    results = grid_search.cv_results_\n",
    "    top_n_idx = np.argsort(results[\"rank_test_score\"])[:n]\n",
    "    top_n_params = [results[\"params\"][i] for i in top_n_idx]\n",
    "    top_n_scores = results[\"mean_test_score\"][top_n_idx]\n",
    "\n",
    "    return top_n_params, top_n_scores, grid_search\n",
    "\n",
    "\n",
    "# Example usage:\n",
    "param_grid = {\n",
    "    \"n_estimators\": [400, 800],\n",
    "    \"max_depth\": [2, 3],\n",
    "    \"learning_rate\": [0.1, 0.05],\n",
    "    \"random_state\": [42],\n",
    "    \"gamma\": [0, 0.1],\n",
    "    \"reg_alpha\": [0, 0.2, 0.3, 0.4],\n",
    "    \"reg_lambda\": [0.1, 1, 10],\n",
    "    \n",
    "}\n",
    "\n",
    "best_n_params, best_n_score, grid_search = grid_search_xgb(train_data_preprocessed, train_target_drop, param_grid)"
   ]
  },
  {
   "cell_type": "code",
   "execution_count": 14,
   "metadata": {},
   "outputs": [
    {
     "data": {
      "text/plain": [
       "([{'learning_rate': 0.1, 'n_estimators': 300, 'random_state': 42},\n",
       "  {'learning_rate': 0.1, 'n_estimators': 1100, 'random_state': 42},\n",
       "  {'learning_rate': 0.1, 'n_estimators': 700, 'random_state': 42}],\n",
       " array([0.66605354, 0.65799061, 0.65771031]))"
      ]
     },
     "execution_count": 14,
     "metadata": {},
     "output_type": "execute_result"
    }
   ],
   "source": [
    "best_n_params, best_n_score"
   ]
  },
  {
   "cell_type": "markdown",
   "metadata": {},
   "source": [
    "## prediction"
   ]
  },
  {
   "cell_type": "code",
   "execution_count": null,
   "metadata": {},
   "outputs": [],
   "source": [
    "test_data = pd.read_csv(\"/home/zqy/learningFile/sichuan/zqy/temp/2024年四川省大学生数据科学与统计建模竞赛/测试集/test_data.csv\")"
   ]
  },
  {
   "cell_type": "code",
   "execution_count": 28,
   "metadata": {},
   "outputs": [
    {
     "data": {
      "text/plain": [
       "array([0.12246712, 0.19180582, 0.31230357, ..., 0.08075622, 0.2176598 ,\n",
       "       0.22166562], dtype=float32)"
      ]
     },
     "execution_count": 28,
     "metadata": {},
     "output_type": "execute_result"
    }
   ],
   "source": [
    "output_xgb = model_xgb.predict_proba(test_data_preprocessed)[:, 1]\n",
    "output_xgb"
   ]
  },
  {
   "cell_type": "code",
   "execution_count": 29,
   "metadata": {},
   "outputs": [
    {
     "data": {
      "text/html": [
       "<div>\n",
       "<style scoped>\n",
       "    .dataframe tbody tr th:only-of-type {\n",
       "        vertical-align: middle;\n",
       "    }\n",
       "\n",
       "    .dataframe tbody tr th {\n",
       "        vertical-align: top;\n",
       "    }\n",
       "\n",
       "    .dataframe thead th {\n",
       "        text-align: right;\n",
       "    }\n",
       "</style>\n",
       "<table border=\"1\" class=\"dataframe\">\n",
       "  <thead>\n",
       "    <tr style=\"text-align: right;\">\n",
       "      <th></th>\n",
       "      <th>idx</th>\n",
       "      <th>y_pred</th>\n",
       "    </tr>\n",
       "  </thead>\n",
       "  <tbody>\n",
       "    <tr>\n",
       "      <th>0</th>\n",
       "      <td>39</td>\n",
       "      <td>0.122467</td>\n",
       "    </tr>\n",
       "    <tr>\n",
       "      <th>1</th>\n",
       "      <td>41</td>\n",
       "      <td>0.191806</td>\n",
       "    </tr>\n",
       "    <tr>\n",
       "      <th>2</th>\n",
       "      <td>43</td>\n",
       "      <td>0.312304</td>\n",
       "    </tr>\n",
       "    <tr>\n",
       "      <th>3</th>\n",
       "      <td>45</td>\n",
       "      <td>0.121563</td>\n",
       "    </tr>\n",
       "    <tr>\n",
       "      <th>4</th>\n",
       "      <td>55</td>\n",
       "      <td>0.312528</td>\n",
       "    </tr>\n",
       "    <tr>\n",
       "      <th>...</th>\n",
       "      <td>...</td>\n",
       "      <td>...</td>\n",
       "    </tr>\n",
       "    <tr>\n",
       "      <th>18129</th>\n",
       "      <td>79636</td>\n",
       "      <td>0.433639</td>\n",
       "    </tr>\n",
       "    <tr>\n",
       "      <th>18130</th>\n",
       "      <td>79637</td>\n",
       "      <td>0.045784</td>\n",
       "    </tr>\n",
       "    <tr>\n",
       "      <th>18131</th>\n",
       "      <td>79638</td>\n",
       "      <td>0.080756</td>\n",
       "    </tr>\n",
       "    <tr>\n",
       "      <th>18132</th>\n",
       "      <td>79640</td>\n",
       "      <td>0.217660</td>\n",
       "    </tr>\n",
       "    <tr>\n",
       "      <th>18133</th>\n",
       "      <td>79641</td>\n",
       "      <td>0.221666</td>\n",
       "    </tr>\n",
       "  </tbody>\n",
       "</table>\n",
       "<p>18134 rows × 2 columns</p>\n",
       "</div>"
      ],
      "text/plain": [
       "         idx    y_pred\n",
       "0         39  0.122467\n",
       "1         41  0.191806\n",
       "2         43  0.312304\n",
       "3         45  0.121563\n",
       "4         55  0.312528\n",
       "...      ...       ...\n",
       "18129  79636  0.433639\n",
       "18130  79637  0.045784\n",
       "18131  79638  0.080756\n",
       "18132  79640  0.217660\n",
       "18133  79641  0.221666\n",
       "\n",
       "[18134 rows x 2 columns]"
      ]
     },
     "execution_count": 29,
     "metadata": {},
     "output_type": "execute_result"
    }
   ],
   "source": [
    "output_xgb_pd = pd.DataFrame(output_xgb, columns=[\"y_pred\"])\n",
    "output_xgb_pd[\"idx\"] = test_data[\"idx\"]\n",
    "output_xgb_pd = output_xgb_pd[[\"idx\", \"y_pred\"]]\n",
    "output_xgb_pd"
   ]
  },
  {
   "cell_type": "code",
   "execution_count": 30,
   "metadata": {},
   "outputs": [],
   "source": [
    "output_xgb_pd.to_csv(\n",
    "    os.path.join(REPO_PATH, \"zqy\", \"output\", \"output_xgb.csv\"),\n",
    "    index=False,\n",
    "    sep=\",\",\n",
    ")"
   ]
  },
  {
   "cell_type": "code",
   "execution_count": null,
   "metadata": {},
   "outputs": [],
   "source": []
  }
 ],
 "metadata": {
  "kernelspec": {
   "display_name": "Python 3",
   "language": "python",
   "name": "python3"
  },
  "language_info": {
   "codemirror_mode": {
    "name": "ipython",
    "version": 3
   },
   "file_extension": ".py",
   "mimetype": "text/x-python",
   "name": "python",
   "nbconvert_exporter": "python",
   "pygments_lexer": "ipython3",
   "version": "3.10.14"
  }
 },
 "nbformat": 4,
 "nbformat_minor": 2
}
